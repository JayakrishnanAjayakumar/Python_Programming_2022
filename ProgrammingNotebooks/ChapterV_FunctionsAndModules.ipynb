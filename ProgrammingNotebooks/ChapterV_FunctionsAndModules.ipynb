{
 "cells": [
  {
   "cell_type": "markdown",
   "id": "792af8a6-8d96-4f35-93a1-d1f3176d8018",
   "metadata": {},
   "source": [
    "# Functions and Modules"
   ]
  },
  {
   "cell_type": "markdown",
   "id": "b1c87d2d-9431-438c-b529-a5e4093ad3bb",
   "metadata": {},
   "source": [
    "## Functions"
   ]
  },
  {
   "cell_type": "markdown",
   "id": "dcbbcc9a-d0f2-48b4-b1cf-7475858a9bbb",
   "metadata": {},
   "source": [
    "### What are functions"
   ]
  },
  {
   "cell_type": "markdown",
   "id": "01ff1493-202d-49f6-93cd-3bc084926608",
   "metadata": {},
   "source": [
    "Take an example of **bicycle**. We have different parts of bicycle such as brakes, wheels, chain, and handle bar that does a **specific task (or function)**, and **work together** while we are cycling. "
   ]
  },
  {
   "cell_type": "markdown",
   "id": "502dd369-d2b0-4b0f-98f4-2681a8e99135",
   "metadata": {},
   "source": [
    "![functions](sampleImages/bicycle_functions.jpg)"
   ]
  },
  {
   "cell_type": "markdown",
   "id": "69bfecf7-0077-4693-b0f9-a7e6b9a9f8e9",
   "metadata": {},
   "source": [
    ">In Python, a **function** is a **named sequence of statements that belong together**. Their primary purpose is to help us **organize programs into chunks** that match **how we think about the problem**  (each function has a certain functionality).\n",
    "\n",
    "While you can think of the entire program as taking an input, processing/transforming it and producing a result, **function is a subprogram inside a program that does its own input --> transform --> output**."
   ]
  },
  {
   "cell_type": "markdown",
   "id": "1d692369-d062-47ca-87ae-0f6164228f33",
   "metadata": {},
   "source": [
    "### Motivation for having a function"
   ]
  },
  {
   "cell_type": "markdown",
   "id": "95ff3873-1d15-493d-8f99-faaccf9ee328",
   "metadata": {},
   "source": [
    "Suppose we want to print the **volume of any sphere with a radius as input**\n",
    "\n",
    "\\begin{align}\n",
    "Volume = \\frac43 \\times \\pi \\times (radius)^3\n",
    "\\end{align}\n",
    "\n",
    "We have **three spheres of radius 10,235, and 1000 meters**, if we are **not using any functions** then we may write"
   ]
  },
  {
   "cell_type": "code",
   "execution_count": 1,
   "id": "47dddfcb-1f42-429a-8c50-23141c2ecd1f",
   "metadata": {},
   "outputs": [
    {
     "name": "stdout",
     "output_type": "stream",
     "text": [
      "4186.666666666667\n",
      "54334036.666666664\n",
      "4186666666.666667\n"
     ]
    }
   ],
   "source": [
    "print (4/3 * 3.14 * 10 * 10 * 10)\n",
    "print (4/3 * 3.14 * 235 * 235 * 235)\n",
    "print (4/3 * 3.14 * 1000 * 1000 * 1000)"
   ]
  },
  {
   "cell_type": "markdown",
   "id": "cae3c88f-39da-4d7c-b47c-e196a07569b7",
   "metadata": {},
   "source": [
    "The code snippet shown above is indeed correct, but there is a lot of **redundant code (basically copy + paste code)**. But what if we **create a function that calculates the volume of a sphere for any given radius and prints the volume**, we can **reduce redundancy**."
   ]
  },
  {
   "cell_type": "markdown",
   "id": "fc19bee0-a31c-48a9-a7d1-9f01dc44cf25",
   "metadata": {},
   "source": [
    "### Defining a function"
   ]
  },
  {
   "cell_type": "markdown",
   "id": "cf1f0294-44c3-46b8-80ba-f3bbfa9120ea",
   "metadata": {},
   "source": [
    "A function definition is shown below,\n",
    "\n",
    "```python\n",
    "def functionName(parameter1,parameter2,...parameterN):\n",
    "    <statement 1>\n",
    "    <statement 2>\n",
    "    <statement 3>\n",
    "```\n",
    "The **def** keyword is used to **define a function** with a name **functionName**. There can be **zero or more parameters to a function**. The **parameters in function definiton are also called formal parameters**. The **statements comprise the function body**. The **colon at the end** indicates that this is a **code block** and the statements that are **with in the function block belong to the function**. Notice also the **indentation** to seperate out the function body\n",
    "\n",
    "\n",
    "Now let's **define a function that calculates the volume of the sphere** given radius as the parameter. "
   ]
  },
  {
   "cell_type": "code",
   "execution_count": 2,
   "id": "2a659fd7-c1d3-4fcc-8d12-d164e49bcdfc",
   "metadata": {},
   "outputs": [],
   "source": [
    "def volumeOfSphere(radius):    #function name is volumeOfSphere,parameter is radius\n",
    "    volume = 4/3 * 3.141 * radius * radius * radius\n",
    "    print ('Volume of sphere is ',volume)   #Note the indentation for function body"
   ]
  },
  {
   "cell_type": "markdown",
   "id": "d74e7654-7d19-4ae1-9c5f-226d8bc5ec29",
   "metadata": {},
   "source": [
    "Now we have **only defined the function** and has **not executed it**. If we want to execute the function we have to **call it**."
   ]
  },
  {
   "cell_type": "markdown",
   "id": "19d37bd6-bedc-4ecc-b10f-171740f8a647",
   "metadata": {},
   "source": [
    "### Calling a function"
   ]
  },
  {
   "cell_type": "markdown",
   "id": "438e534b-6c0e-456a-aa3c-c728bf159d28",
   "metadata": {},
   "source": [
    "A function can be called by \n",
    "\n",
    "**functionName(parameter1,parameter2,....parameterN)**\n",
    "\n",
    "Here the parameters here are called **actual parameters**.\n",
    "\n",
    "Lets call the function **volumeOfSphere** from our program"
   ]
  },
  {
   "cell_type": "code",
   "execution_count": 3,
   "id": "6ff763a5-3d59-4008-8cc4-b88f7ebc7627",
   "metadata": {},
   "outputs": [
    {
     "name": "stdout",
     "output_type": "stream",
     "text": [
      "Volume of sphere is  4188.0\n",
      "Volume of sphere is  54351340.5\n",
      "Volume of sphere is  4188000000.0\n"
     ]
    }
   ],
   "source": [
    "volumeOfSphere(10)     #this would print volume of sphere with radius 10\n",
    "volumeOfSphere(235)    #this would print volume of sphere with radius 235\n",
    "volumeOfSphere(1000)   #this would print volume of sphere with radius 1000"
   ]
  },
  {
   "cell_type": "markdown",
   "id": "f221aeec-6aae-4242-8214-e9f2e478c93d",
   "metadata": {},
   "source": [
    "A **representative image** for **function definition along with function call**\n",
    "\n",
    "![functiondefandcall](sampleImages/function_body.png)"
   ]
  },
  {
   "cell_type": "markdown",
   "id": "d5fd3dc7-5c44-4a31-a9dd-39ab50f9402e",
   "metadata": {},
   "source": [
    "While our first function example **volumeOfSphere** just prints the area, we can also return the area as a value.\n",
    "\n",
    "**Functions returning a value**\n",
    "\n",
    "Functions can **return value which could be assigned to a variable**. This is a very powerful paradigm and now you can easily use **functions in assignment statements**.\n",
    "\n",
    "Lets look at a function definition that returns a value\n",
    "\n",
    "```python\n",
    "def functionName(parameter1,parameter2,...parameterN):\n",
    "    <statement 1>\n",
    "    <statement 2>\n",
    "    <statement 3>\n",
    "    return value\n",
    "```   \n",
    "As we can see, everything remains the same except the fact that we have a **return statement**.\n",
    "\n",
    "Let's modify our previous example to **return the volume of sphere.**"
   ]
  },
  {
   "cell_type": "code",
   "execution_count": 1,
   "id": "bfb122d2-08fb-4ccd-bbaf-e206f13a00c8",
   "metadata": {},
   "outputs": [],
   "source": [
    "def volumeOfSphereWithReturn(radius):    #function name is volumeOfSphereWithReturn,parameter is radius\n",
    "    volume = 4/3 * 3.141 * radius * radius * radius\n",
    "    return volume    # the return statement is used to return the value of volume"
   ]
  },
  {
   "cell_type": "markdown",
   "id": "27418ff7-5936-40ce-8bda-bd5cc182086e",
   "metadata": {},
   "source": [
    "Now if you want to print the volume of sphere you could write"
   ]
  },
  {
   "cell_type": "code",
   "execution_count": 2,
   "id": "234c5fcb-8d7e-4577-ba4d-21c0cc0714d8",
   "metadata": {},
   "outputs": [
    {
     "name": "stdout",
     "output_type": "stream",
     "text": [
      "Volume of sphere is  4188.0\n",
      "Volume of sphere is  54351340.5\n",
      "Volume of sphere is  4188000000.0\n"
     ]
    }
   ],
   "source": [
    "print ('Volume of sphere is ',volumeOfSphereWithReturn(10))\n",
    "print ('Volume of sphere is ',volumeOfSphereWithReturn(235))\n",
    "print ('Volume of sphere is ',volumeOfSphereWithReturn(1000))"
   ]
  },
  {
   "cell_type": "markdown",
   "id": "dd48d353-7e48-46b7-b9d5-96b313aa1342",
   "metadata": {},
   "source": [
    "We could also include such **function calls in numerical operations**"
   ]
  },
  {
   "cell_type": "code",
   "execution_count": 4,
   "id": "9354de90-9c10-47cc-9fc4-5e074e7d2f95",
   "metadata": {},
   "outputs": [],
   "source": [
    "totalVolume = volumeOfSphereWithReturn(10)+volumeOfSphereWithReturn(235)+volumeOfSphereWithReturn(1000)"
   ]
  },
  {
   "cell_type": "markdown",
   "id": "fe9e055b-fe1d-4c17-9650-21cdd73d7a2d",
   "metadata": {},
   "source": [
    "We can call **functions from functions too.**\n",
    "\n",
    "Let's define a function for **calculating area of a rectangle**"
   ]
  },
  {
   "cell_type": "code",
   "execution_count": 7,
   "id": "1c131fb7-477e-4136-b706-370bbf0c3732",
   "metadata": {},
   "outputs": [],
   "source": [
    "def areaOfRectangle(length,breadth):\n",
    "    return length * breadth"
   ]
  },
  {
   "cell_type": "markdown",
   "id": "b7ce2a21-8a8e-4454-bf95-3b8fb6e0730a",
   "metadata": {},
   "source": [
    "You can call the areaOfRectangle function by"
   ]
  },
  {
   "cell_type": "code",
   "execution_count": 8,
   "id": "4b76394e-d26e-4fd8-a00a-854321df63e6",
   "metadata": {},
   "outputs": [],
   "source": [
    "areaRect = areaOfRectangle(5,10)"
   ]
  },
  {
   "cell_type": "markdown",
   "id": "a4cd4f90-6bec-46d5-af9d-d570b77a7bcb",
   "metadata": {},
   "source": [
    "Now let's define another function for **calculating area of a square**"
   ]
  },
  {
   "cell_type": "code",
   "execution_count": 9,
   "id": "8de360aa-a5f3-4808-94cf-645bdd58b397",
   "metadata": {},
   "outputs": [],
   "source": [
    "def areaOfSquare(side):\n",
    "    return side * side"
   ]
  },
  {
   "cell_type": "markdown",
   "id": "355e70b2-ee3a-4a25-9696-429e811ce47c",
   "metadata": {},
   "source": [
    "But since square is also a rectangle we could call areaOfRectangle function from areaOfSquare function"
   ]
  },
  {
   "cell_type": "code",
   "execution_count": 10,
   "id": "b806f7d6-1fd2-47c2-afd4-19aa07229644",
   "metadata": {},
   "outputs": [],
   "source": [
    "def areaOfSquare(side):\n",
    "    return areaOfRectangle(side,side)"
   ]
  },
  {
   "cell_type": "markdown",
   "id": "62fd23da-4bc7-49e8-ba6b-93b26ad07f73",
   "metadata": {},
   "source": [
    "Even you can **call a function from itself**. This is commonly called **recursion** and is a beautiful concept.\n",
    "\n",
    "![recursion](sampleImages/recursion_funny.jpg)\n",
    "\n",
    "\n",
    "Lets calculate the **factorial of a number**. Eg factorial of 5 or **5! is 1x2x3x4x5**. But you could also say as **5! = 5x4! = 5x4x3! = 5x4x3x2! = 5x4x3x2x1! = 5x4x3x2x1x0!** and **0! is 1**. So you could say that **n! = nx(n-1)! = nx(n-1)x(n-2)!** so on and so forth."
   ]
  },
  {
   "cell_type": "code",
   "execution_count": 11,
   "id": "67834a02-bde3-4b13-98bc-ab4f64f6713f",
   "metadata": {},
   "outputs": [
    {
     "data": {
      "text/plain": [
       "120"
      ]
     },
     "execution_count": 11,
     "metadata": {},
     "output_type": "execute_result"
    }
   ],
   "source": [
    "def factorial(n):\n",
    "    if n==0:           # we will learn more about conditional expressions in next chapter\n",
    "        return 1\n",
    "    return n * factorial(n-1) #here we are calling the function factorial within the function factorial\n",
    "factorial(5) #function call"
   ]
  },
  {
   "cell_type": "markdown",
   "id": "18fa9787-96df-4d06-9d20-a1ce0451547f",
   "metadata": {},
   "source": [
    "### Function Parameters in Detail"
   ]
  },
  {
   "cell_type": "markdown",
   "id": "ccfc6cbf-6018-41ba-9981-47b285b44c4d",
   "metadata": {},
   "source": [
    "1. Functions that **doesn't have any parameter**."
   ]
  },
  {
   "cell_type": "code",
   "execution_count": 12,
   "id": "e56ef7f0-9c5b-4928-b4d8-4183b6b3a1a8",
   "metadata": {},
   "outputs": [
    {
     "name": "stdout",
     "output_type": "stream",
     "text": [
      "hello\n"
     ]
    }
   ],
   "source": [
    "def sayHello(): #no parameter\n",
    "    print('hello')\n",
    "sayHello()"
   ]
  },
  {
   "cell_type": "markdown",
   "id": "4bd0c2a3-d4df-43d8-bf64-2e864927cde8",
   "metadata": {},
   "source": [
    "2. **Default Parameters** (where default value is provided to a parameter)"
   ]
  },
  {
   "cell_type": "code",
   "execution_count": 13,
   "id": "54c27bee-c27a-4380-9dfb-004f3bb9d50f",
   "metadata": {},
   "outputs": [],
   "source": [
    "def sayMessage(message='Hello'): #the parameter message will have a default value of 'hello'\n",
    "    print(message)"
   ]
  },
  {
   "cell_type": "markdown",
   "id": "c60394f0-f42a-4943-90b3-127af0439a47",
   "metadata": {},
   "source": [
    "Now you can call the function defined above as"
   ]
  },
  {
   "cell_type": "code",
   "execution_count": 14,
   "id": "fa8803b9-920e-413e-88ea-90ab1a7ce500",
   "metadata": {},
   "outputs": [
    {
     "name": "stdout",
     "output_type": "stream",
     "text": [
      "Hello\n",
      "Hello Jay\n",
      "Hello there\n"
     ]
    }
   ],
   "source": [
    "sayMessage()                           #this will print 'Hello'\n",
    "sayMessage('Hello Jay')                #this will print 'Hello Jay'\n",
    "sayMessage(message='Hello there')      #this will print 'Hello Jay'"
   ]
  },
  {
   "cell_type": "markdown",
   "id": "486a198e-6adb-4b60-ad87-06bb7db2bae3",
   "metadata": {},
   "source": [
    "3. **Normal and default parameters together**\n",
    "\n",
    "The cardinal rule is that **default parameter should** be **after** all **normal parameters**"
   ]
  },
  {
   "cell_type": "code",
   "execution_count": 15,
   "id": "709e9a96-39b5-4bef-907e-a7aea0c7efff",
   "metadata": {},
   "outputs": [
    {
     "name": "stdout",
     "output_type": "stream",
     "text": [
      "3\n",
      "1\n"
     ]
    }
   ],
   "source": [
    "def sumNumbers(number1,number2=0):\n",
    "    return number1+number2\n",
    "\n",
    "print (sumNumbers(1,2))        #should print 3\n",
    "print (sumNumbers(1))          #should print 1"
   ]
  },
  {
   "cell_type": "markdown",
   "id": "9fcd5f6a-1a25-4200-a89d-10d16403f3c4",
   "metadata": {},
   "source": [
    "While the code shown below is **wrong!!**"
   ]
  },
  {
   "cell_type": "code",
   "execution_count": 16,
   "id": "b79dc6d1-ea66-4101-8574-afd3e098ac91",
   "metadata": {},
   "outputs": [
    {
     "ename": "SyntaxError",
     "evalue": "non-default argument follows default argument (Temp/ipykernel_39792/1510633913.py, line 1)",
     "output_type": "error",
     "traceback": [
      "\u001b[1;36m  File \u001b[1;32m\"C:\\Users\\jxa421\\AppData\\Local\\Temp/ipykernel_39792/1510633913.py\"\u001b[1;36m, line \u001b[1;32m1\u001b[0m\n\u001b[1;33m    def sumNumbers(number2=0,number1): #this is wrong as the normal parameter should be before the default parameter\u001b[0m\n\u001b[1;37m                                    ^\u001b[0m\n\u001b[1;31mSyntaxError\u001b[0m\u001b[1;31m:\u001b[0m non-default argument follows default argument\n"
     ]
    }
   ],
   "source": [
    "def sumNumbers(number2=0,number1): #this is wrong as the normal parameter should be before the default parameter\n",
    "    return number1+number2"
   ]
  },
  {
   "cell_type": "markdown",
   "id": "b70482e8-66db-44f1-86a1-bfb943f54014",
   "metadata": {},
   "source": [
    "4. More than one default parameter and you want to change only one default parameter"
   ]
  },
  {
   "cell_type": "code",
   "execution_count": 17,
   "id": "08c6d8a0-eda5-4b87-8e30-2a16634f10fb",
   "metadata": {},
   "outputs": [
    {
     "name": "stdout",
     "output_type": "stream",
     "text": [
      "Hello Matt\n",
      "Hi Jay\n",
      "Bye Jay\n"
     ]
    }
   ],
   "source": [
    "def sayHelloTo(message1='Hello',message2='Jay'):\n",
    "    print (message1,message2)\n",
    "sayHelloTo(message2='Matt')   #this should print Hello Matt\n",
    "sayHelloTo(message1='Hi')     #this should print Hi Jay\n",
    "sayHelloTo('Bye')     #this should print Bye Jay"
   ]
  },
  {
   "cell_type": "markdown",
   "id": "3a3187ed-98fa-43d1-ade7-2278f4bab951",
   "metadata": {},
   "source": [
    "### Function Calling Gotchas"
   ]
  },
  {
   "cell_type": "markdown",
   "id": "a24b6e4b-3505-47e6-810e-f24772682e39",
   "metadata": {},
   "source": [
    "When calling a function you have to be **careful about the number of parameters**."
   ]
  },
  {
   "cell_type": "code",
   "execution_count": 18,
   "id": "2c5685b1-ef8e-42f3-860a-239db66ecc38",
   "metadata": {},
   "outputs": [],
   "source": [
    "def volumeSphereTest(radius):\n",
    "    return 4/3 * 3.141 * radius * radius * radius"
   ]
  },
  {
   "cell_type": "markdown",
   "id": "05b03baf-88f0-4345-b96e-d6bfde491247",
   "metadata": {},
   "source": [
    "Calling volumeSphereTest function with out an argument **will result in an error**"
   ]
  },
  {
   "cell_type": "code",
   "execution_count": 19,
   "id": "807e4669-aa3e-4af8-bebd-fcae116ea381",
   "metadata": {},
   "outputs": [
    {
     "ename": "NameError",
     "evalue": "name 'volumeSphere' is not defined",
     "output_type": "error",
     "traceback": [
      "\u001b[1;31m---------------------------------------------------------------------------\u001b[0m",
      "\u001b[1;31mNameError\u001b[0m                                 Traceback (most recent call last)",
      "\u001b[1;32m~\\AppData\\Local\\Temp/ipykernel_39792/837069362.py\u001b[0m in \u001b[0;36m<module>\u001b[1;34m\u001b[0m\n\u001b[1;32m----> 1\u001b[1;33m \u001b[0mvolumeSphere\u001b[0m\u001b[1;33m(\u001b[0m\u001b[1;33m)\u001b[0m \u001b[1;31m# this will result in an error as the function expects an argument\u001b[0m\u001b[1;33m\u001b[0m\u001b[1;33m\u001b[0m\u001b[0m\n\u001b[0m",
      "\u001b[1;31mNameError\u001b[0m: name 'volumeSphere' is not defined"
     ]
    }
   ],
   "source": [
    "volumeSphere() # this will result in an error as the function expects an argument"
   ]
  },
  {
   "cell_type": "markdown",
   "id": "094d5849-4997-4c85-8c74-1762e0c1506f",
   "metadata": {},
   "source": [
    "Let's look at another function that doesn't expect any parameter."
   ]
  },
  {
   "cell_type": "code",
   "execution_count": 20,
   "id": "fd220ed4-96de-422c-87ad-b4e77a2c6b52",
   "metadata": {},
   "outputs": [],
   "source": [
    "def sayHello():\n",
    "    print ('hello')"
   ]
  },
  {
   "cell_type": "markdown",
   "id": "97b86b36-403f-4f79-9b27-34f9a875dec8",
   "metadata": {},
   "source": [
    "Calling this function with a parameter **results in an error**."
   ]
  },
  {
   "cell_type": "code",
   "execution_count": 21,
   "id": "38c72e80-8b05-468c-b408-ed72d91a0cbf",
   "metadata": {},
   "outputs": [
    {
     "ename": "TypeError",
     "evalue": "sayHello() takes 0 positional arguments but 1 was given",
     "output_type": "error",
     "traceback": [
      "\u001b[1;31m---------------------------------------------------------------------------\u001b[0m",
      "\u001b[1;31mTypeError\u001b[0m                                 Traceback (most recent call last)",
      "\u001b[1;32m~\\AppData\\Local\\Temp/ipykernel_39792/605659458.py\u001b[0m in \u001b[0;36m<module>\u001b[1;34m\u001b[0m\n\u001b[1;32m----> 1\u001b[1;33m \u001b[0msayHello\u001b[0m\u001b[1;33m(\u001b[0m\u001b[1;34m'Jay'\u001b[0m\u001b[1;33m)\u001b[0m    \u001b[1;31m# this will result in an error\u001b[0m\u001b[1;33m\u001b[0m\u001b[1;33m\u001b[0m\u001b[0m\n\u001b[0m",
      "\u001b[1;31mTypeError\u001b[0m: sayHello() takes 0 positional arguments but 1 was given"
     ]
    }
   ],
   "source": [
    "sayHello('Jay')    # this will result in an error"
   ]
  },
  {
   "cell_type": "markdown",
   "id": "b2a3791f-5bdb-42a2-b4f6-9ecc01a8b6a0",
   "metadata": {},
   "source": [
    "Let's see one more example"
   ]
  },
  {
   "cell_type": "code",
   "execution_count": 22,
   "id": "e40091d5-aa0f-466f-a71d-f18c7fdf2aab",
   "metadata": {},
   "outputs": [],
   "source": [
    "def sumTwoNumbers(number1,number2):\n",
    "    return number1+number2"
   ]
  },
  {
   "cell_type": "markdown",
   "id": "5c0cfcb8-4b4f-45ab-8d9e-4dff361931ee",
   "metadata": {},
   "source": [
    "Calling this function with more than or less than 2 parameters will result in an error."
   ]
  },
  {
   "cell_type": "code",
   "execution_count": 23,
   "id": "39311064-4816-4858-add4-7a709d6b6e4c",
   "metadata": {},
   "outputs": [
    {
     "ename": "TypeError",
     "evalue": "sumTwoNumbers() missing 1 required positional argument: 'number2'",
     "output_type": "error",
     "traceback": [
      "\u001b[1;31m---------------------------------------------------------------------------\u001b[0m",
      "\u001b[1;31mTypeError\u001b[0m                                 Traceback (most recent call last)",
      "\u001b[1;32m~\\AppData\\Local\\Temp/ipykernel_39792/3496773977.py\u001b[0m in \u001b[0;36m<module>\u001b[1;34m\u001b[0m\n\u001b[1;32m----> 1\u001b[1;33m \u001b[0msumTwoNumbers\u001b[0m\u001b[1;33m(\u001b[0m\u001b[1;36m1\u001b[0m\u001b[1;33m)\u001b[0m     \u001b[1;31m# this will result in an error\u001b[0m\u001b[1;33m\u001b[0m\u001b[1;33m\u001b[0m\u001b[0m\n\u001b[0m\u001b[0;32m      2\u001b[0m \u001b[0msumTwoNumbers\u001b[0m\u001b[1;33m(\u001b[0m\u001b[1;36m1\u001b[0m\u001b[1;33m,\u001b[0m\u001b[1;36m2\u001b[0m\u001b[1;33m,\u001b[0m\u001b[1;36m3\u001b[0m\u001b[1;33m)\u001b[0m \u001b[1;31m# this will also result in an error\u001b[0m\u001b[1;33m\u001b[0m\u001b[1;33m\u001b[0m\u001b[0m\n",
      "\u001b[1;31mTypeError\u001b[0m: sumTwoNumbers() missing 1 required positional argument: 'number2'"
     ]
    }
   ],
   "source": [
    "sumTwoNumbers(1)     # this will result in an error\n",
    "sumTwoNumbers(1,2,3) # this will also result in an error"
   ]
  },
  {
   "cell_type": "markdown",
   "id": "e6ac1ff1-e707-4c5c-9f1a-31a850d7ed4f",
   "metadata": {},
   "source": [
    "### Built-in functions from Python\n",
    "\n",
    "You would have already come across one of the built-in function\n",
    "\n",
    "```python\n",
    "print ()\n",
    "```\n",
    "\n",
    "Apart from print () there are some more built-in functions that Python provide\n",
    "\n",
    "1. **type**"
   ]
  },
  {
   "cell_type": "code",
   "execution_count": 24,
   "id": "053775cd-45ab-42bc-8922-890be5a10735",
   "metadata": {},
   "outputs": [
    {
     "data": {
      "text/plain": [
       "float"
      ]
     },
     "execution_count": 24,
     "metadata": {},
     "output_type": "execute_result"
    }
   ],
   "source": [
    "type(3)  #will return int\n",
    "type(3.0) #will return float\n",
    "type(True) # will return bool\n",
    "type('hello') #will return str\n",
    "area = 3.14 * 5 * 5\n",
    "type(area)  # will return what???"
   ]
  },
  {
   "cell_type": "markdown",
   "id": "3ff0c4a9-7b61-4881-8d88-33ad129fe0b1",
   "metadata": {},
   "source": [
    "2. Very useful **type conversion functions int(),str(),float()**\n",
    "\n",
    "**String to int**"
   ]
  },
  {
   "cell_type": "code",
   "execution_count": 25,
   "id": "e8657397-ad58-4dfa-9210-fb52dbed8d4c",
   "metadata": {},
   "outputs": [
    {
     "name": "stdout",
     "output_type": "stream",
     "text": [
      "15\n"
     ]
    },
    {
     "ename": "TypeError",
     "evalue": "can only concatenate str (not \"int\") to str",
     "output_type": "error",
     "traceback": [
      "\u001b[1;31m---------------------------------------------------------------------------\u001b[0m",
      "\u001b[1;31mTypeError\u001b[0m                                 Traceback (most recent call last)",
      "\u001b[1;32m~\\AppData\\Local\\Temp/ipykernel_39792/3774788784.py\u001b[0m in \u001b[0;36m<module>\u001b[1;34m\u001b[0m\n\u001b[0;32m      2\u001b[0m \u001b[0mtotalNumber\u001b[0m \u001b[1;33m=\u001b[0m \u001b[0mint\u001b[0m\u001b[1;33m(\u001b[0m\u001b[0mtotal\u001b[0m\u001b[1;33m)\u001b[0m \u001b[1;31m#now the totalNumber vairable will have value of 10\u001b[0m\u001b[1;33m\u001b[0m\u001b[1;33m\u001b[0m\u001b[0m\n\u001b[0;32m      3\u001b[0m \u001b[0mprint\u001b[0m \u001b[1;33m(\u001b[0m\u001b[0mtotalNumber\u001b[0m\u001b[1;33m+\u001b[0m\u001b[1;36m5\u001b[0m\u001b[1;33m)\u001b[0m  \u001b[1;31m# this should work as totalNumber is an int\u001b[0m\u001b[1;33m\u001b[0m\u001b[1;33m\u001b[0m\u001b[0m\n\u001b[1;32m----> 4\u001b[1;33m \u001b[0mprint\u001b[0m \u001b[1;33m(\u001b[0m\u001b[0mtotal\u001b[0m\u001b[1;33m+\u001b[0m\u001b[1;36m5\u001b[0m\u001b[1;33m)\u001b[0m  \u001b[1;31m# this will return in an error as we cannot add string and int\u001b[0m\u001b[1;33m\u001b[0m\u001b[1;33m\u001b[0m\u001b[0m\n\u001b[0m",
      "\u001b[1;31mTypeError\u001b[0m: can only concatenate str (not \"int\") to str"
     ]
    }
   ],
   "source": [
    "total = '10'    #this is a string '10'\n",
    "totalNumber = int(total) #now the totalNumber vairable will have value of 10\n",
    "print (totalNumber+5)  # this should work as totalNumber is an int\n",
    "print (total+5)  # this will return in an error as we cannot add string and int"
   ]
  },
  {
   "cell_type": "markdown",
   "id": "8e936260-e7c8-4e8f-a42b-da01f52eb726",
   "metadata": {},
   "source": [
    "**String to float (real numbers)**"
   ]
  },
  {
   "cell_type": "code",
   "execution_count": 26,
   "id": "299b8e2c-9882-40f0-99c7-e6c9cefcb580",
   "metadata": {},
   "outputs": [
    {
     "name": "stdout",
     "output_type": "stream",
     "text": [
      "5.5\n"
     ]
    },
    {
     "ename": "TypeError",
     "evalue": "can't multiply sequence by non-int of type 'float'",
     "output_type": "error",
     "traceback": [
      "\u001b[1;31m---------------------------------------------------------------------------\u001b[0m",
      "\u001b[1;31mTypeError\u001b[0m                                 Traceback (most recent call last)",
      "\u001b[1;32m~\\AppData\\Local\\Temp/ipykernel_39792/2787691506.py\u001b[0m in \u001b[0;36m<module>\u001b[1;34m\u001b[0m\n\u001b[0;32m      3\u001b[0m \u001b[0mprint\u001b[0m \u001b[1;33m(\u001b[0m\u001b[0mradiusReal\u001b[0m\u001b[1;33m)\u001b[0m\u001b[1;33m\u001b[0m\u001b[1;33m\u001b[0m\u001b[0m\n\u001b[0;32m      4\u001b[0m \u001b[0marea\u001b[0m \u001b[1;33m=\u001b[0m \u001b[1;36m3.14\u001b[0m \u001b[1;33m*\u001b[0m \u001b[0mradiusReal\u001b[0m \u001b[1;33m*\u001b[0m \u001b[0mradiusReal\u001b[0m \u001b[1;31m#this will give the correct result\u001b[0m\u001b[1;33m\u001b[0m\u001b[1;33m\u001b[0m\u001b[0m\n\u001b[1;32m----> 5\u001b[1;33m \u001b[0marea\u001b[0m \u001b[1;33m=\u001b[0m \u001b[1;36m3.14\u001b[0m \u001b[1;33m*\u001b[0m \u001b[0mradius\u001b[0m \u001b[1;33m*\u001b[0m \u001b[0mradius\u001b[0m \u001b[1;31m# this will give an error as radius is a string\u001b[0m\u001b[1;33m\u001b[0m\u001b[1;33m\u001b[0m\u001b[0m\n\u001b[0m",
      "\u001b[1;31mTypeError\u001b[0m: can't multiply sequence by non-int of type 'float'"
     ]
    }
   ],
   "source": [
    "radius = '5.5'\n",
    "radiusReal = float(radius)  # converts the string 5.5 to the real number 5.5\n",
    "print (radiusReal)\n",
    "area = 3.14 * radiusReal * radiusReal #this will give the correct result\n",
    "area = 3.14 * radius * radius # this will give an error as radius is a string"
   ]
  },
  {
   "cell_type": "markdown",
   "id": "cabd95ea-d45f-4900-8942-0f23b5b300a2",
   "metadata": {},
   "source": [
    "**int and float to string**"
   ]
  },
  {
   "cell_type": "code",
   "execution_count": 27,
   "id": "8b1fa004-2190-4f62-80f8-a31816936d8f",
   "metadata": {},
   "outputs": [
    {
     "name": "stdout",
     "output_type": "stream",
     "text": [
      "The area is 314.0\n"
     ]
    },
    {
     "ename": "TypeError",
     "evalue": "can only concatenate str (not \"float\") to str",
     "output_type": "error",
     "traceback": [
      "\u001b[1;31m---------------------------------------------------------------------------\u001b[0m",
      "\u001b[1;31mTypeError\u001b[0m                                 Traceback (most recent call last)",
      "\u001b[1;32m~\\AppData\\Local\\Temp/ipykernel_39792/2240329526.py\u001b[0m in \u001b[0;36m<module>\u001b[1;34m\u001b[0m\n\u001b[0;32m      3\u001b[0m \u001b[0mareaString\u001b[0m\u001b[1;33m=\u001b[0m\u001b[0mstr\u001b[0m\u001b[1;33m(\u001b[0m\u001b[0marea\u001b[0m\u001b[1;33m)\u001b[0m\u001b[1;33m\u001b[0m\u001b[1;33m\u001b[0m\u001b[0m\n\u001b[0;32m      4\u001b[0m \u001b[0mprint\u001b[0m \u001b[1;33m(\u001b[0m\u001b[1;34m'The area is '\u001b[0m\u001b[1;33m+\u001b[0m\u001b[0mareaString\u001b[0m\u001b[1;33m)\u001b[0m \u001b[1;31m#this works as '+' on string is concatenation\u001b[0m\u001b[1;33m\u001b[0m\u001b[1;33m\u001b[0m\u001b[0m\n\u001b[1;32m----> 5\u001b[1;33m \u001b[0mprint\u001b[0m \u001b[1;33m(\u001b[0m\u001b[1;34m'The area is '\u001b[0m\u001b[1;33m+\u001b[0m\u001b[0marea\u001b[0m\u001b[1;33m)\u001b[0m \u001b[1;31m#Error as string and float cannot be added together\u001b[0m\u001b[1;33m\u001b[0m\u001b[1;33m\u001b[0m\u001b[0m\n\u001b[0m",
      "\u001b[1;31mTypeError\u001b[0m: can only concatenate str (not \"float\") to str"
     ]
    }
   ],
   "source": [
    "radius = 10\n",
    "area = 3.14 * radius * radius\n",
    "areaString=str(area)\n",
    "print ('The area is '+areaString) #this works as '+' on string is concatenation\n",
    "print ('The area is '+area) #Error as string and float cannot be added together"
   ]
  },
  {
   "cell_type": "markdown",
   "id": "ce6fc120-16cb-4c73-aaf6-dd08afe8e0f7",
   "metadata": {},
   "source": [
    "**Some type conversion gotchas**"
   ]
  },
  {
   "cell_type": "code",
   "execution_count": 28,
   "id": "95393838-c147-40a9-abe4-68a4f05add4d",
   "metadata": {},
   "outputs": [
    {
     "ename": "ValueError",
     "evalue": "invalid literal for int() with base 10: '45.5'",
     "output_type": "error",
     "traceback": [
      "\u001b[1;31m---------------------------------------------------------------------------\u001b[0m",
      "\u001b[1;31mValueError\u001b[0m                                Traceback (most recent call last)",
      "\u001b[1;32m~\\AppData\\Local\\Temp/ipykernel_39792/1424391727.py\u001b[0m in \u001b[0;36m<module>\u001b[1;34m\u001b[0m\n\u001b[0;32m      2\u001b[0m \u001b[0mint\u001b[0m \u001b[1;33m(\u001b[0m\u001b[1;36m45.5\u001b[0m\u001b[1;33m)\u001b[0m  \u001b[1;31m#removes the decimal and converts 45.5 to 45\u001b[0m\u001b[1;33m\u001b[0m\u001b[1;33m\u001b[0m\u001b[0m\n\u001b[0;32m      3\u001b[0m \u001b[0mint\u001b[0m\u001b[1;33m(\u001b[0m\u001b[0mfloat\u001b[0m\u001b[1;33m(\u001b[0m\u001b[1;34m'45.5'\u001b[0m\u001b[1;33m)\u001b[0m\u001b[1;33m)\u001b[0m \u001b[1;31m#this works as float('45.5') is 45.5 and int(45.5) is 45\u001b[0m\u001b[1;33m\u001b[0m\u001b[1;33m\u001b[0m\u001b[0m\n\u001b[1;32m----> 4\u001b[1;33m \u001b[0mint\u001b[0m\u001b[1;33m(\u001b[0m\u001b[1;34m'45.5'\u001b[0m\u001b[1;33m)\u001b[0m  \u001b[1;31m#this fails as '45.5' cannot be converted to an int\u001b[0m\u001b[1;33m\u001b[0m\u001b[1;33m\u001b[0m\u001b[0m\n\u001b[0m\u001b[0;32m      5\u001b[0m \u001b[0mfloat\u001b[0m\u001b[1;33m(\u001b[0m\u001b[1;34m'45.5$'\u001b[0m\u001b[1;33m)\u001b[0m \u001b[1;31m#fails as $ cannot be converted to a number\u001b[0m\u001b[1;33m\u001b[0m\u001b[1;33m\u001b[0m\u001b[0m\n",
      "\u001b[1;31mValueError\u001b[0m: invalid literal for int() with base 10: '45.5'"
     ]
    }
   ],
   "source": [
    "float('45') #this works as '45' can be converted to a number (45.0)\n",
    "int (45.5)  #removes the decimal and converts 45.5 to 45\n",
    "int(float('45.5')) #this works as float('45.5') is 45.5 and int(45.5) is 45\n",
    "int('45.5')  #this fails as '45.5' cannot be converted to an int \n",
    "float('45.5$') #fails as $ cannot be converted to a number"
   ]
  },
  {
   "cell_type": "markdown",
   "id": "0978a0a6-f0b7-4cc1-86e2-08910afd24d9",
   "metadata": {},
   "source": [
    "3. **input() function to get user input**\n",
    "This is a key built-in function (we will use it in upcoming lessons), **which helps to capture user input from keyboard**.\n",
    "\n",
    "The code shown below will prompt the user with a message *What is your name :*. The user can type something and press Enter key up on which the typed content will be stored in the variable *name* as a string."
   ]
  },
  {
   "cell_type": "code",
   "execution_count": 30,
   "id": "60da0140-d6cb-414f-8076-9cd2b7d19c11",
   "metadata": {},
   "outputs": [
    {
     "name": "stdin",
     "output_type": "stream",
     "text": [
      "What is your name : Jay\n"
     ]
    },
    {
     "name": "stdout",
     "output_type": "stream",
     "text": [
      "My name is Jay\n"
     ]
    }
   ],
   "source": [
    "name = input('What is your name :')\n",
    "print ('My name is',name)"
   ]
  },
  {
   "cell_type": "markdown",
   "id": "6dc0cc6f-afa5-4165-bec9-27c4ccdcf5b4",
   "metadata": {},
   "source": [
    "Another example where **type conversion is used in conjunction with input()**"
   ]
  },
  {
   "cell_type": "code",
   "execution_count": 121,
   "id": "5e3e6659-f5f9-4d82-bacf-8b03e1759927",
   "metadata": {},
   "outputs": [
    {
     "name": "stdin",
     "output_type": "stream",
     "text": [
      "Please enter radius: 5\n"
     ]
    },
    {
     "name": "stdout",
     "output_type": "stream",
     "text": [
      "Area of circle with radius 5.0 is 78.5\n"
     ]
    }
   ],
   "source": [
    "radius = float(input('Please enter radius:')) #we convert the string input to float using type conversion (float())\n",
    "area = 3.14 * radius * radius       \n",
    "print ('Area of circle with radius',radius,'is',area)"
   ]
  },
  {
   "cell_type": "markdown",
   "id": "0a86d35e-87f1-4716-9646-6589b64927ed",
   "metadata": {},
   "source": [
    "### Function best practices"
   ]
  },
  {
   "cell_type": "markdown",
   "id": "8755ead6-7c61-45ec-ae10-6ba2c2d5a504",
   "metadata": {},
   "source": [
    "**Readability is a key aspect** in programming especially when you are working in a team.\n",
    "\n",
    "1. **Provide comments where ever necessary**. This is true for entire program and not only for functions.\n",
    "\n",
    "**If you can’t explain it simply, you don’t understand it well enough!!!!**\n",
    "\n",
    "![commenting](sampleImages/commenting_functions.jpg)"
   ]
  },
  {
   "cell_type": "code",
   "execution_count": 122,
   "id": "156f4030-5147-4d0e-a934-f11c0f21c074",
   "metadata": {},
   "outputs": [],
   "source": [
    "radius = 5.5 #radius of circle\n",
    "#calculate area of circle\n",
    "area = 3.14 * radius * radius"
   ]
  },
  {
   "cell_type": "code",
   "execution_count": 123,
   "id": "b34ff712-1025-450c-81e2-edd1c703ceef",
   "metadata": {},
   "outputs": [],
   "source": [
    "'''this function accepts two numbers and \n",
    "   return the sum of the numbers'''\n",
    "def sumofTwoNumbers(number1,number2):\n",
    "    return number1+number2"
   ]
  },
  {
   "cell_type": "markdown",
   "id": "e308817d-3146-4b1d-bcb6-ddcf0c5a8894",
   "metadata": {},
   "source": [
    "2. One of the best practices while developing a function is to provide the function with a **docstring**. \n",
    "\n",
    "Let's write **functions for calculating the surface area of sphere, cone, cylinder**."
   ]
  },
  {
   "cell_type": "code",
   "execution_count": 124,
   "id": "09f2c86a-ac7b-44a4-af08-2be999ee0cf9",
   "metadata": {},
   "outputs": [],
   "source": [
    "def sphereSurfaceArea(radius):\n",
    "    '''This function accepts radius and returns the surface area of a sphere with          the provided radius.\n",
    "    \n",
    "    Parameters\n",
    "    ------------\n",
    "    radius:float or int\n",
    "           The radius of the sphere\n",
    "    \n",
    "    Returns\n",
    "    ------------\n",
    "    surfaceArea:float\n",
    "                The surface area of the sphere\n",
    "    '''\n",
    "    surfaceArea = 4 * 3.14 * radius * radius\n",
    "    return surfaceArea\n",
    "\n",
    "def coneSurfaceArea(radius,slantHeight):\n",
    "    '''This function accepts radius and slant height of a cone and returns the   \n",
    "       surface area of the cone.\n",
    "    \n",
    "    Parameters\n",
    "    ------------\n",
    "    radius:float or int\n",
    "           The radius of the cone\n",
    "    slantHeight:float or int\n",
    "           The slant height of the cone\n",
    "    \n",
    "    Returns\n",
    "    ------------\n",
    "    surfaceArea:float\n",
    "                The surface area of the cone\n",
    "    '''\n",
    "    surfaceArea = 3.14 * radius * (radius+slantHeight)\n",
    "    return surfaceArea\n",
    "\n",
    "def cylinderSurfaceArea(radius,height):\n",
    "    '''This function accepts radius and height of a cylinder and returns the   \n",
    "       surface area of the cylinder.\n",
    "    \n",
    "    Parameters\n",
    "    ------------\n",
    "    radius:float or int\n",
    "           The radius of the cylinder\n",
    "    height:float or int\n",
    "           The height of the cylinder\n",
    "    \n",
    "    Returns\n",
    "    ------------\n",
    "    surfaceArea:float\n",
    "                The surface area of the cylinder\n",
    "    '''\n",
    "    surfaceArea =2 * 3.14 * radius * (radius+height)\n",
    "    return surfaceArea"
   ]
  },
  {
   "cell_type": "markdown",
   "id": "95a5b792-262c-49d3-af4f-8c52784c8ae4",
   "metadata": {},
   "source": [
    "Now we can use the *?* operator in Jupyter notebooks or the __doc__ attribute or call the **help()** function with the function name as argument to get the details about the function."
   ]
  },
  {
   "cell_type": "code",
   "execution_count": 125,
   "id": "c22623a8-3477-4110-b6bc-83b87e8f7c02",
   "metadata": {},
   "outputs": [
    {
     "name": "stdout",
     "output_type": "stream",
     "text": [
      "Help on function sphereSurfaceArea in module __main__:\n",
      "\n",
      "sphereSurfaceArea(radius)\n",
      "    This function accepts radius and returns the surface area of a sphere with          the provided radius.\n",
      "    \n",
      "    Parameters\n",
      "    ------------\n",
      "    radius:float or int\n",
      "           The radius of the sphere\n",
      "    \n",
      "    Returns\n",
      "    ------------\n",
      "    surfaceArea:float\n",
      "                The surface area of the sphere\n",
      "\n"
     ]
    }
   ],
   "source": [
    "help(sphereSurfaceArea)"
   ]
  },
  {
   "cell_type": "code",
   "execution_count": 126,
   "id": "c09f6b2e-bce9-461a-bfaa-1e34ff02fefb",
   "metadata": {},
   "outputs": [
    {
     "name": "stdout",
     "output_type": "stream",
     "text": [
      "This function accepts radius and returns the surface area of a sphere with          the provided radius.\n",
      "    \n",
      "    Parameters\n",
      "    ------------\n",
      "    radius:float or int\n",
      "           The radius of the sphere\n",
      "    \n",
      "    Returns\n",
      "    ------------\n",
      "    surfaceArea:float\n",
      "                The surface area of the sphere\n",
      "    \n"
     ]
    }
   ],
   "source": [
    "print (sphereSurfaceArea.__doc__)"
   ]
  },
  {
   "cell_type": "code",
   "execution_count": 127,
   "id": "bccc73de-65a0-4cb7-9281-3aabce34392e",
   "metadata": {},
   "outputs": [
    {
     "data": {
      "text/plain": [
       "\u001b[1;31mSignature:\u001b[0m \u001b[0msphereSurfaceArea\u001b[0m\u001b[1;33m(\u001b[0m\u001b[0mradius\u001b[0m\u001b[1;33m)\u001b[0m\u001b[1;33m\u001b[0m\u001b[1;33m\u001b[0m\u001b[0m\n",
       "\u001b[1;31mDocstring:\u001b[0m\n",
       "This function accepts radius and returns the surface area of a sphere with          the provided radius.\n",
       "\n",
       "Parameters\n",
       "------------\n",
       "radius:float or int\n",
       "       The radius of the sphere\n",
       "\n",
       "Returns\n",
       "------------\n",
       "surfaceArea:float\n",
       "            The surface area of the sphere\n",
       "\u001b[1;31mFile:\u001b[0m      c:\\users\\jxa421\\appdata\\local\\temp\\ipykernel_19868\\3726060677.py\n",
       "\u001b[1;31mType:\u001b[0m      function\n"
      ]
     },
     "metadata": {},
     "output_type": "display_data"
    }
   ],
   "source": [
    "sphereSurfaceArea?"
   ]
  },
  {
   "cell_type": "markdown",
   "id": "78d6c8cd-4f95-408a-b5e5-6a4d2b505e73",
   "metadata": {},
   "source": [
    "## Variable Scope"
   ]
  },
  {
   "cell_type": "markdown",
   "id": "783658cc-ee49-4faf-bed3-b56ce8003dcb",
   "metadata": {},
   "source": [
    "The **scope of a variable name** is the **part of the program** where the name is defined and can be used. \n",
    "\n",
    "Variables can have **global scope and local scope**.\n",
    "\n",
    "Variables declared **outside any code block (function, loops, conditional statements, with) is called a global variable**.\n",
    "\n",
    "Let's check an example of a global variable"
   ]
  },
  {
   "cell_type": "code",
   "execution_count": null,
   "id": "c21dc88b-ac43-44b5-aa69-db5dfb7336aa",
   "metadata": {},
   "outputs": [],
   "source": [
    "pi=3.141 #this is a global variable, can be accessed from anywhere in the program\n",
    "def calculateCircleArea(radius):\n",
    "    return pi * radius * radius #the global variable pi is accessed here"
   ]
  },
  {
   "cell_type": "markdown",
   "id": "ad6be275-293d-4ed7-a0d9-7df7e65662dc",
   "metadata": {},
   "source": [
    "Variables declared **inside a code block (function, loops, conditional statements, with)** is called a **local variable** and has a scope only until the block is executing.\n",
    "\n",
    "Let's look at an example of a local variable"
   ]
  },
  {
   "cell_type": "code",
   "execution_count": null,
   "id": "23174660-5f85-4411-bb5c-575012420f62",
   "metadata": {},
   "outputs": [],
   "source": [
    "pi=3.141 #this is a global variable\n",
    "def surfaceAreaOfSphere(radius):\n",
    "    surfaceArea = 4 * pi * radius * radius #the variable surfaceArea is local to the function.\n",
    "    return surfaceArea\n",
    "\n",
    "print (surfaceArea) #this will result in an error as the variable surfaceArea is local to the function surfaceAreaOfSphere"
   ]
  },
  {
   "cell_type": "markdown",
   "id": "7e949eff-e7f5-406b-9807-7c337a36b32b",
   "metadata": {},
   "source": [
    "You can declare a global variable inside a code block with they keyword **global** to modify it. Let's see an example"
   ]
  },
  {
   "cell_type": "code",
   "execution_count": 4,
   "id": "00d16c79-4935-45ca-aa4a-0975221161c8",
   "metadata": {},
   "outputs": [
    {
     "name": "stdout",
     "output_type": "stream",
     "text": [
      "5\n",
      "5\n"
     ]
    }
   ],
   "source": [
    "start = 0\n",
    "end = 5\n",
    "def change():\n",
    "    global start #this will refer to the global variable start which is declared outside this function\n",
    "    start =  5\n",
    "    end = 10\n",
    "change() # call change function\n",
    "print (start)\n",
    "print (end)"
   ]
  },
  {
   "cell_type": "markdown",
   "id": "70a29cd8-9172-4ea8-bb3a-5ebc1495fdfa",
   "metadata": {},
   "source": [
    "## Modules"
   ]
  },
  {
   "cell_type": "markdown",
   "id": "117c3caa-5cc5-4054-b4b7-08a842f8f56d",
   "metadata": {},
   "source": [
    "![modules](sampleImages/python_modules.png)"
   ]
  },
  {
   "cell_type": "markdown",
   "id": "797152fe-0222-4848-a237-413e1d68bdfb",
   "metadata": {},
   "source": [
    "**It's always good to share!!**\n",
    "\n",
    "![share](sampleImages/its_good_to_share.jpg)"
   ]
  },
  {
   "cell_type": "markdown",
   "id": "bdbf45dc-d336-433c-bdae-9e04e175cc28",
   "metadata": {},
   "source": [
    ">A **module** is an **existing Python program that contains predefined values and functions** that you can use.\n",
    "\n",
    "You can think of it as a **box containing many functions**. \n",
    "\n",
    "And we can use many boxes in our program by using the **import** statement\n",
    "\n",
    "Let's look at some modules that ships automatically with python and let's use some functions from this module\n",
    "\n",
    "1. **math module : Provide access to a lot of mathematical functions**"
   ]
  },
  {
   "cell_type": "code",
   "execution_count": 129,
   "id": "826e5617-1dbf-4578-95bc-d27116b32f1b",
   "metadata": {},
   "outputs": [],
   "source": [
    "import math   #importing a module\n",
    "factorial = math.factorial(5)  #returns factorial of a positive integer\n",
    "log = math.log10(1000) #returns base-10 logarithm of a positive number\n",
    "squareRoot = math.sqrt(100) #return square root of a positive number\n",
    "power = math.pow(2,3) #return first argument raised to second argument\n",
    "degreeToRadian = math.radians(90) #converts degree to radians\n",
    "radianToDegree = math.degrees(1.5708) #converts radians to degree\n",
    "sinValue = math.sin(math.radians(90)) #return sine of argument (radians)\n",
    "cosValue = math.sin(math.radians(90)) #return cosine of argument (radians)\n",
    "piValue = math.pi  #a constant variable storing value of PI\n",
    "infinity = math.inf #a constant variable storing value of infinity (float)"
   ]
  },
  {
   "cell_type": "markdown",
   "id": "6d4f146c-46ef-48d5-a2f9-719cae824ac1",
   "metadata": {},
   "source": [
    "You can also import functions exclusively from the module using **from**"
   ]
  },
  {
   "cell_type": "code",
   "execution_count": 130,
   "id": "f5f6010b-3007-4791-812f-03a1911efb70",
   "metadata": {},
   "outputs": [],
   "source": [
    "from math import sqrt  #import sqrt function from the module math\n",
    "squareRoot = sqrt(100) #no need of calling with the '.' oeprator"
   ]
  },
  {
   "cell_type": "markdown",
   "id": "236ac971-e2fb-4898-a7b7-ee9683454a6b",
   "metadata": {},
   "source": [
    "You can also provide an **alias name** for the module while importing. This is very useful when the module name is relatively large."
   ]
  },
  {
   "cell_type": "code",
   "execution_count": null,
   "id": "4f776280-6de9-4f78-8e67-18333c8a8379",
   "metadata": {},
   "outputs": [],
   "source": [
    "import math as ma #now ma is an alias for math\n",
    "squareRoot = ma.sqrt(100)"
   ]
  },
  {
   "cell_type": "markdown",
   "id": "099eefa5-ce5b-412f-96f2-652cbef9195d",
   "metadata": {},
   "source": [
    "2. **random module** (Provides a lot of psuedo-random number generators for variuos distributions)"
   ]
  },
  {
   "cell_type": "code",
   "execution_count": 131,
   "id": "c13e14b7-ab7e-4968-a3c7-de80a180011f",
   "metadata": {},
   "outputs": [],
   "source": [
    "import random\n",
    "random1 = random.randrange(100) #provides random integer between 0 and 100\n",
    "random2 = random.randrange(50,100) #provides random integer between 50 and 100\n",
    "random3 = random.random() #provides a random float between 0 and 1\n",
    "random4 = random.uniform(5,10) #provides a random float between 5 and 10"
   ]
  },
  {
   "cell_type": "markdown",
   "id": "98b905e3-e075-4e77-a682-680b935de429",
   "metadata": {},
   "source": [
    "There are many more built-in modules which we will use in upcoming lessons.\n",
    "\n",
    "Apart from built-in modules you can also **install new modules** to Python as well as develop your own modules. Some of the modules you might be using in the advanced lessons include\n",
    "\n",
    "**Numpy** -- A module for working with arrays.\n",
    "\n",
    "**Scipy** -- A module that support scientific and techincal computing.\n",
    "\n",
    "**Pandas** -- A module for open source data analysis.\n",
    "\n",
    "**Tensorflow** -- A module for machine learning and AI\n",
    "\n",
    "**Keras** -- A module for developing Artifical nueral networks."
   ]
  }
 ],
 "metadata": {
  "kernelspec": {
   "display_name": "Python 3 (ipykernel)",
   "language": "python",
   "name": "python3"
  },
  "language_info": {
   "codemirror_mode": {
    "name": "ipython",
    "version": 3
   },
   "file_extension": ".py",
   "mimetype": "text/x-python",
   "name": "python",
   "nbconvert_exporter": "python",
   "pygments_lexer": "ipython3",
   "version": "3.9.7"
  }
 },
 "nbformat": 4,
 "nbformat_minor": 5
}
