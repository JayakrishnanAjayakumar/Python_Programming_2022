{
 "cells": [
  {
   "cell_type": "markdown",
   "id": "fa09df0e-fd8a-4a6a-a970-06530b04e1ef",
   "metadata": {},
   "source": [
    "# What is in a name"
   ]
  },
  {
   "cell_type": "markdown",
   "id": "aa343072-c5d5-404d-b8e3-b78ac3081716",
   "metadata": {},
   "source": [
    "## Values"
   ]
  },
  {
   "cell_type": "markdown",
   "id": "4bca6be7-63d2-4fe1-b320-e2946af4bfda",
   "metadata": {},
   "source": [
    "One of the most **basic things in programming.**\n",
    "\n",
    "4, 'hello world', 3.14, True\n",
    "\n",
    "There are **datatypes** associated with every value in Python\n",
    "\n",
    "4 is of datatype **int** (integer)\n",
    "\n",
    "3.14 is of datatype **float** (floating point)\n",
    "\n",
    "'hello world' is of datatype **str** (string)\n",
    "\n",
    "True is of datatype **bool** (boolean)\n",
    "\n",
    "You can check the data type of a value by using the in-built function (we will learn about functions soon) **type()**"
   ]
  },
  {
   "cell_type": "code",
   "execution_count": 2,
   "id": "5b201bee-cadd-4eea-95d9-dfe25b98027a",
   "metadata": {},
   "outputs": [
    {
     "data": {
      "text/plain": [
       "bool"
      ]
     },
     "execution_count": 2,
     "metadata": {},
     "output_type": "execute_result"
    }
   ],
   "source": [
    "type(4) #int\n",
    "type(3.14) #float\n",
    "type('hello world') #str\n",
    "type(True) #bool"
   ]
  },
  {
   "cell_type": "markdown",
   "id": "ec87491e-7dc5-4448-b0de-296ae36f44dc",
   "metadata": {},
   "source": [
    "So what do you think will be the type for the calculation (4/3 * 3.14 * 5 * 5 * 5 )"
   ]
  },
  {
   "cell_type": "markdown",
   "id": "2c549fcc-96e0-4242-931c-b4dd53aa71cd",
   "metadata": {},
   "source": [
    "## Variables"
   ]
  },
  {
   "cell_type": "markdown",
   "id": "7198be65-8e76-4e76-9c04-b09039395489",
   "metadata": {},
   "source": [
    ">Sometimes we need computers to **remember the information we give it** and that it calculates during programs. A **variable** can be thought of as a **box that the computer can use to store a value**. The **value** held in that box can **change or ‘vary’**. A program can use as many variables as it needs it to.\n",
    "\n",
    "Variables have **three parts, name, value and, type (this is implicit)**. A **variable's name** is known as an **identifier**. "
   ]
  },
  {
   "cell_type": "code",
   "execution_count": 3,
   "id": "875b6379-bc73-4665-a765-041a74b8500a",
   "metadata": {},
   "outputs": [],
   "source": [
    "pi = 3.14 #here name is pi and value is 3.14 and type is float (implicit)\n",
    "radius = 10"
   ]
  },
  {
   "cell_type": "markdown",
   "id": "59977be9-d153-4cad-a6a7-5a01f66b7024",
   "metadata": {},
   "source": [
    "![variable_basic](sampleImages/variables_basic.png)\n",
    "\n",
    "Variables look more like **flash cards**\n",
    "\n",
    "Let's look at a more elaborate example"
   ]
  },
  {
   "cell_type": "code",
   "execution_count": 4,
   "id": "16922c4d-a07a-4a69-9df6-54578da78b67",
   "metadata": {},
   "outputs": [],
   "source": [
    "#lets calculate the area and perimeter of a circle\n",
    "pi = 3.14\n",
    "radius = 10\n",
    "area = pi * radius * radius\n",
    "perimeter = 2 * pi * radius"
   ]
  },
  {
   "cell_type": "markdown",
   "id": "b2c798a7-a0e3-44c6-88d2-53503bd0519a",
   "metadata": {},
   "source": [
    "Now it might look like\n",
    "\n",
    "![variablesincomputermemory](sampleImages/variablesincomputermemory.png) "
   ]
  },
  {
   "cell_type": "markdown",
   "id": "5efe50a9-5d31-40cd-89d8-a01a083ba401",
   "metadata": {},
   "source": [
    "Change the value of radius and recalculate"
   ]
  },
  {
   "cell_type": "code",
   "execution_count": 5,
   "id": "776b35e5-16bc-407d-a3cb-d4f5bfe61ca1",
   "metadata": {},
   "outputs": [],
   "source": [
    "pi = 3.14\n",
    "radius = 15 #radius is now 15\n",
    "area = pi * radius * radius\n",
    "perimeter = 2 * pi * radius"
   ]
  },
  {
   "cell_type": "markdown",
   "id": "89486489-1c10-41c7-8666-ec744afa7207",
   "metadata": {},
   "source": [
    "![variablesincomputermemory2](sampleImages/variablesincomputermemory3.png) "
   ]
  },
  {
   "cell_type": "markdown",
   "id": "787d9083-e812-4309-8f67-98c49992d30c",
   "metadata": {},
   "source": [
    "Let's show another example to showcase the **motivation for using variables**\n",
    "\n",
    "Suppose you want to calculate the **surface area for a sphere, cone (l=5m) and cylinder (h=4m)** with a **common radius of 10m**\n",
    "\n",
    "\\begin{align}\n",
    "SA (Shpere) = 4 \\times \\pi \\times (radius)^2\n",
    "\\end{align}\n",
    "\\begin{align}\n",
    "SA (Cone) = \\pi \\times radius \\times l \\times (radius+l)\n",
    "\\end{align}\n",
    "\\begin{align}\n",
    "SA (Cylinder) = 2 \\times \\pi \\times radius \\times (radius+h)\n",
    "\\end{align}"
   ]
  },
  {
   "cell_type": "code",
   "execution_count": 6,
   "id": "adbb940d-643a-47af-bc64-99448fb2dcb5",
   "metadata": {},
   "outputs": [
    {
     "data": {
      "text/plain": [
       "879.48"
      ]
     },
     "execution_count": 6,
     "metadata": {},
     "output_type": "execute_result"
    }
   ],
   "source": [
    "4 * 3.141 * 10 * 10                 #surface area of sphere \n",
    "3.141 * 10 * (10+5)                 #surface area of cone\n",
    "2 * 3.141 * 10 * (10+4)             #surface area of cylinder"
   ]
  },
  {
   "cell_type": "markdown",
   "id": "23198803-cc3b-4499-a32a-b83a494c2901",
   "metadata": {},
   "source": [
    "Now if the **cost of painting is 40$ per square meter** and if you have **5 spheres, 10 cones, and 15 cylinders**, what will be be the **total cost for painting**.\n",
    "\n",
    "If you are **not using variables** it might look like this"
   ]
  },
  {
   "cell_type": "code",
   "execution_count": 7,
   "id": "c252fc68-cf9a-4fbd-b694-2b740eea48e3",
   "metadata": {},
   "outputs": [
    {
     "data": {
      "text/plain": [
       "967200.0"
      ]
     },
     "execution_count": 7,
     "metadata": {},
     "output_type": "execute_result"
    }
   ],
   "source": [
    "40 * ((4 * 3.141 * 10 * 10 * 5) + (3.14 * 10 * (10+5) * 10) + (2 * 3.14 * 10 * (10+4) * 15))"
   ]
  },
  {
   "cell_type": "markdown",
   "id": "4c981a7d-1722-478c-b86f-ea9ba105ea56",
   "metadata": {},
   "source": [
    "Can your co-worker or buddy understand that if you were not there. This **code is not readable**. And what if we have to change radius or other parameters. We can see that soon it will become a hassle. So **re-usability** is missing. "
   ]
  },
  {
   "cell_type": "markdown",
   "id": "5ddf2d05-6edf-40bf-92c6-d13b6c12805f",
   "metadata": {},
   "source": [
    "Now let's change this program to **include variables**"
   ]
  },
  {
   "cell_type": "code",
   "execution_count": 8,
   "id": "3339da43-67fa-48cf-8db1-07def75edbeb",
   "metadata": {},
   "outputs": [],
   "source": [
    "commonRadius = 10\n",
    "slantHeight = 5\n",
    "height = 4\n",
    "pi = 3.141\n",
    "paintingCost = 40\n",
    "numSpheres = 5\n",
    "numCones = 10\n",
    "numCylinders = 15\n",
    "surfaceAreaOfSphere = 4 * pi * commonRadius * commonRadius * commonRadius\n",
    "surfaceAreaOfCone = pi * commonRadius * (commonRadius+slantHeight)\n",
    "surfaceAreaOfCylinder = 2 * pi * commonRadius * (commonRadius+height)\n",
    "totalSurfaceArea = (numSpheres * surfaceAreaOfSphere) + (numCones * surfaceAreaOfCone) + (numCylinders * surfaceAreaOfCylinder)\n",
    "totalCost = totalSurfaceArea * paintingCost"
   ]
  },
  {
   "cell_type": "markdown",
   "id": "54b785ad-ffb8-4a1b-ae2c-f64ffd7ce6af",
   "metadata": {},
   "source": [
    "1) The code is defintely more **readable**\n",
    "2) **Reusing of calculations** (surfaceAreaOfSphere,surfaceAreaOfCone,totalSurfaceArea)\n",
    "3) Tackling small problems to solve a large problem (**decomposition**)\n",
    "4) **Easy to change values for variables and redo the calculation**\n",
    "\n",
    "On the last point \n",
    "\n",
    "What if you change the radius to 20m, what will be the total cost.\n",
    "\n",
    "If you change the radius to 15m and number of cones to 15 what will be the total cost.\n",
    "\n",
    "What if you want to check the ratio of painting cost for a sphere and painting cost for a cone \n",
    "\n",
    "Let's write that program by making small change to the previuos program"
   ]
  },
  {
   "cell_type": "code",
   "execution_count": 9,
   "id": "2696c1b2-3253-4e92-8d14-b52b925e945b",
   "metadata": {},
   "outputs": [],
   "source": [
    "commonRadius = 10\n",
    "slantHeight = 5\n",
    "height = 4\n",
    "pi = 3.141\n",
    "paintingCost = 40\n",
    "numSpheres = 5\n",
    "numCones = 10\n",
    "numCylinders = 15\n",
    "surfaceAreaOfSphere = 4 * pi * commonRadius * commonRadius * commonRadius\n",
    "surfaceAreaOfCone = pi * commonRadius * (commonRadius+slantHeight)\n",
    "surfaceAreaOfCylinder = 2 * pi * commonRadius * (commonRadius+height)\n",
    "totalSurfaceArea = (numSpheres * surfaceAreaOfSphere) + (numCones * surfaceAreaOfCone) + (numCylinders * surfaceAreaOfCylinder)\n",
    "totalCost = totalSurfaceArea * paintingCost\n",
    "sphereToConeRatio = (surfaceAreaOfSphere / surfaceAreaOfCone)"
   ]
  },
  {
   "cell_type": "markdown",
   "id": "b04dd0cc-544c-479f-aa34-cf1f087081c3",
   "metadata": {},
   "source": [
    "**Rules for declaring variable names (identifiers)**\n",
    "\n",
    "1. It can contain **letters and numbers** but must **start with a letter**.\n",
    "2. It must contain **at least one letter** (at the start of the name).\n",
    "3. It **must not contain special characters** such as !@£$%&* or punctuation characters. However, an **underscore can be used**. **Spaces are not allowed**.\n",
    "4. It cannot be one of the **reserved keywords in Python**.\n",
    "\n",
    "![reserved](sampleImages/reserved.png) \n",
    "\n",
    "5. A variable should be **declared before using it**."
   ]
  },
  {
   "cell_type": "code",
   "execution_count": 10,
   "id": "51d4f9fb-5a53-4ade-88e7-d76a5eb15324",
   "metadata": {},
   "outputs": [
    {
     "ename": "NameError",
     "evalue": "name 'hello' is not defined",
     "output_type": "error",
     "traceback": [
      "\u001b[1;31m---------------------------------------------------------------------------\u001b[0m",
      "\u001b[1;31mNameError\u001b[0m                                 Traceback (most recent call last)",
      "\u001b[1;32m~\\AppData\\Local\\Temp/ipykernel_32580/444185442.py\u001b[0m in \u001b[0;36m<module>\u001b[1;34m\u001b[0m\n\u001b[1;32m----> 1\u001b[1;33m \u001b[0mprint\u001b[0m \u001b[1;33m(\u001b[0m\u001b[0mhello\u001b[0m\u001b[1;33m)\u001b[0m \u001b[1;31m#this will result in an error as hello is not declared and assigned before\u001b[0m\u001b[1;33m\u001b[0m\u001b[1;33m\u001b[0m\u001b[0m\n\u001b[0m",
      "\u001b[1;31mNameError\u001b[0m: name 'hello' is not defined"
     ]
    }
   ],
   "source": [
    "print (hello) #this will result in an error as hello is not declared and assigned before"
   ]
  },
  {
   "cell_type": "code",
   "execution_count": 11,
   "id": "673aac40-3e40-4524-97fb-5fec84f7e4af",
   "metadata": {},
   "outputs": [
    {
     "name": "stdout",
     "output_type": "stream",
     "text": [
      "hello\n"
     ]
    }
   ],
   "source": [
    "hello = 'hello' #now hello is declared and assigned a value 'hello'\n",
    "print (hello) #no error"
   ]
  },
  {
   "cell_type": "markdown",
   "id": "a1077018-b748-4040-80eb-5e2a159a91b9",
   "metadata": {},
   "source": [
    "Eventhough not a **rule per se** the **variable name should be meaningful**. It should **represent the value it is holding**."
   ]
  },
  {
   "cell_type": "markdown",
   "id": "47bdb5f0-cd1f-4500-85f4-ae850db1f83c",
   "metadata": {},
   "source": [
    "The code snippet shown below has **less readability** due to poor choice for idenitifers"
   ]
  },
  {
   "cell_type": "code",
   "execution_count": 12,
   "id": "826114c2-fd9b-4610-ab9d-1988ee3a7fae",
   "metadata": {},
   "outputs": [],
   "source": [
    "r = 10\n",
    "p = 3.14\n",
    "ac = p * r * r\n",
    "l = 10\n",
    "b = 20\n",
    "ar = l * b"
   ]
  },
  {
   "cell_type": "markdown",
   "id": "c19bca97-e420-419c-b36f-aacd2048890e",
   "metadata": {},
   "source": [
    "We can make this more **readable** by assigning useful name for variables"
   ]
  },
  {
   "cell_type": "code",
   "execution_count": 13,
   "id": "7ea5486c-2482-4f92-b380-b9217b4ae0ff",
   "metadata": {},
   "outputs": [],
   "source": [
    "radius = 10\n",
    "pi = 3.14\n",
    "areaOfCircle = pi * radius * radius\n",
    "length = 10\n",
    "breadth = 20\n",
    "areaOfRectangle = length * breadth"
   ]
  }
 ],
 "metadata": {
  "kernelspec": {
   "display_name": "Python 3 (ipykernel)",
   "language": "python",
   "name": "python3"
  },
  "language_info": {
   "codemirror_mode": {
    "name": "ipython",
    "version": 3
   },
   "file_extension": ".py",
   "mimetype": "text/x-python",
   "name": "python",
   "nbconvert_exporter": "python",
   "pygments_lexer": "ipython3",
   "version": "3.9.7"
  }
 },
 "nbformat": 4,
 "nbformat_minor": 5
}
