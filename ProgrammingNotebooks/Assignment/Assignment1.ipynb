{
 "cells": [
  {
   "cell_type": "markdown",
   "id": "41f22006-61fa-4c24-b68e-701e8b36810e",
   "metadata": {},
   "source": [
    "# Browsing the BioPortal"
   ]
  },
  {
   "cell_type": "markdown",
   "id": "4b85da79-96c8-424a-8bf3-e66938bf9e13",
   "metadata": {},
   "source": [
    "In this Assignment we will first create login details for the BioPortal\n",
    "\n",
    "1. Browse to the url https://bioportal.bioontology.org/login?redirect=https%3A%2F%2Fbioportal.bioontology.org%2F\n",
    "\n",
    "![login_bioportal](../sampleImages/biportal_login.png)\n",
    "\n",
    "\n",
    "2. Select Account Settings\n",
    "\n",
    "![login_bioportal_settings](../sampleImages/biportal_login_settings.png)"
   ]
  },
  {
   "cell_type": "markdown",
   "id": "c0566ce9-f054-4ccd-9edb-e97e5284827f",
   "metadata": {},
   "source": [
    "3. Copy and paste the api key to a Notepad"
   ]
  },
  {
   "cell_type": "markdown",
   "id": "6d571cc6-605b-4391-91c3-28f71945308b",
   "metadata": {},
   "source": [
    "4. Now browse to the BioPortal homepage\n",
    "\n",
    "https://bioportal.bioontology.org/"
   ]
  },
  {
   "cell_type": "markdown",
   "id": "27b3f577-2e56-4311-b74b-962d52cb256a",
   "metadata": {},
   "source": [
    "5. Type any Ontology name that you would like to get information on. For example BRO (Biomedical Resource Ontology)\n",
    "\n",
    "![bioportal_search](../sampleImages/biportal_search.png)\n",
    "\n",
    "\n",
    "![bioportal_BRO_homepage](../sampleImages/biportal_BRO_homepage.png)\n"
   ]
  },
  {
   "cell_type": "markdown",
   "id": "93a87d78-bb6b-4bb5-a6cc-f401d58ac287",
   "metadata": {},
   "source": [
    "## Retrieve metrics for an ontology using BioPortal API\n",
    "\n",
    "![biportal_BRO_metrics](../sampleImages/biportal_BRO_metrics.png)"
   ]
  },
  {
   "cell_type": "markdown",
   "id": "62e2fa6d-e5d2-49a2-8178-9236e159a3ce",
   "metadata": {},
   "source": [
    "The url for retrieving metrics for a particular ontology is given by\n",
    "\n",
    "```python\n",
    "import requests\n",
    "api_key = ''  #copy paste your API key. \n",
    "ontology = 'BRO' #change this for retreiving details about other ontologies\n",
    "response = requests.get(\"https://data.bioontology.org/ontologies/\"+ontology+\"/metrics\",params={'apikey':api_key})\n",
    "```\n",
    "\n",
    "If you want to retrieve the metrics for SNOMED ontology the url should be\n",
    "\n",
    "```python\n",
    "response = requests.get(\"https://data.bioontology.org/ontologies/\"+ontology+\"/metrics\",params={'apikey':api_key})\n",
    "```\n",
    "Now to retrieve the response details in JSON format\n",
    "\n",
    "```python\n",
    "data = response.json()\n",
    "```"
   ]
  },
  {
   "cell_type": "markdown",
   "id": "fad7247a-1890-4911-a2fe-f13ec2505bca",
   "metadata": {},
   "source": [
    "**1.** Explore metrics which is stored in the variable data and print out the essential details. Verify whether it matches the details provided in the website. "
   ]
  },
  {
   "cell_type": "code",
   "execution_count": 156,
   "id": "eac10069-4b3a-4e47-b516-9241407bb81a",
   "metadata": {},
   "outputs": [],
   "source": [
    "###Type your code below####"
   ]
  },
  {
   "cell_type": "markdown",
   "id": "45a08166-7fcc-4fb1-aaee-108d4c9782a6",
   "metadata": {},
   "source": [
    "## Retrieve classes for an ontology using BioPortal API"
   ]
  },
  {
   "cell_type": "markdown",
   "id": "780c002f-3031-4346-9010-b11aa00a2c62",
   "metadata": {},
   "source": [
    "![biportal_BRO_classes](../sampleImages/biportal_BRO_classes.png)\n",
    "\n",
    "```python\n",
    "response = requests.get(\"https://data.bioontology.org/ontologies/\"+ontology+\"/classes/roots\",params={'apikey':api_key})\n",
    "data = response.json()\n",
    "```"
   ]
  },
  {
   "cell_type": "markdown",
   "id": "792e56bd-f54e-4735-8fd8-944c0b61a388",
   "metadata": {},
   "source": [
    "**2.** Explore classes which is stored in the variable data and print out the essential details. Verify whether it matches the details provided in the website. "
   ]
  },
  {
   "cell_type": "code",
   "execution_count": 157,
   "id": "438edafa-17f3-433f-9f4b-229184764c38",
   "metadata": {},
   "outputs": [],
   "source": [
    "###Type your code below####"
   ]
  },
  {
   "cell_type": "markdown",
   "id": "0096e94a-ad40-47fa-8d6f-7dea9389ee75",
   "metadata": {},
   "source": [
    "## Retrieve properties for an ontology using BioPortal API"
   ]
  },
  {
   "cell_type": "markdown",
   "id": "a4ef4336-a7a9-469d-bf5c-9e396a0b113f",
   "metadata": {},
   "source": [
    "![biportal_BRO_properties](../sampleImages/biportal_BRO_properties.png)\n",
    "\n",
    "```python\n",
    "response = requests.get(\"https://data.bioontology.org/ontologies/\"+ontology+\"/properties\",params={'apikey':api_key})\n",
    "data = response.json()\n",
    "```"
   ]
  },
  {
   "cell_type": "markdown",
   "id": "20c15966-c046-43a4-b7b9-b40fcf97027d",
   "metadata": {},
   "source": [
    "**3.** Explore properties which is stored in the variable data and print out the essential details. Verify whether it matches the details provided in the website. "
   ]
  },
  {
   "cell_type": "code",
   "execution_count": 158,
   "id": "6aa20c9b-0018-420d-bbb0-e4ad09cd8f51",
   "metadata": {},
   "outputs": [],
   "source": [
    "###Type your code below####"
   ]
  },
  {
   "cell_type": "markdown",
   "id": "5bdf710a-b0dd-4720-b788-28f817c4fe41",
   "metadata": {},
   "source": [
    "## Retrieve notes for an ontology using BioPortal API"
   ]
  },
  {
   "cell_type": "markdown",
   "id": "c02d6a1e-9549-42a1-b680-b0f9aded8007",
   "metadata": {},
   "source": [
    "![biportal_BRO_notes](../sampleImages/biportal_BRO_notes.png)\n",
    "\n",
    "```python\n",
    "response = requests.get(\"https://data.bioontology.org/ontologies/\"+ontology+\"/notes\",params={'apikey':api_key})\n",
    "data = response.json()\n",
    "```"
   ]
  },
  {
   "cell_type": "markdown",
   "id": "c4542830-0fb0-4720-8d5a-50cde0b10c20",
   "metadata": {},
   "source": [
    "**4.** Explore notes which is stored in the variable data and print out the essential details. Verify whether it matches the details provided in the website. "
   ]
  },
  {
   "cell_type": "code",
   "execution_count": 159,
   "id": "56ccc7e7-5a05-41d2-afa9-7edf0a8409ff",
   "metadata": {},
   "outputs": [],
   "source": [
    "###Type your code below####"
   ]
  },
  {
   "cell_type": "markdown",
   "id": "6169efe4-07b2-491c-9986-d6d04dc918f1",
   "metadata": {},
   "source": [
    "## Retrieve mappings for an ontology using BioPortal API"
   ]
  },
  {
   "cell_type": "markdown",
   "id": "2210ba74-ca45-4ac1-8f2f-3b8553e6bf56",
   "metadata": {},
   "source": [
    "![biportal_BRO_mapping](../sampleImages/biportal_BRO_mappings.png)\n",
    "\n",
    "```python\n",
    "response = requests.get(\"https://data.bioontology.org/ontologies/\"+ontology+\"/mappings\",params={'apikey':api_key})\n",
    "data = response.json()\n",
    "```"
   ]
  },
  {
   "cell_type": "markdown",
   "id": "82374c3a-94f3-45bf-86ff-da41e77611ea",
   "metadata": {},
   "source": [
    "**5.** Explore mappings which is stored in the variable data and print out the essential details. Check total mappings count. "
   ]
  },
  {
   "cell_type": "code",
   "execution_count": 160,
   "id": "2fcfce51-a2a3-4c2d-9beb-4bd5fe1b1aa3",
   "metadata": {},
   "outputs": [],
   "source": [
    "###Type your code below####"
   ]
  },
  {
   "cell_type": "markdown",
   "id": "83c0d791-1744-4c68-8b20-e8712785d02d",
   "metadata": {},
   "source": [
    "## Retrieve analytics for an ontology using BioPortal API"
   ]
  },
  {
   "cell_type": "markdown",
   "id": "69d03707-44cb-417e-b111-1058ea8f46e1",
   "metadata": {},
   "source": [
    "```python\n",
    "response = requests.get(\"https://data.bioontology.org/ontologies/\"+ontology+\"/analytics\",params={'apikey':api_key})\n",
    "data = response.json()\n",
    "```"
   ]
  },
  {
   "cell_type": "markdown",
   "id": "826ce198-a351-4288-95c1-171aabdd1fc5",
   "metadata": {},
   "source": [
    "**5.** Explore analytics which is stored in the variable data and print out the essential details. Find out the average number of visits for every month caclulated across multiple years. Also calculate the difference between visits for each month of last year and first year."
   ]
  },
  {
   "cell_type": "code",
   "execution_count": 161,
   "id": "23175641-a292-4196-ae9f-eab0ae444a7e",
   "metadata": {},
   "outputs": [],
   "source": [
    "###Type your code below####"
   ]
  }
 ],
 "metadata": {
  "kernelspec": {
   "display_name": "Python 3 (ipykernel)",
   "language": "python",
   "name": "python3"
  },
  "language_info": {
   "codemirror_mode": {
    "name": "ipython",
    "version": 3
   },
   "file_extension": ".py",
   "mimetype": "text/x-python",
   "name": "python",
   "nbconvert_exporter": "python",
   "pygments_lexer": "ipython3",
   "version": "3.9.7"
  }
 },
 "nbformat": 4,
 "nbformat_minor": 5
}
