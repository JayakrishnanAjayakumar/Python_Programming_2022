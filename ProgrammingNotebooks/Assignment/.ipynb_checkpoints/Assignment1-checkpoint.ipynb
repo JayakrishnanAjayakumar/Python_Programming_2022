{
 "cells": [
  {
   "cell_type": "markdown",
   "id": "41f22006-61fa-4c24-b68e-701e8b36810e",
   "metadata": {},
   "source": [
    "# Browsing the BioPortal"
   ]
  },
  {
   "cell_type": "markdown",
   "id": "4b85da79-96c8-424a-8bf3-e66938bf9e13",
   "metadata": {},
   "source": [
    "In this Assignment we will first create login details for the BioPortal"
   ]
  },
  {
   "cell_type": "code",
   "execution_count": 7,
   "id": "ab87d2d0-d293-4121-9c68-6408bc788e70",
   "metadata": {},
   "outputs": [
    {
     "data": {
      "text/html": [
       "<iframe src=\"http://bioportal.bioontology.org/\" width=\"800\" height=\"500\"></iframe>\n"
      ],
      "text/plain": [
       "<IPython.core.display.HTML object>"
      ]
     },
     "metadata": {},
     "output_type": "display_data"
    }
   ],
   "source": [
    "%%html\n",
    "<iframe src=\"http://bioportal.bioontology.org/\" width=\"800\" height=\"500\"></iframe>"
   ]
  },
  {
   "cell_type": "code",
   "execution_count": null,
   "id": "5830cb27-8a19-46d3-a825-b711521ea851",
   "metadata": {},
   "outputs": [],
   "source": []
  }
 ],
 "metadata": {
  "kernelspec": {
   "display_name": "Python 3 (ipykernel)",
   "language": "python",
   "name": "python3"
  },
  "language_info": {
   "codemirror_mode": {
    "name": "ipython",
    "version": 3
   },
   "file_extension": ".py",
   "mimetype": "text/x-python",
   "name": "python",
   "nbconvert_exporter": "python",
   "pygments_lexer": "ipython3",
   "version": "3.9.7"
  }
 },
 "nbformat": 4,
 "nbformat_minor": 5
}
