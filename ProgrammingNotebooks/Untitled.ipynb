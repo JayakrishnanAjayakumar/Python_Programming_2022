{
 "cells": [
  {
   "cell_type": "code",
   "execution_count": 18,
   "id": "d8d37475-6706-4e8b-902d-c5c12ee8ed89",
   "metadata": {},
   "outputs": [],
   "source": [
    "from glob import glob\n",
    "import imageio\n",
    "files  = glob(r'E:\\simulations\\new1\\*')\n",
    "\n",
    "with imageio.get_writer('E://test2.gif', mode='I',duration = 1.5) as writer:\n",
    "    for filename in files:\n",
    "        image = imageio.imread(filename)\n",
    "        writer.append_data(image)"
   ]
  },
  {
   "cell_type": "code",
   "execution_count": null,
   "id": "1b97c094-e367-461f-a215-d467063afb0d",
   "metadata": {},
   "outputs": [],
   "source": []
  }
 ],
 "metadata": {
  "kernelspec": {
   "display_name": "Python 3 (ipykernel)",
   "language": "python",
   "name": "python3"
  },
  "language_info": {
   "codemirror_mode": {
    "name": "ipython",
    "version": 3
   },
   "file_extension": ".py",
   "mimetype": "text/x-python",
   "name": "python",
   "nbconvert_exporter": "python",
   "pygments_lexer": "ipython3",
   "version": "3.9.7"
  }
 },
 "nbformat": 4,
 "nbformat_minor": 5
}
