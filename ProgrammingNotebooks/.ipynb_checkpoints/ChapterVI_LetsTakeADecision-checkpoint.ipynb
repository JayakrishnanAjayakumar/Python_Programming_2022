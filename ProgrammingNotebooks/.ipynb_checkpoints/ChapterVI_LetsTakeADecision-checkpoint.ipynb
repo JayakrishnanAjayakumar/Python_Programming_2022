{
 "cells": [
  {
   "cell_type": "markdown",
   "id": "0ce4c2cd-1a52-4c55-9ae5-239a5a978f8f",
   "metadata": {},
   "source": [
    "# Conditional Statements"
   ]
  },
  {
   "cell_type": "markdown",
   "id": "076158a8-39c4-47ea-b000-cbe84a911dfe",
   "metadata": {},
   "source": [
    "**We do take decisions every day!!!!!**\n",
    "\n",
    "Some are as simple as taking an umbrella\n",
    "\n",
    "![umbrella](sampleImages/umbrella_decision.jpeg)\n",
    "\n",
    "Or something very complex like switching a job\n",
    "\n",
    "![complexdecision](sampleImages/decision_complex.jpg)\n",
    "\n",
    "We can incorporate such decision logic into programs using **logical operators and conditional statements**. So lets look at how this is possible in Python."
   ]
  },
  {
   "cell_type": "markdown",
   "id": "a9fbe2f0-a3c2-45c5-95d8-e09a58fbc6fc",
   "metadata": {},
   "source": [
    "## Boolean Types"
   ]
  },
  {
   "cell_type": "markdown",
   "id": "163527a6-f430-4955-92fd-9fdbd4682067",
   "metadata": {},
   "source": [
    "**True/False**\n",
    "\n",
    "You can store this boolean value in variables"
   ]
  },
  {
   "cell_type": "code",
   "execution_count": 25,
   "id": "8a63501e-aed7-4508-8834-8661b395b068",
   "metadata": {},
   "outputs": [],
   "source": [
    "isTakingUmbrella = False\n",
    "isDoorOpen = True\n",
    "isVaccinated = True"
   ]
  },
  {
   "cell_type": "markdown",
   "id": "6274fe86-90c8-40e2-bc32-a38aa3a46964",
   "metadata": {},
   "source": [
    "## Comparison Operators"
   ]
  },
  {
   "cell_type": "markdown",
   "id": "e6ee1370-d7c9-4b92-ae37-b132116b8f20",
   "metadata": {},
   "source": [
    "1.  '<'    (less than)\n",
    "2.  '>'    (greater than)\n",
    "3.  '<='   (less than or equal to)\n",
    "4.  '>='   (greater than or equal to)\n",
    "5.  '=='   (equal)\n",
    "6.  '!='   (not equal)\n",
    "\n",
    "**Statements with comparison operators evaluates to boolean values (True/False)**\n",
    "\n",
    "Let's try out some comparison operators"
   ]
  },
  {
   "cell_type": "code",
   "execution_count": 26,
   "id": "c0e1cf3b-973d-43f1-add0-c37da6d7dcc7",
   "metadata": {},
   "outputs": [
    {
     "name": "stdout",
     "output_type": "stream",
     "text": [
      "True\n",
      "False\n",
      "True\n",
      "False\n",
      "True\n",
      "False\n",
      "True\n",
      "True\n",
      "False\n",
      "True\n",
      "False\n",
      "True\n"
     ]
    }
   ],
   "source": [
    "print (4<5)\n",
    "print (5>5)\n",
    "print (5<=5)\n",
    "print (4.99>=5)\n",
    "print (5.0==5)\n",
    "print (4.75==5)\n",
    "print ('jay'>'dexter') #j comes after d and hence greater than d\n",
    "print ('jay'>'Jay') #capital letters occur before small letter\n",
    "print ('jay'=='Jay') #both are not same as case does matter\n",
    "\n",
    "cutoff = 20000\n",
    "salary = 23000\n",
    "isSalaryAboveCutoff = salary>cutoff\n",
    "print (isSalaryAboveCutoff)\n",
    "\n",
    "salarayCap = 25000\n",
    "salaryOfA = 15000\n",
    "salaryOfB = 27000\n",
    "isAEligible = salaryOfA>salarayCap\n",
    "isBEligible = salaryOfB>salarayCap\n",
    "print (isAEligible)\n",
    "print (isBEligible)"
   ]
  },
  {
   "cell_type": "markdown",
   "id": "01e15239-8097-43e0-b4b9-d7b6a18f47e1",
   "metadata": {},
   "source": [
    "## Boolean Operators (and,or,not)"
   ]
  },
  {
   "cell_type": "markdown",
   "id": "c9b13f00-83a5-4c24-84db-c4ec694186b5",
   "metadata": {},
   "source": [
    "**Developing complex conditional expressions**\n",
    "\n",
    "You can start combining conditional expressions using three different boolean operators\n",
    "\n",
    "1. **and** (Both conditions should evaluate to True)\n",
    "2. **or**   (Atleast one condition should evalaute to True)\n",
    "3. **not**  (To invert a conditional expression)\n",
    "\n",
    "Boolean operators become more **intuitive** with **truth tables**\n",
    "\n",
    "Truth table for **and,or**\n",
    "\n",
    "| p | q   |and | or   |\n",
    "|------|------|------|------|\n",
    "|   False  | False|False     | False     |\n",
    "|   False  | True|False     | True     |\n",
    "|   True  | False|False     | True     |\n",
    "|   True  | True|True     | True     |\n",
    "\n",
    "Truth table for **not** \n",
    "\n",
    "| p | not   |\n",
    "|------|------|\n",
    "|   True  | False|\n",
    "|   False  | True|\n",
    "\n",
    "Now let's see how to use **boolean operators in Python**"
   ]
  },
  {
   "cell_type": "code",
   "execution_count": 27,
   "id": "6a547137-d85a-47f7-a6e8-615ff3c61d87",
   "metadata": {},
   "outputs": [
    {
     "name": "stdout",
     "output_type": "stream",
     "text": [
      "False\n",
      "True\n",
      "True\n",
      "False\n",
      "False\n",
      "True\n",
      "False\n",
      "False\n"
     ]
    }
   ],
   "source": [
    "age = 23\n",
    "isEligible = age>5 and age<=18\n",
    "print (isEligible)\n",
    "\n",
    "salary= 54000\n",
    "commisionPercent=.35\n",
    "salaryCap=40000\n",
    "commisionPercentCap=.4 \n",
    "loanEligible = salary>salaryCap or commisionPercent>commisionPercentCap\n",
    "print (loanEligible)\n",
    "\n",
    "doorClose = False\n",
    "isDoorOpen = not doorClose\n",
    "print (isDoorOpen)\n",
    "\n",
    "age = 34\n",
    "isInArmedForces = False\n",
    "isTaxFree = (age<15 and age>60) or isInArmedForces\n",
    "print (isTaxFree)\n",
    "\n",
    "userInput = '10'\n",
    "isInteger = type(userInput) == int\n",
    "isString = type(userInput) == str\n",
    "isFloat = type(userInput) == float\n",
    "isNumber = isFloat or isInteger\n",
    "print (isInteger)\n",
    "print (isString)\n",
    "print (isFloat)\n",
    "print (isNumber)"
   ]
  },
  {
   "cell_type": "markdown",
   "id": "23d52818-e3c4-44bb-b687-19e8844862fd",
   "metadata": {},
   "source": [
    "## Control flow statements"
   ]
  },
  {
   "cell_type": "markdown",
   "id": "c51e9a92-2d44-4f8d-91ed-4925cb17eb33",
   "metadata": {},
   "source": [
    "We have learned about conditional expressions. \n",
    "\n",
    "What *if* we want to **do something based on the evalaution of our conditional expression**.\n",
    "\n",
    "For example if you are salary is above a certain limit/cap/threshold, you are eligible for a credit card (may be you want to print you are eligible for a credit card)\n",
    "\n",
    "Our umbrella example. If the chances of raining is above 60 percent may be there should be a prompt about taking an umbrella with you. \n",
    "\n",
    "This is what **control statements are used for.**\n",
    "\n",
    "![controlstatements](sampleImages/fork_at_road.jpg)"
   ]
  },
  {
   "cell_type": "markdown",
   "id": "e2566af8-fd47-4d25-ab4d-abfe92e756a6",
   "metadata": {},
   "source": [
    "### if statement"
   ]
  },
  {
   "cell_type": "markdown",
   "id": "4b60a78d-8454-4994-b3ff-23a5035ecd62",
   "metadata": {},
   "source": [
    "![if](sampleImages/if.PNG)\n",
    "\n",
    "Let's look at the body of **if** statement\n",
    "\n",
    "```python\n",
    "if <conditional expression>:\n",
    "    <statement 1>\n",
    "    <statement 2>\n",
    "    <statement n>\n",
    "```\n",
    "\n",
    "If the **conditional expression** (as we have seen at the beginning of this lesson) **evaluates to True**, the **body of *if* is executed**. The **body of *if*** is noticeable from the **indentation**. Like functions, the first line of **if** statement ends with a **:** indicating the start of the block.\n",
    "\n",
    "Let's see an example"
   ]
  },
  {
   "cell_type": "code",
   "execution_count": 28,
   "id": "6b93a19d-4536-4c58-b1cc-b89f1befd1ae",
   "metadata": {},
   "outputs": [
    {
     "name": "stdout",
     "output_type": "stream",
     "text": [
      "Yay you are eligible for a credit card\n"
     ]
    }
   ],
   "source": [
    "mySalary = 60000\n",
    "minimumSalary = 25000\n",
    "if mySalary>minimumSalary:\n",
    "    print ('Yay you are eligible for a credit card')"
   ]
  },
  {
   "cell_type": "markdown",
   "id": "6816912b-0cfc-4e0d-930c-7f47704fff92",
   "metadata": {},
   "source": [
    "Another example"
   ]
  },
  {
   "cell_type": "code",
   "execution_count": 29,
   "id": "13072cf9-d09b-42a2-bc60-80890add655a",
   "metadata": {},
   "outputs": [
    {
     "name": "stdout",
     "output_type": "stream",
     "text": [
      "Please take your umbrella with you\n"
     ]
    }
   ],
   "source": [
    "chanceOfRain = 80\n",
    "if chanceOfRain > 60:\n",
    "    print ('Please take your umbrella with you')"
   ]
  },
  {
   "cell_type": "markdown",
   "id": "f4975c6a-b527-4bd2-ab95-61431ef4210c",
   "metadata": {},
   "source": [
    "Another example of **changing the value of a variable based on a condition**"
   ]
  },
  {
   "cell_type": "code",
   "execution_count": 30,
   "id": "8b37fb44-f6ed-49d5-823e-0c09a9b0ea5d",
   "metadata": {},
   "outputs": [
    {
     "name": "stdout",
     "output_type": "stream",
     "text": [
      "Good Morning\n"
     ]
    }
   ],
   "source": [
    "message = ''\n",
    "hourOfDay = 8\n",
    "if hourOfDay>4 and hourOfDay<12:\n",
    "    message='Good Morning'\n",
    "print (message)"
   ]
  },
  {
   "cell_type": "markdown",
   "id": "93b60fe4-6ceb-4ad6-a973-18ee0c910588",
   "metadata": {},
   "source": [
    "### else statement"
   ]
  },
  {
   "cell_type": "markdown",
   "id": "2e09fa2a-e7d2-4aff-8ba5-154a3a6863d0",
   "metadata": {},
   "source": [
    "![else](sampleImages/else.PNG)"
   ]
  },
  {
   "cell_type": "markdown",
   "id": "a0beea24-1fd9-4f01-8426-420af39ba5d0",
   "metadata": {},
   "source": [
    "What if, we want to do **something *else*** if the **conditional expression in *if* satement evaluates to False**. \n",
    "\n",
    "Well we have the ***else* statement**.\n",
    "\n",
    "```python\n",
    "if <conditional expression>:\n",
    "    <statement 1>\n",
    "    <statement 2>\n",
    "    <statement n>\n",
    "else:\n",
    "    <another statement 1>\n",
    "    <another statement 2>\n",
    "    <another statement n>\n",
    "```\n",
    "\n",
    "Let's see **else** in action."
   ]
  },
  {
   "cell_type": "code",
   "execution_count": 1,
   "id": "6961ae23-e2a2-4bfe-8dac-f9f3c30bf6df",
   "metadata": {},
   "outputs": [
    {
     "name": "stdout",
     "output_type": "stream",
     "text": [
      "The minimum salary requirement for this credit card is 25000 $\n"
     ]
    }
   ],
   "source": [
    "mySalary = 24000\n",
    "minimumSalary = 25000\n",
    "if mySalary>minimumSalary:\n",
    "    print ('Yay you are eligible for a credit card')\n",
    "else:\n",
    "    print ('The minimum salary requirement for this credit card is',minimumSalary,'$')"
   ]
  },
  {
   "cell_type": "markdown",
   "id": "043c1734-511a-44a6-a121-e6d061d0aeba",
   "metadata": {},
   "source": [
    "Another example"
   ]
  },
  {
   "cell_type": "code",
   "execution_count": 3,
   "id": "83a75aef-c440-4da3-b46d-d3d4a917e1ab",
   "metadata": {},
   "outputs": [
    {
     "name": "stdout",
     "output_type": "stream",
     "text": [
      "101\n"
     ]
    }
   ],
   "source": [
    "totalToffees = 100\n",
    "isHomeWorkDone = True\n",
    "if isHomeWorkDone:\n",
    "    totalToffees = totalToffees+1\n",
    "else:\n",
    "    totalToffees = totalToffees-1\n",
    "print (totalToffees)"
   ]
  },
  {
   "cell_type": "markdown",
   "id": "c0af8330-28f6-4139-89c9-2994255d4a89",
   "metadata": {},
   "source": [
    "### elif statement"
   ]
  },
  {
   "cell_type": "markdown",
   "id": "4e5b9b05-f7a3-413f-a25f-9c671cd06035",
   "metadata": {},
   "source": [
    "![elif](sampleImages/elif.PNG)"
   ]
  },
  {
   "cell_type": "markdown",
   "id": "56e78a2c-9138-4e16-b422-d151e7013074",
   "metadata": {},
   "source": [
    "So we have seen if and else statements. Now what if we have to **check multiple conditons and execute only the statements that satisfy one of the condition**. \n",
    "\n",
    "We have ***elif* (not else if, which is commonly used in other languages) to handle multiple conditions**. \n",
    "\n",
    "Let's look at the body of elif statements\n",
    "\n",
    "```python\n",
    "if <conditional expression>:\n",
    "    <statement 1>\n",
    "    <statement 2>\n",
    "    <statement n>\n",
    "elif <conditional expression>:\n",
    "    <another statement 1>\n",
    "    <another statement 2>\n",
    "    <another statement n>\n",
    "elif <conditional expression>:\n",
    "    <another statement 1>\n",
    "    <another statement 2>\n",
    "    <another statement n>\n",
    "             -\n",
    "             -\n",
    "             -\n",
    "else \n",
    "    <another statement 1>\n",
    "    <another statement 2>\n",
    "    <another statement n>\n",
    "```\n",
    "\n",
    "At first the conditional expression of the ***if* statement is evaluated**. If the conditional expression **evaluates to True** then the **statements with in the block is executed**. If the conditional expression for ***if* evaluates to False**, the conditional expression for the **next *elif* is evaluated** and if it **evaluates to True** the corresponding **block is executed**. If the **conditional expression evaluates to False**, the next ***elif* statement is evaluated** and so on and so forth. Finally, if **all the conditional expressions evaluate to False**, the statements with in the ***else* block are executed**. The ***else* block is optional**. \n",
    "\n",
    "Lets look an example where the program **takes the current hour of day and name as input from the user** and prints a **welcome message based on hour of day**"
   ]
  },
  {
   "cell_type": "code",
   "execution_count": 4,
   "id": "9a3630e4-c6b7-4e3a-b5b3-2ddcac42a8dd",
   "metadata": {},
   "outputs": [
    {
     "name": "stdin",
     "output_type": "stream",
     "text": [
      "Please enter hour of day (24 hour clock) and press enter: 12\n",
      "Please enter your name and press enter: zjay\n"
     ]
    },
    {
     "name": "stdout",
     "output_type": "stream",
     "text": [
      "Good Afternoon zjay\n"
     ]
    }
   ],
   "source": [
    "message = ''\n",
    "hourOfDay = int (input('Please enter hour of day (24 hour clock) and press enter:'))\n",
    "name = input ('Please enter your name and press enter:')\n",
    "if hourOfDay>4 and hourOfDay<12:\n",
    "    message='Good Morning'\n",
    "elif hourOfDay>=12 and hourOfDay<16:\n",
    "    message='Good Afternoon'\n",
    "elif hourOfDay>=16 and hourOfDay<21:\n",
    "    message='Good Evening'\n",
    "#The else could be replaced by another elif.\n",
    "else:\n",
    "    message='Good Night'\n",
    "print (message,name)"
   ]
  },
  {
   "cell_type": "markdown",
   "id": "d46067cf-3e52-47db-9a59-0ae01bc93c66",
   "metadata": {},
   "source": [
    "### Nested conditional statements"
   ]
  },
  {
   "cell_type": "markdown",
   "id": "1187b1d1-4e3f-4c98-9617-6c3ec4515b78",
   "metadata": {},
   "source": [
    "***if*, *elif*, and *else* can have *if* statements with in them** (infact they can have any valid code blocks with in them including functions, and loops). These are called **nested conditional statements**. \n",
    "\n",
    "Lets look at an example for a nested conditional statement."
   ]
  },
  {
   "cell_type": "code",
   "execution_count": 5,
   "id": "966972d9-8f27-4d4b-9bac-cce684b9592f",
   "metadata": {},
   "outputs": [
    {
     "name": "stdout",
     "output_type": "stream",
     "text": [
      "You have the required GPA, but the minimum Co-curricular score required is 6.5\n"
     ]
    }
   ],
   "source": [
    "myGpa = 3.5\n",
    "myCocurricularGrade = 6\n",
    "gpaCutOff = 3.4\n",
    "coCurricularCutoff = 6.5\n",
    "if myGpa>=gpaCutOff:\n",
    "    if myCocurricularGrade>=coCurricularCutoff:\n",
    "        print ('Congratulations, you are selected for first round of interview')\n",
    "    else:\n",
    "        print ('You have the required GPA, but the minimum Co-curricular score required is',coCurricularCutoff)\n",
    "else:\n",
    "    print ('The minium GPA required is',gpaCutOff,'and the minimum Co-curricular score required is',coCurricularCutoff)"
   ]
  },
  {
   "cell_type": "markdown",
   "id": "666cd2ce-308a-4f00-bd8c-d7835c4c95f6",
   "metadata": {},
   "source": [
    "***if* statements can be included inside functions also**. Let's look at some examples.\n",
    "\n",
    "The following function accepts *timeperiod* in seconds and prints the *frequency* (frequency = 1/ time)"
   ]
  },
  {
   "cell_type": "code",
   "execution_count": 6,
   "id": "fe93d2b6-e5fe-4ee0-8a0d-75729be8e6a9",
   "metadata": {},
   "outputs": [
    {
     "name": "stdout",
     "output_type": "stream",
     "text": [
      "The frequency is 0.05 Hz\n",
      "For zero timeperiod, frequency is undefined\n",
      "Timeperiod should be in numbers\n"
     ]
    }
   ],
   "source": [
    "#lets define a function that accepts time in seconds and prints frequency\n",
    "def timePeriodToFrequency(timeperiodInSeconds):\n",
    "    #check if timeperiodInSeconds is a number\n",
    "    if type(timeperiodInSeconds) == int or type(timeperiodInSeconds) == float:\n",
    "        #if time is zero then frequency is undefined \n",
    "        if timeperiodInSeconds == 0:\n",
    "            print ('For zero timeperiod, frequency is undefined')\n",
    "        else:\n",
    "            frequency = 1/timeperiodInSeconds\n",
    "            print ('The frequency is',frequency,'Hz')\n",
    "    else:\n",
    "        print ('Timeperiod should be in numbers')\n",
    "\n",
    "#lets call this function \n",
    "timePeriodToFrequency(20)\n",
    "timePeriodToFrequency(0)\n",
    "timePeriodToFrequency('15')"
   ]
  },
  {
   "cell_type": "markdown",
   "id": "96a6cc2e-1a62-4e3c-9193-d00f43e13535",
   "metadata": {},
   "source": [
    "Lets look into one more example of finding maximum of two numbers"
   ]
  },
  {
   "cell_type": "code",
   "execution_count": 7,
   "id": "236ea192-5df7-4c04-aad2-b822f57bf5eb",
   "metadata": {},
   "outputs": [
    {
     "name": "stdout",
     "output_type": "stream",
     "text": [
      "10\n",
      "jay\n"
     ]
    }
   ],
   "source": [
    "def maxTwoNumbers(number1,number2):\n",
    "    if number1>number2:\n",
    "        return number1\n",
    "    return number2\n",
    "\n",
    "#lets call this function\n",
    "print (maxTwoNumbers(5,10))\n",
    "\n",
    "#what will happen in this case\n",
    "print (maxTwoNumbers('jay','Jay'))"
   ]
  },
  {
   "cell_type": "code",
   "execution_count": null,
   "id": "7ce1130f-b599-4165-a1c9-14d31e0aa286",
   "metadata": {},
   "outputs": [],
   "source": []
  }
 ],
 "metadata": {
  "kernelspec": {
   "display_name": "Python 3 (ipykernel)",
   "language": "python",
   "name": "python3"
  },
  "language_info": {
   "codemirror_mode": {
    "name": "ipython",
    "version": 3
   },
   "file_extension": ".py",
   "mimetype": "text/x-python",
   "name": "python",
   "nbconvert_exporter": "python",
   "pygments_lexer": "ipython3",
   "version": "3.9.7"
  }
 },
 "nbformat": 4,
 "nbformat_minor": 5
}
