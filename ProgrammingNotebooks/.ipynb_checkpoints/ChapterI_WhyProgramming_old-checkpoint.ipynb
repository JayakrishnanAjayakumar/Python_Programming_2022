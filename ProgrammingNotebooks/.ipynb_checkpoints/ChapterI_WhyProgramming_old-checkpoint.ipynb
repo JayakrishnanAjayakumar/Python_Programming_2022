{
 "cells": [
  {
   "cell_type": "markdown",
   "id": "9f543250",
   "metadata": {},
   "source": [
    "# Why you should learn programming "
   ]
  },
  {
   "cell_type": "markdown",
   "id": "db72c366",
   "metadata": {},
   "source": [
    "## Computers and what are they good/bad at"
   ]
  },
  {
   "cell_type": "markdown",
   "id": "816762f9",
   "metadata": {},
   "source": [
    "Computers can be as **large as 30 tons and covering 1,800 square feet of floor space** (yet painfully slow at 500 FLOPS)\n",
    "\n",
    "![old_computers](sampleImages/old_computers.jpeg)"
   ]
  },
  {
   "cell_type": "markdown",
   "id": "7f8cde47-822c-437c-8665-1383220ddf07",
   "metadata": {},
   "source": [
    "Or it can be as **tiny as a grain of rice**\n",
    "\n",
    "![smallest_computers](sampleImages/smallest_computers.jpg)"
   ]
  },
  {
   "cell_type": "markdown",
   "id": "aea99241-ba05-432a-84d2-30ea258005a9",
   "metadata": {},
   "source": [
    "Or it could be **blazingly fast**, performing a quadrillion mathematical calculations per second.\n",
    "\n",
    "![fastest_computers](sampleImages/fastest_computer.jpg)\n"
   ]
  },
  {
   "cell_type": "markdown",
   "id": "960d20e6-f962-4289-83e4-78b5190b4409",
   "metadata": {},
   "source": [
    "But all of them have something in common!!!!\n",
    "\n",
    "They are **dumb!!!!**\n",
    "\n",
    "![dumb_computers](sampleImages/computers_are_dumb.jpg)\n",
    "\n",
    "\n",
    "![bruce_sterling](sampleImages/computers_being_stupid.jpg)"
   ]
  },
  {
   "cell_type": "code",
   "execution_count": null,
   "id": "8bb9d8d9-427b-4b5f-8d07-c9b8d6253898",
   "metadata": {},
   "outputs": [],
   "source": [
    "We could compare computers to "
   ]
  },
  {
   "cell_type": "markdown",
   "id": "da81a1a8-9e72-42e4-a38d-6e5004cedf80",
   "metadata": {},
   "source": [
    "Heading What are computers?????\n",
    "The largest ----- 30 tons and covering 1,800 square feet of floor space\n",
    "The slowest ------ 500 Flops\n",
    "The smallest ----- .3mm x .3mm\n",
    "The fastest ------ 10^15 Flops\n",
    "\n",
    "But all of them have one thing in common\n",
    "\n",
    "They are dumb!!!!!!!!!!   (2 figures)\n",
    "\n",
    "Computers are like musical instruments\n",
    "\n",
    "An image of a musical instrument\n",
    "\n",
    "Both of them are cleverly crafted and are build to perform (2 images)\n",
    "\n",
    "But............\n",
    "\n",
    "they need to be given a set of instruction to perform something........in a musical instrumnent this might be notes, in computers.......these are instructions..........\n",
    "\n",
    "But being classified as dumb.....doesn't do justice to the computer......\n",
    "\n",
    "They are very good at doing certain things..............\n",
    "\n",
    "Number crunching..or simply perform computation..(image)......performing a quadrillion mathematical operations per second......well this is one of the pillars of what is driving the AI and many other advanced methodlogies (computer simulation)......on our instructions\n",
    "\n",
    "Memory......Can store large volume of raw data (versus information that brain stores) and retrieve them instantaneuosly (this is actually the power of computers......they can retrieve them without loss of any information......facts)...\n",
    "In short they are pretty good at data manipulation based on user instructions......simple example would be a database and database management system software.\n",
    "\n",
    "Doing repetitive tasks \"accurately\"..........computers are masters at this.....doesn't get bored.....no fatigue....no food needed..........can do the same thing again and again and again.....saves time....you can get a taste of the while we study about loops in this class....while accurately generally have a postive connotation......accurately can be defined only based on context.....computers can accurately perfrom cacluations based on a set of instructions....but the instructions have to be correct......\n",
    "\n",
    "What are we good at.........\n",
    "\n",
    "We do have imagination, creativity and analytical reasoning capabilities.......which computers generally lack.......\n",
    "We can use the data stored on computers....manipulate the data using computers to generate information........gather information from multiple sources to generate knowledge ........and finally use that knowledge to act up on something.........or to generate wisdom..........\n",
    "eventhough computers can store large quantity of memory and can retrieve them randomly and efficiently....our brain have the capability to re-program our memory based on our experience and knowledge.....AI is slowly catching up in this area though.......\n",
    "\n",
    "To sum up we do have thinking capability which we can use to not only solve an existing problem, but to come up with multiple solutions, to identify new problems etc....\n",
    "\n",
    "The computer is faster at doing logical things and computations. However, the brain is better at interpreting the outside world and coming up with new ideas. The brain is capable of imagination.\n",
    "\n",
    "But what if our ideas that we have accquired through imagination and creativity requires a lot of time to implement and might involve lot of repetitive tasks.........that's where the combination of human creativity and imagination and computing power meets........and we are seeing the results.......through development in AI, machine learning, Hard Sciences...Mathemeatics.....you name it.......\n",
    "So it should not be human brain vs computaional power.....it should be human brain + computational power....(working as team)........new figure\n",
    "\n",
    "So we do want this collalbration........\n",
    "\n",
    "but how do we convert our creative ideas to something that is computable and something which a comupter can understand?????????Figure.......\n",
    "\n",
    "But we do have some problem........\n",
    "\n",
    "\n",
    "Computers can only understand 0 and 1's......that's their language.......\n",
    "\n",
    "And computers can only perform sequence of simple arithmetic (for eg addition subtraction) and logic (boolean) steps that can transform a given input to a required ouput....But these simple steps can be combined to solve very complex problem..........\n",
    "\n",
    "\n",
    "So we do have to convert our ideas/imagination into a clear yet simple sequence of steps, which can then somehow magically be expressed into a machine language which the computer can understand and act up on.......\n",
    "\n",
    "\n",
    "So what is this magic\n",
    "\n",
    "No price for guessing!!!!!!!\n",
    "\n",
    "\n",
    "A programming language is for thinking about programs, not for expressing programs you've already thought of. It should be a pencil, not a pen."
   ]
  },
  {
   "cell_type": "markdown",
   "id": "05b05f4f-f4ac-4b89-a77e-e4df6dbc3b30",
   "metadata": {},
   "source": [
    "Programming Languages (Figure).....basically acts as a bridge between you and the computer...\n",
    "\n",
    "What is programming language????\n",
    "\n",
    "A programming language is an artificial language that a computer understands. \n",
    "The language is made up of series of statements that fit together to form instructions. \n",
    "These instructions tell a computer what to do. \n",
    "A simple example would be the steps you follow to make a tea....\n",
    "\n",
    "And programming (verb)tells a computer what to do and how to do it with the help of prgramming langauges"
   ]
  },
  {
   "cell_type": "markdown",
   "id": "b8d20bf7-fa65-4c5b-ae8b-3b961b97276f",
   "metadata": {},
   "source": [
    "Why should you learn programming.........\n",
    "\n",
    "I guess the first point should be it would help you to think and imagine...\n",
    "Because writing a program requires us to translate our ideas into a concise form that a computer can “understand,” it also necessarily improves our understanding of the problem itself. (Donald Knuth)\n",
    "....Thinking about how to solve a problem using a computer will help you to think more about the problem itself from various perspectives.....especially you will start thinking about things like how to do something efficiently and quickly.......So teaches you to think and teaches you to think deeply about a problem.......\n",
    "\n",
    "The ability to not only think and imagine, but also implement the idea you have thought about....that's the real power of programming.....and yeah we do have stalwarts around us.........\n",
    "\n",
    "I guess it has to do something with pride too.....seeing your code in action, especially if its able to solve a real world problem is a moment of pride......\n",
    "\n",
    "Reduce blackbox knowledge.....you can really start dissecting claims made by people by analyzing data through programming languages........hey there is global warming......hmmmm I do have data from Nasa about yearly average temperatures....lets read it and plot it using computers and see........and you can confirm that its indeed rising.....\n",
    "\n",
    "You are the true boss of your computer now......programming languages help you to understand more about the computers and you are in charge as you can now write programs to control your computer\n",
    "\n",
    "It saves you a ton of time........as mentioned computers are masters of performing repetitive tasks....this is my personal favorite too......something I always strive for......If you are doing the same calculations again and again with a small change in parameters (mat be its even date), then there is a scope for automation.....and once its done...yuo can really focus your energy on other cool and interesting stuff.....\n",
    "\n",
    "You are just surrounded by technology..be it your fitbit or GPS....all are producing data in real time......so we are no more just consumers......we are also producing our own data......and with programming you can take charge of your data........\n",
    "\n",
    "Finally for the fun of it......(Figure)..........Yeah but sometimes it can be overwhelming......especially when you are chasing .......these (Figure)\n",
    "\n",
    "\n",
    "\n",
    "\n",
    "\n",
    "\n",
    "\n",
    "\n"
   ]
  },
  {
   "cell_type": "markdown",
   "id": "b30efacc-f211-4cd6-b2cc-5beb38bd45ce",
   "metadata": {},
   "source": [
    "Who should learn programming..........\n",
    "Who are these people called programmers?????????\n",
    "The image that comes to your mind is something like this\n",
    "\n",
    "\n",
    "Eventhough they are programmers...mostly using programming task to solve a problem at hand (may be related to a client request)......and they might be doing programming for most part of their office time....\n",
    "\n",
    "But that doesn't mean they are the only ones who should be doing programming....\n",
    "\n",
    "Let's hear what Steve Job's think about who should learn programming\n",
    "\n",
    "from IPython.display import YouTubeVideo\n",
    "\n",
    "YouTubeVideo('BRTOlPdyPYU', width=800, height=300)\n",
    "\n",
    "\n",
    "So the idea is you should start thinking about programming as tool in your tool box (like you have mechanical tools to solve physical problems) to solve computational problem.......so anybody who has an idea which could be somehow represented as a comuptation or computational problem should learn programming and should be able to see their idea in action using programming.........basically programming is for every one\n",
    "\n",
    "\n",
    "Well to show case some inspiring examples\n",
    "\n",
    "If you are a doctor or on your way to become a doctor....\n",
    "then you should learn programming......Healthcare and IT are no more a new buzz word...hey almost all hospitals now have an EHR system...its already well established.....It makes sense to involve practicing clinicians in the development of these solutions. Healthcare IT has already seen examples of tech companies recruiting physicians and surgeons across specialties. These doctors are taught basic coding skills and paired with a corps of formally trained software engineers and product teams to create specialty-specific solutions across medicine. This approach helps to ensure that the design of the software actually saves time and eases the burden of unnecessary documentation for the practicing clinician. It also allows physicians to continually improve upon the platform by using it in our own offices, providing real-time feedback on what we executed well, and identifying product needs.\n",
    "\n",
    "Or you could be a dentist who is interested in analyzing the out come of your patient based on their socio-economic background. Such kind of analysis would require data manipulation using programming. \n",
    "\n",
    "If you are a social scientist......\n",
    "Interested in learning about social networks.....again with data avaialable from Twitter Facebook and other social media sources, this could take you a long way......For eg you might want to understand how public respond during natural disasters using social media.....an interesting work may be on earthquakes.....social media platforms generate large amount of data and you might want to use programming to harness the data\n",
    "\n",
    "Or if you are an epedimiolgist ...you might be interested in understanding the relationship between number of occupied bed in a hospital and risk of infection...such kind of analysis could be facilited by EMR data..but making sense of unstructured EMR data defintely requires programming ....computational epedimology is an ever evolving area....especially with the the challenges we are heading through right now.....there are mathematical and computational models than can be used to understand disease spread, predict potenital outbreaks or even prevent them......again to develop such models or even use them for your research would required some level of programming proficiency......\n",
    "\n",
    "or if you are a historian you might want to store, manage and retrieve large amount of secondary data......well that's what databases are for and if you know programming you can efficienty use database for storage and retreival\n",
    "\n",
    "Or you might be an artist.......well an artists create new art forms...coding is an art..and we can use programming to actually transform our new ideas to reality......the creative part is the similarity here.both of them often start with a sketch.....\n",
    "\n",
    "Or you might be a musician.....Well musicians are very good at visual thinking, which is a key aspect in programming as you should be able to visualize the consequences of your code before even executing it. \n",
    "\n",
    "And if you are working on natural sciences such as Physics, Chemistry, Geoology, and Biological sciences, its now almost imperative that you have some level of competency in programming...This is mainly attributed to the amount of data that is being generated as a part of reasearch. \n",
    "We call it scientific programming.....\n",
    "\n",
    "Physics----- astrophysics.Katie Bouman....finding blackhole......\n",
    "Chemistry-----May be you want to learn about structure of protein...or you might want to simulate a molecular process..\n",
    "Biological Sciences ------You might be a researcher working on interpreting sequenced genomes.....generally there could be billions of points that have to be anylzed for detecting variations....and its important to analyze these variation as it can help in may be identifying a disease......processing this manually is an impossible task and you would defintely need programming to finish this task.....\n",
    "\n",
    "Or you could even be children from the informal settlements in Dharavi India......News article about solving.......\n",
    "\n",
    "So basically programming is for everybody.....its just like reading or writing ......and if you are dealing with any form of data, chances that you will defnitely have benifits with programming.....\n"
   ]
  },
  {
   "cell_type": "markdown",
   "id": "aa6aa127-f76f-40fa-9be9-68ba44cf1729",
   "metadata": {},
   "source": [
    "Is programming Hard???"
   ]
  },
  {
   "cell_type": "markdown",
   "id": "d8eb265e-f3bd-4d64-8014-5dcb9586ae17",
   "metadata": {},
   "source": [
    "Programming might have been hard may two or more decades ago\n",
    "\n",
    "Show an image of a large computer Esdac Electronic Delay Storage Automatic Calculator(1949)\n",
    "\n",
    "Joyce wheeler reaction inside stars University of Cambridge\n",
    "https://www.bbc.com/news/technology-38103893\n",
    "Running all night,,if it crashed.....you didn't have a choice...but to wait for next night....\n",
    "\n",
    "https://knowthecode.io/labs/evolution-of-computing/episode-2\n",
    "\n",
    "Mostly in machine language 1 and 0\n",
    "\n",
    "for writing A = B + C , you might had to write something like this\n",
    "\n",
    "0010 1011 0001\n",
    "\n",
    "0010 1100 0010\n",
    "\n",
    "1010 1101 1011 1100\n",
    "\n",
    "1100 0011 1101\n",
    "\n",
    "That looks cryptic.......\n",
    "\n",
    "\n",
    "Reinventing the wheel was common...... (may be an image).....Code sharing re-using was not common......Absence of gihub.....\n",
    "Suppose you are a researcher and you wrote a fancy sort algorithm to sort a set of numbers in a faster way...may be a million numbers in 1 second.........this could be really ground breaking as sorting is a key pre-cursor to many faster algorithms and have some nice properties.........but without code sharing another researcher might still be working on the sorting that takes may be na hour..................Thanks to github now you can share code and reuse it.....even better you can create modules and share it with people.....\n",
    "\n",
    "Currently we have languages like Python…….which is very close to English…….and is really built for expressing your research problem rather than learning a bunch of hard programming constructs……\n",
    "\n",
    "We are now in a world full of abstractions.......we don't need to see any gory details of how a neural network might work.......especially the calculus and advanced mathematical routines involved.........\n",
    "\n",
    "For eg with 4 to 5 lines of code you could get a classification accuracy of above 98% for identifying mnist digits\n",
    "\n",
    "Basically like any thoer skill like reading or writing which you can get good at by practising .......if you can apply it to the area that you are working on....even better........\n",
    "\n",
    "\n",
    "\n"
   ]
  },
  {
   "cell_type": "markdown",
   "id": "b44441b4-a7b5-4819-a3b4-31d78ae68207",
   "metadata": {},
   "source": [
    "Then why should we learn basics???????? when you have that level of abstraction\n",
    "because data doesn't come to us in this form (image examples).....\n",
    "Preprocessing.....takes a long time.....\n",
    "\n",
    "Code reusability and sharing can be a double edged sword......\n",
    "The modules you are using are developed by human developers and they are not eternal by any means......if the packages has faulty code, you should be able to open it up and should be able to understand what is written........\n",
    "\n",
    "so we should learn the basics.......and they are like lego blocks......with them you coan build complex stuff......."
   ]
  }
 ],
 "metadata": {
  "kernelspec": {
   "display_name": "Python 3 (ipykernel)",
   "language": "python",
   "name": "python3"
  },
  "language_info": {
   "codemirror_mode": {
    "name": "ipython",
    "version": 3
   },
   "file_extension": ".py",
   "mimetype": "text/x-python",
   "name": "python",
   "nbconvert_exporter": "python",
   "pygments_lexer": "ipython3",
   "version": "3.9.7"
  }
 },
 "nbformat": 4,
 "nbformat_minor": 5
}
