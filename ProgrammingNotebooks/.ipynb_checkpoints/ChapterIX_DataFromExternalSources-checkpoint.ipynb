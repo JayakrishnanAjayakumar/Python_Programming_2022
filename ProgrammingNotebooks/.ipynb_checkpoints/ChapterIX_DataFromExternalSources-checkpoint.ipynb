{
 "cells": [
  {
   "cell_type": "markdown",
   "id": "8e57dfeb-f3e6-4ac2-ab08-c49c09dda9f7",
   "metadata": {},
   "source": [
    "# Data from External Sources"
   ]
  },
  {
   "cell_type": "markdown",
   "id": "86e8adfc-8513-437f-b762-743cc8c50814",
   "metadata": {},
   "source": [
    "![external](sampleImages/files.png)"
   ]
  },
  {
   "cell_type": "markdown",
   "id": "28cf3913-10f0-44db-b738-3aab861a7fa9",
   "metadata": {},
   "source": [
    "We have already learned about containers and how to populate and manipulate data with them. \n",
    "\n",
    "The data for most of the examples that we have shown until now were created with in the program (either by populating the containers through loops or by hardcoding). The problem with such programatically generated data are that they are **temporarily stored in RAM (Random-Access-Memory) and are destroyed once the program completes**.\n",
    "\n",
    "**For real-world applications, data is stored permanently in external storage systems and are hence not volatile. We use programming language to read this data from external sources to RAM for performing computation on them.**"
   ]
  },
  {
   "cell_type": "markdown",
   "id": "0df51491-e2e9-4c38-aa4b-6d63f9ace130",
   "metadata": {},
   "source": [
    "## External Data Sources"
   ]
  },
  {
   "cell_type": "markdown",
   "id": "fded1bb5-da22-4491-9a65-b7cc8fb1b307",
   "metadata": {},
   "source": [
    "![externaldatasources](sampleImages/externaldatasources.png)"
   ]
  },
  {
   "cell_type": "markdown",
   "id": "e39ec697-cd1a-41a6-ad82-bbe067403e29",
   "metadata": {},
   "source": [
    "1. Files stored in our computer (local hard drive).\n",
    "2. Files stored in external hard drives.\n",
    "3. Files accessible from remote systems via internet.\n",
    "4. Local and remote database systems.\n",
    "5. Web services (data available over the Web)\n",
    "\n",
    "In this lesson we will look at **reading/writing files from local drives. We will also look at some code samples for retrieving data through web services**."
   ]
  },
  {
   "cell_type": "markdown",
   "id": "d2b8c4c0-eb48-4db0-8d0f-a48574240d1b",
   "metadata": {},
   "source": [
    "## Files"
   ]
  },
  {
   "cell_type": "markdown",
   "id": "add23d5f-6267-4f00-ac16-902a3fa911b1",
   "metadata": {},
   "source": [
    ">Files are basically a **computing resource for recording data in storage device**. Files are classified based on the purpose of their usage. Typical types of computer files include text files, image files, video files, and audio files. \n",
    "\n",
    "![file-types](sampleImages/file-types.png)\n",
    "\n",
    "For this session we will be looking at **three different file types**,\n",
    "\n",
    "1. **Text file (.txt)**\n",
    "2. **Comma Seperated Value (CSV) file (.csv)**\n",
    "3. **JavaScript Object Notation (JSON) file (.json)**"
   ]
  },
  {
   "cell_type": "markdown",
   "id": "758a92ff-4424-4b6b-83c8-acbae92f4753",
   "metadata": {},
   "source": [
    "### Text file"
   ]
  },
  {
   "cell_type": "markdown",
   "id": "e173340b-1fe2-401f-a96e-0ae496104483",
   "metadata": {},
   "source": [
    "A text file generally contains a sequence of lines of electronic text. Open the file *sample_text_file.txt* in data folder and check its contents\n",
    "\n",
    "Reading text file with Python"
   ]
  },
  {
   "cell_type": "code",
   "execution_count": null,
   "id": "c2b7e5cd-498a-4d41-a312-0609df70ba67",
   "metadata": {},
   "outputs": [],
   "source": [
    "sentences = [] #lets initialize an empty list where we will load the sentences. Each line of text will be an element\n",
    "with open('data/sample_text_file.txt','r') as file: #open() accepts file path as string, and file mode ('r' for read)\n",
    "    for line in file: #here file is a file object and we are going to loop through it line by line using for loop\n",
    "        sentences.append(line) #we are saving each line (which is a string) to the list sentences\n",
    "print ('Total number of lines in the file:',len(sentences))\n",
    "print (sentences[0])#print first line\n",
    "print (sentences[-1])#print last line\n",
    "print (sentences[:3])#print first three lines"
   ]
  },
  {
   "cell_type": "markdown",
   "id": "dbf3b84e-a24b-4b22-950f-d91bf7e2b43b",
   "metadata": {},
   "source": [
    "Another way to **read a text file in a single shot (not line by line)**"
   ]
  },
  {
   "cell_type": "code",
   "execution_count": null,
   "id": "da6c9023-1f5e-493c-ad7d-e479aef8f865",
   "metadata": {},
   "outputs": [],
   "source": [
    "sentences = [] #lets initialize an empty list where we will load the sentences. Each line of text will be an element\n",
    "with open('data/sample_text_file.txt','r') as file: #open() accepts file path as string, and file mode ('r' for read)\n",
    "    sentences =file.readlines() #this will read the file in a single shot\n",
    "print ('Total number of lines in the file:',len(sentences))\n",
    "print (sentences[0])#print first line\n",
    "print (sentences[-1])#print last line\n",
    "print (sentences[:3])#print first three lines"
   ]
  },
  {
   "cell_type": "markdown",
   "id": "3c9d9638-98bf-463e-ab4f-dde1e86c9b5f",
   "metadata": {},
   "source": [
    "Writing to a text file with Python\n",
    "\n",
    "You can only write strings to a file. If you need to write other data types you need to first convert it to string\n",
    "\n",
    "**Let's write a simple message to a file**"
   ]
  },
  {
   "cell_type": "code",
   "execution_count": null,
   "id": "ce14bea1-cad6-4382-a561-06ce61f7bc6e",
   "metadata": {},
   "outputs": [],
   "source": [
    "message = 'Python is cool'\n",
    "with open('outputdirectory/simple_message.txt','w'): #note unlike reading we have to use 'w' here\n",
    "    outFile.write(message)"
   ]
  },
  {
   "cell_type": "markdown",
   "id": "d55ea3ec-0743-4212-8999-5c5baa06a6d3",
   "metadata": {},
   "source": [
    "Open simple_message.txt in outputdirectory folder to verify whether the string was written to the file.\n",
    "\n",
    "Now let's write a list of string data to file"
   ]
  },
  {
   "cell_type": "code",
   "execution_count": null,
   "id": "178bffff-db9f-4f57-ad2e-afb6fe9d1f3f",
   "metadata": {},
   "outputs": [],
   "source": [
    "sentences = ['I like to watch football.','I love driving.']\n",
    "#we need to convert list of sentences to a single string seperated by '\\n' (which is new line character)\n",
    "sentenceString = '\\n'.join(sentences) #Now we will have a string 'I like to watch football.\\nI love driving.'\n",
    "with open('outputdirectory/multiple_sentences.txt','w') as file: #note unlike reading we have to use 'w' here\n",
    "    file.write(sentenceString)"
   ]
  },
  {
   "cell_type": "markdown",
   "id": "0cd9dc32-4ac6-48a8-8200-ece6a704e1d5",
   "metadata": {},
   "source": [
    "Now that we have learned to read and write a text file, we will do a relatively complex task of **reading a file and counting the occurences of each word in the file**"
   ]
  },
  {
   "cell_type": "code",
   "execution_count": null,
   "id": "f2aea27b-20c1-4198-b6a5-8492c258d695",
   "metadata": {},
   "outputs": [],
   "source": [
    "wordCounts = {}\n",
    "with open('data/sample_text_file.txt','r') as file: #open() accepts file path as string, and file mode ('r' for read)\n",
    "    for line in file:\n",
    "        words = line.split() #split a sentence by white space to get words. 'I am' will become ['I','am']\n",
    "        for word in words: #now loop through words\n",
    "            if word in wordCounts: # if word already existis in our dictionary update the count\n",
    "                wordCounts[word] = wordCounts[word]+1\n",
    "            else:\n",
    "                wordCounts[word] = 1 #add new word and update its count as 1\n",
    "print (wordCounts)"
   ]
  },
  {
   "cell_type": "markdown",
   "id": "3ee8b9b4-3d96-4372-9d73-ca41445410a5",
   "metadata": {},
   "source": [
    "### Comma Seperated Value (CSV) File"
   ]
  },
  {
   "cell_type": "markdown",
   "id": "cf4d1b2e-97f0-4ed1-bf0f-034e9250c515",
   "metadata": {},
   "source": [
    "CSV files are one of the most commonly used file format for data analysis. **CSV files have a tabular structure and can be opened in Microsoft Excel as a worksheet** (very convenient even for non-programmers). In reality they are **text files with comma used for delimitation**. We have already encountered comma delimited strings in last chapter and how they can be converted into a list using the string method split(','). Open the file us_major_cities.csv and check the content.\n",
    "\n",
    "As a csv file is a text file with text seperated by commas, we can use the same strategy we have adopted for text file reading.\n",
    "\n",
    "Reading a CSV file"
   ]
  },
  {
   "cell_type": "code",
   "execution_count": null,
   "id": "34f657e6-dd8b-4537-b21d-2f0c6c15f2c7",
   "metadata": {},
   "outputs": [],
   "source": [
    "data =[] #we will have a list of list\n",
    "with open('data/us_major_cities.csv','r') as file:\n",
    "    for line in file:\n",
    "        words = line.split(',') #if the sentence is 'Cleveland,Ohio', split will convert to ['Cleveland','Ohio']\n",
    "        data.append(words)\n",
    "print (data[0]) #print first row of record. This will be a list of values\n",
    "print (data[1]) #print second row of record.\n",
    "print ((data[0][-1])) #print last column of first row\n",
    "print ((data[1][-1])) #print last column of second row "
   ]
  },
  {
   "cell_type": "markdown",
   "id": "cae60f51-bad2-4fa9-b0d5-1356cd922b66",
   "metadata": {},
   "source": [
    "Now let's do something more complex. From the us_major_cities.csv file we will find out which city has the highest population. The population is the last column in the csv file. We have to also understand that text from files are read as string in Python. So you might want to convert population to int."
   ]
  },
  {
   "cell_type": "code",
   "execution_count": null,
   "id": "4b2260e8-2ce3-4536-9ec7-74886e890664",
   "metadata": {},
   "outputs": [],
   "source": [
    "data = [] #will be a list of list containing rach rows\n",
    "with open('data/us_major_cities.csv','r') as file:\n",
    "    for line in file:\n",
    "        words = line.split(',')\n",
    "        data.append(words)\n",
    "#Now we have every records in the data list. The first record is the header. So we might want to seperate that.\n",
    "header = data[0] #the header will now hold the header row\n",
    "records = data[1:] #the records will have all rows other than header\n",
    "maxPop = int(records[0][-1]) #we are setting the maxVal as population (last column) of the city in the first row\n",
    "maxIndex = 0 #we also want to know the position of the record so that we can retrieve it later. We set it to first row\n",
    "counter = 0 #a counter to store the position of current row. Gets updated after each iteration\n",
    "for record in records:\n",
    "    population = int(record[-1])#we need to convert string to int\n",
    "    if population>maxPop:\n",
    "        maxPop=population #update maxPop to current population\n",
    "        maxIndex = counter #update maxIndex to current counter value\n",
    "    counter = counter+1\n",
    "print ('Maximum population is',maxPop)\n",
    "print (records[maxIndex]) #use the maxIndex to retrieve the particular record"
   ]
  },
  {
   "cell_type": "markdown",
   "id": "c9a6e38c-138d-4d87-850f-e674137d34ec",
   "metadata": {},
   "source": [
    "### JavaScript Object Notation (JSON) File"
   ]
  },
  {
   "cell_type": "markdown",
   "id": "6289ce4f-c514-465a-a895-26902565da1c",
   "metadata": {},
   "source": [
    "JSON is a text-based format for representing structured data. It is commonly used for transmitting data in web application. Python has a module 'json' to parse json data as well as convert json data to string. Let's look at a sample file, sample.json in data folder. When you inspect sample.json you can see that it closely resembles the dictionary data structure in Python.\n",
    "\n",
    "Reading a JSON file\n",
    "\n",
    "For reading a JSON file we have to read the entire json file as a single string and convert it into a Python container using **loads() method in json module**."
   ]
  },
  {
   "cell_type": "code",
   "execution_count": null,
   "id": "b37f2452-8e1d-4b01-85c5-c115c440f196",
   "metadata": {},
   "outputs": [],
   "source": [
    "import json #this is an in-built package for handling JSON data\n",
    "#we have to read the entire JSON file as a single string (not line by line or not in a list)\n",
    "dataString = '' #this variable will store the JSON data from the JSON file as a string\n",
    "with open('data/sample.json','r') as file:\n",
    "    dataString = file.read() #this will read the entire file to a single string\n",
    "data = json.loads(dataString) #will convert the JSON string to a Python data type\n",
    "print (type(data)) #check the type of data. In this case its a dictionary/dict\n",
    "#Now we can use key based searching and retrieval as well as other dict methods\n",
    "print (data['firstName'])  #retrieve the value for the key 'firstName'\n",
    "print (data['lastName'])  #retrieve the value for the key 'lastName'\n",
    "print (data['address']['city']) #data['address'] value is a dict and the value of 'city' in that dict is 'San Jone' \n",
    "print (data['phoneNumbers'][0]['number'])#data['phoneNumbers'] is a dict of dictionaries "
   ]
  },
  {
   "cell_type": "markdown",
   "id": "9bf47871-7ae0-4e79-bf63-3156d0383462",
   "metadata": {},
   "source": [
    "Writing to a JSON file\n",
    "\n",
    "For writing to a JSON file we need to convert the container which has data to a JSON string using **dumps() method in JSON module.**"
   ]
  },
  {
   "cell_type": "code",
   "execution_count": null,
   "id": "a82abbe8-7bcd-4fb8-b09e-d8da47fd1cba",
   "metadata": {},
   "outputs": [],
   "source": [
    "import json\n",
    "#suppose we have a dictionary \n",
    "fruits = {'Apple':56,'Cherry':44,'Pappaya':33,'Grape':55}\n",
    "fruitsJSONString = json.dumps(fruits) #convert the dict to a JSON string\n",
    "with open('outputdirectory/fruits.json','w') as file:\n",
    "    file.write(fruitsJSONString)"
   ]
  },
  {
   "cell_type": "markdown",
   "id": "b7f1eb55-f373-4a69-a0c4-b86ba563c330",
   "metadata": {},
   "source": [
    "## Data from Web services"
   ]
  },
  {
   "cell_type": "markdown",
   "id": "84e468cf-178f-4ef0-a3ea-94ec9944c50d",
   "metadata": {},
   "source": [
    ">**A web service can be defined as a set of protocols or standards which are used for exchanging data between applications or devices over the internet**. \n",
    "\n",
    "This enables softwares written in completely different languages to interact easily. The data exchange format could be in XML (Extensible Markup Language), or JSON. We will look at an example where we retrieve JSON data from a web service URL. \n",
    "\n",
    "Reading data from web service URL. We will be using an **built-in Python package called *requests*, which supports URL requests**. Our browsers perform such requests when we are moving from one page to another."
   ]
  },
  {
   "cell_type": "code",
   "execution_count": null,
   "id": "a281911a-77c4-45b5-82ce-13e8b673aa9f",
   "metadata": {},
   "outputs": [],
   "source": [
    "import requests #a package for performing http requests\n",
    "url = 'https://randomuser.me/api/'  #this is a url just like https://www.google.com\n",
    "response=requests.get(url) #get the response of calling this url. We can actually see the output through a browser\n",
    "data = response.json() #this will convert the response text to a Python dictionary\n",
    "print (type(data)) #check its data type to confirm\n",
    "print (data['results'][0]['location']['country']) #data['results'] is a list of dictionaries"
   ]
  },
  {
   "cell_type": "markdown",
   "id": "6175f274-e4e7-4ec8-97b4-ed505b38f822",
   "metadata": {},
   "source": [
    "Now lets do a more complex example were we will have a set of 5000 users and we will check the distribution of countries (frequency of occurence)"
   ]
  },
  {
   "cell_type": "code",
   "execution_count": 39,
   "id": "549caeaf-5668-405a-8abf-364ad1186d05",
   "metadata": {},
   "outputs": [
    {
     "name": "stdout",
     "output_type": "stream",
     "text": [
      "{'Switzerland': 324, 'New Zealand': 269, 'Spain': 301, 'Norway': 298, 'United Kingdom': 327, 'Brazil': 310, 'France': 291, 'Finland': 294, 'Netherlands': 298, 'Denmark': 285, 'Germany': 288, 'United States': 278, 'Turkey': 314, 'Australia': 265, 'Iran': 292, 'Ireland': 276, 'Canada': 290}\n"
     ]
    }
   ],
   "source": [
    "import requests #a package for performing http requests\n",
    "url = 'https://randomuser.me/api/?results=5000'  #this is a url just like https://www.google.com\n",
    "response=requests.get(url) #get the response of calling this url. We can actually see the output through a browser\n",
    "data = response.json() #this will convert the response text to a Python dictionary\n",
    "countryCount = {} #for storing the number of occurences of different countries\n",
    "#now we will loop through each of the data['results'] which is a list of dictionaries\n",
    "for result in data['results']:\n",
    "    country = result['location']['country'] #get the country from this result\n",
    "    if country in countryCount: #if country exists then update its count\n",
    "        countryCount[country] = countryCount[country]+1\n",
    "    else:\n",
    "        countryCount[country] = 1 #add new country and set its value to 1\n",
    "print (countryCount)"
   ]
  },
  {
   "cell_type": "markdown",
   "id": "869a390e-a96b-4748-bccb-af497808a19c",
   "metadata": {},
   "source": [
    "**Reading text data from Web services**"
   ]
  },
  {
   "cell_type": "code",
   "execution_count": null,
   "id": "8c955104-13eb-4b82-8fc6-2eae707eb11b",
   "metadata": {},
   "outputs": [],
   "source": [
    "import requests\n",
    "data = requests.get('http://www.gutenberg.org/cache/epub/98/pg98.txt') #get the text data from web\n",
    "textData = data.text #this will store the text data from response\n",
    "print (textData)"
   ]
  }
 ],
 "metadata": {
  "kernelspec": {
   "display_name": "Python 3 (ipykernel)",
   "language": "python",
   "name": "python3"
  },
  "language_info": {
   "codemirror_mode": {
    "name": "ipython",
    "version": 3
   },
   "file_extension": ".py",
   "mimetype": "text/x-python",
   "name": "python",
   "nbconvert_exporter": "python",
   "pygments_lexer": "ipython3",
   "version": "3.9.7"
  }
 },
 "nbformat": 4,
 "nbformat_minor": 5
}
