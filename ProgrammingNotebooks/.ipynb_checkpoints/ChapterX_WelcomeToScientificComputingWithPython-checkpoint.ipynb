{
 "cells": [
  {
   "cell_type": "markdown",
   "id": "d79e550e-de71-44de-88c4-2895d2948e03",
   "metadata": {},
   "source": [
    "# Scientific Computing With Python"
   ]
  },
  {
   "cell_type": "markdown",
   "id": "4b1b6b3b-27f5-4d00-9c32-3a872419a9ff",
   "metadata": {},
   "source": [
    "![scientific_computing](sampleImages/scientific_computing.png)\n",
    "\n",
    ">Scientific Computing is the **collection of tools, techniques, and theories required to solve on a computer mathematical models of problems in Science and Engineering**.\n",
    "\n",
    "Scientific computing draws on **mathematics and computer science** to develop the best way to use computer systems to solve problems from science and engineering.\n",
    "\n",
    "Scientific computing involves **model development and simulations** to understand natural systems. \n",
    "\n",
    "Scientific computing **requires knowledge of the subject of the underlying problem to be solved.**\n",
    "\n",
    "\n",
    "Scientific computing is now regarded as the **Third Pillar of Science**, complementing and adding to **experimentation/observation and theory**.\n",
    "\n",
    "A **computation tells** you what the **consequences of your theory are**, which **facilitates experimentation and observation work** because you can tell **what you are supposed to look for to judge whether your theory is valid**."
   ]
  },
  {
   "cell_type": "code",
   "execution_count": null,
   "id": "331300cf-c4ec-481e-b671-b7eb89b1aa51",
   "metadata": {},
   "outputs": [],
   "source": [
    "%%html\n",
    "<iframe src=\"https://www.washingtonpost.com/graphics/2020/world/corona-simulator/\" width=\"800\" height=\"500\"></iframe>"
   ]
  },
  {
   "cell_type": "code",
   "execution_count": null,
   "id": "5b5597d2-405e-404e-a5fe-aa4b6ed81c30",
   "metadata": {},
   "outputs": [],
   "source": [
    "%%html\n",
    "<iframe src=\"https://www.tacc.utexas.edu/-/supercomputers-create-world-s-most-detailed-simulations-of-tornadoes\" width=\"800\" height=\"500\"></iframe>"
   ]
  },
  {
   "cell_type": "markdown",
   "id": "a01b9f67-0814-4aac-8523-cd76a1af3662",
   "metadata": {},
   "source": [
    "**Two major characteristics associated with Scientific Computation**\n",
    "\n",
    "1. Large Datasets/ Big Data.\n",
    "2. Massive number of computations.\n",
    "\n",
    "**So what do we need for venturing into Scienitific Computation**\n",
    "\n",
    "1. **Efficient form of representing data** (efficient data structures) which can then be **efficiently accessed** for performing computations on.\n",
    "\n",
    "2. **Speed of computation** becomes a key factor, to have an output in reasonable amount of time.\n",
    "\n",
    "3. **High Performance computing resources** (Computer Clusters, GPU, TPU etc).\n",
    "\n",
    "But **who is using scientific computing.**\n",
    "\n",
    "The people using scientific computing in their research are **not always computer scientists**.They include **biologist, chemist, physicist, climatologist, geographers, Doctors, and Engineers**.\n",
    "\n",
    "So rather than getting into complex programming constructs and intricacies researchers should be able to conduct scientific research efficiently with large sets of data (which is typically associated with scientific computing)."
   ]
  },
  {
   "cell_type": "markdown",
   "id": "11809e62-40fe-4dc3-a497-a580cdabac67",
   "metadata": {},
   "source": [
    "## Python for Scientific Computing "
   ]
  },
  {
   "cell_type": "markdown",
   "id": "ecc01613-a059-4a28-b8c6-8368882e4650",
   "metadata": {},
   "source": [
    "![scientific_computing](sampleImages/python_for_scientific_computing.jpg)"
   ]
  },
  {
   "cell_type": "markdown",
   "id": "708bf831-1a38-4b17-9453-6f295d434ff9",
   "metadata": {},
   "source": [
    "1. Easy to develop/code.\n",
    "2. More readability (closer to English)\n",
    "3. Micro management such as memory allocation and destruction are automatically taken care of.\n",
    "\n",
    "But for readability and ease of use , **Python has to pay a heavy price on Speed**.\n",
    "\n",
    "\n",
    "**Languages known for speed**\n",
    "\n",
    "Mostly compiled languages such as \n",
    "\n",
    "1. C ----  very-very close to assembler\n",
    "2. Fortran ---- Again a giant when it comes to scientific computations\n",
    "3. C++ ---- A bit more friendlier than C, but extremely fast.\n",
    "\n",
    "But then you have to deal with **complex programming constructs**. \n",
    "\n",
    "1. Memory allocation\n",
    "2. Garbage collection\n",
    "3. Pointer manipulation\n",
    "\n",
    "Which is not great news for scientists from non-computer science background.\n",
    "\n",
    "**So what’s the solution!**\n",
    "\n",
    "What if a **computer scientist or expert in the area of programming can develop efficient code in compiled languages such as C/C++/Fortran and some how call that from Python**.\n",
    "\n",
    "Now you get **best of both worlds**.\n",
    "\n",
    "You will gain **speedups from the compiled code and at the sametime enjoy the user-friendliness of Python**.\n",
    "\n",
    "And that solution is"
   ]
  },
  {
   "cell_type": "markdown",
   "id": "42436fe2-f6ef-4ef9-85b4-044c91048ce0",
   "metadata": {},
   "source": [
    "**Scientific Libraries in Python**\n",
    "\n",
    "1. **Numpy** : for **efficient and fast numerical analysis**.\n",
    "2. **Scipy** : Build on top of Numpy and supports a **lot of scientific methods**.\n",
    "3. **Matplotlib** : For **plotting and producing high quality publishable diagrams**.\n",
    "4. **Pandas** : For **data wrangling and analysis**. \n",
    "\n",
    "We will be covering Numpy and Pandas in this session."
   ]
  },
  {
   "cell_type": "markdown",
   "id": "bbd57105-a311-4239-afc6-a47549d91908",
   "metadata": {},
   "source": [
    "## Numpy"
   ]
  },
  {
   "cell_type": "markdown",
   "id": "ed9b26f2-3c28-479a-b5cf-372ee75ba26c",
   "metadata": {},
   "source": [
    "![numpy](sampleImages/numpy_array_t.png)"
   ]
  },
  {
   "cell_type": "markdown",
   "id": "4f7d3bbd-15e1-4f58-9c09-370cc997aba8",
   "metadata": {},
   "source": [
    "1. **Numpy** is a **library for working with multi-dimensional arrays** in Python\n",
    "2. Numpy (stands for **numerical python**)"
   ]
  },
  {
   "cell_type": "markdown",
   "id": "ec7e0b1a-0e59-4284-a7e1-055494625242",
   "metadata": {},
   "source": [
    "### But what is an **Array**?"
   ]
  },
  {
   "cell_type": "markdown",
   "id": "babcd24c-8f2f-4baf-925e-ac5641545cd8",
   "metadata": {},
   "source": [
    "We have already learned about lists. \n",
    "\n",
    "Lists can store any type of values. For example a list of strings and ints"
   ]
  },
  {
   "cell_type": "code",
   "execution_count": null,
   "id": "ced19861-3b06-4dd2-bd01-32d9d82fe726",
   "metadata": {},
   "outputs": [],
   "source": [
    "listExample = [1,2,3,4,5,'h','g','i'] #list can store pretty much anything"
   ]
  },
  {
   "cell_type": "markdown",
   "id": "7b04cbdf-180d-4012-a917-d04b4200dd1c",
   "metadata": {},
   "source": [
    "Lists can also store other lists (which is called nested list). \n",
    "\n",
    "Let’s look at an example of creating a list of list.\n",
    "\n",
    "In this example we have a list of list with some student attributes such as id, height, weight, age, and grade (class). \n"
   ]
  },
  {
   "cell_type": "code",
   "execution_count": null,
   "id": "66c567fe-9f20-42fc-951a-0092ad3d206f",
   "metadata": {},
   "outputs": [],
   "source": [
    "students = [[1,176,180,15,10], [2,181,170,17,12],[3,167,176,19,10]] #student details id, height, weight, age, and grade"
   ]
  },
  {
   "cell_type": "markdown",
   "id": "d921c50a-bb4a-4f03-b52c-1a416bfa0f36",
   "metadata": {},
   "source": [
    "Now, how will we access grade for all students. We have to probably **write a loop**."
   ]
  },
  {
   "cell_type": "code",
   "execution_count": null,
   "id": "b338136f-db75-48f6-abb1-81a7fa97440b",
   "metadata": {},
   "outputs": [],
   "source": [
    "grades = []\n",
    "for student in students: #loop through all students\n",
    "    grades.append(student[-1]) #we know that grade is the last value in each list\n",
    "print (grades) # now grades will have grades for all students"
   ]
  },
  {
   "cell_type": "markdown",
   "id": "4d749cde-c011-4c54-9052-e128ab724d10",
   "metadata": {},
   "source": [
    "Now, how will we access id, weight, and height together. Again no price in guessing, **loops**"
   ]
  },
  {
   "cell_type": "code",
   "execution_count": null,
   "id": "71d87fd3-1719-4af5-b345-e92148015d0d",
   "metadata": {},
   "outputs": [],
   "source": [
    "idWeightHeight = []\n",
    "for student in students: #loop through all students\n",
    "    idWeightHeight.append([student[0],student[1],student[2]])#id height and weight\n",
    "print (idWeightHeight) # now we will have a list of list"
   ]
  },
  {
   "cell_type": "markdown",
   "id": "7f17b8b0-353f-4d60-940d-b18d81e13eb9",
   "metadata": {},
   "source": [
    "Now how will we find the maximum height (or minimum height, minimum weight, minimum age). **Loops** of course"
   ]
  },
  {
   "cell_type": "code",
   "execution_count": null,
   "id": "27f6074f-3a41-49b3-8a43-60143819a1e3",
   "metadata": {},
   "outputs": [],
   "source": [
    "maxHeight = -1 # we are assigning a negative value initially\n",
    "for student in students: #loop through all students\n",
    "    if student[1]>maxHeight: # check height of student is greater than maxHeight.\n",
    "        maxHeight =  student[1] #if so replace the maxHeight value to student height\n",
    "print (maxHeight)"
   ]
  },
  {
   "cell_type": "markdown",
   "id": "48861993-4363-431f-8006-97737847986e",
   "metadata": {},
   "source": [
    "How will we add two lists of same length. **Loops** only"
   ]
  },
  {
   "cell_type": "code",
   "execution_count": null,
   "id": "b358e8fe-9f55-40ea-afc1-dd938f46fbda",
   "metadata": {},
   "outputs": [],
   "source": [
    "firstList = [1,2,3,4,5]\n",
    "secondList = [9,8,7,6,5]\n",
    "result = []\n",
    "for index in range(len(firstList)): # we will use index for looping\n",
    "    result.append(firstList[index]+secondList[index]) #get values from both list and add\n",
    "print (result)"
   ]
  },
  {
   "cell_type": "markdown",
   "id": "b9f5949f-6a43-491b-a4c6-715623126901",
   "metadata": {},
   "source": [
    "Select all students who have age greater than 16, **loops with condition**"
   ]
  },
  {
   "cell_type": "code",
   "execution_count": null,
   "id": "b03d23cb-be60-4bcc-be16-27051b859711",
   "metadata": {},
   "outputs": [],
   "source": [
    "matchingRecords = []\n",
    "ageThreshold = 16\n",
    "for student in students: #loop through all students\n",
    "    if student[-2]>ageThreshold: # check age of student is greater than max age.\n",
    "        matchingRecords.append(student)\n",
    "print (matchingRecords)"
   ]
  },
  {
   "cell_type": "markdown",
   "id": "0fc71b5c-60e1-4f60-b715-ed84e7fde58c",
   "metadata": {},
   "source": [
    "The crux is that **many of list operations involve looping**...\n",
    "\n",
    "And **Python loops are terrbily slow** when compared to loops in other compiled languages (C,Fortran,C++)\n",
    "\n",
    "![numpy](sampleImages/slow_loops.jpeg)"
   ]
  },
  {
   "cell_type": "markdown",
   "id": "348bafde-2566-44ef-be05-2915b99271ea",
   "metadata": {},
   "source": [
    "So we need to **borrow faster loops** from other languages yet at the same time maintain the **user-friendliness of Python**\n",
    "\n",
    "This is exactly what **Numpy** does through its rich Array datastructure.\n",
    "\n",
    ">An **array is a collection of similar data elements** stored at **contiguous memory locations**. It is the simplest data structure where **each data element can be accessed directly by only using its index number**.\n",
    "\n",
    "The **key difference with list** is **\"collection of similar data elements\"**. While list can store any elements you want [1,'hi',True,[1,2],{'test':2},{'set'}], arrays can only store similar data elements. \n",
    "\n",
    "While list might be more convenient, the **slowness** due to **heterogenity of elements** outweighs the convenience factor. Array stores only similar data elements which leads to a lot of optimizations (**homogenity is really advantageous** in this case)."
   ]
  },
  {
   "cell_type": "markdown",
   "id": "768e1f5e-2bb8-46be-a908-84e9f4d685bc",
   "metadata": {},
   "source": [
    "### Creating arrays"
   ]
  },
  {
   "cell_type": "markdown",
   "id": "f9dccabf-7596-486f-9829-8fc70e738d6c",
   "metadata": {},
   "source": [
    "#### Creating single dimensional arrays"
   ]
  },
  {
   "cell_type": "markdown",
   "id": "2a8c5e16-5057-4472-afda-0b327239f5c3",
   "metadata": {},
   "source": [
    "![1darray](sampleImages/single_dimensional_array.png)"
   ]
  },
  {
   "cell_type": "markdown",
   "id": "4f5883e2-2c50-48c5-a811-f1ce1e40ebb6",
   "metadata": {},
   "source": [
    "1. **From a list** (np.array())\n",
    "\n",
    "A list can be **directly converted** to an array using the **np.array() method**"
   ]
  },
  {
   "cell_type": "code",
   "execution_count": null,
   "id": "17d9eb2d-3dcb-47c3-9d87-f20d2db786bb",
   "metadata": {},
   "outputs": [],
   "source": [
    "import numpy as np #you have to import numpy to use it\n",
    "aList = [1,2,3,4,5]\n",
    "anArray = np.array(aList) #converts a list to an array\n",
    "print (anArray)\n",
    "print (type(anArray))"
   ]
  },
  {
   "cell_type": "markdown",
   "id": "69705980-3ecf-477a-966c-918204e009a5",
   "metadata": {},
   "source": [
    "2. Using **np.arange()** method\n",
    "\n",
    "np.arange() method is **very similar to range() function**."
   ]
  },
  {
   "cell_type": "code",
   "execution_count": null,
   "id": "6debafd4-95b8-4f31-9a37-de70735a3914",
   "metadata": {},
   "outputs": [],
   "source": [
    "import numpy as np\n",
    "arrayA = np.arange(5) # creates an array [0,1,2,3,4]\n",
    "arrayB = np.arange(1,3) # creates an array [1,2]\n",
    "arrayC = np.arange(1,10,2) # creates an array [1,3,5,7,9]\n",
    "arrayD = np.arange(10,1,-2) # creates an array [10,8,6,4,2]"
   ]
  },
  {
   "cell_type": "markdown",
   "id": "149b2e33-2331-4c34-8e7e-02cc8b65030e",
   "metadata": {},
   "source": [
    "2. Using **np.linspace()** method to create evenly spaced numbers\n",
    "linspace takes argument, start, stop"
   ]
  },
  {
   "cell_type": "code",
   "execution_count": null,
   "id": "89d2209d-1e22-4dfc-9a87-b2bb36bbcebe",
   "metadata": {},
   "outputs": [],
   "source": [
    "arrayE  = np.linspace(0,10,num = 6)  #here start parameter value is 0, and stop parameter value is 10 and num is number of samples\n",
    "# so 6 evenly spaced numbers between 0 and 10\n",
    "\n",
    "arrayF = np.linspace(0,5,num = 3) #three evenly spaced numbers between 0 and 5\n"
   ]
  },
  {
   "cell_type": "markdown",
   "id": "054e2824-75e6-4be2-8b31-c09f47bb83f9",
   "metadata": {},
   "source": [
    "#### Multi dimensional arrays"
   ]
  },
  {
   "cell_type": "markdown",
   "id": "ff3d2571-2dbb-4373-a62a-79ef04784e6a",
   "metadata": {},
   "source": [
    "![2darray](sampleImages/twodimensionalmatrix.png)"
   ]
  },
  {
   "cell_type": "markdown",
   "id": "1b2e1a10-895c-4634-a8b8-eb870b081a1b",
   "metadata": {},
   "source": [
    "1. Converting **lists to two dimensional arrays** using **np.array()**"
   ]
  },
  {
   "cell_type": "code",
   "execution_count": null,
   "id": "a362e682-be99-48ca-b69d-bd365759ac6f",
   "metadata": {},
   "outputs": [],
   "source": [
    "aListOfList = [[0,1],[2,3],[4,5],[5,6],[44,34]]\n",
    "a2dArray = np.array(aListOfList) #convert list of list to an array"
   ]
  },
  {
   "cell_type": "markdown",
   "id": "082d7656-9a2b-45e9-b4a3-1220a04dd8d9",
   "metadata": {},
   "source": [
    "2. Converting a one dimensional array to a two dimensional array using **reshape()**. "
   ]
  },
  {
   "cell_type": "code",
   "execution_count": null,
   "id": "044f8815-1afa-4e03-9ac1-01ed292912de",
   "metadata": {},
   "outputs": [],
   "source": [
    "a1dArray = np.arange(8) #this will create [0,1,2,3,4,5,6,7]\n",
    "a2dArray = a1dArray.reshape((4,2)) #reshapes the 1 d array to a 2d array with 4 rows and 2 columns\n",
    "a3dArray = a1dArray.reshape((2,2,2)) #reshapes the 1 d array to a 3d array\n",
    "print (a2dArray)\n",
    "print ('-----------')\n",
    "print (a3dArray)"
   ]
  },
  {
   "cell_type": "markdown",
   "id": "edb9a720-8bd6-43a2-86cd-3adb77cbb246",
   "metadata": {},
   "source": [
    "#### Some more ways of creating arrays"
   ]
  },
  {
   "cell_type": "markdown",
   "id": "ea95628b-541e-4624-90a6-503ae339b493",
   "metadata": {},
   "source": [
    "1. **np.zeros()** for creating array of zeros "
   ]
  },
  {
   "cell_type": "code",
   "execution_count": null,
   "id": "1cae61fd-ed3a-4e4b-bac3-15e9e0a0821f",
   "metadata": {},
   "outputs": [],
   "source": [
    "array1d = np.zeros(5) #will create an array [0,0,0,0,0]\n",
    "array2d = np.zeros((2,3)) #will create an array with two rows and 3 columns with all elements being zero\n",
    "print (array1d)\n",
    "print (array2d)"
   ]
  },
  {
   "cell_type": "markdown",
   "id": "fee75b5f-f73a-40e3-8c15-79adae71648a",
   "metadata": {},
   "source": [
    "2. **np.ones()** for creating array of ones"
   ]
  },
  {
   "cell_type": "code",
   "execution_count": null,
   "id": "f26694c2-cbad-434f-b010-7ad39d0da36f",
   "metadata": {},
   "outputs": [],
   "source": [
    "array1d = np.ones(5) #will create an array [1,1,1,1,1]\n",
    "array2d = np.ones((2,3)) #2d array of ones\n",
    "print (array1d)\n",
    "print (array2d)"
   ]
  },
  {
   "cell_type": "markdown",
   "id": "c046bb2f-0829-4398-8ca2-fa7758a3b0a6",
   "metadata": {},
   "source": [
    "2. **np.eye()** for creating a two dimensional array with 1's on diagonal (**Identity Matrix**)"
   ]
  },
  {
   "cell_type": "code",
   "execution_count": null,
   "id": "1949622f-39ef-4cb5-9f04-2a0437a1154e",
   "metadata": {},
   "outputs": [],
   "source": [
    "array1 = np.eye(2) #2x2 array with 1 along diagonal\n",
    "print (array1)\n",
    "array2 = np.eye(3) #3x3 array with 1 along diagonal\n",
    "print (array2)"
   ]
  },
  {
   "cell_type": "markdown",
   "id": "11bbee6a-5764-4f81-ad63-597b0a7618e7",
   "metadata": {},
   "source": [
    "3. Create an array of random values using **np.random**"
   ]
  },
  {
   "cell_type": "code",
   "execution_count": null,
   "id": "bf198314-ded8-492f-8ed2-04b217b15001",
   "metadata": {},
   "outputs": [],
   "source": [
    "rand1darray = np.random.rand(4) # create a 1d array of size 4 with random values between 0 and 1\n",
    "rand2darray = np.random.rand(3,2) #random values between 0 and 1 for 3x2 array\n",
    "print (rand2darray)\n",
    "randIntegers = np.random.randint(2, size=10) #10 random integers between 0 and 1\n",
    "print (randIntegers)\n",
    "randIntegers2 = np.random.randint(2,4, size=10) #10 random integers between 2 and 3\n",
    "print (randIntegers2)"
   ]
  },
  {
   "cell_type": "markdown",
   "id": "2fef8842-c8cf-4b4f-9d1c-8abf779c946d",
   "metadata": {},
   "source": [
    "### Array Properties "
   ]
  },
  {
   "cell_type": "markdown",
   "id": "0e7c2cdc-c337-4e61-ba1e-652e8328b99a",
   "metadata": {},
   "source": [
    "1. Get shape of an array using **shape property**."
   ]
  },
  {
   "cell_type": "code",
   "execution_count": null,
   "id": "0ecab1c6-c532-4758-9b4d-2288a416db9a",
   "metadata": {},
   "outputs": [],
   "source": [
    "arrayA= np.asarray([1,2,3,4])\n",
    "print (arrayA.shape)\n",
    "arrayB = np.asarray([[1,2,3],[4,5,6]])\n",
    "print (arrayB.shape)"
   ]
  },
  {
   "cell_type": "markdown",
   "id": "e17c4d0b-2c7f-4240-abe2-8e68c2748d3b",
   "metadata": {},
   "source": [
    "2. Get **data type of array elements** using dtype property"
   ]
  },
  {
   "cell_type": "code",
   "execution_count": null,
   "id": "c9620a7b-5d6d-443f-b6a5-a4456fb9bfd5",
   "metadata": {},
   "outputs": [],
   "source": [
    "arrayA= np.asarray([1,2,3,4])\n",
    "print (arrayA.dtype)\n",
    "arrayB = np.asarray([1.0,2.0,3.0,4.0])\n",
    "print (arrayB.dtype)\n",
    "arrayC = np.arange(10)\n",
    "print (arrayC.dtype)\n",
    "arrayC = np.asarray(['This is string','Another string'])\n",
    "print (arrayC.dtype)"
   ]
  },
  {
   "cell_type": "markdown",
   "id": "d017cb5b-c52c-4b4d-899d-6e710914a9f9",
   "metadata": {},
   "source": [
    "3. The property **size** gives the total number of elements in an array "
   ]
  },
  {
   "cell_type": "code",
   "execution_count": null,
   "id": "56798455-7b7a-4924-98c9-40384bf7d58a",
   "metadata": {},
   "outputs": [],
   "source": [
    "array1d=np.asarray([1,2,3,4])\n",
    "print (array1d.size)  #4\n",
    "array2d=np.asarray([[1,2],[3,4]])\n",
    "print (array2d.size)  #4\n"
   ]
  },
  {
   "cell_type": "markdown",
   "id": "bebdb404-3a20-45bb-8e49-c4e10bb49420",
   "metadata": {},
   "source": [
    "### Operations on Arrays"
   ]
  },
  {
   "cell_type": "code",
   "execution_count": null,
   "id": "f051156c-5c41-40d8-a66c-a3e8591378f5",
   "metadata": {},
   "outputs": [],
   "source": [
    "arrayA = np.arange (5)\n",
    "squareA = arrayA**2 # all elements of array will be squared\n",
    "print (squareA)\n",
    "cubeA = arrayA**3 # all elements will be cubed\n",
    "print (cubeA)\n",
    "arrayC = arrayA/5 # will divide every element by 5\n",
    "print (arrayC)\n",
    "arrayD = 5 * arrayA # will multiply each element by 5 . Also called scaling\n",
    "print (arrayD)\n",
    "arrayE = arrayA+5 # will add each 5 to each element.\n",
    "print (arrayE)\n",
    "#these operations are also possible with higher dimensional arrays\n",
    "arrayF = np.arange(6).reshape(2,3) #an array with 2 rows and 3 columns\n",
    "arrayG = 5 * arrayF #multiple each element by 5\n",
    "print (arrayG)"
   ]
  },
  {
   "cell_type": "markdown",
   "id": "d31ef028-f261-4148-97f7-28555c500d34",
   "metadata": {},
   "source": [
    "![mathoperations](sampleImages/samplemathoperations.png)"
   ]
  },
  {
   "cell_type": "markdown",
   "id": "f1ee7f8a-0d45-4d84-a261-018204540ea3",
   "metadata": {},
   "source": [
    "More **mathematical operations**."
   ]
  },
  {
   "cell_type": "code",
   "execution_count": null,
   "id": "c81ace65-8b55-4b34-bc15-9ff3b7f95549",
   "metadata": {},
   "outputs": [],
   "source": [
    "arrayA = np.array([1,4,9,16,25])\n",
    "arrayB = np.sqrt(arrayA) #square root\n",
    "print (arrayB)\n",
    "arrayC = np.square(arrayB) #square of array\n",
    "print (arrayC)\n",
    "sinArrayA = np.sin(arrayA) #sine of array\n",
    "print (sinArrayA)\n",
    "arrayE = np.array([-1,4,-9,16,25])\n",
    "absArray = np.abs(arrayE)\n",
    "print (absArray)"
   ]
  },
  {
   "cell_type": "markdown",
   "id": "c5cd55ef-6eae-45b4-8f17-2c66586a3513",
   "metadata": {},
   "source": [
    "**Minimum, Maximum and Mean**"
   ]
  },
  {
   "cell_type": "code",
   "execution_count": null,
   "id": "35abcd20-3adc-4755-b17c-b11302e320c1",
   "metadata": {},
   "outputs": [],
   "source": [
    "arrayA = np.array([1,4,9,16,25])\n",
    "arrayMax = np.max(arrayA) #should return 25\n",
    "print (arrayMax)\n",
    "arrayMin = np.min(arrayA) #should return 1\n",
    "print (arrayMin)\n",
    "arrayMean = np.mean(arrayA) #should return mean of all numbers in the array\n",
    "print (arrayMean)\n",
    "# Now we look into two dimensional arrays\n",
    "arrayC = np.array([[1,2,3],[2,5,6]])\n",
    "maxC = np.max(arrayC)  #should return 6\n",
    "print (maxC)\n",
    "maxCAxis0 = np.max(arrayC,axis=0)  #[2,5,6]. Returns sum of every columns\n",
    "print (maxCAxis0)\n",
    "maxCAxis1 = np.max(arrayC,axis=1)  #[3,6]. Returns sum of every columns\n",
    "print (maxCAxis1)\n",
    "meanCAxis0 = np.mean(arrayC,axis=0)  #[1.5 3.5 4.5]. Returns sum of every columns\n",
    "print (meanCAxis0)\n",
    "meanCAxis1 = np.mean(arrayC,axis=1)  #[2.,4.33333333]. Returns sum of every columns\n",
    "print (meanCAxis1)"
   ]
  },
  {
   "cell_type": "markdown",
   "id": "b8c8df7f-65dc-4859-93ba-dd45f489aa2c",
   "metadata": {},
   "source": [
    "![maxArray](sampleImages/maxArray.png)"
   ]
  },
  {
   "cell_type": "markdown",
   "id": "6c8a24b2-50a9-4547-8863-c603ba96dae0",
   "metadata": {},
   "source": [
    "**Transposing Array**\n",
    "\n",
    "**Reverse or permute** the axes of an array.\n",
    "\n",
    "![transpose](sampleImages/transpose.png)"
   ]
  },
  {
   "cell_type": "code",
   "execution_count": null,
   "id": "a7e0df62-7f57-498a-a5aa-30928b404205",
   "metadata": {},
   "outputs": [],
   "source": [
    "rowVector= np. array([[1,2,3,4,5]])\n",
    "columnVector = rowVector.T # T is the property for transposing an arary\n",
    "print (columnVector)"
   ]
  },
  {
   "cell_type": "markdown",
   "id": "fca0abe1-a91b-4a7b-8ce3-13873e513e18",
   "metadata": {},
   "source": [
    "![rowandcolumnvector](sampleImages/rowandcolumnvector.png)"
   ]
  },
  {
   "cell_type": "markdown",
   "id": "c37d9b9c-7400-4bb9-b436-94898a7003a2",
   "metadata": {},
   "source": [
    "### Two Dimensional Array aka Matrix!!!!"
   ]
  },
  {
   "cell_type": "markdown",
   "id": "10a24710-b5b4-49f0-ba5c-68659a725cb3",
   "metadata": {},
   "source": [
    "![matrix](sampleImages/matrix.jpg)"
   ]
  },
  {
   "cell_type": "markdown",
   "id": "cf71b31e-a47e-45e1-a441-a33922d64330",
   "metadata": {},
   "source": [
    "**Heavily used in scientific computing**\n",
    "\n",
    "Matrices can be used to store\n",
    "\n",
    "1. Images (Gray scale with a matrix and 3d Tensor for RGB images)\n",
    "2. Text data (one hot encoding matrix)\n",
    "3. Variables for solving linear equations, as well as features for ML models\n",
    "\n",
    "Let's look at some realworld examples of matrices,\n",
    "\n",
    "1. Number of items sold in a bakery for three different years. Its a **3x4 matrix**\n",
    "\n",
    "![realworldexamplematrix](sampleImages/realworldexamplematrix.png)\n",
    "\n",
    "2. An example of one-hot encoding. Each column indicates a word token and each row indicates a sentence. The value indicates the total count of words in the particular sentence. \n",
    "\n",
    "![onehotencoding](sampleImages/onehotencoding.png)"
   ]
  },
  {
   "cell_type": "markdown",
   "id": "728e230f-07f6-4732-b426-098124580ef6",
   "metadata": {},
   "source": [
    "**Some matrix properties**\n",
    "\n",
    "1. **Trace of a Matrix**. Defined as the **sum of diagonal elements**."
   ]
  },
  {
   "cell_type": "code",
   "execution_count": null,
   "id": "421c1a05-2c73-4c11-b36f-28565f72abd3",
   "metadata": {},
   "outputs": [],
   "source": [
    "arrayA = np.array([[1,2],[2,4]])\n",
    "traceA = np.trace(arrayA) #should return 5 as diagonal elements are 1 and 4\n",
    "print (traceA)"
   ]
  },
  {
   "cell_type": "markdown",
   "id": "87ba6658-f2e0-48ff-bcfb-e567dd8eb6be",
   "metadata": {},
   "source": [
    "2. **Symmetric matrix**\n",
    "\n",
    "Symmetric matrix is a **square matrix whose transpose is same as itself**. We can also notice it by the fact that the **upper diagonal and lower diagonal elements** are the same.\n",
    "\n",
    "$$\n",
    "\\left[\n",
    "\\begin{array}{c c c}\n",
    " 1 & 1 & 0 \\\\\n",
    " 1 & 1 & 0 \\\\\n",
    " 0 & 0 & 1\n",
    "\\end{array}\n",
    "\\right]\n",
    "$$\n",
    "\n",
    "A real world example of a symmetric matrix is a **distance matrix** between places. Suppose there are three places a,b,c and we use a matrix to represent the distance between cities.\n",
    "\n",
    "$$\n",
    "\\begin{array}{c c} \n",
    "& \\begin{array}{c c c} a & b &c \\\\ \\end{array} \\\\\n",
    "\\begin{array}{c c c}a\\\\b\\\\c \\end{array} &\n",
    "\\left[\n",
    "\\begin{array}{c c c}\n",
    " 0 & 10 & 15 \\\\\n",
    "10 & 0 & 20 \\\\\n",
    "15 & 20 & 0\n",
    "\\end{array}\n",
    "\\right]\n",
    "\\end{array}\n",
    "$$\n",
    "\n"
   ]
  },
  {
   "cell_type": "markdown",
   "id": "21f2ba8c-7ad3-40dd-9f74-d6b96e193883",
   "metadata": {},
   "source": [
    "3. **Determinant of a matrix**\n",
    "\n",
    "The **determinant of a matrix is a calculation that involves all the coefficients of the matrix**, and whose output is a **single number**. The determinant (geometrically) is related to the change in area (2D) and volume (3D) due to linear transformation (which matrices are used for).\n",
    "\n",
    "![det_solve](sampleImages/determinants_solve.png)\n",
    "\n",
    "\n",
    "A **geometrical interpretation of determinant**\n",
    "![det_solve](sampleImages/determinantexamples.png)\n"
   ]
  },
  {
   "cell_type": "code",
   "execution_count": null,
   "id": "429ef83a-fa86-4bda-bd1e-67927240f4c5",
   "metadata": {},
   "outputs": [],
   "source": [
    "arrayA = np.array([[1,2],[2,4]]) # a 2x2 matrix\n",
    "detarrayA = np.linalg.det(arrayA)  #should be zero. np.linalg.det is used to calculate determinant\n",
    "print (detarrayA)\n",
    "arrayB = np.array([[1,2,7],[2,2,7],[3,2,5]])\n",
    "detarrayB = np.linalg.det(arrayB)  # a 3x3 matrix\n",
    "print (detarrayB)"
   ]
  },
  {
   "cell_type": "markdown",
   "id": "0f4ba9cf-bdcc-4c6a-8fa6-5e086e040f9a",
   "metadata": {},
   "source": [
    "#### Operations on Multiple Arrays"
   ]
  },
  {
   "cell_type": "markdown",
   "id": "6dcb9b5d-e4a2-4575-835e-67042e22a260",
   "metadata": {},
   "source": [
    "![matrix_op](sampleImages/matrix_operations.png)"
   ]
  },
  {
   "cell_type": "markdown",
   "id": "48856f00-2ca4-44dc-ad5e-325f818c626c",
   "metadata": {},
   "source": [
    "1. **Element wise addition**\n",
    "\n",
    "**Addition is defined only when both the arrays are of same shape**"
   ]
  },
  {
   "cell_type": "code",
   "execution_count": null,
   "id": "e514e9a0-3bf0-431f-ae4d-c0b68421d384",
   "metadata": {},
   "outputs": [],
   "source": [
    "arrayA = np.array([1,2,3,4])\n",
    "arrayB = np.array([10,10,10,10])\n",
    "arrayC = arrayA+arrayB #addition\n",
    "print (arrayC)\n",
    "arrayD = np.array([1,2,3,4,5])\n",
    "arrayE = arrayD+arrayB #this will fail as both arrays are of different shape"
   ]
  },
  {
   "cell_type": "markdown",
   "id": "77c59da2-c27d-4072-9e27-d0a6e36c9180",
   "metadata": {},
   "source": [
    "**Adding two matrices together**"
   ]
  },
  {
   "cell_type": "code",
   "execution_count": null,
   "id": "b081760b-421b-4d94-9cf7-0baf752f2484",
   "metadata": {},
   "outputs": [],
   "source": [
    "arrayA = np.array([1,2,3,4]).reshape((2,2)) # a 2x2 array\n",
    "arrayB = np.array([10,10,10,10]).reshape((2,2)) # a 2x2 array\n",
    "arrayC = arrayA+arrayB #addition\n",
    "print (arrayC)\n",
    "arrayD = np.array([1,2,3,4,5,6]).reshape((2,3))\n",
    "arrayE = arrayD+arrayB #this will fail as 2x2 matrix cannot be added to 2x3 matrix"
   ]
  },
  {
   "cell_type": "markdown",
   "id": "e5785173-7d1a-46ca-8b9f-35620a43caab",
   "metadata": {},
   "source": [
    "**Adding a matrix and vector**\n",
    "\n",
    "A matrix and vector can be added if the **vector can be broadcasted to a matrix** with the same shape as the  other matrix\n",
    "\n",
    "![broadcasting](sampleImages/broadcasting.png)"
   ]
  },
  {
   "cell_type": "code",
   "execution_count": null,
   "id": "498968d9-23e9-4e59-a8e6-31e3e01de265",
   "metadata": {},
   "outputs": [],
   "source": [
    "arrayA = np.array([1,2,3,2,5,6]).reshape((2,3)) # a 2x3 array\n",
    "arrayB = np.array([[4],[2]]) # a 2x1 array\n",
    "arrayC = arrayA+arrayB #addition\n",
    "print (arrayC)\n",
    "arrayD = np.array([[4,2,3]]) # a 1x3 array\n",
    "arrayE = arrayA+arrayD\n",
    "print (arrayE)"
   ]
  },
  {
   "cell_type": "markdown",
   "id": "aa2dc037-de18-4c1e-af4e-a0921de0c268",
   "metadata": {},
   "source": [
    "2. **Element wise subtraction**\n",
    "\n",
    "**Same as addition**\n",
    "\n",
    "3. **Element wise multiplication (Hadamard product)**\n",
    "\n",
    "Not to be confused with **dot product or matrix multiplication**"
   ]
  },
  {
   "cell_type": "code",
   "execution_count": null,
   "id": "964a29de-9c51-495d-abe7-f762e4d311a1",
   "metadata": {},
   "outputs": [],
   "source": [
    "arrayA = np.array([1,2,3])\n",
    "arrayB = np.array([10,10,10])\n",
    "arrayC = arrayA * arrayB\n",
    "arrayD = np.array([1,2,3,4]).reshape((2,2)) #2x2 matrix\n",
    "arrayE = np.array([10,10,10,10]).reshape((2,2)) #2x2 matrix\n",
    "arrayF = arrayD * arrayE\n",
    "print (arrayF)"
   ]
  },
  {
   "cell_type": "markdown",
   "id": "408e43cf-8c93-43b8-b13e-898cbdce8308",
   "metadata": {},
   "source": [
    "3. **Element wise division**\n",
    "\n",
    "**Same as multiplication and addition**"
   ]
  },
  {
   "cell_type": "markdown",
   "id": "581c6547-2c81-4193-ba50-418b9d6ff9c3",
   "metadata": {},
   "source": [
    "4. **Dot Product between vectors (np.dot)**\n",
    "\n",
    "Dot product takes **two vectors of same length and returns a single number**.\n",
    "It is also called **inner product**.\n",
    "\n",
    "![dotproduct](sampleImages/dotproduct.gif)"
   ]
  },
  {
   "cell_type": "code",
   "execution_count": null,
   "id": "47133bd2-b7a5-440d-86b0-90574f1a3cbd",
   "metadata": {},
   "outputs": [],
   "source": [
    "arrayA = np.array([4,2,3])\n",
    "arrayB = np.array([3,2,1])\n",
    "arrayDot = np.dot(arrayA,arrayB) #calculates the dot product\n",
    "print (arrayDot)"
   ]
  },
  {
   "cell_type": "markdown",
   "id": "a9c84812-7be2-49dd-befe-952523c7f567",
   "metadata": {},
   "source": [
    "**Dot product of vectors** also has a **geometrical interpretation** and is used to find whether two vectors are pointing in the same direction (similarity), or orthogonal (not related to each other) to each other or opposite to each other. \n",
    "\n",
    "For two vectors $\\overrightarrow{u}$ and $\\overrightarrow{v}$, the dot product is defined as\n",
    "\n",
    "$$\n",
    "\\overrightarrow{u}.\\overrightarrow{v} = \\lVert u\\rVert  \\lVert v\\rVert \\cos \\theta\n",
    "$$\n",
    "\n",
    "where $\\lVert u\\rVert$ and $\\lVert v\\rVert$ are the euclidean norm of $\\overrightarrow{u}$ and $\\overrightarrow{v}$ respectively and $\\theta$ is the angle between vectors.\n",
    "\n",
    "When $\\theta = 90 ^\\circ$ the vectors are orthogonal to each other (not related), $\\theta = 0 ^\\circ$ the vectors are in same direction and when $\\theta = 180 ^\\circ$ the vectors are in opposite direction.\n",
    "\n",
    "![dotproductgeometry](sampleImages/dotproductgeometry.png)"
   ]
  },
  {
   "cell_type": "markdown",
   "id": "a667a993-adda-4816-9e32-ec689fc1893c",
   "metadata": {},
   "source": [
    "5. **Matrix Vector Multiplication (@)**\n",
    "\n",
    "**Matrix vector multiplication** can be **geometrically** visualized as applying a **linear transformation (matrix) on a vector.**\n",
    "\n",
    "For example, for rotating any vector by $90^\\circ$, we apply a transformation of the form \n",
    "$$\n",
    "\\left[\n",
    "\\begin{array}{c c}\n",
    " 0 & -1  \\\\\n",
    " 1 & 0  \n",
    "\\end{array}\n",
    "\\right]\n",
    "$$\n",
    "\n",
    "ie. we will multiply the rotation matrix with any vector to rotate the vector in space. \n",
    "\n",
    "**Matrix vector multiplication is only defined when number of columns in the matrix is equal to the number of elements in the vector (column vector)**.\n",
    "\n",
    "![mat_vector](sampleImages/mat_vector.gif)\n",
    "\n",
    "Corresponding Geometrical Visualization\n",
    "\n",
    "![rotation](sampleImages/rotation.gif)"
   ]
  },
  {
   "cell_type": "code",
   "execution_count": null,
   "id": "5e0005ff-a1cc-4680-9f45-c2dc167ad954",
   "metadata": {},
   "outputs": [],
   "source": [
    "vectorA = np.array([3,2])\n",
    "rotationMatrix = np.array([[0,-1],[1,0]])\n",
    "arrayDot = rotationMatrix@vectorA #use @ operator for matrix vector multiplication"
   ]
  },
  {
   "cell_type": "markdown",
   "id": "6a5146b4-8420-4fa5-ae48-1512f750e0b4",
   "metadata": {},
   "source": [
    "6. **Matrix Matrix Multiplication (@)**\n",
    "\n",
    "Matrix matrix multiplication is one of the most commonly used binary operations that produces a matrix from two other matrices. \n",
    "\n",
    "Matrix multiplication is **only defined when number of columns in the first matrix is equal to the number of rows in the second matrix**. The output will be a matrix with number of rows as the first matrix and number of columns as second matrix. \n",
    "\n",
    "| A | B | Ouput |\n",
    "| --- | --- | --- |\n",
    "| 2x3 | 3x2| 2x2 |\n",
    "| 2x2 | 2x2| 2x2 |\n",
    "| 4x2 | 2x3| 4x3 |\n",
    "| 4x3 | 4x3| Undefined |\n",
    "| 1x3 | 3x2| 1x2 |\n",
    "\n",
    "Let's see how matrix-matrix multiplication is performed,\n",
    "\n",
    "![matmul](sampleImages/matmul.gif)"
   ]
  },
  {
   "cell_type": "code",
   "execution_count": null,
   "id": "5b1c4f70-e824-47d9-a0ef-8cf576864e84",
   "metadata": {},
   "outputs": [],
   "source": [
    "matrixA = np.array([[0,-1,3],[1,0,2]])\n",
    "matrixB = np.array([[2,3],[4,3],[6,2]])\n",
    "matAB = matrixA@matrixB #matrix multiplication or dot product between to matrices\n",
    "print (matAB)"
   ]
  },
  {
   "cell_type": "markdown",
   "id": "5e38a935-682a-4bdb-bca5-cc7f24e31a0d",
   "metadata": {},
   "source": [
    "#### Retrieving elements from one dimensional and two dimensional arrays using indexing and slicing"
   ]
  },
  {
   "cell_type": "markdown",
   "id": "b1d24388-73fe-4406-98a9-2b4ee37a3c70",
   "metadata": {
    "tags": []
   },
   "source": [
    "##### One dimensional array"
   ]
  },
  {
   "cell_type": "markdown",
   "id": "28c34ad1-eb2c-4e13-8295-40feea10b431",
   "metadata": {},
   "source": [
    "Numpy arrays support **indexing and slicing similar to list**"
   ]
  },
  {
   "cell_type": "markdown",
   "id": "6c1d47b0-a038-4639-8dc1-213d13600287",
   "metadata": {},
   "source": [
    "![numpy_indexing](sampleImages/numpy_indexing.png)\n",
    "\n",
    "Sample code snippet"
   ]
  },
  {
   "cell_type": "code",
   "execution_count": null,
   "id": "966ec15a-731d-4100-a48f-9816eaa473ee",
   "metadata": {},
   "outputs": [],
   "source": [
    "A = np.arange(6) # will create an array [0,1,2,3,4,5]\n",
    "print ('A[0]',A[0])\n",
    "print ('A[-1]',A[-1])\n",
    "print ('A[3]',A[3])\n",
    "print ('A[:2]',A[:2])\n",
    "print ('A[3:]',A[3:])\n",
    "print ('A[2:6]',A[2:6])\n",
    "print ('A[-2:]',A[-2:])\n",
    "print ('A[::2]',A[::2])\n",
    "print ('A[2:6:2]',A[2:6:2])\n",
    "print ('A[::]',A[::])"
   ]
  },
  {
   "cell_type": "markdown",
   "id": "dbf127d2-b640-4710-abe2-152fb9966189",
   "metadata": {},
   "source": [
    "But what makes numpy arrays more **powerful is the ability to select elements based on conditional operators**\n",
    "\n",
    "![logical_numpy](sampleImages/logical_numpy.png)\n",
    "\n",
    "Sample code snippet"
   ]
  },
  {
   "cell_type": "code",
   "execution_count": null,
   "id": "f373d3dc-9094-4625-95b5-f4785b2812c6",
   "metadata": {},
   "outputs": [],
   "source": [
    "A = np.array([11,17,77,53,35,1,25,27])\n",
    "print ('A[A<10]',A[A<10])\n",
    "print ('A[A>50]',A[A>50])\n",
    "print ('A[A<=25]',A[A<=25])\n",
    "print ('A[np.logical_and(A>10,A<50)]',A[np.logical_and(A>10,A<50)])\n",
    "print ('A[np.logical_or(A<10,A>50)]',A[np.logical_or(A<10,A>50)])"
   ]
  },
  {
   "cell_type": "markdown",
   "id": "57207095-8755-43fc-9b16-b63e0cf67481",
   "metadata": {
    "tags": []
   },
   "source": [
    "##### Two dimensional array"
   ]
  },
  {
   "cell_type": "markdown",
   "id": "053bd2a8-b418-437e-bb8b-924169517a8a",
   "metadata": {},
   "source": [
    "![2dindexing](sampleImages/2dindexing.png)\n",
    "\n",
    "Sample code snippet"
   ]
  },
  {
   "cell_type": "code",
   "execution_count": null,
   "id": "8193e617-65e5-4578-999e-5d8ed24e7ac6",
   "metadata": {},
   "outputs": [],
   "source": [
    "A = np.arange(1,26).reshape(5,5)\n",
    "print ('A[0][0]',A[0][0])\n",
    "print ('A[0][4]',A[0][4])\n",
    "print ('A[3][4]',A[3][4])\n",
    "print ('A[4][-1]',A[4][-1])\n",
    "print ('A[-1][0]',A[-1][0])\n",
    "print ('A[0]',A[0])\n",
    "print ('A[-1]',A[-1])\n",
    "print ('A[0:2]',A[0:2])\n",
    "print ('A[:,0]',A[:,0])\n",
    "print ('A[:,-1]',A[:,-1])\n",
    "print ('A[:,-2:]',A[:,-2:])\n",
    "print ('A[0:2,0:2]',A[0:2,0:2])"
   ]
  },
  {
   "cell_type": "markdown",
   "id": "d6b81eee-f54d-4b8f-9e30-d7dadd5f00ce",
   "metadata": {},
   "source": [
    "##### Higher Dimensional Arrays"
   ]
  },
  {
   "cell_type": "markdown",
   "id": "b921cd87-b5a5-4743-9b85-c3bf378965ed",
   "metadata": {},
   "source": [
    "Indexing or slicing higher dimensional arrays are similar to two dimensional or one dimensional array with additional subscripts for the additional number of axes\n",
    "\n",
    "The diagram below shows some examples od 3d array indexing. For this example we will take a color image as our 3d array. Color images have **height, width and channels** (3 for RGB and 4 for RGBA). You can visually imagine color images as three two dimensional arrays stacked on top of each other. In the diagram we are showing the three different channels seperately for convenience. You can imagine them to be stacked on top of each other. \n",
    "\n",
    "![3dindexing](sampleImages/3dindexing.png)\n",
    "\n",
    "Sample code snippet"
   ]
  },
  {
   "cell_type": "code",
   "execution_count": null,
   "id": "8b70a436-af17-40a5-be98-30dd21300c16",
   "metadata": {},
   "outputs": [],
   "source": [
    "A = np.arange(1,28).reshape((3,3,3))\n",
    "A = np.dstack((A[0],A[1],A[2]))\n",
    "print ('A[0][0][0]',A[0][0][0])\n",
    "print ('A[0][1][1]',A[0][1][1])\n",
    "print ('A[0][2][2]',A[0][2][2])\n",
    "print ('A[0,:,0]',A[0,:,0])\n",
    "print ('A[0,0,0:2]',A[0,0,0:2])\n",
    "print ('A[0:2,0:2,:]',A[0:2,0:2,:])\n",
    "print ('A[:,0,:]',A[:,0,:])"
   ]
  },
  {
   "cell_type": "markdown",
   "id": "f707f6a3-f501-45d9-af3f-bb026a5bc018",
   "metadata": {},
   "source": [
    "#### Real world applications of matrices"
   ]
  },
  {
   "cell_type": "markdown",
   "id": "f7085434-065c-4f95-ba83-89dc8b9e75ca",
   "metadata": {},
   "source": [
    "1. **Solving systems of linear equations**\n",
    "\n",
    "$$x+y+z=6\\\\\n",
    "2y+5z=4\\\\\n",
    "2x + 5y − z = 27$$\n",
    "\n",
    "Systems of linear equations are common in engineering, physics, chemistry, computer science, and economics. While many methods are available for solving systems of linear equations (such as substitution), the matrix method for solving is highly optimized for computation based solutions. The above equations can be represented with matrices as\n",
    "\n",
    "$$\n",
    "\\begin{bmatrix} \n",
    "1 & 1 & 1 \\\\ \n",
    "0 & 2 & 5 \\\\ \n",
    "2 & 5 & -1 \n",
    "\\end{bmatrix} \n",
    "\\begin{bmatrix} \n",
    "x  \\\\ \n",
    "y \\\\ \n",
    "z\n",
    "\\end{bmatrix} \n",
    "= \n",
    "\\begin{bmatrix} \n",
    "6 \\\\ \n",
    "4 \\\\ \n",
    "27 \n",
    "\\end{bmatrix}\n",
    "$$\n",
    "\n",
    "\n",
    "If we represent this equation as \n",
    "$Ax = C$\n",
    "\n",
    "Then x can be obtained by \n",
    "\n",
    "$x = A^{-1}C$\n",
    "\n",
    "where $A^{-1}$ is the inverse of matrix A (we will define inverse in next section)\n",
    "\n",
    "$$\n",
    "\\begin{bmatrix} \n",
    "x  \\\\ \n",
    "y \\\\ \n",
    "z\n",
    "\\end{bmatrix} \n",
    "= \n",
    "\\begin{bmatrix} \n",
    "1 & 1 & 1 \\\\ \n",
    "0 & 2 & 5 \\\\ \n",
    "2 & 5 & -1 \n",
    "\\end{bmatrix}^{-1} \n",
    "\\begin{bmatrix} \n",
    "6 \\\\ \n",
    "4 \\\\ \n",
    "27 \n",
    "\\end{bmatrix}\n",
    "$$\n",
    "\n",
    "Let's look at the Python code for solving this equation"
   ]
  },
  {
   "cell_type": "code",
   "execution_count": null,
   "id": "5117343b-298f-42cf-806f-d4a4f05cb423",
   "metadata": {},
   "outputs": [],
   "source": [
    "A = np.array([[1,1,1],[0,2,5],[1,5,1]]) #we could call it coefficient matrix\n",
    "C = np.array([[6],[4],[7]])\n",
    "xyz = np.linalg.inv(A)@C #np.linalg.inv method can be used to get the inverse of a matrix\n",
    "print (xyz)"
   ]
  },
  {
   "cell_type": "markdown",
   "id": "44b2ad13-0542-47af-9f2f-909823179b4a",
   "metadata": {},
   "source": [
    "**Inverse of a matrix**\n",
    "\n",
    "An inverse for a matrix is defined if **determinant of that matrix is not zero** and that **matrix multiplied by its inverse is same as the inverse multiplied by the matrix** and is equal to the **Identity matrix**\n",
    "\n",
    "$A^{-1}$ is only defined if\n",
    "\n",
    "$\\left|A\\right| \\ne 0$ and \n",
    "\n",
    "$A A^{-1} = A^{-1} A = I$  \n",
    "\n",
    "where $I$ is the identity matrix with diagonal elements as 1 and all other elements as 0.\n",
    "\n",
    "In numpy we can use the method np.linalg.inv to find the inverse of a matrix. For example lets take a 2x2 matrix and check whether it has an inverse\n",
    "\n",
    "$$\\begin{bmatrix} \n",
    "4 & 7 \\\\ \n",
    "2 & 6 \\\\  \n",
    "\\end{bmatrix}$$\n"
   ]
  },
  {
   "cell_type": "code",
   "execution_count": null,
   "id": "3e3a90dc-05af-4fb2-82f0-7ae6a8aabcff",
   "metadata": {},
   "outputs": [],
   "source": [
    "A = np.array([[4,7],[2,6]])\n",
    "determinantA = np.linalg.det(A) # for determining the determinant.\n",
    "print ('Determinant of matrix is',determinantA)\n",
    "if determinantA ==0:\n",
    "    print (\"Inverse doesn't as determinent is zero\")\n",
    "else:\n",
    "    inverseA = np.linalg.inv(A) #inverse of A\n",
    "    A_inverseA = A@inverseA # A A(inv)\n",
    "    inverseA_A = inverseA@A # A A(inv)\n",
    "    #check A_inverseA and inverseA_A are equal and check whether A_inverseA equals Identity matrix\n",
    "    if np.allclose(A_inverseA,inverseA_A) and np.allclose(A_inverseA,np.eye(A_inverseA.shape[0],A_inverseA.shape[1])):\n",
    "        print ('Inverse exists and inverse of matrix is',inverseA)\n",
    "    else:\n",
    "        print (\"Inverse doesn't exists\")"
   ]
  },
  {
   "cell_type": "markdown",
   "id": "b79bb973-5df6-4e96-ab01-f9da948281a8",
   "metadata": {},
   "source": [
    "2. Storing input features for data analysis\n",
    "\n",
    "Each row will be a record and each column will be a feature\n",
    "\n",
    "Let's take a small extract of the Iris flower dataset, which is used by data scientists to study about classification problems. \n",
    "\n",
    "| Sepal Length | Sepal Width | Petal Length|Petal width |Class label|\n",
    "| --- | --- | --- | --- | --- |\n",
    "| 5.1 | 3.5| 1.4 |0.2|Iris-setosa\n",
    "| 4.9 | 3| 1.4 |0.2|Iris-setosa\n",
    "| 4.7 | 3.2| 1.3 |0.2|Iris-setosa\n",
    "| 7 | 3.2| 4.7 |1.4|Iris-versicolor\n",
    "| 6.4 | 3.2| 4.5 |1.5|Iris-versicolor\n",
    "| 6.3 | 2.9| 5.6 |1.8|Iris-virginicia\n",
    "| 7.1 | 3| 5.9 |2.1|Iris-virginicia\n",
    "\n",
    "In this dataset Sepal Length, Sepal Width, Petal Length, and Petal Width are the input features and Class label is the output label (which we use for training in this case). We could represent the input features as a matrix\n",
    "\n",
    "$$\n",
    "\\begin{bmatrix} \n",
    "5.1 & 3.5 & 1.4 & 0.2 \\\\ \n",
    "4.9 & 3 & 1.4 & 0.2 \\\\ \n",
    "4.7 & 3.2 & 1.3 & 0.2\\\\\n",
    "7 & 3.2 & 4.7 & 1.4\\\\\n",
    "6.4 & 3.2 & 4.5 & 1.5\\\\\n",
    "6.3 & 2.9 & 5.6 & 1.8\\\\\n",
    "7.1 & 3 & 5.9 & 2.1\n",
    "\\end{bmatrix}\n",
    "$$"
   ]
  },
  {
   "cell_type": "markdown",
   "id": "4f80b6e7-7641-47fe-a0ee-2bcec8852db1",
   "metadata": {},
   "source": [
    "3. Storing grayscale images\n",
    "\n",
    "A grayscale image is an image in which the **value of each pixel is a single sample representing only an amount of light**; that is, **it carries only intensity information**.\n",
    "\n",
    "Let's look at a grayscale image \n",
    "\n",
    "![grayscale](sampleImages/grayscale.jpg)\n"
   ]
  },
  {
   "cell_type": "markdown",
   "id": "a0db8a13-aab7-49dd-91d7-03f37eff1b74",
   "metadata": {},
   "source": [
    "We will utilize **matplotlib library to read this image**."
   ]
  },
  {
   "cell_type": "code",
   "execution_count": null,
   "id": "a991afa8-9227-4a76-b7ab-7d0047834889",
   "metadata": {},
   "outputs": [],
   "source": [
    "import matplotlib.pyplot as plt\n",
    "imageArray = plt.imread('sampleImages/grayscale.jpg') #to read an image into an array"
   ]
  },
  {
   "cell_type": "markdown",
   "id": "12c190b2-1c0a-45a1-b95c-d444d829515b",
   "metadata": {},
   "source": [
    "In this case the image array will be a matrix. Let's check its shape"
   ]
  },
  {
   "cell_type": "code",
   "execution_count": null,
   "id": "827bf476-d2d2-47d9-94af-c2441c14c440",
   "metadata": {},
   "outputs": [],
   "source": [
    "imageArray.shape"
   ]
  },
  {
   "cell_type": "markdown",
   "id": "b68203ed-9165-4359-83d7-d7c6dd7734ee",
   "metadata": {},
   "source": [
    "So it has 1333 rows and 1000 columns. Let's slice off the top 300 rows and then display the image"
   ]
  },
  {
   "cell_type": "code",
   "execution_count": null,
   "id": "49adc77f-2b9b-4e8d-8682-3028a4e4750b",
   "metadata": {},
   "outputs": [],
   "source": [
    "sliceArray = imageArray[500:,:] #500 th row onwards\n",
    "plt.imshow(sliceArray,cmap=plt.get_cmap('gray'))"
   ]
  },
  {
   "cell_type": "markdown",
   "id": "6d257079-498b-4dde-96c8-6a019d950b5e",
   "metadata": {},
   "source": [
    "Let's slice off the first 300 columns and then display the image"
   ]
  },
  {
   "cell_type": "code",
   "execution_count": null,
   "id": "1561add5-52d1-42cc-8125-d12953803bac",
   "metadata": {},
   "outputs": [],
   "source": [
    "sliceArray = imageArray[:,300:] #300 th column onwards\n",
    "plt.imshow(sliceArray,cmap=plt.get_cmap('gray'))"
   ]
  },
  {
   "cell_type": "markdown",
   "id": "b1ac8125-dcb5-40d0-b83d-10cb7e62684a",
   "metadata": {},
   "source": [
    "Let's slice off the first 500 rows and 300 columns and then display the image"
   ]
  },
  {
   "cell_type": "code",
   "execution_count": null,
   "id": "d63781f8-4703-4739-9ee2-928b0aa1b94b",
   "metadata": {},
   "outputs": [],
   "source": [
    "sliceArray = imageArray[500:,300:] #500 th row and 300 th column onwards\n",
    "plt.imshow(sliceArray,cmap=plt.get_cmap('gray'))"
   ]
  },
  {
   "cell_type": "markdown",
   "id": "39ac619a-7f3a-4eca-809a-da274b79223d",
   "metadata": {},
   "source": [
    "As you can see, using basic array slicing we can manipluate our image. "
   ]
  },
  {
   "cell_type": "markdown",
   "id": "283ea86c-7fc1-4bfc-ae2c-1317810134c2",
   "metadata": {},
   "source": [
    "Now lets check the min and max values for this image "
   ]
  },
  {
   "cell_type": "code",
   "execution_count": null,
   "id": "21201fdb-e6d7-4ff3-8af8-a4fe149c0bb4",
   "metadata": {},
   "outputs": [],
   "source": [
    "maxVal = np.max(imageArray)\n",
    "minVal = np.min(imageArray)\n",
    "print (maxVal)\n",
    "print (minVal)"
   ]
  },
  {
   "cell_type": "markdown",
   "id": "34987508-b8f9-45a0-8c85-65f60ce3bb9e",
   "metadata": {},
   "source": [
    "As you can see the maxVal is 255 (white) and minVal is 0 (black).\n",
    "Let's subtract 255 from all values and see ehat happens\n"
   ]
  },
  {
   "cell_type": "code",
   "execution_count": null,
   "id": "87203aff-6509-40b0-adef-865ebff68867",
   "metadata": {},
   "outputs": [],
   "source": [
    "newArray = 255 - imageArray # as easy as that. Will create a new array\n",
    "plt.imshow(newArray,cmap=plt.get_cmap('gray'))"
   ]
  },
  {
   "cell_type": "markdown",
   "id": "b258f6fa-a318-415c-b6bd-80284f089b5d",
   "metadata": {},
   "source": [
    "Wow the colors just go inverted and we have a negative of the image"
   ]
  },
  {
   "cell_type": "markdown",
   "id": "9d3a06b7-d93d-4952-8118-ef8f813582e0",
   "metadata": {},
   "source": [
    "### Higher Dimensional Arrays"
   ]
  },
  {
   "cell_type": "markdown",
   "id": "4c7536d4-76c2-4d69-aac0-855d061c553b",
   "metadata": {},
   "source": [
    "Upto now we have looked at mainly one dimensional arrays (vectors) and two dimensional arrays (Matrix). Let's look at some examples where we can have arrays of dimension greater than 2.\n",
    "\n",
    "1. **Color Images (3d)**\n",
    "\n",
    "Color images have three dimensions with each dimension indicating a color channel (R-Red, G - Green and B - Blue)\n",
    "\n",
    "![rgb image](sampleImages/rgb.jpg)"
   ]
  },
  {
   "cell_type": "markdown",
   "id": "a0cf1f4c-5e5b-474a-bf01-090d921fc956",
   "metadata": {},
   "source": [
    "As this is a three dimensional array there are three axes. The first axis represents the height of the image, the second axis represents the width of image and the third axis represents the total number of channels (in this case 3). You can imagine this as 3 Matrices stacked on top of each other. \n",
    "\n",
    "Let's look at a real example \n",
    "\n",
    "![tigerimage](sampleImages/tiger_new.jpg)\n",
    "\n",
    "Again we will use **matplotlib to read the image**"
   ]
  },
  {
   "cell_type": "code",
   "execution_count": null,
   "id": "3a813c9b-6bc1-4525-a513-0a6208ac21e9",
   "metadata": {},
   "outputs": [],
   "source": [
    "import matplotlib.pyplot as plt\n",
    "imageArray = plt.imread('sampleImages/tiger_new.jpg') #to read an image into an array"
   ]
  },
  {
   "cell_type": "markdown",
   "id": "0387641c-52c7-4277-bc9b-56135a95baed",
   "metadata": {},
   "source": [
    "Lets check the shape of the array"
   ]
  },
  {
   "cell_type": "code",
   "execution_count": null,
   "id": "2551206c-767d-482d-b4c9-9c87263df771",
   "metadata": {},
   "outputs": [],
   "source": [
    "print (imageArray.shape)"
   ]
  },
  {
   "cell_type": "markdown",
   "id": "c3e3ccb5-f3f5-4e37-a4ee-52d2167a8063",
   "metadata": {},
   "source": [
    "So this image has a height of 810p pixels and width of 1080 pixels. There are three channels as expected.\n",
    "\n",
    "Now lets do some slicing\n",
    "\n",
    "Remove first 300 rows of pixels from the image"
   ]
  },
  {
   "cell_type": "code",
   "execution_count": null,
   "id": "81acb57f-0e8b-4ede-b195-e59698edcece",
   "metadata": {},
   "outputs": [],
   "source": [
    "sliceArray = imageArray[300:,:,:] #no we have 3 dimensions so there will be an additional index\n",
    "plt.imshow(sliceArray)"
   ]
  },
  {
   "cell_type": "markdown",
   "id": "ebd0ab46-6e55-4112-aa85-bdb3ac53679a",
   "metadata": {},
   "source": [
    "Remove first 300 columns of pixels from the image"
   ]
  },
  {
   "cell_type": "code",
   "execution_count": null,
   "id": "611a43c7-801e-40e5-8303-2a5677b92e25",
   "metadata": {},
   "outputs": [],
   "source": [
    "sliceArray = imageArray[:,300:,:] #no we have 3 dimensions so there will be an additional index\n",
    "plt.imshow(sliceArray)"
   ]
  },
  {
   "cell_type": "markdown",
   "id": "c099afd8-2fd1-4d5d-bc59-f8f4006cf2f0",
   "metadata": {},
   "source": [
    "2. **Videos and batch of color images (4d)**\n",
    "\n",
    "A batch of images (commonly used for image analysis) can be represented as a four dimensional (4d) array. \n",
    "\n",
    "**These are of the form (totalimages, image height, image width, number of channels)**\n",
    "\n",
    "You can think of it as a stack of RGB images.\n",
    "\n",
    "**Videos can also be represented as a four dimensional array**. Each frame of a video is an RGB image with 3 dimensions and then we have a stack of RGB image to form a video (whan played at a certain frame rate)."
   ]
  },
  {
   "cell_type": "markdown",
   "id": "8262205f-00af-44bb-ae86-1ef5b1cba5c4",
   "metadata": {},
   "source": [
    "## Pandas"
   ]
  },
  {
   "cell_type": "markdown",
   "id": "74811738-b234-4549-a3a0-d768ca8e7389",
   "metadata": {},
   "source": [
    "![pandas_start](sampleImages/pandas_new.jpg)"
   ]
  },
  {
   "cell_type": "markdown",
   "id": "aff8156d-bbb0-47a6-89c8-96eb9769dfb2",
   "metadata": {},
   "source": [
    "So we have learned that Numpy can be used to store, manipulate and analyze numerical data in an efficient way and as far as speed is concerned, they are leaps and bounds ahead of Python containers such as lists.\n",
    "\n",
    "But what Numpy lacks is **user-friendly methods for accessing external data (such as from files or even websites) as well as ready-to-use methods for data aggregation and analysis (grouping, pivoting, plotting)**. While such tasks can be done with Numpy, the **initial learning curve** is a bit higher. \n",
    "\n",
    "**Enter Pandas!!**\n",
    "\n",
    ">**Pandas** is a software library written for the **Python programming language for data manipulation and analysis**. It offers **data structures and operations for manipulating numerical tables and time series**.\n",
    "\n",
    "Let's start with a simple task of reading a CSV file using Pandas"
   ]
  },
  {
   "cell_type": "markdown",
   "id": "a0874cdc-6b40-4c36-bc24-15d3640e9a8a",
   "metadata": {
    "toc-hr-collapsed": true
   },
   "source": [
    "### Reading a CSV file using Pandas"
   ]
  },
  {
   "cell_type": "markdown",
   "id": "bbd6cd1e-3725-403a-8cec-7ea402a6e5d0",
   "metadata": {},
   "source": [
    "In this example we will read a csv file containing data about various cities in USA"
   ]
  },
  {
   "cell_type": "code",
   "execution_count": null,
   "id": "a425f723-0316-4527-9e18-17c784c373ee",
   "metadata": {},
   "outputs": [],
   "source": [
    "import pandas as pd\n",
    "usCityData = pd.read_csv(r'data/us_major_cities.csv') #as simple as that"
   ]
  },
  {
   "cell_type": "markdown",
   "id": "0f9411a2-4d73-46a0-ad19-958f4d0879d2",
   "metadata": {},
   "source": [
    "Now we have data stored in the variable usCityData. Lets check the data type for usCityData"
   ]
  },
  {
   "cell_type": "code",
   "execution_count": null,
   "id": "77f9c979-a351-4d80-a405-ccb7fd4b465a",
   "metadata": {},
   "outputs": [],
   "source": [
    "print (type(usCityData))"
   ]
  },
  {
   "cell_type": "markdown",
   "id": "553c033e-9cb9-43cd-b8e0-b2850828cf0f",
   "metadata": {},
   "source": [
    "So we can see that usCityData is of type **DataFrame**\n",
    "\n",
    ">**DataFrame is a 2-dimensional labeled data structure with columns of potentially different types**."
   ]
  },
  {
   "cell_type": "markdown",
   "id": "1c2c2fd0-7b52-4778-9a97-b28623048fb8",
   "metadata": {},
   "source": [
    "Lets see how DataFrame looks like "
   ]
  },
  {
   "cell_type": "code",
   "execution_count": null,
   "id": "54b3b5d3-1f20-4f4d-a3ce-c5a2bfd37647",
   "metadata": {},
   "outputs": [],
   "source": [
    "usCityData"
   ]
  },
  {
   "cell_type": "markdown",
   "id": "60f14fac-6744-4e03-912f-c897f8657e70",
   "metadata": {},
   "source": [
    "As you could see there are 3886 rows and 11 columns. To just see the **first 5 rows**"
   ]
  },
  {
   "cell_type": "code",
   "execution_count": null,
   "id": "22b45e9a-896f-45a2-9378-4de878da0064",
   "metadata": {},
   "outputs": [],
   "source": [
    "usCityData.head()"
   ]
  },
  {
   "cell_type": "markdown",
   "id": "7fafe36f-c48a-43e6-bb2b-7d3cbcd95b5a",
   "metadata": {},
   "source": [
    "And last **5 rows**"
   ]
  },
  {
   "cell_type": "code",
   "execution_count": null,
   "id": "7b0b74d5-635a-4859-b346-0f22799e4312",
   "metadata": {},
   "outputs": [],
   "source": [
    "usCityData.tail()"
   ]
  },
  {
   "cell_type": "markdown",
   "id": "e31f6116-6b6c-4e0a-8c52-10d25c9156b3",
   "metadata": {},
   "source": [
    "Let's see **all the columns**"
   ]
  },
  {
   "cell_type": "code",
   "execution_count": null,
   "id": "798b886f-f496-4aa1-850d-7ec834925666",
   "metadata": {},
   "outputs": [],
   "source": [
    "usCityData.columns"
   ]
  },
  {
   "cell_type": "markdown",
   "id": "0957cc96-640b-45de-961c-33158845cf18",
   "metadata": {},
   "source": [
    "Let's see how we can access data from **different columns**"
   ]
  },
  {
   "cell_type": "code",
   "execution_count": null,
   "id": "d17d0321-e9a3-4aca-b36d-c548cf529d30",
   "metadata": {},
   "outputs": [],
   "source": [
    "usCityData['NAME'] #the data under 'NAME' column"
   ]
  },
  {
   "cell_type": "code",
   "execution_count": null,
   "id": "5639348d-e0d3-46fe-8809-9e13f52f8264",
   "metadata": {},
   "outputs": [],
   "source": [
    "usCityData['CAPITAL'] #the data under 'CAPITAL' column"
   ]
  },
  {
   "cell_type": "code",
   "execution_count": null,
   "id": "992e038a-08e9-4444-b67d-037f9080091d",
   "metadata": {},
   "outputs": [],
   "source": [
    "usCityData[['NAME','POPULATION']] #the data under 'NAME' and  'POPULATION' column"
   ]
  },
  {
   "cell_type": "code",
   "execution_count": null,
   "id": "42e8eae4-7be2-4641-a8f5-435f7dcdac4b",
   "metadata": {},
   "outputs": [],
   "source": [
    "usCityData[['X','Y','NAME']] #the data under 'X', 'Y' and  'NAME' column"
   ]
  },
  {
   "cell_type": "markdown",
   "id": "7b4257c6-091c-4e8d-bff1-31639fac7632",
   "metadata": {},
   "source": [
    "Now let's check the **data type of different columns**"
   ]
  },
  {
   "cell_type": "code",
   "execution_count": null,
   "id": "164718eb-25c9-4881-a3f2-9c3c2dcd214a",
   "metadata": {},
   "outputs": [],
   "source": [
    "usCityData.dtypes"
   ]
  },
  {
   "cell_type": "markdown",
   "id": "6f96bce7-80d0-4b5b-ac0e-f95decef49d8",
   "metadata": {},
   "source": [
    "**The index for this DataFrame**"
   ]
  },
  {
   "cell_type": "code",
   "execution_count": null,
   "id": "a9137185-baf6-4722-b3a3-cbbe15f264c7",
   "metadata": {},
   "outputs": [],
   "source": [
    "usCityData.index"
   ]
  },
  {
   "cell_type": "markdown",
   "id": "20310389-3503-4511-a7c0-c7924c799ca1",
   "metadata": {},
   "source": [
    "The index for this DataFrame starts at 0 and ends at 3886."
   ]
  },
  {
   "cell_type": "markdown",
   "id": "48a29e99-189f-4a85-8328-b188765b6bbd",
   "metadata": {},
   "source": [
    "Lets **sort this dataframe** ascending using the POPULATION field (**sort_values()**)"
   ]
  },
  {
   "cell_type": "code",
   "execution_count": null,
   "id": "d3d7e8a4-f2c6-44e7-8cff-bc4a74733ac9",
   "metadata": {},
   "outputs": [],
   "source": [
    "usCityData.sort_values(by=\"POPULATION\")"
   ]
  },
  {
   "cell_type": "markdown",
   "id": "58f7199f-59a2-44f5-b13b-f2277147fdef",
   "metadata": {},
   "source": [
    "As we can see the dataframe is sorted by population in ascending order. Now we will **sort the dataframe by population in descending order**. We will display only the city name and population"
   ]
  },
  {
   "cell_type": "code",
   "execution_count": null,
   "id": "ffa71564-b255-484e-a511-168306650b2c",
   "metadata": {},
   "outputs": [],
   "source": [
    "sortedFrame = usCityData.sort_values(by=\"POPULATION\",ascending=False) #ascending is set to False, the result also is a dataframe\n",
    "sortedFrame[['NAME','POPULATION']] #we want to only display name and population"
   ]
  },
  {
   "cell_type": "markdown",
   "id": "fb3bcabe-3724-453e-9cd7-7fbeb99c0ce8",
   "metadata": {},
   "source": [
    "### Reading a CSV file from url."
   ]
  },
  {
   "cell_type": "markdown",
   "id": "56fbea08-51ed-44c2-bc0f-de723236b456",
   "metadata": {},
   "source": [
    "Its easy to read a csv file hosted on a server. Let's look at an example"
   ]
  },
  {
   "cell_type": "code",
   "execution_count": null,
   "id": "9a29221a-a0ef-4bdc-a1a9-190a0d6169ac",
   "metadata": {},
   "outputs": [],
   "source": [
    "import pandas as pd\n",
    "populationData = pd.read_csv('https://population.un.org/wpp/Download/Files/1_Indicators%20(Standard)/CSV_FILES/WPP2019_TotalPopulationBySex.csv ')\n",
    "print (populationData)"
   ]
  },
  {
   "cell_type": "markdown",
   "id": "d844a3ef-99fe-40c6-b469-5aede44f9bdd",
   "metadata": {
    "toc-hr-collapsed": true
   },
   "source": [
    "### Creating a DataFrame from scratch"
   ]
  },
  {
   "cell_type": "markdown",
   "id": "74a7d8c0-78a4-48b3-bfab-bba76599d3ae",
   "metadata": {},
   "source": [
    "You can create dataframes from **lists/arrays as well as dictionaries** using the DataFrame constructor. \n",
    "\n",
    "Lets create a dataframe from a list/array and then a list of list/multidimensional"
   ]
  },
  {
   "cell_type": "markdown",
   "id": "f845a9e5-b474-4667-85aa-b49fa2bfbe12",
   "metadata": {},
   "source": [
    "**From a list**"
   ]
  },
  {
   "cell_type": "code",
   "execution_count": null,
   "id": "6db6a7e3-56bb-47bb-8798-6eafc532f4ad",
   "metadata": {},
   "outputs": [],
   "source": [
    "ages = [1,2,3,4,5,6]\n",
    "dataFrame = pd.DataFrame(ages,columns=['age']) #will create a dataframe with column age having 6 values\n",
    "dataFrame"
   ]
  },
  {
   "cell_type": "markdown",
   "id": "a3384241-7368-437e-bd06-8ab0c7cd553a",
   "metadata": {},
   "source": [
    "**From a list of list**"
   ]
  },
  {
   "cell_type": "code",
   "execution_count": null,
   "id": "6050f324-ff36-4d9e-a5e6-5dad18dc3930",
   "metadata": {},
   "outputs": [],
   "source": [
    "data = [['1','Jake',173,165],['2','Ann',162,145],[3,'Matt',180,185]]\n",
    "studentFrame = pd.DataFrame(data,columns=['id','name','height','weight'])\n",
    "studentFrame"
   ]
  },
  {
   "cell_type": "markdown",
   "id": "de387131-8e2a-4444-aa96-c1ebb92814f8",
   "metadata": {},
   "source": [
    "**From a matrix**"
   ]
  },
  {
   "cell_type": "code",
   "execution_count": null,
   "id": "15143f3d-5a22-416b-bcd6-c05417ca9be7",
   "metadata": {},
   "outputs": [],
   "source": [
    "import numpy as np\n",
    "data = np.arange(25).reshape(5,5) # 5x5 matrix\n",
    "matrixDataFrame = pd.DataFrame(data,columns = ['a','b','c','d','e'])\n",
    "matrixDataFrame"
   ]
  },
  {
   "cell_type": "markdown",
   "id": "18286e0a-7004-4a4b-8412-84e198e93707",
   "metadata": {},
   "source": [
    "Creating a dataframe from a dictionary"
   ]
  },
  {
   "cell_type": "code",
   "execution_count": null,
   "id": "290aa721-5cfa-430a-89e5-0af9be24475e",
   "metadata": {},
   "outputs": [],
   "source": [
    "data = {'animal':['Tiger','Lion','Elephant','Zebra','Jaguar'],'Type':['Carnivore','Carnivore','Herbivore','Herbivore','Carnivore']}\n",
    "animalFrame = pd.DataFrame(data) #no need of columns as the dictionary keys will be used as columns"
   ]
  },
  {
   "cell_type": "code",
   "execution_count": null,
   "id": "a26adf42-afa4-48fc-af9b-22e27f0b0c66",
   "metadata": {},
   "outputs": [],
   "source": [
    "animalFrame"
   ]
  },
  {
   "cell_type": "markdown",
   "id": "6c2797b4-d848-4fbe-a16c-451370651640",
   "metadata": {},
   "source": [
    "### Selecting and indexing DataFrames"
   ]
  },
  {
   "cell_type": "markdown",
   "id": "a67c0578-6e7e-4bce-ba9a-8ba697dd7327",
   "metadata": {},
   "source": [
    "An important rule with selection is that the result of a selection will be a dataframe if the selection results in multiple columns or will be a series (if there is only one column)."
   ]
  },
  {
   "cell_type": "markdown",
   "id": "2deade9c-dff6-4626-a456-8792da3b89d0",
   "metadata": {},
   "source": [
    "For this section we will be using some more datasets\n",
    "\n",
    "1. Daily covid summary data from ODH. (https://coronavirus.ohio.gov/wps/portal/gov/covid-19/dashboards/key-metrics/cases-by-zipcode) "
   ]
  },
  {
   "cell_type": "code",
   "execution_count": null,
   "id": "795c6000-ff2e-44fe-b647-9872497b1c14",
   "metadata": {},
   "outputs": [],
   "source": [
    "covidSummaryDataZip = pd.read_csv(r'data/COVIDSummaryDataZIP.csv')"
   ]
  },
  {
   "cell_type": "code",
   "execution_count": null,
   "id": "740a743c-73c3-4aa5-9725-778b8da1e3a3",
   "metadata": {},
   "outputs": [],
   "source": [
    "covidSummaryDataZip"
   ]
  },
  {
   "cell_type": "markdown",
   "id": "dc43198e-51b0-4726-97b4-f582f2cf7334",
   "metadata": {},
   "source": [
    "2. Vaccine data from ODH (https://coronavirus.ohio.gov/wps/portal/gov/covid-19/dashboards/covid-19-vaccine/covid-19-vaccination-dashboard)"
   ]
  },
  {
   "cell_type": "code",
   "execution_count": null,
   "id": "c8133f5e-ef03-43a0-8190-9311c1cdb12a",
   "metadata": {},
   "outputs": [],
   "source": [
    "vaccineData = pd.read_csv(r'data/vaccine_data.csv')"
   ]
  },
  {
   "cell_type": "code",
   "execution_count": null,
   "id": "f365dd73-3107-434d-a99f-bba692b696df",
   "metadata": {},
   "outputs": [],
   "source": [
    "vaccineData"
   ]
  },
  {
   "cell_type": "markdown",
   "id": "60dd1cbd-258d-4948-ab98-6c4ac5687afd",
   "metadata": {},
   "source": [
    "3. Average temperature of earth for every year from 1880 (from Nasa)"
   ]
  },
  {
   "cell_type": "code",
   "execution_count": null,
   "id": "8fdc130e-0fa8-4756-90ef-226e30cab8fb",
   "metadata": {},
   "outputs": [],
   "source": [
    "averageTemperatureData = pd.read_csv(r'data/globalwarming.csv')"
   ]
  },
  {
   "cell_type": "code",
   "execution_count": null,
   "id": "ccac7a7c-76a4-4b65-b701-bfebcc436950",
   "metadata": {},
   "outputs": [],
   "source": [
    "averageTemperatureData"
   ]
  },
  {
   "cell_type": "markdown",
   "id": "c37860e3-c26b-44a3-b5a3-4879fbfba52a",
   "metadata": {},
   "source": [
    "4. Ice mass data from the poles (Nasa) "
   ]
  },
  {
   "cell_type": "code",
   "execution_count": null,
   "id": "c5a2ccd7-4bc1-47a0-9560-86d0c5aac9a9",
   "metadata": {},
   "outputs": [],
   "source": [
    "iceMassData = pd.read_csv(r'data/ice_mass.csv')"
   ]
  },
  {
   "cell_type": "code",
   "execution_count": null,
   "id": "e96aca77-8ea8-4c2b-b41a-c8bc6ba9ceee",
   "metadata": {},
   "outputs": [],
   "source": [
    "iceMassData"
   ]
  },
  {
   "cell_type": "markdown",
   "id": "0570fe7e-01c4-4183-bd18-aaf654169996",
   "metadata": {},
   "source": [
    "#### Selection by labels"
   ]
  },
  {
   "cell_type": "markdown",
   "id": "b31ceec3-fbdc-42e3-ba15-57bef10b95ae",
   "metadata": {},
   "source": [
    "We have already seen selection by label\n",
    "\n",
    "Selecting 'Zip Code' 'Population' and 'Case Count - Cumulative' from ohio covid cases data.\n",
    "\n",
    "Lets see a snippet of covid cases data."
   ]
  },
  {
   "cell_type": "code",
   "execution_count": null,
   "id": "81b693e5-c8b1-41ed-839f-2ef70110ceb0",
   "metadata": {},
   "outputs": [],
   "source": [
    "covidSummaryDataZip.head()"
   ]
  },
  {
   "cell_type": "markdown",
   "id": "400080a8-7551-479b-92ef-3465ad9800ec",
   "metadata": {},
   "source": [
    "And the columns"
   ]
  },
  {
   "cell_type": "code",
   "execution_count": null,
   "id": "68192a84-ba51-4e26-8440-add636fe3b84",
   "metadata": {},
   "outputs": [],
   "source": [
    "covidSummaryDataZip.columns"
   ]
  },
  {
   "cell_type": "code",
   "execution_count": null,
   "id": "83823b0f-d3f4-4c9c-b27f-5401078584a4",
   "metadata": {},
   "outputs": [],
   "source": [
    "covidSummaryDataZip[['Zip Code','Population','Case Count - Cumulative']] #this will throw an error as we have an additional space after 'Zip Code '"
   ]
  },
  {
   "cell_type": "code",
   "execution_count": null,
   "id": "c3531b21-e923-4dd6-b00f-cdee03d10d40",
   "metadata": {},
   "outputs": [],
   "source": [
    "covidSummaryDataZip[['Zip Code ','Population','Case Count - Cumulative']]"
   ]
  },
  {
   "cell_type": "markdown",
   "id": "63e60dab-4a66-49c7-8706-32861f9cfc97",
   "metadata": {},
   "source": [
    "##### Using .loc for selection based on labelling"
   ]
  },
  {
   "cell_type": "markdown",
   "id": "f7ba6b63-9cb0-4ab3-99b5-a99a8b36dd00",
   "metadata": {},
   "source": [
    "Select first 100 rows of the covid case data"
   ]
  },
  {
   "cell_type": "code",
   "execution_count": null,
   "id": "7db4167a-b15a-4867-ac39-beb41be3ef83",
   "metadata": {},
   "outputs": [],
   "source": [
    "covidSummaryDataZip.loc[0:100] #here 0 to 100 refers to the index"
   ]
  },
  {
   "cell_type": "markdown",
   "id": "8ccc8fb4-b10b-4d75-a801-524e19a6bcd1",
   "metadata": {},
   "source": [
    "Select last 100 rows"
   ]
  },
  {
   "cell_type": "code",
   "execution_count": null,
   "id": "f2a68fe5-fa3c-4261-bcc5-00216b8d08c1",
   "metadata": {},
   "outputs": [],
   "source": [
    "covidSummaryDataZip.loc[-100:] #here 100 refers to the index"
   ]
  },
  {
   "cell_type": "markdown",
   "id": "fea9ac54-a731-4456-8463-30087b346135",
   "metadata": {},
   "source": [
    "Select every 5th row"
   ]
  },
  {
   "cell_type": "code",
   "execution_count": null,
   "id": "ac51aa62-ea1d-44d1-bef1-7ec27010a505",
   "metadata": {},
   "outputs": [],
   "source": [
    "covidSummaryDataZip.loc[::5] #Every 5th row"
   ]
  },
  {
   "cell_type": "markdown",
   "id": "ea5c8fbe-dbb1-4449-bf63-988ade5e7e46",
   "metadata": {},
   "source": [
    "Using **logical operators in conjunction with loc** to select subset of rows"
   ]
  },
  {
   "cell_type": "markdown",
   "id": "96a97843-a122-4c95-8bfb-14b7436c6396",
   "metadata": {},
   "source": [
    "Selecting Zipcode with population greater than 10,000"
   ]
  },
  {
   "cell_type": "code",
   "execution_count": null,
   "id": "41a86d98-3e5f-4493-8c18-0b5dee454898",
   "metadata": {},
   "outputs": [],
   "source": [
    "covidSummaryDataZip.loc[covidSummaryDataZip['Population']>10000]  # for selecting reocrds with population greater than 10K"
   ]
  },
  {
   "cell_type": "markdown",
   "id": "deda5689-93ae-4da4-9900-b4a481a1e304",
   "metadata": {},
   "source": [
    "So there are 378 zip codes. \n",
    "\n",
    "Now select the record for a zip code 44106 (CWRU comes under this zip code)"
   ]
  },
  {
   "cell_type": "code",
   "execution_count": null,
   "id": "9ce9a203-c134-469f-a006-d07bb0aa6696",
   "metadata": {},
   "outputs": [],
   "source": [
    "covidSummaryDataZip.loc[covidSummaryDataZip['Zip Code ']==44106]"
   ]
  },
  {
   "cell_type": "markdown",
   "id": "3be41a78-084d-4d66-9525-da6e0b3d94af",
   "metadata": {},
   "source": [
    "We didn't get any results. Why? Lets look at the data type for 'Zip Code '"
   ]
  },
  {
   "cell_type": "code",
   "execution_count": null,
   "id": "e8a3af8f-00e2-4ea8-91f5-94e25b567b7a",
   "metadata": {},
   "outputs": [],
   "source": [
    "covidSummaryDataZip.dtypes"
   ]
  },
  {
   "cell_type": "markdown",
   "id": "40320b99-e6dd-44e1-a472-23ffa4161ffd",
   "metadata": {},
   "source": [
    "Zip Code is of type object (Strings in pandas are by default stored as objects)\n",
    "\n",
    "So lets query with '44106' string"
   ]
  },
  {
   "cell_type": "code",
   "execution_count": null,
   "id": "6b5dbbc8-6664-4a8f-8027-a433cbad9e65",
   "metadata": {},
   "outputs": [],
   "source": [
    "covidSummaryDataZip.loc[covidSummaryDataZip['Zip Code ']=='44106']"
   ]
  },
  {
   "cell_type": "markdown",
   "id": "7a2da8d4-285e-480a-b70b-46fab16ea26f",
   "metadata": {},
   "source": [
    "Ah yes!! we got our required record\n",
    "\n",
    "Now what if we want to select all records with Population greater than 10000 **and** Case Count - Last 14 Days greater than 100"
   ]
  },
  {
   "cell_type": "code",
   "execution_count": null,
   "id": "cbe2b293-338e-406b-a98e-34e107e3d93c",
   "metadata": {},
   "outputs": [],
   "source": [
    "covidSummaryDataZip.loc[(covidSummaryDataZip['Population']>10000)&(covidSummaryDataZip['Case Count - Last 14 Days ']>100)]"
   ]
  },
  {
   "cell_type": "markdown",
   "id": "6cb053a6-31fb-484a-b80a-1b195aa5c618",
   "metadata": {},
   "source": [
    "Why did we get an error. We know that population is of type int. But what about 'Case Count - Last 14 Days '."
   ]
  },
  {
   "cell_type": "code",
   "execution_count": null,
   "id": "204d38d2-6556-431d-9b0a-c4261d8b8bb4",
   "metadata": {},
   "outputs": [],
   "source": [
    "covidSummaryDataZip['Case Count - Last 14 Days '].dtype"
   ]
  },
  {
   "cell_type": "markdown",
   "id": "6bd8b5fc-cd5e-494b-a36a-cd7fd9366b0d",
   "metadata": {},
   "source": [
    "It's of type object. So we are essentially comparing an object to an integer (number) (100) which is not defined"
   ]
  },
  {
   "cell_type": "markdown",
   "id": "47f8bc4e-299e-42df-9593-c87ad51ed0c7",
   "metadata": {},
   "source": [
    "How do we convert object to integer. \n",
    "\n",
    "We will use a the method, pd.to_numeric from pandas which can be used to convert a sequence of elements to integers (if its possible). Lets check what the method returns"
   ]
  },
  {
   "cell_type": "code",
   "execution_count": null,
   "id": "1b3ec46e-0cfb-4778-af4a-d9bc3409bb59",
   "metadata": {},
   "outputs": [],
   "source": [
    "caseCount14daysNumbers = pd.to_numeric(covidSummaryDataZip['Case Count - Last 14 Days '])"
   ]
  },
  {
   "cell_type": "markdown",
   "id": "1706b97c-d77f-4df9-824d-6890cbf704dd",
   "metadata": {},
   "source": [
    "So we found the culprit, it seems there is a record with value 1,056, which won't be treated as a number but as a string (if it was a number it should have been 1056 rather than 1,056).\n",
    "\n",
    "There are many approaches we can follow here. 1) To correct the value in the file. 2) To use string processing and remove the commas and then re-call the method 3) to compeltey ignore the error and assign a value **NaN** to the problematic value and 4) to re-read the file indicating that there is 1000 seperator for numbers. **\"NaN\" standing for Not a Number, is a member of a numeric data type that can be interpreted as a value that is undefined or unrepresentable, especially in floating-point arithmetic**.\n",
    "\n",
    "We will use the third approach for now, but it might not be viable in all situations (sometimes you would want to preserve the record)."
   ]
  },
  {
   "cell_type": "code",
   "execution_count": null,
   "id": "d475aef3-b133-4b88-87ad-b52461956008",
   "metadata": {},
   "outputs": [],
   "source": [
    "caseCount14daysNumbers = pd.to_numeric(covidSummaryDataZip['Case Count - Last 14 Days '],errors ='coerce') #here errors = coerce will subside the parsing error and convert the problematic number to NaN"
   ]
  },
  {
   "cell_type": "code",
   "execution_count": null,
   "id": "d3cc0230-0a19-4456-99dd-65316ded922e",
   "metadata": {},
   "outputs": [],
   "source": [
    "caseCount14daysNumbers"
   ]
  },
  {
   "cell_type": "markdown",
   "id": "2d7f9855-159b-4db2-aafd-d1449f96138b",
   "metadata": {},
   "source": [
    "Seems like we do have multiple entries with strings that cannot be converted to number. For now we will move ahead with this set.\n",
    "\n",
    "Now assign this new sequence to the existing sequence in the dataset"
   ]
  },
  {
   "cell_type": "code",
   "execution_count": null,
   "id": "65c1b0a1-4e13-4d73-96d1-f0936985c0a5",
   "metadata": {},
   "outputs": [],
   "source": [
    "covidSummaryDataZip['Case Count - Last 14 Days '] = caseCount14daysNumbers"
   ]
  },
  {
   "cell_type": "code",
   "execution_count": null,
   "id": "cb7f6e08-ddec-4d7f-bace-791b604586bc",
   "metadata": {},
   "outputs": [],
   "source": [
    "covidSummaryDataZip.loc[(covidSummaryDataZip['Population']>10000)&(covidSummaryDataZip['Case Count - Last 14 Days ']>100)]"
   ]
  },
  {
   "cell_type": "markdown",
   "id": "8d53ff70-0cbe-4b0b-a855-ef0dc075e018",
   "metadata": {},
   "source": [
    "Now we will check the fourth approach "
   ]
  },
  {
   "cell_type": "code",
   "execution_count": null,
   "id": "6a5b0f56-03d5-4da7-8129-e9784d3a7178",
   "metadata": {},
   "outputs": [],
   "source": [
    "covidSummaryDataZip = pd.read_csv(r'data/COVIDSummaryDataZIP.csv',thousands = ',') #thousands = ',' indicates that comma is used for sperating 1000's"
   ]
  },
  {
   "cell_type": "markdown",
   "id": "eeed4308-85df-4ac9-a09c-ac4580b00cd8",
   "metadata": {},
   "source": [
    "Now check the data type"
   ]
  },
  {
   "cell_type": "code",
   "execution_count": null,
   "id": "119436dc-956b-4734-9aaa-06c6d4124381",
   "metadata": {},
   "outputs": [],
   "source": [
    "covidSummaryDataZip.dtypes"
   ]
  },
  {
   "cell_type": "markdown",
   "id": "278c7655-ed36-4a36-a3b0-bf0f283e9b77",
   "metadata": {},
   "source": [
    "Every field except Zip Code has changed to a float (numeric type)\n",
    "\n",
    "Now re-run the selection"
   ]
  },
  {
   "cell_type": "code",
   "execution_count": null,
   "id": "ae1c23df-d332-42aa-8c0b-5b797ebe8df5",
   "metadata": {},
   "outputs": [],
   "source": [
    "covidSummaryDataZip.loc[(covidSummaryDataZip['Population']>10000)&(covidSummaryDataZip['Case Count - Last 14 Days ']>100)]"
   ]
  },
  {
   "cell_type": "markdown",
   "id": "c038289d-c886-465f-9798-b30b4b060d92",
   "metadata": {},
   "source": [
    "So we use '&' operator as an equivalent of Python 'and'. Now lets try '|' operator('or')\n",
    "\n",
    "Select zip codes with Case Count - Last 14 Days lesser than 20 or greater than 1000"
   ]
  },
  {
   "cell_type": "code",
   "execution_count": null,
   "id": "3caa9b58-42f5-4672-821f-30f8c2d8b77d",
   "metadata": {},
   "outputs": [],
   "source": [
    "covidSummaryDataZip.loc[(covidSummaryDataZip['Case Count - Last 14 Days ']<20)|(covidSummaryDataZip['Case Count - Last 14 Days ']>1000)]"
   ]
  },
  {
   "cell_type": "markdown",
   "id": "9744a54e-dc64-496a-8a4e-f40d99895773",
   "metadata": {},
   "source": [
    "Lets select records for the zip codes 44102,44103,44104,44105,44106\n",
    "\n",
    "If we want to check against a sequence of elements we can use the **isin** operator."
   ]
  },
  {
   "cell_type": "code",
   "execution_count": null,
   "id": "ab7adff3-6f1c-445b-9291-8eb3dc77280e",
   "metadata": {},
   "outputs": [],
   "source": [
    "covidSummaryDataZip.loc[covidSummaryDataZip['Zip Code '].isin(['44102','44103','44104','44105','44106'])]"
   ]
  },
  {
   "cell_type": "markdown",
   "id": "f883eea1-27fa-404e-8662-f8db19a97fc1",
   "metadata": {},
   "source": [
    "To retrieve all other records other than these five zip codes we can use the **~ (not) operator**"
   ]
  },
  {
   "cell_type": "code",
   "execution_count": null,
   "id": "e3a7544e-157e-4ac9-bd33-4473aadd17aa",
   "metadata": {},
   "outputs": [],
   "source": [
    "covidSummaryDataZip.loc[~(covidSummaryDataZip['Zip Code '].isin(['44102','44103','44104','44105','44106']))]"
   ]
  },
  {
   "cell_type": "markdown",
   "id": "eda18738-c3ed-494b-af27-fdfa0892a0b6",
   "metadata": {},
   "source": [
    "Retrieve all records with a Case Count - Last 14 Days not greater than 100. \n",
    "We can ofcourse select records with Case Count - Last 14 Days <= 100"
   ]
  },
  {
   "cell_type": "code",
   "execution_count": null,
   "id": "46661d13-8602-4711-aab6-c207bff20ae7",
   "metadata": {},
   "outputs": [],
   "source": [
    "covidSummaryDataZip.loc[covidSummaryDataZip['Case Count - Last 14 Days ']<=100]"
   ]
  },
  {
   "cell_type": "markdown",
   "id": "7d9a45a2-99c2-47b3-92fb-ce7b5488caaa",
   "metadata": {},
   "source": [
    "This won't select records that have a NaN value for 'Case Count - Last 14 Days '. We could use **not operator** to select even records with NaN value"
   ]
  },
  {
   "cell_type": "code",
   "execution_count": null,
   "id": "ebf8135c-641c-4e97-b9c3-9392cca08f6b",
   "metadata": {},
   "outputs": [],
   "source": [
    "covidSummaryDataZip.loc[~(covidSummaryDataZip['Case Count - Last 14 Days ']>100)]"
   ]
  },
  {
   "cell_type": "markdown",
   "id": "2eacb531-f4ed-4a14-aa21-9c7ba553866c",
   "metadata": {},
   "source": [
    "#### Using .iloc for selection by position"
   ]
  },
  {
   "cell_type": "markdown",
   "id": "77c20777-8870-4cb7-819a-723599a0f132",
   "metadata": {},
   "source": [
    "Suppose we want to select first 100 rows and first 4 columns"
   ]
  },
  {
   "cell_type": "code",
   "execution_count": null,
   "id": "07a6ea81-96ec-4e8e-9628-9fd6b40810aa",
   "metadata": {},
   "outputs": [],
   "source": [
    "covidSummaryDataZip.iloc[0:100,0:4]"
   ]
  },
  {
   "cell_type": "markdown",
   "id": "7c2e44da-6b8b-425a-a986-5c6bb1333405",
   "metadata": {},
   "source": [
    "As you can see, using iloc is similar to using slicing with numpy multidimensional arrays\n",
    "\n",
    "Now we want to get the data from first and fourth column"
   ]
  },
  {
   "cell_type": "code",
   "execution_count": null,
   "id": "c8e5179f-f22e-4fdf-84e9-cdfe51c0d01c",
   "metadata": {},
   "outputs": [],
   "source": [
    "covidSummaryDataZip.iloc[:,[0,3]]"
   ]
  },
  {
   "cell_type": "markdown",
   "id": "0dddd284-007e-47c4-8e71-9040ea84db9d",
   "metadata": {},
   "source": [
    "Data from last two columns"
   ]
  },
  {
   "cell_type": "code",
   "execution_count": null,
   "id": "bc140c0c-da35-4bdd-8c6c-8a3e24d50d61",
   "metadata": {},
   "outputs": [],
   "source": [
    "covidSummaryDataZip.iloc[:,-2:]"
   ]
  },
  {
   "cell_type": "markdown",
   "id": "83be3f12-0ab8-456d-84b3-044de5a22bea",
   "metadata": {},
   "source": [
    "Getting first value of first column"
   ]
  },
  {
   "cell_type": "code",
   "execution_count": null,
   "id": "d9e73d0e-698a-492e-a44e-299eabb80f42",
   "metadata": {},
   "outputs": [],
   "source": [
    "covidSummaryDataZip.iloc[0,0]"
   ]
  },
  {
   "cell_type": "markdown",
   "id": "3bbf0303-4a7c-4be0-a99e-ee06ddc584bf",
   "metadata": {},
   "source": [
    "### Converting a DataFrame to List/Array"
   ]
  },
  {
   "cell_type": "markdown",
   "id": "c37bbf05-2434-48ed-95b3-6b82f1bfcb9f",
   "metadata": {},
   "source": [
    "It might sometimes be benificial to convert a DataFrame to a List or an array. May be a function only accepts an array or a list.  "
   ]
  },
  {
   "cell_type": "markdown",
   "id": "24bbae0f-3af0-410b-b319-ba6768957f65",
   "metadata": {},
   "source": [
    "**Convert a single column to a list/array**"
   ]
  },
  {
   "cell_type": "code",
   "execution_count": null,
   "id": "d8075997-05c5-4c87-ae77-366e3dca4e0e",
   "metadata": {},
   "outputs": [],
   "source": [
    "list(covidSummaryDataZip['Zip Code '])#this will return the column as a list"
   ]
  },
  {
   "cell_type": "code",
   "execution_count": null,
   "id": "055c3269-2599-4340-92f2-df6197729eb1",
   "metadata": {},
   "outputs": [],
   "source": [
    "u = np.array(covidSummaryDataZip['Zip Code '])#this will return the column as an array"
   ]
  },
  {
   "cell_type": "markdown",
   "id": "758d8351-80a6-4c1c-8d28-75c618ba1495",
   "metadata": {},
   "source": [
    "**Convert multiple columns to a list of list/matrix**"
   ]
  },
  {
   "cell_type": "code",
   "execution_count": null,
   "id": "0157d6f5-3b5b-4505-8b0f-cd0d912b5fd8",
   "metadata": {},
   "outputs": [],
   "source": [
    "covidSummaryDataZip[['Zip Code ','Population']].values.tolist()#this will return a list of list"
   ]
  },
  {
   "cell_type": "code",
   "execution_count": null,
   "id": "3b5bc2c4-4cc1-44e4-8a29-d9e0d30989a5",
   "metadata": {},
   "outputs": [],
   "source": [
    "covidSummaryDataZip[['Zip Code ','Population']].values#this will return a numpy matrix"
   ]
  },
  {
   "cell_type": "markdown",
   "id": "3bb4dac5-8d3f-4f7e-b001-7ca11ef4b144",
   "metadata": {},
   "source": [
    "### Manipulating DataFrame"
   ]
  },
  {
   "cell_type": "markdown",
   "id": "4f79d4db-a49a-4434-8223-f6010a9de0d7",
   "metadata": {},
   "source": [
    "#### Creating a new column in DataFrame"
   ]
  },
  {
   "cell_type": "markdown",
   "id": "0e216bc3-977c-4b47-8c47-98c2d7927c4d",
   "metadata": {},
   "source": [
    "Lets create an array of random values (using numpy random). It needs to have number of elements as total number of rows of the dataframe. So lets check the shape of the dataframe"
   ]
  },
  {
   "cell_type": "code",
   "execution_count": null,
   "id": "e991739a-0eb6-4e1c-8f1f-f3d6996c59cd",
   "metadata": {},
   "outputs": [],
   "source": [
    "covidSummaryDataZip.shape"
   ]
  },
  {
   "cell_type": "markdown",
   "id": "2c2530fc-531e-467b-842f-69fad98ceff4",
   "metadata": {},
   "source": [
    "So there are 1187 rows and 8 columns. So we need to create an array having 1187 values. "
   ]
  },
  {
   "cell_type": "code",
   "execution_count": null,
   "id": "d15269dd-2699-4de5-9d8f-544729d35e42",
   "metadata": {},
   "outputs": [],
   "source": [
    "randomData = np.random.randint(0,100,size = covidSummaryDataZip.shape[0]) # 1187 random values between 0 and 100"
   ]
  },
  {
   "cell_type": "code",
   "execution_count": null,
   "id": "82f40471-da36-4235-9474-dc610bf31b90",
   "metadata": {},
   "outputs": [],
   "source": [
    "covidSummaryDataZip['random'] = randomData"
   ]
  },
  {
   "cell_type": "markdown",
   "id": "3924cc29-e340-45d6-a9ee-874caaed771d",
   "metadata": {},
   "source": [
    "Now check your new column"
   ]
  },
  {
   "cell_type": "code",
   "execution_count": null,
   "id": "eae7fb11-f272-4f0a-9163-520b113e96aa",
   "metadata": {},
   "outputs": [],
   "source": [
    "covidSummaryDataZip"
   ]
  },
  {
   "cell_type": "markdown",
   "id": "31d3df14-a74c-4a5f-8a48-52ec7e08f5f8",
   "metadata": {},
   "source": [
    "You can see the new random column"
   ]
  },
  {
   "cell_type": "markdown",
   "id": "796a7fe1-f8d8-4edf-a5c8-e7c56128c712",
   "metadata": {},
   "source": [
    "#### Creating a new column using existing columns"
   ]
  },
  {
   "cell_type": "markdown",
   "id": "c1996661-beb4-43aa-b240-cdf57d1145b8",
   "metadata": {},
   "source": [
    "Let's create a new column 'normalized_case_count' which is obtained by taking the ratio between Case Count - Cumulative and Population"
   ]
  },
  {
   "cell_type": "code",
   "execution_count": null,
   "id": "ed4c3793-f678-4a72-9c09-7b745f24a00f",
   "metadata": {},
   "outputs": [],
   "source": [
    "covidSummaryDataZip['normalized_case_count'] = covidSummaryDataZip['Case Count - Cumulative']/covidSummaryDataZip['Population']\n",
    "covidSummaryDataZip"
   ]
  },
  {
   "cell_type": "markdown",
   "id": "c831938d-0f6e-4a4d-bf41-66a23dea5c53",
   "metadata": {},
   "source": [
    "Now what if we want to multiply the result with 1000"
   ]
  },
  {
   "cell_type": "code",
   "execution_count": null,
   "id": "07e8f9b4-eb15-4bea-ab17-6f863005d3e0",
   "metadata": {},
   "outputs": [],
   "source": [
    "covidSummaryDataZip['normalized_case_count'] = covidSummaryDataZip['normalized_case_count']*1000"
   ]
  },
  {
   "cell_type": "code",
   "execution_count": null,
   "id": "431ec28e-1476-485a-8c3c-17a2d419d8cd",
   "metadata": {},
   "outputs": [],
   "source": [
    "covidSummaryDataZip"
   ]
  },
  {
   "cell_type": "markdown",
   "id": "f298ae90-27c2-493e-8792-623f6651be41",
   "metadata": {},
   "source": [
    "#### Setting new values to different columns"
   ]
  },
  {
   "cell_type": "markdown",
   "id": "b6daca64-7e7d-4d8d-801d-25fccb11d777",
   "metadata": {},
   "source": [
    "As a simple example we want to change the first 100 values of the random column to zero"
   ]
  },
  {
   "cell_type": "code",
   "execution_count": null,
   "id": "a05784c6-9a46-4f7a-950d-8307a0ffa4e5",
   "metadata": {},
   "outputs": [],
   "source": [
    "covidSummaryDataZip['random'].loc[:100] = 0\n",
    "covidSummaryDataZip"
   ]
  },
  {
   "cell_type": "markdown",
   "id": "78413dac-4d8d-41be-bc1c-d7b2154ccc0d",
   "metadata": {},
   "source": [
    "Now lets create a new column isHighlyPopulated with a default value of 0\n",
    "\n",
    "Note: if you want to create a list of same value then you can use multiplication operator along with the list. For example to create a list of hundred 0's we can write like \n",
    "\n",
    "```python\n",
    "aList = [0]*100\n",
    "```\n",
    "\n",
    "For creating a list of list having [0,0] as each element we could write\n",
    "\n",
    "```python\n",
    "aListOfList = [[0,0]]*100\n",
    "```"
   ]
  },
  {
   "cell_type": "code",
   "execution_count": null,
   "id": "5be27d1e-c3ea-4b32-8ee5-57af37b1d31d",
   "metadata": {},
   "outputs": [],
   "source": [
    "aList = [0]*100\n",
    "aListOfList = [[0,0]]*100\n",
    "print (aList)\n",
    "print (aListOfList)"
   ]
  },
  {
   "cell_type": "code",
   "execution_count": null,
   "id": "0e92668b-9ec3-4242-b617-73572f51b488",
   "metadata": {},
   "outputs": [],
   "source": [
    "covidSummaryDataZip['isHighlyPopulated'] = [0]*(covidSummaryDataZip.shape[0])"
   ]
  },
  {
   "cell_type": "code",
   "execution_count": null,
   "id": "737d7eff-1df8-436a-9bad-ebdf3088aa3c",
   "metadata": {},
   "outputs": [],
   "source": [
    "covidSummaryDataZip"
   ]
  },
  {
   "cell_type": "markdown",
   "id": "58a2fd81-63ea-4199-aa7c-e6e8b9c2e45c",
   "metadata": {},
   "source": [
    "Now we can change the value of isHighlyPopulated field based on a condition. For example change the value of isHighlyPopulated to 1, if total population is greater than 10,000"
   ]
  },
  {
   "cell_type": "code",
   "execution_count": null,
   "id": "fb013bd3-4578-4a9d-a9ad-e5034d706151",
   "metadata": {},
   "outputs": [],
   "source": [
    "covidSummaryDataZip.loc[covidSummaryDataZip['Population']>10000,'isHighlyPopulated'] = 1\n",
    "covidSummaryDataZip"
   ]
  },
  {
   "cell_type": "markdown",
   "id": "03a41efe-94ba-47e3-9d76-70bf0eccf6fe",
   "metadata": {},
   "source": [
    "Change first three values of the random column to 1,2,3 respectively"
   ]
  },
  {
   "cell_type": "code",
   "execution_count": null,
   "id": "7d968e03-143c-4f75-ba8a-c8e03e891b33",
   "metadata": {},
   "outputs": [],
   "source": [
    "covidSummaryDataZip['random'].iloc[:3] = [1,2,3]\n",
    "covidSummaryDataZip"
   ]
  },
  {
   "cell_type": "markdown",
   "id": "1643d67b-c55c-4407-957d-32d988909009",
   "metadata": {},
   "source": [
    "**Finding records with a NaN value for the normalized_case_count column**"
   ]
  },
  {
   "cell_type": "code",
   "execution_count": null,
   "id": "6c990138-0541-4fa9-afa5-00d6cec050dd",
   "metadata": {},
   "outputs": [],
   "source": [
    "covidSummaryDataZip.loc[covidSummaryDataZip['normalized_case_count'].isna()]"
   ]
  },
  {
   "cell_type": "markdown",
   "id": "592d23a5-5025-4eb4-9599-de39111803b0",
   "metadata": {},
   "source": [
    "So we use isna() method to check whether a numerical value is NaN\n",
    "\n",
    "Now what if we want to change this records to zero (or any other value). A method that we can use is **fillna**"
   ]
  },
  {
   "cell_type": "code",
   "execution_count": null,
   "id": "86cbb7a2-791a-4ae9-b9b3-8c09aad98a74",
   "metadata": {},
   "outputs": [],
   "source": [
    "covidSummaryDataZip['normalized_case_count'] = covidSummaryDataZip['normalized_case_count'].fillna(0)\n",
    "covidSummaryDataZip"
   ]
  },
  {
   "cell_type": "markdown",
   "id": "8c6a2886-bd31-42c5-badf-af236825a112",
   "metadata": {},
   "source": [
    "### Operations on DataFrame"
   ]
  },
  {
   "cell_type": "markdown",
   "id": "a6380a2b-dcdb-4d60-a9f0-1fc1318d5af0",
   "metadata": {},
   "source": [
    "1. Finding mean of every numerical column using **mean()**"
   ]
  },
  {
   "cell_type": "code",
   "execution_count": null,
   "id": "2cdfa25f-bd6d-4d78-9995-bdbad8d2783a",
   "metadata": {},
   "outputs": [],
   "source": [
    "covidSummaryDataZip.mean()"
   ]
  },
  {
   "cell_type": "markdown",
   "id": "96cbe6da-3c65-4e94-bbef-5f88302a5dff",
   "metadata": {},
   "source": [
    "Finding mean of a particular column"
   ]
  },
  {
   "cell_type": "code",
   "execution_count": null,
   "id": "aae1e049-2237-4cf7-92cf-73e7c0fcefaf",
   "metadata": {},
   "outputs": [],
   "source": [
    "covidSummaryDataZip['Population'].mean()"
   ]
  },
  {
   "cell_type": "markdown",
   "id": "646c5698-fe69-4dc3-bca9-f2d4be55b48f",
   "metadata": {},
   "source": [
    "2. Finding max using **max()**"
   ]
  },
  {
   "cell_type": "code",
   "execution_count": null,
   "id": "c66c2615-1607-44c5-baff-52934553bc59",
   "metadata": {},
   "outputs": [],
   "source": [
    "covidSummaryDataZip.max()"
   ]
  },
  {
   "cell_type": "markdown",
   "id": "bf06d08f-a9ab-4631-b615-9c0feed52a8a",
   "metadata": {},
   "source": [
    "Max of particular column"
   ]
  },
  {
   "cell_type": "code",
   "execution_count": null,
   "id": "98803c7c-7767-4641-9562-87770703d4e3",
   "metadata": {},
   "outputs": [],
   "source": [
    "covidSummaryDataZip['Population'].max()"
   ]
  },
  {
   "cell_type": "markdown",
   "id": "fb453304-11a2-44fd-b653-27d041bacdf8",
   "metadata": {},
   "source": [
    "3. Finding row with the max value for particular column **idxmax()**"
   ]
  },
  {
   "cell_type": "code",
   "execution_count": null,
   "id": "82060fbf-14a2-433a-923d-a5e1bcd3d4ea",
   "metadata": {},
   "outputs": [],
   "source": [
    "row = covidSummaryDataZip['Population'].idxmax()\n",
    "covidSummaryDataZip.loc[row]"
   ]
  },
  {
   "cell_type": "markdown",
   "id": "009bb36b-c405-4b29-ab67-9f4647dff411",
   "metadata": {},
   "source": [
    "4. Finding frequency of elements using **value_counts()**\n",
    "\n",
    "Lets calculate frequency of values in random column"
   ]
  },
  {
   "cell_type": "code",
   "execution_count": null,
   "id": "5a835670-a2b2-4f4a-b025-957fc85c24d8",
   "metadata": {},
   "outputs": [],
   "source": [
    "covidSummaryDataZip['random'].value_counts()"
   ]
  },
  {
   "cell_type": "markdown",
   "id": "381664cd-2f75-464c-b1e2-b42e45206d52",
   "metadata": {},
   "source": [
    "5. Finding unique values in a column using **unique()**"
   ]
  },
  {
   "cell_type": "code",
   "execution_count": null,
   "id": "1bc44229-6cb2-4018-a274-3f22c3955a7a",
   "metadata": {},
   "outputs": [],
   "source": [
    "covidSummaryDataZip['random'].unique()"
   ]
  },
  {
   "cell_type": "markdown",
   "id": "b9f8a7c7-e513-4485-8505-aef34d28516c",
   "metadata": {},
   "source": [
    "6. Show duplicate records suing **duplicated()**\n",
    "\n",
    "For this example we will use a sample dataset with few rows"
   ]
  },
  {
   "cell_type": "code",
   "execution_count": null,
   "id": "5d6099f6-b084-44d8-8039-288ece99197b",
   "metadata": {},
   "outputs": [],
   "source": [
    "sampleFrame = pd.DataFrame({'name':['Tom','Tim','Martha','Tom'],'age':[23,24,22,23]})\n",
    "sampleFrame"
   ]
  },
  {
   "cell_type": "code",
   "execution_count": null,
   "id": "fc6a34ff-c836-49ea-9374-163f73c825a6",
   "metadata": {},
   "outputs": [],
   "source": [
    "sampleFrame.loc[sampleFrame.duplicated()]"
   ]
  },
  {
   "cell_type": "markdown",
   "id": "c73b5424-0d0a-436b-a9ff-2566295f0e7c",
   "metadata": {},
   "source": [
    "7. Remove duplicates using **drop_duplicates()**"
   ]
  },
  {
   "cell_type": "code",
   "execution_count": null,
   "id": "f164b34d-fe33-405a-939e-1ec0fad47d93",
   "metadata": {},
   "outputs": [],
   "source": [
    "sampleFrame.drop_duplicates(inplace=True) #use inplace True to drop the records from the same dataframe else a new dataframe is created\n",
    "sampleFrame"
   ]
  },
  {
   "cell_type": "markdown",
   "id": "192c3762-1885-4758-9ff6-c39e73eb6c4e",
   "metadata": {},
   "source": [
    "### Combining different DataFrame's using"
   ]
  },
  {
   "cell_type": "markdown",
   "id": "d1586487-1013-4ad9-8c75-7f8467f172a2",
   "metadata": {},
   "source": [
    "We can combine multiple DataFrame's based on keys common to both the DataFrames. This is similar to joining tables in relational databases. Let's see an example"
   ]
  },
  {
   "cell_type": "code",
   "execution_count": null,
   "id": "6faffb1d-58e0-46ea-a57f-28f53b2a4927",
   "metadata": {},
   "outputs": [],
   "source": [
    "studentAttributes = pd.DataFrame({'id':[1,2,3,4],'name':['jim','pat','mat','jay'],'age':[20,18,20,19]})\n",
    "studentAttributes"
   ]
  },
  {
   "cell_type": "code",
   "execution_count": null,
   "id": "8ec86c1d-aadc-428f-895d-37c204c99963",
   "metadata": {},
   "outputs": [],
   "source": [
    "studentMarks = pd.DataFrame([[1,87],[2,77],[3,86],[4,32]],columns = ['id','marks'])\n",
    "studentMarks"
   ]
  },
  {
   "cell_type": "markdown",
   "id": "0331fd87-2441-449e-8166-35f3d8a8644e",
   "metadata": {},
   "source": [
    "We can combine these DataFrame's using **merge()** method, with id as the key"
   ]
  },
  {
   "cell_type": "code",
   "execution_count": null,
   "id": "87759019-87a8-4930-be30-a0142b5404ea",
   "metadata": {},
   "outputs": [],
   "source": [
    "studentRecords = studentAttributes.merge(studentMarks,on='id') #this is an inner join by default\n",
    "studentRecords"
   ]
  },
  {
   "cell_type": "markdown",
   "id": "b3783584-8bf1-4bf6-ac64-f4fefb6cb9eb",
   "metadata": {},
   "source": [
    "Now what if one of the students didn't attend the exam."
   ]
  },
  {
   "cell_type": "code",
   "execution_count": null,
   "id": "289e4747-ef9c-4684-9ef8-c0ea00dd0eaf",
   "metadata": {},
   "outputs": [],
   "source": [
    "studentMarks = pd.DataFrame([[1,87],[2,77],[3,86]],columns = ['id','marks'])\n",
    "studentMarks"
   ]
  },
  {
   "cell_type": "markdown",
   "id": "2a17d159-36a4-46c0-b9c1-ed1fad9e1751",
   "metadata": {},
   "source": [
    "If we merge the two DataFrames, the merged DataFrame won't have the particular row eventhough the student attributes are available."
   ]
  },
  {
   "cell_type": "code",
   "execution_count": null,
   "id": "99c03128-f9b5-493e-a8b5-97f881981425",
   "metadata": {},
   "outputs": [],
   "source": [
    "studentRecords = studentAttributes.merge(studentMarks,on='id') #this is an inner join by default\n",
    "studentRecords"
   ]
  },
  {
   "cell_type": "markdown",
   "id": "b3da0249-e2cc-44fb-a668-2b7a8b6a8944",
   "metadata": {},
   "source": [
    "### Grouping Records together"
   ]
  },
  {
   "cell_type": "markdown",
   "id": "edca7053-77e8-4bcc-8e7d-ce8f4f7aefc6",
   "metadata": {},
   "source": [
    "We will use vaccine_data as the prime dataset for this section"
   ]
  },
  {
   "cell_type": "code",
   "execution_count": null,
   "id": "0a63d96c-b8a9-4efe-8fce-de3729fa5cec",
   "metadata": {},
   "outputs": [],
   "source": [
    "vaccineData"
   ]
  },
  {
   "cell_type": "markdown",
   "id": "40473f43-7d8b-4809-a68f-69988b7cb4dd",
   "metadata": {},
   "source": [
    "Suppose we want to calculate the total count for each counties (total number of times a particular county occured in a record)\n",
    "\n",
    "We could use **groupby()** along with **size()** method"
   ]
  },
  {
   "cell_type": "code",
   "execution_count": null,
   "id": "32029e9c-4286-4299-8346-d4e51ede5862",
   "metadata": {},
   "outputs": [],
   "source": [
    "vaccineData.groupby('county').size()"
   ]
  },
  {
   "cell_type": "markdown",
   "id": "f84fe19a-a1d6-4f5e-9461-43ef4cf54a27",
   "metadata": {},
   "source": [
    "Now we want to caculate the total number of vaccines_completed for each county\n",
    "\n",
    "We can use **groupby()** along with **sum()**"
   ]
  },
  {
   "cell_type": "code",
   "execution_count": null,
   "id": "fe478b00-0af2-4d63-8b3d-eea68d2ec68b",
   "metadata": {},
   "outputs": [],
   "source": [
    "vaccineData.groupby(['county'])['vaccines_completed'].sum()"
   ]
  },
  {
   "cell_type": "markdown",
   "id": "cfd47597-c2ca-456a-8aae-5c9b6c59a1c7",
   "metadata": {},
   "source": [
    "For calculating average number of vaccines we can use **groupby()** along with **mean()**"
   ]
  },
  {
   "cell_type": "code",
   "execution_count": null,
   "id": "3bdd3366-f3da-4615-9190-cb0e45e6efb0",
   "metadata": {},
   "outputs": [],
   "source": [
    "vaccineData.groupby(['county'])['vaccines_completed'].mean()"
   ]
  },
  {
   "cell_type": "markdown",
   "id": "2f96934a-c22f-45cb-80f3-cef91e741ce3",
   "metadata": {},
   "source": [
    "### Plotting"
   ]
  },
  {
   "cell_type": "markdown",
   "id": "cd931d1f-d2fb-4377-a64e-726541e21751",
   "metadata": {},
   "source": [
    "For plotting we will use the global warming and ice volume datasets"
   ]
  },
  {
   "cell_type": "code",
   "execution_count": null,
   "id": "93df0891-dd39-40d6-a582-f6879b4c0547",
   "metadata": {},
   "outputs": [],
   "source": [
    "averageTemperatureData"
   ]
  },
  {
   "cell_type": "code",
   "execution_count": null,
   "id": "f356253b-763c-4d31-b8be-7e1c9cc26717",
   "metadata": {},
   "outputs": [],
   "source": [
    "iceMassData"
   ]
  },
  {
   "cell_type": "markdown",
   "id": "270632a6-93fe-407d-8e27-c7b04d4fd6a4",
   "metadata": {},
   "source": [
    "Lets plot average temperature against year. "
   ]
  },
  {
   "cell_type": "code",
   "execution_count": null,
   "id": "0371acd5-f1b7-446f-b7c8-a749774467d7",
   "metadata": {},
   "outputs": [],
   "source": [
    "averageTemperatureData.columns"
   ]
  },
  {
   "cell_type": "code",
   "execution_count": null,
   "id": "479189e6-3ff7-4b7b-a33d-6c8f13d90203",
   "metadata": {},
   "outputs": [],
   "source": [
    "averageTemperatureData.plot(x='Year',y='Lowess(5)')"
   ]
  },
  {
   "cell_type": "markdown",
   "id": "9859055d-b388-4eb0-8348-a38ec3db61f1",
   "metadata": {},
   "source": [
    "Let's change the column name from Lowess(5) to avgtemperature"
   ]
  },
  {
   "cell_type": "code",
   "execution_count": null,
   "id": "122329b1-e7dc-4f4f-a771-d18a85d9d4a5",
   "metadata": {},
   "outputs": [],
   "source": [
    "averageTemperatureData.rename(columns={'Lowess(5)':'avgtemperature'},inplace=True)"
   ]
  },
  {
   "cell_type": "code",
   "execution_count": null,
   "id": "d68e66ac-ec64-408e-bbe5-9bba28782d1f",
   "metadata": {},
   "outputs": [],
   "source": [
    "averageTemperatureData"
   ]
  },
  {
   "cell_type": "code",
   "execution_count": null,
   "id": "66ca1b6d-c777-47ea-8746-2e1004f1dfc7",
   "metadata": {},
   "outputs": [],
   "source": [
    "averageTemperatureData.plot(x='Year',y='avgtemperature')"
   ]
  },
  {
   "cell_type": "markdown",
   "id": "d5d35c35-38f7-4a7e-be73-460154d232be",
   "metadata": {},
   "source": [
    "Lets plot the icemass data."
   ]
  },
  {
   "cell_type": "code",
   "execution_count": null,
   "id": "e903f1c6-e52e-4982-ac71-2ff7115dafe7",
   "metadata": {},
   "outputs": [],
   "source": [
    "iceMassData.plot(x='Yeartime',y='gigatonne',rot=45)"
   ]
  },
  {
   "cell_type": "code",
   "execution_count": null,
   "id": "5b2ccb4e-d74a-4d4f-b1f2-e403eadce5a7",
   "metadata": {},
   "outputs": [],
   "source": [
    "vaccineData.groupby(['county'])['vaccines_completed'].sum().plot.bar(figsize=(20,10),xlabel=\"Counties\", ylabel=\"Vaccines Completed\",fontsize=13)"
   ]
  },
  {
   "cell_type": "markdown",
   "id": "c4f546f5-5bb5-4ac7-9c4e-e8911f23254c",
   "metadata": {},
   "source": [
    "### Writing DataFrame to CSV file"
   ]
  },
  {
   "cell_type": "markdown",
   "id": "3c481390-9fd6-4f8b-b28e-01b88452dc51",
   "metadata": {},
   "source": [
    "A DataFrame can be easily converted to a CSV file using the **to_csv()**"
   ]
  },
  {
   "cell_type": "code",
   "execution_count": null,
   "id": "f259a0f3-b2f3-46f0-8cbd-73cc95f40031",
   "metadata": {},
   "outputs": [],
   "source": [
    "vaccineData.to_csv('outputdirectory/vaccineData.csv',index=False)"
   ]
  }
 ],
 "metadata": {
  "kernelspec": {
   "display_name": "Python 3 (ipykernel)",
   "language": "python",
   "name": "python3"
  },
  "language_info": {
   "codemirror_mode": {
    "name": "ipython",
    "version": 3
   },
   "file_extension": ".py",
   "mimetype": "text/x-python",
   "name": "python",
   "nbconvert_exporter": "python",
   "pygments_lexer": "ipython3",
   "version": "3.9.7"
  }
 },
 "nbformat": 4,
 "nbformat_minor": 5
}
