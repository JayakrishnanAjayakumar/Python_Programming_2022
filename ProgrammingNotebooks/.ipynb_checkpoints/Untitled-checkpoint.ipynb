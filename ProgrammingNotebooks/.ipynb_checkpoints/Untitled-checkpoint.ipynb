{
 "cells": [
  {
   "cell_type": "code",
   "execution_count": 5,
   "id": "887dac95-a1b0-4bc5-aa01-e7bb5ded912c",
   "metadata": {},
   "outputs": [],
   "source": [
    "from glob import glob\n",
    "import imageio\n",
    "files  = glob(r'E:\\simulations\\largestinalist\\*')"
   ]
  },
  {
   "cell_type": "code",
   "execution_count": 6,
   "id": "8c0dca08-1730-4f91-ba54-30b841c0884a",
   "metadata": {},
   "outputs": [],
   "source": [
    "with imageio.get_writer('E://test.gif', mode='I',duration = .1) as writer:\n",
    "    for filename in files:\n",
    "        image = imageio.imread(filename)\n",
    "        writer.append_data(image)"
   ]
  },
  {
   "cell_type": "code",
   "execution_count": null,
   "id": "1b97c094-e367-461f-a215-d467063afb0d",
   "metadata": {},
   "outputs": [],
   "source": []
  }
 ],
 "metadata": {
  "kernelspec": {
   "display_name": "Python 3 (ipykernel)",
   "language": "python",
   "name": "python3"
  },
  "language_info": {
   "codemirror_mode": {
    "name": "ipython",
    "version": 3
   },
   "file_extension": ".py",
   "mimetype": "text/x-python",
   "name": "python",
   "nbconvert_exporter": "python",
   "pygments_lexer": "ipython3",
   "version": "3.9.7"
  }
 },
 "nbformat": 4,
 "nbformat_minor": 5
}
