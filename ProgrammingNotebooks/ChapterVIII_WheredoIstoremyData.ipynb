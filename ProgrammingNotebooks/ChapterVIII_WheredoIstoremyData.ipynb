{
 "cells": [
  {
   "cell_type": "markdown",
   "id": "30ed3368-6ff5-449a-8eaa-00c2dcbb4d1a",
   "metadata": {},
   "source": [
    "# Containers"
   ]
  },
  {
   "cell_type": "markdown",
   "id": "c1dfee2e-99c9-45f7-a05d-64951d5b056f",
   "metadata": {},
   "source": [
    "![containers](sampleImages/containers.jpg)"
   ]
  },
  {
   "cell_type": "markdown",
   "id": "35f6e1b6-73f4-4d00-a5c8-0f375f6dc6db",
   "metadata": {},
   "source": [
    "Until now we have used variables that can store one value at a time. What if we want to store more than one value"
   ]
  },
  {
   "cell_type": "markdown",
   "id": "0d46940b-d056-4ecd-b2c7-605aec1aa6af",
   "metadata": {},
   "source": [
    "## Motivation for Containers"
   ]
  },
  {
   "cell_type": "markdown",
   "id": "604fe48c-fe1c-4a80-8d81-3f4bc32db6f1",
   "metadata": {},
   "source": [
    "Say you are provided with earth surface temperature for past 70 years (very crucial for understanding about global warming), it would be very inconvenient to store data as shown below\n",
    "```python\n",
    "temp1952 = 34\n",
    "temp1953 = 34.8\n",
    ".\n",
    ".\n",
    "temp2021 = 46\n",
    "```\n",
    "While its harder to store each of these values in seperate variables its even harder to perform any operations on them. What if we want to calculate the maximum temperature or minimum temperature, or we want to plot a graph. **Representing a large set of values in individual variables is practically infeasible**.\n",
    "\n",
    "We want to have the **group of values stored in a single container, which can then be assigned to a single variable**. \n",
    "\n",
    "![containersgroup](sampleImages/sampleVariableList.PNG)\n",
    "\n",
    "We should also be able to **read/update/delete each individual elements**."
   ]
  },
  {
   "cell_type": "markdown",
   "id": "7400248b-5bdf-4cde-896b-7a9c55354377",
   "metadata": {},
   "source": [
    "## Types of Containers\n",
    "\n",
    "Fortunately, **Python** provides us with different built-in containers for storing more than one value at a time. We will cover some of the commonly used containers (there are many more which can be installed from external sources)\n",
    "\n",
    "1. **List**\n",
    "2. **Tuple** \n",
    "3. **String** (can be considered as a container of characters)\n",
    "4. **Dict** (Dictionary)\n",
    "5. **Sets**"
   ]
  },
  {
   "cell_type": "markdown",
   "id": "4dd24902-19c7-4d7d-8dc3-d3058230f4fc",
   "metadata": {},
   "source": [
    "## List"
   ]
  },
  {
   "cell_type": "markdown",
   "id": "4fcf6b66-c7e6-4d72-b530-6459f218d1ac",
   "metadata": {},
   "source": [
    "A list is represented as a **sequence of items (ordered), separated by commas, and enclosed in square brackets**. Let's look at some concrete example."
   ]
  },
  {
   "cell_type": "code",
   "execution_count": null,
   "id": "95f923ed-8e99-4353-851a-386f4ca5aebc",
   "metadata": {},
   "outputs": [],
   "source": [
    "fruitBasket = ['apple','orange','guava','cherry']\n",
    "numbers = [1,56,7,67,76,55,456]\n",
    "mixedList = [1,2,3,'hi','hello',False,True,34.56] #can have any datatype"
   ]
  },
  {
   "cell_type": "markdown",
   "id": "8afcf24d-7e45-408b-9955-ee2b7d75ee93",
   "metadata": {},
   "source": [
    "**Lists can virtually store values of any data types, including lists (nested lists) and other containers** (we will cover them later)\n",
    "\n",
    "Previously we have seen that a variable is assigned a location in memory and has a name (identifer) and value associated with it. **A list will have a single name (identifer) associated with a contiguos block of memory (together in sequence)**. \n",
    "\n",
    "![list_memory](sampleImages/list_memory_view.PNG)"
   ]
  },
  {
   "cell_type": "markdown",
   "id": "1431ffbf-c72c-4199-a870-e12a4e923fdb",
   "metadata": {},
   "source": [
    "### Accessing elements in a list"
   ]
  },
  {
   "cell_type": "markdown",
   "id": "9ae6d6ea-6742-4d6f-947b-5dfa22088025",
   "metadata": {},
   "source": [
    "#### Using for loop"
   ]
  },
  {
   "cell_type": "markdown",
   "id": "b8a551cd-3464-4251-b9a1-286dc153c533",
   "metadata": {},
   "source": [
    "As **lists are sequences** we can **access elements of a list using a for loop.**"
   ]
  },
  {
   "cell_type": "code",
   "execution_count": null,
   "id": "5dba1e6c-88cc-4841-9546-2d6e8b978f2a",
   "metadata": {},
   "outputs": [],
   "source": [
    "fruitBasket = ['apple','orange','guava','cherry','grapes','banana']\n",
    "for fruit in fruitBasket:\n",
    "    print (fruit)"
   ]
  },
  {
   "cell_type": "markdown",
   "id": "753e67b7-896e-489e-a919-bdbf6eed9257",
   "metadata": {},
   "source": [
    "This is good, but what if we want to **access the third element ('guava') in this list**.\n",
    "Of course we could write a loop that take care of the count of iterations and will do some processing when the count is 3. Lets look at that example,"
   ]
  },
  {
   "cell_type": "code",
   "execution_count": null,
   "id": "b9cb9146-c913-4df8-807c-ecf4eb8b7752",
   "metadata": {},
   "outputs": [],
   "source": [
    "count = 1 # a variable to count the number of iterations\n",
    "fruitBasket = ['apple','orange','guava','cherry','grapes','banana']\n",
    "for fruit in fruitBasket:\n",
    "    if count==3:\n",
    "        print ('The third element is',fruit)\n",
    "        break\n",
    "    count = count+1   "
   ]
  },
  {
   "cell_type": "markdown",
   "id": "2569c245-591c-464e-909e-a15d31e38247",
   "metadata": {},
   "source": [
    "Eventhough this is programatically correct, **it is highly inefficent** when you have a million (very common nowadays) or billion number of elements. You have to go through **many elements before reaching the required element**.\n",
    "\n",
    "This is where **lists** really shine. **Elements in list can be accessed using indices**."
   ]
  },
  {
   "cell_type": "markdown",
   "id": "ae218456-92ec-48f6-b97a-fa0b8d09e6bb",
   "metadata": {},
   "source": [
    "#### Using indices"
   ]
  },
  {
   "cell_type": "markdown",
   "id": "98b755e6-cd02-4cf9-9f54-4af0c2d5c524",
   "metadata": {},
   "source": [
    "List indexes in Python start from **0 (not 1)** and ends at **length of list - 1**.\n",
    "\n",
    "We can use **index operator to access list elements in a highly efficient way**. \n",
    "\n",
    "![list_indices](sampleImages/list_with_indices.PNG)\n",
    "\n",
    "Let's look at an example"
   ]
  },
  {
   "cell_type": "code",
   "execution_count": null,
   "id": "c712808e-c70e-4674-a064-f065dbdf424b",
   "metadata": {},
   "outputs": [],
   "source": [
    "temperatures = [34,34.8,34.9,35.3,37]\n",
    "print (temperatures[0]) #this will give the first value\n",
    "print (temperatures[2]) #this will give the third value\n",
    "print (temperatures[-1]) #this will give the last value, -1 is last value\n",
    "print (temperatures[-2]) #this will give the second from last value\n",
    "print (temperatures[5]) #this will result in an error as the final index is 4"
   ]
  },
  {
   "cell_type": "markdown",
   "id": "955dd230-7334-4cf7-b299-d6d3415ba63a",
   "metadata": {},
   "source": [
    "So if we have a **million elements** in the temperatures list (may be for every hour) and **if we want to access the last element**, it is as simple as **temperatures[-1]**. \n",
    "\n",
    "Before getting into another example with indexing, lets introduce a new function \n",
    "\n",
    "```python\n",
    "len()\n",
    "```\n",
    "\n",
    "**len() is a built-in function in Python that returns the number of elements in a container**."
   ]
  },
  {
   "cell_type": "code",
   "execution_count": null,
   "id": "a68e692e-a677-4372-9b99-4b971f798ed0",
   "metadata": {},
   "outputs": [],
   "source": [
    "temperatures = [34,34.8,34.9,35.3,37]\n",
    "print (len(temperatures)) #should print 5\n",
    "length = len(temperatures) #you can also store result of len() call to a variable"
   ]
  },
  {
   "cell_type": "markdown",
   "id": "f068df43-1535-47ee-8658-f001380c0f29",
   "metadata": {},
   "source": [
    "Now lets use len() function and indices that we have just learned to loop through our fruitBasketList, first using a **for loop and then using a while loop**"
   ]
  },
  {
   "cell_type": "code",
   "execution_count": null,
   "id": "8c0e77a3-6477-47bd-8eaa-01afc8948bbc",
   "metadata": {},
   "outputs": [],
   "source": [
    "temperatures = [34,34.8,34.9,35.3,37]\n",
    "for index in range(len(temperatures)): #you can imagine this as range(5)\n",
    "    print (temperatures[index]) #the index will 0,1,2,3,4"
   ]
  },
  {
   "cell_type": "code",
   "execution_count": null,
   "id": "30ffcfc8-eb83-4fd1-9d0c-1107c4888bcd",
   "metadata": {},
   "outputs": [],
   "source": [
    "temperatures = [34,34.8,34.9,35.3,37]\n",
    "start=0\n",
    "while start<len(temperatures): #careful, we don't want to loop up to length\n",
    "    print (temperatures[start])\n",
    "    start = start + 1"
   ]
  },
  {
   "cell_type": "markdown",
   "id": "7f36439b-ab95-4479-8d50-077dbe8ecbf8",
   "metadata": {},
   "source": [
    "Now that we know about indices we can start doing fancy (yet efficient) constructs with indices."
   ]
  },
  {
   "cell_type": "markdown",
   "id": "5891016f-f15c-4823-ba65-3e6741ac10e2",
   "metadata": {},
   "source": [
    "##### Slicing"
   ]
  },
  {
   "cell_type": "markdown",
   "id": "59964f2f-f137-4470-97e3-3d725d6ca141",
   "metadata": {},
   "source": [
    "Slicing helps to **extract portions of list (contiguos elements only) through indexing**.\n",
    "\n",
    "The general format for slicing is\n",
    "\n",
    "```python\n",
    "listVariable[start:stop:step]\n",
    "```\n",
    "\n",
    "where start,stop, and step are optional\n",
    "\n",
    "For example\n",
    "```python\n",
    "aList[0:3] will return the first 3 elements of aList as a list ie [aList[0],aList[1],aList[2]]. Note that 3 is exclusive.\n",
    "```\n",
    "Another example\n",
    "\n",
    "```python\n",
    "aList[2:5] will return the third element up to the 5th element ie [aList[2],aList[3],aList[4]]\n",
    "```\n",
    "\n",
    "An example with stop and step left blank\n",
    "\n",
    "```python\n",
    "aList[1:] will return all the elements in aList starting from the second element (note we have started from 1). An equivalent statement will be aList[1:len(aList)]\n",
    "```\n",
    "\n",
    "An example with start and step left blank\n",
    "\n",
    "```python\n",
    "aList[:3] will return elements in aList starting from the first element to the third element. [aList[0],aList[1],aList[2]]. An equivalent statement will be aList[0:3]\n",
    "```\n",
    "An example with start, stop and step\n",
    "\n",
    "```python\n",
    "aList[0:10:2] will return every other element from first element to the tenth element. [aList[0],aList[2],aList[4],aList[6],aList[8]]\n",
    "```\n",
    "An example with step alone\n",
    "\n",
    "```python\n",
    "aList[::2] will return every other element in the list. An equivalent statement is aList[0:len(aList):2]\n",
    "```\n",
    "Let's look at more concrete examples"
   ]
  },
  {
   "cell_type": "code",
   "execution_count": 88,
   "id": "f5f7b679-b480-4059-a417-c3ab36991b2a",
   "metadata": {},
   "outputs": [],
   "source": [
    "numbers = [0,1,2,3,4,5,6,7,8,9,10]\n",
    "firstTwoNumbers = numbers[:2]  #will return [0,1]\n",
    "thirdToFifthNumbers = numbers[2:5]  #will return [2,3,4]\n",
    "everyOtherNumbers = numbers[::2] #will return [0,2,4,6,8,10]\n",
    "everyOtherNumbersFromSecond = numbers[1::2] #will return [1,3,5,7,9]\n",
    "everyNumbersFromSeventh = numbers[6:] #will return [6,7,8,9,10]\n",
    "allNumbers = numbers[::] #will return [0,1,2,3,4,5,6,7,8,9,10]\n",
    "reverseNumber = numbers[::-1] #will return [10, 9, 8, 7, 6, 5, 4, 3, 2, 1, 0]\n",
    "lastThreeNumbers = numbers[-3:] #will return [8,9,10] -ve starts from last"
   ]
  },
  {
   "cell_type": "markdown",
   "id": "957e5fff-19ce-46ff-a89c-436d4838af2f",
   "metadata": {},
   "source": [
    "![slicing](sampleImages/slicing.PNG)"
   ]
  },
  {
   "cell_type": "markdown",
   "id": "bdf4c090-efe9-4686-80c6-267b08ee3ba1",
   "metadata": {},
   "source": [
    "### Modifying a list"
   ]
  },
  {
   "cell_type": "markdown",
   "id": "585f5b0d-a652-464a-b8f1-015e3f0d081c",
   "metadata": {},
   "source": [
    "Lists are **mutable containers** and hence the values inside it can be changed.\n",
    "Again we use **indices for changing the value**. Let's look at some examples"
   ]
  },
  {
   "cell_type": "code",
   "execution_count": null,
   "id": "bdd52253-ec7e-435c-aede-36bd15227360",
   "metadata": {},
   "outputs": [],
   "source": [
    "numbers = [0,1,2,3,4,5,6,7,8,9,10]\n",
    "numbers[0] = -1 #this will change the first value to -1\n",
    "numbers[-1] = 100 #change the last value to 100\n",
    "numbers[0] = numbers[0]*2 #multiply first value by 2 and update the value"
   ]
  },
  {
   "cell_type": "markdown",
   "id": "c44bcd03-f447-49dc-b395-b7f5d9280267",
   "metadata": {},
   "source": [
    "**Slicing can be used to change the value of set of elements in list.**"
   ]
  },
  {
   "cell_type": "code",
   "execution_count": null,
   "id": "ff21459b-b00e-48d7-b16f-ec8bb17ede1e",
   "metadata": {},
   "outputs": [],
   "source": [
    "numbers = [0,1,2,3,4,5,6,7,8,9,10]\n",
    "numbers[:2] = ['a','b'] #change the first two values to 'a' and 'b' respectively\n",
    "numbers[-2:] = numbers[:2] #copy first two values to last two values\n",
    "numbers[:] = numbers[::-1] #reversing the list and storing values back to list"
   ]
  },
  {
   "cell_type": "markdown",
   "id": "7517d116-c19a-4f50-a1bd-65b79184d1b6",
   "metadata": {},
   "source": [
    "### Populating a list"
   ]
  },
  {
   "cell_type": "markdown",
   "id": "4364f3a4-b9a3-45f1-bb9c-1dd0bdc8f091",
   "metadata": {},
   "source": [
    "Until now we have seen lists that are already populated (eg: fruitBasket). Now given an **empty list how will we populate it with values**. **Populating a list with values is a common task that we will be performing on a regular basis**. For example, a file might contain a lot of numbers that we might want to add to a list. Or you might want to add all the names of student from a class register to a list.\n",
    "\n",
    "The key method to **add a new element to a list is append().**\n",
    "\n",
    "```python\n",
    "list.append(newelement)\n",
    "```\n",
    "Lets look at a concrete example of populating an **empty list with numbers from 1 to 100**"
   ]
  },
  {
   "cell_type": "code",
   "execution_count": null,
   "id": "c70b4a30-7f40-4aea-8fa6-2c098ae10eb7",
   "metadata": {},
   "outputs": [],
   "source": [
    "numbers=[] # we will initially define an empty list. Another way is list()\n",
    "for number in range(1,101):\n",
    "    numbers.append(number) #append one number at a time\n",
    "print (numbers)  "
   ]
  },
  {
   "cell_type": "markdown",
   "id": "38306f63-831f-45e1-9675-caedbf27c761",
   "metadata": {},
   "source": [
    "Let's look at another interactive example. In this example the user will be **asked to input the number of fruits as well as the fruits, one at a time, and the fruits will be added to a list**."
   ]
  },
  {
   "cell_type": "code",
   "execution_count": null,
   "id": "dc5799c6-6e6e-40bd-b9b6-d8bd2f89d679",
   "metadata": {},
   "outputs": [],
   "source": [
    "fruitBasket = [] #An empty fruit basket\n",
    "howManyFruits = int(input('Enter number of types of fruit you want in the fruit basket'))\n",
    "for count in range(howManyFruits):\n",
    "    fruit = input ('Enter fruit '+str(count+1)+' and press Enter')\n",
    "    fruitBasket.append(fruit)\n",
    "print ('Your fruit basket',fruitBasket)"
   ]
  },
  {
   "cell_type": "markdown",
   "id": "a11ad89b-bd6e-44a9-80ab-8caafa572ab0",
   "metadata": {},
   "source": [
    "### Nested List"
   ]
  },
  {
   "cell_type": "markdown",
   "id": "b68148f6-404a-483b-b1a1-6df56adf517b",
   "metadata": {},
   "source": [
    "As previously mentioned **lists can have any datatype in them including lists as well as other containers.**\n",
    "\n",
    "Let's look at an example of populating a list of list or **nested list**\n",
    "\n",
    "In this example we will have each element as a list contining numbers from 1 to 100 and a string indicating whether they are even or odd. Example [[1,'odd'],[2,'even'],[3,'odd']]"
   ]
  },
  {
   "cell_type": "code",
   "execution_count": null,
   "id": "424f0b1d-2743-49d6-8111-77c129aa7c39",
   "metadata": {},
   "outputs": [],
   "source": [
    "numberOddEven = [] #An empty list\n",
    "for number in range (1,101):\n",
    "    if number%2==0: #check number is even\n",
    "        numberOddEven.append([number,'even']) #here we append list as an element\n",
    "    else:\n",
    "        numberOddEven.append([number,'odd'])\n",
    "print (numberOddEven)"
   ]
  },
  {
   "cell_type": "markdown",
   "id": "88cd996a-a3dd-490e-b7c3-c11fbeb4bd18",
   "metadata": {},
   "source": [
    "Elements inside a nested list can be accessed using **multi indexes**. Let's look at an example"
   ]
  },
  {
   "cell_type": "code",
   "execution_count": null,
   "id": "008bfa75-cb3d-401f-917f-a9e28ee479b4",
   "metadata": {},
   "outputs": [],
   "source": [
    "fruitCount = [['Apple',3],['Orange',5],['Grapes',100],['Pear',23]]\n",
    "print (fruitCount[0][0]) #this will print Apple\n",
    "print (fruitCount[1][1]) #this will print 5\n",
    "print (fruitCount[-1][0]) #this will print Pear\n",
    "\n",
    "print (fruitCount[-1][2]) #this will throw an error as the last element is a list with only two elements"
   ]
  },
  {
   "cell_type": "markdown",
   "id": "76003713-42a8-47af-abfe-d46fa36da484",
   "metadata": {},
   "source": [
    "Nested lists or nested containers are really powerful structures and are generally used in many applications. For example storing student records as a list of list [[1,'Jake','Computer Science'],[2,'Anne','Biology'],[3,'Jannet','Physics']]"
   ]
  },
  {
   "cell_type": "markdown",
   "id": "78eaa812-45cf-4d92-9bc7-cd3f5e911f8a",
   "metadata": {},
   "source": [
    "### List Methods"
   ]
  },
  {
   "cell_type": "markdown",
   "id": "7f03047f-697c-4138-ba5d-8982b8435a65",
   "metadata": {},
   "source": [
    "1. **Concatenating two lists using extend()**\n",
    "\n",
    "Two lists can be joined together using either **extend method or '+' operator**\n",
    "\n",
    "Lets look at an example of using extend"
   ]
  },
  {
   "cell_type": "code",
   "execution_count": null,
   "id": "9fd26440-cc57-4434-af0f-b14c0b03eb7d",
   "metadata": {},
   "outputs": [],
   "source": [
    "firstList = [1,2,3,4,5]\n",
    "secondList = [6,7,8,9,10]\n",
    "firstList.extend(secondList) #this will add the contents of secondList to firstList and update the firstList\n",
    "print (firstList) #[1,2,3,4,5,6,7,8,9,10]. if you do append this will be [1,2,3,4,5,[6,7,8,9,10]] (a list of list)\n",
    "print (secondList) #[6,7,8,9,10]"
   ]
  },
  {
   "cell_type": "markdown",
   "id": "fa90ebcc-d138-4fe1-99f6-da2cace27b82",
   "metadata": {},
   "source": [
    "Concatenating two lists using '+'"
   ]
  },
  {
   "cell_type": "code",
   "execution_count": null,
   "id": "61e3006b-37ec-453a-b5a8-66f9a824669f",
   "metadata": {},
   "outputs": [],
   "source": [
    "firstList = [1,2,3,4,5]\n",
    "secondList = [6,7,8,9,10]\n",
    "thirdlist = firstList+secondList #unlike extend,'+' operator creates a new list. We are storing the new list to third.\n",
    "print (firstList) #[1,2,3,4,5]\n",
    "print (secondList) #[6,7,8,9,10]\n",
    "print (thirdlist) #[1,2,3,4,5,6,7,8,9,10]"
   ]
  },
  {
   "cell_type": "markdown",
   "id": "c0125092-3fd3-4467-9e08-7a12c6af103f",
   "metadata": {},
   "source": [
    "2. **Insert element at a particular location (based on index) (insert())**\n",
    "\n",
    "Suppose you want to insert a new value to the list at a **particular location.**"
   ]
  },
  {
   "cell_type": "code",
   "execution_count": null,
   "id": "bf2196d6-06b5-442d-944d-2cbc9e0da6c0",
   "metadata": {},
   "outputs": [],
   "source": [
    "numbers = [0,2,3,4,5,6]\n",
    "#now you want to insert the letter 'X' to the second position (ie after 0) [0,'X',2,3,4,5,6]\n",
    "numbers.insert(1,'X') #note,since second position will have index 1 (as we have 0 based index)\n",
    "print (numbers)"
   ]
  },
  {
   "cell_type": "markdown",
   "id": "8379b13c-af94-4ab4-beba-f30b15787c81",
   "metadata": {},
   "source": [
    "3. **Remove an element at a particular location (pop())**"
   ]
  },
  {
   "cell_type": "code",
   "execution_count": null,
   "id": "2e6eda2d-dcb3-406f-a0c9-4f825dbf3b2c",
   "metadata": {},
   "outputs": [],
   "source": [
    "numbers = [0,1,2,3,4,5,6]\n",
    "#now you want to remove the third element from the list (at index 2) [0,1,3,4,5,6]\n",
    "numbers.pop(2)\n",
    "print (numbers)\n",
    "#if you want to remove just the last item you can just call pop() with out any argument\n",
    "numbers.pop()\n",
    "print (numbers)"
   ]
  },
  {
   "cell_type": "markdown",
   "id": "eff4598e-b760-40f7-b413-695d3b274998",
   "metadata": {},
   "source": [
    "4. **Check if an element exists in a list using 'in' operator**\n",
    "\n",
    "List are generally **not efficient for such key based searches**. "
   ]
  },
  {
   "cell_type": "code",
   "execution_count": null,
   "id": "da51edb8-5468-4ce3-ba56-aa01d3209cfb",
   "metadata": {},
   "outputs": [],
   "source": [
    "fruitBasket = ['apple','orange','grape','cherry','kiwi']\n",
    "fruitToCheck = 'kiwi'\n",
    "isFruitInBasket = fruitToCheck in fruitBasket #checks if fruitToCheck is present in the list and returns a boolean\n",
    "if isFruitInBasket:\n",
    "    print ('Yes',fruitToCheck,'in basket')\n",
    "else:\n",
    "    print ('Sorry',fruitToCheck,'is unavailable')"
   ]
  },
  {
   "cell_type": "markdown",
   "id": "f5bef37f-ed26-428c-8f5b-499b0b48ee8f",
   "metadata": {},
   "source": [
    "5. **Get the index of a searched element (index())**"
   ]
  },
  {
   "cell_type": "code",
   "execution_count": null,
   "id": "8cbf1b7f-8967-486c-b3be-8e4e4a4830d5",
   "metadata": {},
   "outputs": [],
   "source": [
    "fruitBasket = ['apple','orange','grape','cherry','kiwi']\n",
    "fruitToCheck = 'cherry'\n",
    "indexOfFruit = fruitBasket.index(fruitToCheck)\n",
    "print (fruitToCheck,'is at position',indexOfFruit,'or its element',indexOfFruit+1)\n",
    "#but if you check for a nonexistent element then index() will throw an error\n",
    "indexOfFruit = fruitBasket.index('lemon') #this will throw an error"
   ]
  },
  {
   "cell_type": "markdown",
   "id": "1f9b87cb-5406-4636-adab-ef91c550cf1b",
   "metadata": {},
   "source": [
    "For fun if you want to write this program using a loop with out index()"
   ]
  },
  {
   "cell_type": "code",
   "execution_count": null,
   "id": "bcc27304-93c2-4074-8948-9b6e40085e2b",
   "metadata": {},
   "outputs": [],
   "source": [
    "fruitBasket = ['apple','orange','grape','cherry','kiwi']\n",
    "fruitToCheck = 'cherry'\n",
    "start = 0 #loop variable for while loop\n",
    "isFruitInBasket = False #we are setting this to False initially\n",
    "while start<len(fruitBasket):\n",
    "    if fruitBasket[start] == fruitToCheck:\n",
    "        isFruitInBasket = True #yes we have found the fruit and its position is start\n",
    "        break #we don't need to continue this loop further\n",
    "    else:\n",
    "        start = start+1 #update the loop variable\n",
    "if isFruitInBasket:\n",
    "    print ('Yes',fruitToCheck,'is in basket and is at position',start,'and it is element',start+1)\n",
    "else:\n",
    "    print ('Sorry',fruitToCheck,'is unavailable')"
   ]
  },
  {
   "cell_type": "markdown",
   "id": "9dca3e32-5f75-48ad-828d-ae2bdbfd3d78",
   "metadata": {},
   "source": [
    "6. **Count the number of times a particular element appears in the list (count())**"
   ]
  },
  {
   "cell_type": "code",
   "execution_count": null,
   "id": "beb6b702-26c8-4dcc-90a3-feee00944686",
   "metadata": {},
   "outputs": [],
   "source": [
    "fruitBasket = ['apple','apple','apple','cherry','kiwi','orange']\n",
    "fruitToCount = 'apple'\n",
    "fruitCount = fruitBasket.count(fruitToCount)\n",
    "print (fruitCount)"
   ]
  },
  {
   "cell_type": "markdown",
   "id": "46f53511-d87f-471b-bb83-20472063917c",
   "metadata": {},
   "source": [
    "7. **Sort a list (sort())**\n",
    "\n",
    "**Sorting has many application in real-world and is a pre-cursor to many efficient algorithms for searching**. Its vastly studied and there are many efficient (merge-sort,quick-sort) and in-efficent(insertion-sort,bubble-sort) algorithms for sorting a sequence. "
   ]
  },
  {
   "cell_type": "code",
   "execution_count": null,
   "id": "1486fc90-5045-4499-b7c7-21aa70959e16",
   "metadata": {},
   "outputs": [],
   "source": [
    "numbers = [10,7,1,45,63,23,12]\n",
    "numbers.sort() #this will do sorting in ascending order and numbers.sort(reverse=True) will do sorting in descending\n",
    "print (numbers) #[1,7,10,12,23,45,63]\n",
    "\n",
    "fruitBasket = ['apple','orange','grape','cherry','kiwi']\n",
    "fruitBasket.sort() #this will do a lexical sorting\n",
    "print (fruitBasket) #['apple', 'cherry', 'grape', 'kiwi', 'orange']"
   ]
  },
  {
   "cell_type": "markdown",
   "id": "1d600978-02a2-49b1-ba5b-157c77c5ff76",
   "metadata": {},
   "source": [
    "The sort() method is 'inplace' as it modifies the original list rather than creating a new list"
   ]
  },
  {
   "cell_type": "markdown",
   "id": "ca305b96-af09-48e8-a838-eb380db1b134",
   "metadata": {},
   "source": [
    "### More List Recipies"
   ]
  },
  {
   "cell_type": "markdown",
   "id": "7d8b10bb-5e82-46b6-9c01-97fd954f48e8",
   "metadata": {},
   "source": [
    "1. **Finding the maximum element in a list (max())**\n",
    "\n",
    "This could be done in a single line using built-in max() function in Python"
   ]
  },
  {
   "cell_type": "code",
   "execution_count": null,
   "id": "a52f92dc-5e16-4a17-8772-c27e95e64d58",
   "metadata": {},
   "outputs": [],
   "source": [
    "numbers = [10,7,1,45,63,23,12]\n",
    "maximum = max(numbers)\n",
    "print (maximum)"
   ]
  },
  {
   "cell_type": "markdown",
   "id": "2699e744-1591-432a-a2ec-6f3369aaa0c9",
   "metadata": {},
   "source": [
    "We can also use loops to write this program"
   ]
  },
  {
   "cell_type": "code",
   "execution_count": null,
   "id": "fc6e2716-0b2d-441b-9fad-1daa5619103e",
   "metadata": {},
   "outputs": [],
   "source": [
    "numbers = [10,7,1,45,63,23,12]\n",
    "maximum = numbers[0] #declare the first number as largest\n",
    "for number in numbers:\n",
    "    if number>maximum: #check if current number is greater than maximum\n",
    "        maximum = number # if so change the current maximum to the current number\n",
    "print (maximum)"
   ]
  },
  {
   "cell_type": "markdown",
   "id": "0b79e68a-733a-4487-a3a6-57cb6e6da635",
   "metadata": {},
   "source": [
    "2. **Finding the minimum element in a list (min())**"
   ]
  },
  {
   "cell_type": "code",
   "execution_count": null,
   "id": "d3672370-24c9-4ced-9a35-077b2dc431fb",
   "metadata": {},
   "outputs": [],
   "source": [
    "numbers = [10,7,1,45,63,23,12]\n",
    "minimum = min(numbers)\n",
    "print (minimum)"
   ]
  },
  {
   "cell_type": "markdown",
   "id": "a196d63b-49a9-4c1c-ab78-0a67e11f0edd",
   "metadata": {},
   "source": [
    "And with loop"
   ]
  },
  {
   "cell_type": "code",
   "execution_count": null,
   "id": "15f5c3bd-5db3-4556-8c1c-d538a849c0cd",
   "metadata": {},
   "outputs": [],
   "source": [
    "numbers = [10,7,1,45,63,23,12]\n",
    "minimum = numbers[0] #declare the first number as largest\n",
    "for number in numbers:\n",
    "    if number<minimum: #check if current number is less than minimum\n",
    "        minimum = number # if so change the current minimum to the current number\n",
    "print (minimum)"
   ]
  },
  {
   "cell_type": "markdown",
   "id": "8f8b965b-389e-4094-8130-291a799cd5b7",
   "metadata": {},
   "source": [
    "3. **Mean of numbers**"
   ]
  },
  {
   "cell_type": "code",
   "execution_count": null,
   "id": "69fc3c1f-934a-4ac5-9b2e-3ea13e524cc1",
   "metadata": {},
   "outputs": [],
   "source": [
    "numbers = [10,7,1,45,63,23,12]\n",
    "total = 0 #this is going to be our accumulator\n",
    "for number in numbers:\n",
    "    total = total+number\n",
    "mean = total/len(numbers)\n",
    "print ('Mean of numbers',mean)"
   ]
  },
  {
   "cell_type": "markdown",
   "id": "8299fbf3-61ed-40fa-96b7-f0ab7c27792b",
   "metadata": {},
   "source": [
    "4. **Adding numbers from two lists to create a new list**"
   ]
  },
  {
   "cell_type": "code",
   "execution_count": null,
   "id": "3acaa457-d66a-4351-a6e7-44b1aeeceac7",
   "metadata": {},
   "outputs": [],
   "source": [
    "sumList = [] #output list\n",
    "firstList = [1,2,3,4]\n",
    "secondList = [1,2,3,4]\n",
    "for index in range(len(firstList)):  #this will only work if both the list are of same length\n",
    "    sumList.append(firstList[index]+secondList[index]) #add a new element to the output list\n",
    "print (sumList)"
   ]
  },
  {
   "cell_type": "markdown",
   "id": "beee2932-90b9-45e5-8896-b4bdadb73c97",
   "metadata": {},
   "source": [
    "## Tuples"
   ]
  },
  {
   "cell_type": "markdown",
   "id": "a43e5d29-3314-49ce-9308-2dc6a18e007f",
   "metadata": {},
   "source": [
    "Our next container is **tuple** and is very similar to list except for the fact that **tuples** are **immutable** (cannot be changed)."
   ]
  },
  {
   "cell_type": "markdown",
   "id": "cc6e00d5-9f89-46e0-92bb-6fbff85d172a",
   "metadata": {},
   "source": [
    "### Declaring a tuple"
   ]
  },
  {
   "cell_type": "markdown",
   "id": "cff29d62-f9fd-46b2-adb8-a15ccb893547",
   "metadata": {},
   "source": [
    "Tuples are declared using parantheses **()**"
   ]
  },
  {
   "cell_type": "code",
   "execution_count": null,
   "id": "3c5180d7-6bb4-46b3-af0c-64f7f4ba5d65",
   "metadata": {},
   "outputs": [],
   "source": [
    "numberTuple = (1,2,3,4)\n",
    "stringTuple = ('jay','sarah','john','kevin')\n",
    "mixedTuple = ('jay',1,34.56,False)\n",
    "singleElementTuple = (1,) #for single element tuple you need to have a comma after the single element"
   ]
  },
  {
   "cell_type": "markdown",
   "id": "29ad02bc-f624-4796-8c37-f248d21632fa",
   "metadata": {},
   "source": [
    "Tuples are also **sequences and can be accessed through looping**. **len(tuple) gives the length of tuple**."
   ]
  },
  {
   "cell_type": "code",
   "execution_count": null,
   "id": "81f5c68e-443a-45ae-b681-b81d41bd7d6f",
   "metadata": {},
   "outputs": [],
   "source": [
    "fruitTuple = ('orange','lemon','grape','pappaya')\n",
    "for fruit in fruitTuple:\n",
    "    print (fruit)"
   ]
  },
  {
   "cell_type": "markdown",
   "id": "10a926eb-1a41-450f-813d-f04a2c0cd209",
   "metadata": {},
   "source": [
    "Tuples also support access via **indexing as well as slicing**"
   ]
  },
  {
   "cell_type": "code",
   "execution_count": null,
   "id": "e62a4e5b-3217-405f-b6a4-33bec861fae2",
   "metadata": {},
   "outputs": [],
   "source": [
    "fruitTuple = ('orange','lemon','grape','pappaya')\n",
    "print (fruitTuple[0]) #should print orange\n",
    "print (fruitTuple[0:2]) #should print ('orange','lemon')\n",
    "print (fruitTuple[-1]) #should print pappaya\n",
    "print (fruitTuple[-2:]) #should print ('grape','pappaya')"
   ]
  },
  {
   "cell_type": "markdown",
   "id": "4c5ab36e-8a3d-463f-bf37-70c8b1978cd7",
   "metadata": {},
   "source": [
    "### Comparing List and Tuples"
   ]
  },
  {
   "cell_type": "markdown",
   "id": "a55233cf-993d-4afd-b98e-92f33019d8b1",
   "metadata": {},
   "source": [
    "**List is mutable (values can be changed) while tuple is immutable (values cannot be changed)**\n",
    "\n",
    "Let's see a concrete example"
   ]
  },
  {
   "cell_type": "code",
   "execution_count": null,
   "id": "2cadf9d4-e856-4b72-82ec-9a99e615198e",
   "metadata": {},
   "outputs": [],
   "source": [
    "numberList = [1,2,3,4,5,6]\n",
    "numberTuple = (1,2,3,4,5,6)\n",
    "numberList[0] = 100 #this is perfectly valid\n",
    "numberTuple[0] = 100 #this will raise an error as lists are immutable. Once created, it can't be changed\n",
    "numberList[-2:] = ['a','b'] #perfectly valid and will change the last two values\n",
    "numberTuple[-2:] = ['a','b'] #will raise an error"
   ]
  },
  {
   "cell_type": "markdown",
   "id": "c1b85cb1-b042-4872-be04-7d3b3b3f4a6f",
   "metadata": {},
   "source": [
    "## Strings"
   ]
  },
  {
   "cell_type": "markdown",
   "id": "3d304d61-d662-4886-bf13-638d050baacd",
   "metadata": {},
   "source": [
    "We have already encountered strings before (as a datatype). Strings are **containers of characters.**\n",
    "\n",
    "Different ways of representing Strings"
   ]
  },
  {
   "cell_type": "code",
   "execution_count": null,
   "id": "d69de25c-d32a-43fb-9333-bd2106eb1068",
   "metadata": {},
   "outputs": [],
   "source": [
    "string1 = 'This is a string'\n",
    "string2 = \"This is also a string\"\n",
    "string3 = \"\"\"This is a \n",
    "          multiline string\"\"\""
   ]
  },
  {
   "cell_type": "markdown",
   "id": "19cde167-2e8e-4ab0-bf6c-b0fc57ecacb5",
   "metadata": {},
   "source": [
    "A container representation of string\n",
    "```python\n",
    "name = 'JOHN'\n",
    "```\n",
    "![stringascontainer](sampleImages/stringascontainer.PNG)"
   ]
  },
  {
   "cell_type": "markdown",
   "id": "5f576c8a-7a9b-48f9-93eb-a7df13db17e1",
   "metadata": {},
   "source": [
    "### Similarity to tuples/list"
   ]
  },
  {
   "cell_type": "markdown",
   "id": "793e6fbb-d66d-4b79-8ee3-b4adfa90b6d8",
   "metadata": {},
   "source": [
    "**We can loop through each character in a string**"
   ]
  },
  {
   "cell_type": "code",
   "execution_count": null,
   "id": "131500cf-9115-443a-9040-6b371a5cf204",
   "metadata": {},
   "outputs": [],
   "source": [
    "name = 'jay'\n",
    "for character in name:\n",
    "    print (character)"
   ]
  },
  {
   "cell_type": "markdown",
   "id": "69136e87-0e75-46b3-add0-f7ccb1b338b3",
   "metadata": {},
   "source": [
    "The sample code shown above prints \n",
    "j\n",
    "a\n",
    "y\n",
    "\n",
    "Strings are also a **sequence and len(string) will give the length of string.**"
   ]
  },
  {
   "cell_type": "code",
   "execution_count": null,
   "id": "304081c0-5c79-48c4-9e6c-d4b76132fc8f",
   "metadata": {},
   "outputs": [],
   "source": [
    "name = 'jay'\n",
    "for index in range(len(name)):\n",
    "    print (name[index])"
   ]
  },
  {
   "cell_type": "markdown",
   "id": "e1b923d0-ada4-4df7-80d6-42d0f0f1c06c",
   "metadata": {},
   "source": [
    "Elements of a string (characters) can be accessed via **indexing as well as slicing.**"
   ]
  },
  {
   "cell_type": "code",
   "execution_count": null,
   "id": "8dabd77f-ddd3-43d5-976e-f4e3a1b9b29a",
   "metadata": {},
   "outputs": [],
   "source": [
    "sampleString = 'This is a test string'\n",
    "print (sampleString[0]) #will print 'T'\n",
    "print (sampleString[-1]) #will print 'g'\n",
    "print (sampleString[0:2]) #will print 'Th'\n",
    "print (sampleString[-2:]) #will print 'ng'\n",
    "print (sampleString[5:]) #will print 'is a test string'\n",
    "print (sampleString[::2]) #will print every other character"
   ]
  },
  {
   "cell_type": "markdown",
   "id": "c9ce3bce-a7ce-4c1c-831a-9c546d1ec1d7",
   "metadata": {},
   "source": [
    "**Strings are immutable**\n",
    "\n",
    "Strings are immutable like tuples (unlike lists which are mutable)\n"
   ]
  },
  {
   "cell_type": "code",
   "execution_count": null,
   "id": "614cf3e2-8bab-4bec-83b1-f69f6b879acc",
   "metadata": {},
   "outputs": [],
   "source": [
    "name = 'jay'\n",
    "name[0] = 'k' #this will raise an error as strings are immutable\n",
    "name[0:2] = 'Ma' #this will also raise error due to immutability property of strings"
   ]
  },
  {
   "cell_type": "markdown",
   "id": "7e7fccb1-a201-4ded-a8a4-79c05b0de559",
   "metadata": {},
   "source": [
    "### String methods"
   ]
  },
  {
   "cell_type": "markdown",
   "id": "9f7f3912-3d27-41ca-86f5-d05c0dab6e98",
   "metadata": {},
   "source": [
    "1. **Concatenating strings ('+' operator)**\n",
    "\n",
    "Strings can be concatenated using the '+' operator which generates a new string"
   ]
  },
  {
   "cell_type": "code",
   "execution_count": null,
   "id": "94a5d3e8-f76d-4c9a-a5e1-fe0258f24fe5",
   "metadata": {},
   "outputs": [],
   "source": [
    "string1 = 'My name is '\n",
    "string2 = 'Jay'\n",
    "string3 = string1+string2 # will concatenate string1 and string2 and will return a new string 'My name is Jay'\n",
    "print (string3)"
   ]
  },
  {
   "cell_type": "markdown",
   "id": "6dc29bea-8b74-4371-b35d-23b1b8a00270",
   "metadata": {},
   "source": [
    "Another example where user **input names of friends one by one to create a string of friends seperated by space**"
   ]
  },
  {
   "cell_type": "code",
   "execution_count": null,
   "id": "9a7c4757-c185-428d-bb3e-e6196554f014",
   "metadata": {},
   "outputs": [],
   "source": [
    "numberOfFriends = int(input('Please enter number of friends and press enter'))\n",
    "friendString = '' #empty string which we are going to update on each iteration\n",
    "for count in range(numberOfFriends):\n",
    "    friend = input('Please enter name of friend '+str(count+1))\n",
    "    friendString = friendString + friend + ' ' #update friendString\n",
    "print (friendString)"
   ]
  },
  {
   "cell_type": "markdown",
   "id": "84dc8051-c13c-4e7f-ba4e-ed74b9f546e5",
   "metadata": {},
   "source": [
    "Another example where user input names of friends one by one to create a string of friends seperated by space"
   ]
  },
  {
   "cell_type": "markdown",
   "id": "ddea1a48-4427-411c-82da-f756fb2a1140",
   "metadata": {},
   "source": [
    "2. **Changing case of string (upper and lower)**\n",
    "\n",
    "Changing case of string is extremely useful during string pattern searching.\n"
   ]
  },
  {
   "cell_type": "code",
   "execution_count": null,
   "id": "5b1c646a-7ce2-469a-b490-a4275545b0d5",
   "metadata": {},
   "outputs": [],
   "source": [
    "name = 'Jay'\n",
    "nameLower = name.lower()  #will return 'jay'\n",
    "nameUpper = name.upper()  #will return 'JAY'"
   ]
  },
  {
   "cell_type": "markdown",
   "id": "864b3939-944e-4d05-9d9b-7f27b8a9bd32",
   "metadata": {},
   "source": [
    "Let's look at some examples where changing case might be useful"
   ]
  },
  {
   "cell_type": "code",
   "execution_count": null,
   "id": "48ff696f-dd1f-48c9-a49a-d61cd3461e15",
   "metadata": {},
   "outputs": [],
   "source": [
    "fruitBasket = ['Apple','Orange','Grapes','Pear']\n",
    "fruitToCheck = 'apple'\n",
    "isFruitInBasket = fruitToCheck in fruitBasket #this will evaluate to False as 'apple' != 'Apple'\n",
    "print (isFruitInBasket)\n",
    "\n",
    "#now lets write a loop and check each element by element\n",
    "isFruitInBasket2 = False\n",
    "for fruit in fruitBasket:\n",
    "    if fruit == fruitToCheck:\n",
    "        isFruitInBasket2 = True\n",
    "        break\n",
    "#this will also evaluate to False as 'apple' != 'Apple'\n",
    "print (isFruitInBasket2)\n",
    "\n",
    "#now lets use lower() function to lower() both the fruitToCheck and the fruit string\n",
    "isFruitInBasket3 = False\n",
    "for fruit in fruitBasket:\n",
    "    if fruit.lower() == fruitToCheck.lower(): #this will change the fruit string and the fruitToCheck to lower case\n",
    "        isFruitInBasket3 = True\n",
    "        break\n",
    "#this will evaluate to True as 'apple' == 'apple'\n",
    "print (isFruitInBasket3)"
   ]
  },
  {
   "cell_type": "markdown",
   "id": "117e3e04-d312-4c15-8c1c-2ca5727f1c6a",
   "metadata": {},
   "source": [
    "3. **Substring matching using 'in' operator**\n",
    "\n",
    "Substring matching is a very popular method in string which has a **wide range of application such as genome sequence matching**"
   ]
  },
  {
   "cell_type": "code",
   "execution_count": null,
   "id": "82123f99-201c-4805-be95-e749045ffec8",
   "metadata": {},
   "outputs": [],
   "source": [
    "stringToMatch = 'Covid-19'\n",
    "document = 'John was suffering from shortness of breath dyspnea which are typical symptoms of covid-19'\n",
    "isMatch1 = stringToMatch in document #this will evaluate to False as 'Covid-19' != 'covid-19'\n",
    "print (isMatch1)\n",
    "isMatch2 = stringToMatch.lower() in document.lower() #will be True as 'covid-19' == 'covid-19'\n",
    "print (isMatch2)"
   ]
  },
  {
   "cell_type": "markdown",
   "id": "992283ea-b7cd-4fe0-9bca-5f97d565cd58",
   "metadata": {},
   "source": [
    "4. **Check whether string starts with a particular pattern (startswith)**\n",
    "\n",
    "For example check whether a string starts with a pattern 'happy'"
   ]
  },
  {
   "cell_type": "code",
   "execution_count": null,
   "id": "3c49679e-7dba-4726-83ce-86d47671f0d7",
   "metadata": {},
   "outputs": [],
   "source": [
    "pattern = 'happy'\n",
    "document = 'Happy birthday to you'\n",
    "isStarts1 = document.startswith(pattern) # will evaluate to False as 'happy' != 'Happy'\n",
    "print (isStarts1)\n",
    "isStarts2 = document.lower().startswith(pattern.lower()) # will evaluate to True as 'happy' == 'happy'\n",
    "print (isStarts2)"
   ]
  },
  {
   "cell_type": "markdown",
   "id": "5c34e083-74f8-4460-b500-850a4d511aa9",
   "metadata": {},
   "source": [
    "5. **Check whether string ends with a particular pattern (endswith)**\n",
    "For example check whether a string starts with a pattern '.txt'"
   ]
  },
  {
   "cell_type": "code",
   "execution_count": null,
   "id": "52aff8fc-497b-4121-940f-cc7a4df8ef61",
   "metadata": {},
   "outputs": [],
   "source": [
    "pattern = '.txt'\n",
    "fileName1 = 'ledger.csv'\n",
    "fileName2 = 'ledger2.txt'\n",
    "isEnds1 = fileName1.endswith(pattern) # will evaluate to False\n",
    "isEnds2 = fileName2.endswith(pattern) # will evaluate to True"
   ]
  },
  {
   "cell_type": "markdown",
   "id": "2d38afbd-6cbe-4e93-b764-72b3f8de2553",
   "metadata": {},
   "source": [
    "6. **Remove white space from a string using strip()**"
   ]
  },
  {
   "cell_type": "code",
   "execution_count": null,
   "id": "bb69712e-5464-4b5d-8aed-301e842b2968",
   "metadata": {},
   "outputs": [],
   "source": [
    "name = '  Jay   '\n",
    "whiteSpacesRemoved = name.strip()\n",
    "print (whiteSpacesRemoved) # should print 'Jay'"
   ]
  },
  {
   "cell_type": "markdown",
   "id": "842dbb75-567a-4fb8-b224-686902b76aa1",
   "metadata": {},
   "source": [
    "7. **Check if all the characters in a string are alphanumeric (alphabet and number)**"
   ]
  },
  {
   "cell_type": "code",
   "execution_count": null,
   "id": "87b5df94-1969-4a68-9fb7-2aeacd267354",
   "metadata": {},
   "outputs": [],
   "source": [
    "string1 = 'Jay '\n",
    "string2 = 'password1234'\n",
    "print (string1.isalnum()) #this will return False as the white space is not a number or alphabet\n",
    "print (string2.isalnum()) #this will return True"
   ]
  },
  {
   "cell_type": "markdown",
   "id": "6b20b8f9-9f87-4beb-8bf1-05c4959bd434",
   "metadata": {},
   "source": [
    "8. **Check if all characters in a string are alphabets only**"
   ]
  },
  {
   "cell_type": "code",
   "execution_count": null,
   "id": "d8a89065-0019-4813-a7bd-d3241a752b6d",
   "metadata": {},
   "outputs": [],
   "source": [
    "string1 = 'jay'\n",
    "string2 = 'jay123'\n",
    "print (string1.isalpha()) #this will return True\n",
    "print (string2.isalpha()) #this will return False as there are numbers in string2"
   ]
  },
  {
   "cell_type": "markdown",
   "id": "4cabfa49-e26a-4d0c-82a0-791aaf74ef94",
   "metadata": {},
   "source": [
    "9. **Check if all characters in a string are digits only**"
   ]
  },
  {
   "cell_type": "code",
   "execution_count": 89,
   "id": "0c8d7f54-d77d-4275-90a1-3261fbe17eaf",
   "metadata": {},
   "outputs": [
    {
     "name": "stdout",
     "output_type": "stream",
     "text": [
      "False\n",
      "True\n"
     ]
    }
   ],
   "source": [
    "string1 = 'jay1'\n",
    "string2 = '123'\n",
    "print (string1.isdigit()) #this will return False as there are non digit characters\n",
    "print (string2.isdigit()) #this will return True"
   ]
  },
  {
   "cell_type": "markdown",
   "id": "40b221e9-750d-48cc-bebe-ff91c4bc316a",
   "metadata": {},
   "source": [
    "10. **Check if string contains only white spaces**"
   ]
  },
  {
   "cell_type": "code",
   "execution_count": null,
   "id": "9821a370-2449-478f-83fb-7e488bb06423",
   "metadata": {},
   "outputs": [],
   "source": [
    "string1 = '       '\n",
    "string2 = '      .'\n",
    "print (string1.isspace()) #this will return True as the string has only white spaces\n",
    "print (string2.isspace()) #this will return False as there is a '.' at the end\n"
   ]
  },
  {
   "cell_type": "markdown",
   "id": "3f48f706-12c0-4eff-9e05-d3e4ae771b30",
   "metadata": {},
   "source": [
    "11. **Split a string into list of words using seperator as delimiter.**\n",
    "\n",
    "The seperator can be ',' or white space ' ' or any string. This is a **key method to tokenize a sentence** ('My name is Jay') to a list of words or seperate out words from a comma delimited sentence ('name,age,sex')."
   ]
  },
  {
   "cell_type": "code",
   "execution_count": null,
   "id": "b8913ddf-e6f1-4c30-a673-364a17dc0442",
   "metadata": {},
   "outputs": [],
   "source": [
    "spaceDelimitedSentence = 'My name is Jay'\n",
    "sentTenceToWord = spaceDelimitedSentence.split() #this will create a list of the form ['My','name','is','Jay']\n",
    "print (sentTenceToWord)\n",
    "commaDelimitedText = 'Name,Age,Sex'\n",
    "commaDelimitedTokens = commaDelimitedText.split(',') #this will create a list ['Name','Age','Sex']\n",
    "print (commaDelimitedTokens)\n",
    "#When the seperator is white space split() doesnot require an argument, but otherwise it should be provided (',')\n",
    "pipeDelimitedText = 'How|are|you'\n",
    "pipeDelimitedTokens = pipeDelimitedText.split('|') #this will create a list ['How','are','you']\n",
    "print (pipeDelimitedTokens)"
   ]
  },
  {
   "cell_type": "markdown",
   "id": "db276ade-c118-48e0-8c33-bcac01784f8b",
   "metadata": {},
   "source": [
    "12. **Converting list of strings to single string  (join())**"
   ]
  },
  {
   "cell_type": "code",
   "execution_count": null,
   "id": "bfd3a0f5-f3aa-4ea6-8791-5382b58c78b5",
   "metadata": {},
   "outputs": [],
   "source": [
    "listOfString = ['Name','Age','Sex']\n",
    "commaSeperatedString = ','.join(listOfString) #this will create a string 'Name,Age,Sex'\n",
    "print (commaSeperatedString)\n",
    "pipeSeperatedString = '|'.join(listOfString) #this will create a string 'Name|Age|Sex'\n",
    "print (pipeSeperatedString)\n",
    "spaceSeperatedString = ' '.join(listOfString) #this will create a string 'Name Age Sex'\n",
    "print (spaceSeperatedString)"
   ]
  },
  {
   "cell_type": "markdown",
   "id": "70249a46-41eb-4547-95a0-1e022c0086bf",
   "metadata": {},
   "source": [
    "13. **Replacing a subsequence of a string with another subsequence (replace())**"
   ]
  },
  {
   "cell_type": "code",
   "execution_count": null,
   "id": "85180bbb-4973-476f-9d94-c7777d26d500",
   "metadata": {},
   "outputs": [],
   "source": [
    "mainString = 'This is a slow computer. Really slow!!'\n",
    "newString1 = mainString.replace('slow','fast') # 'This is a fast computer. Really fast!!'\n",
    "newString2 = mainString.replace('machine','fast') # Won't replace anything\n",
    "print (newString1)\n",
    "print (newString2)"
   ]
  },
  {
   "cell_type": "markdown",
   "id": "37ffde16-3e5a-494a-9dce-2266223edef2",
   "metadata": {},
   "source": [
    "## Dictionaries (Dict)"
   ]
  },
  {
   "cell_type": "markdown",
   "id": "c35dd8b0-7b3a-4b88-a988-5891ecc78295",
   "metadata": {},
   "source": [
    "Dictionaries are one of the heavily used containers in Python.\n",
    "\n",
    "As the name suggests they are very **similar to word dictionaries that we are used to**. You lookup for a word using the word as the key and get its details. \n",
    "\n",
    "![real_dictionary](sampleImages/real_dictionary.jpg)\n",
    "\n",
    "Another example is **Yellow Pages**. You lookup for a business establishment using its **name as key** and get the **phone number as value**. \n",
    "\n",
    "![yellowpages](sampleImages/downloadyellowpages.jpg)\n",
    "\n",
    "So we could basically say, **dictionaries are optimized for lookups (key-->value)**."
   ]
  },
  {
   "cell_type": "markdown",
   "id": "26492be0-08d4-4514-a1cd-f3d38402214d",
   "metadata": {},
   "source": [
    "### Declaring a Dictionary"
   ]
  },
  {
   "cell_type": "markdown",
   "id": "8624382d-6008-4576-8b89-9b6d702850a0",
   "metadata": {},
   "source": [
    "A dictionary is declared using curly brackets (**{}**), or using dict(). **Dictionaries doesnot support duplicate keys**\n",
    "\n",
    "Let's look at some sample code blocks with dictionaries"
   ]
  },
  {
   "cell_type": "code",
   "execution_count": null,
   "id": "4dae36e7-d6c1-4581-b147-58a5a3f0445a",
   "metadata": {},
   "outputs": [],
   "source": [
    "studentDetails = {'1ASD34':'Jay Ajay','1AQD34':'Sam Shankland','1AQD33':'Matt Morgan'} #key and value are strings\n",
    "fruitCounts = {'apple':3,'orange':5,'banana':10,'grapes':100} #key is string and value is int\n",
    "temperatureCountries = {'India':[34.5,35,37],'US':[31.5,32.5,33],'UK':[30.5,30.8,30.7]} #key is string and value is list\n",
    "employeeDetails = {11345:{'Name':'Jay','Dept':'PQHS'},1121:{'Name':'Tim','Dept':'Engg'}} #key is int and value is dict\n",
    "games = {'racquet':('tennis','badminton','squash'),'board':('chess','monoply')} #key is string and value is tuple"
   ]
  },
  {
   "cell_type": "markdown",
   "id": "4e8c058d-a601-42dc-bc43-ef432316b57f",
   "metadata": {},
   "source": [
    "### Searching for a key"
   ]
  },
  {
   "cell_type": "markdown",
   "id": "0aee06b5-1d79-4a9b-bb6d-f4d1281893cc",
   "metadata": {},
   "source": [
    "One of the main strength of dictionary is its ability to do fast lookups using keys. We use **in** operator for searching whether a key is present in a dictionary."
   ]
  },
  {
   "cell_type": "code",
   "execution_count": null,
   "id": "3cb82eb5-dc01-49ff-a087-8e1be34404e1",
   "metadata": {},
   "outputs": [],
   "source": [
    "fruitCounts = {'apple':3,'orange':5,'banana':10,'grapes':100,'peach':1,'mango':5}\n",
    "fruitToCheck1 = 'mango'\n",
    "isFruitPresent1  = fruitToCheck1 in fruitCounts #this will evaluate to True\n",
    "fruitToCheck2 = 'lemon'\n",
    "isFruitPresent2  = fruitToCheck2 in fruitCounts #this will evaluate to False"
   ]
  },
  {
   "cell_type": "markdown",
   "id": "d17561ce-b646-4126-9b6b-01c1820deeba",
   "metadata": {},
   "source": [
    "So searching for a key in a dictionary is very **similar to searching for an element in list.**\n",
    "\n",
    "But the difference is that **key based searches are highly efficient and fast in dictionary** when compared to list.\n"
   ]
  },
  {
   "cell_type": "markdown",
   "id": "d1b03b95-31c1-44b4-857b-a72e7cc6018d",
   "metadata": {},
   "source": [
    "### Accessing Value for a key"
   ]
  },
  {
   "cell_type": "markdown",
   "id": "68bd48ab-f482-4c23-8051-709d1aabb2bc",
   "metadata": {},
   "source": [
    "**Dictionary uses key based indexing (like positional indexes in list, tuple, and string)**. \n",
    "\n",
    "Let's see some examples"
   ]
  },
  {
   "cell_type": "code",
   "execution_count": null,
   "id": "afd769b4-c8b5-4f2d-8c69-2c7ffd084607",
   "metadata": {},
   "outputs": [],
   "source": [
    "fruitCounts = {'apple':3,'orange':5,'banana':10,'grapes':100,'peach':1,'mango':5}\n",
    "print (fruitCounts['apple']) #this will print 3\n",
    "print (fruitCounts['grapes']) #this will print 100\n",
    "print (fruitCounts['lemon']) #this will thrown an error as the key is not present"
   ]
  },
  {
   "cell_type": "markdown",
   "id": "73ca27e9-2366-45ca-b082-c29a10f7fda6",
   "metadata": {},
   "source": [
    "Trying to **access the value of a key that's missing will result in an error**. If you want to prevent this error you need to **first check whether the key is present using in operator** and based on the result (True/False), access the value"
   ]
  },
  {
   "cell_type": "code",
   "execution_count": null,
   "id": "c05e2d13-6928-4fc4-bd3e-ed3b697b994a",
   "metadata": {},
   "outputs": [],
   "source": [
    "fruitCounts = {'apple':3,'orange':5,'banana':10,'grapes':100,'peach':1,'mango':5}\n",
    "if 'lemon' in fruitCounts: #check if lemon exists in dictionary.\n",
    "    print (fruitCounts['lemon']) #if lemon exists get its value\n",
    "else:\n",
    "    print ('lemon not in the dictionary') #lemon doesnot exists"
   ]
  },
  {
   "cell_type": "markdown",
   "id": "1b7d864b-c5c5-4bd0-8f9f-7467f331cb6f",
   "metadata": {},
   "source": [
    "### Looping through a dictionary"
   ]
  },
  {
   "cell_type": "markdown",
   "id": "d2d02239-6b1a-4acd-9338-dc1c01d4eae0",
   "metadata": {},
   "source": [
    "We can use a **for loop to iteratively go through the keys in a dictionary**.\n",
    "\n",
    "Let's look at an example"
   ]
  },
  {
   "cell_type": "code",
   "execution_count": null,
   "id": "71ee56ad-a862-451b-841b-efea0ddd0985",
   "metadata": {},
   "outputs": [],
   "source": [
    "fruitCounts = {'apple':3,'orange':5,'banana':10,'grapes':100,'peach':1,'mango':5}\n",
    "for fruit in fruitCounts: #this will go through the keys one by one. Order is not preserved\n",
    "    print ('Key is',fruit,'and value is',fruitCounts[fruit])"
   ]
  },
  {
   "cell_type": "markdown",
   "id": "789785fa-c6da-4d5d-bbc2-9a3e01102281",
   "metadata": {},
   "source": [
    "**Looping through a dictionary is not an efficient technique as dictionaries are not build for such operations**. The key **capability of a dictionary is the ability to do faster lookups**."
   ]
  },
  {
   "cell_type": "markdown",
   "id": "8ebfb973-8502-4622-bf62-4d4163c5f1b7",
   "metadata": {},
   "source": [
    "### Populating a dictionary"
   ]
  },
  {
   "cell_type": "markdown",
   "id": "54bcc352-a16b-4c10-8acd-beb2cecf5ee8",
   "metadata": {},
   "source": [
    "Let's look at how we can add a new value to an existing dictionary"
   ]
  },
  {
   "cell_type": "code",
   "execution_count": null,
   "id": "5f2c8c7e-33ee-4fda-b9e9-324bcf3298b2",
   "metadata": {},
   "outputs": [],
   "source": [
    "fruitCounts = {'apple':3,'orange':5,'banana':10,'grapes':100,'peach':1,'mango':5}\n",
    "#lets add lemon to this dictionary with a value 25\n",
    "fruitCounts['lemon'] = 25"
   ]
  },
  {
   "cell_type": "markdown",
   "id": "0563ab60-8e5f-43d9-8118-b24f171d534a",
   "metadata": {},
   "source": [
    "**Adding an existing key to the dictionary will overwrite the old value (careful!!)**"
   ]
  },
  {
   "cell_type": "code",
   "execution_count": null,
   "id": "1d51a8c0-ea31-402b-8734-c62134871616",
   "metadata": {},
   "outputs": [],
   "source": [
    "fruitCounts = {'apple':3,'orange':5,'banana':10,'grapes':100,'peach':1,'mango':5}\n",
    "#add apple with a value 20\n",
    "fruitCounts['apple'] = 20"
   ]
  },
  {
   "cell_type": "markdown",
   "id": "2dbcb3fe-9690-4bec-9458-d2be8a0974bf",
   "metadata": {},
   "source": [
    "Now we look at **populating an empty dictionary, which is a common task**."
   ]
  },
  {
   "cell_type": "code",
   "execution_count": null,
   "id": "b426405b-2971-4e69-a956-d475e1faf5d7",
   "metadata": {},
   "outputs": [],
   "source": [
    "fruitBasket = {} #an empty dictionary\n",
    "fruitDetails =[['pear',45],['plum',50],['grapes',100],['cherry',1000]] # a list of list with details\n",
    "#now we will loop through the list of list and add them to the dictionary\n",
    "for fruit in fruitDetails:\n",
    "    fruitBasket[fruit[0]] = fruit[1]  #fruit[0] should give the first element fruit and fruit[1] should give the count\n",
    "print (fruitBasket)"
   ]
  },
  {
   "cell_type": "markdown",
   "id": "39818e11-a5eb-40c8-ba25-e4e7c3665444",
   "metadata": {},
   "source": [
    "### Updating Dictionary"
   ]
  },
  {
   "cell_type": "markdown",
   "id": "bd1a6083-6246-4754-8cbf-0bef152c3558",
   "metadata": {},
   "source": [
    "You can update the value of an **existing key by overwriting**. This is a commonly used paradigm for counting occurences."
   ]
  },
  {
   "cell_type": "code",
   "execution_count": null,
   "id": "5ffde0f3-e65b-4248-b737-ef8d6942a77b",
   "metadata": {},
   "outputs": [],
   "source": [
    "fruitCounts = {'apple':3,'orange':5,'banana':10,'grapes':100,'peach':1,'mango':5}\n",
    "#now if you want to add 2 to the existing count for apple\n",
    "fruitCounts['apple'] = fruitCounts['apple']+2 #we will use the existing value in fruitCounts['apple'] \n",
    "#now if you check fruitCounts['apple'] it should be 5\n",
    "print (fruitCounts['apple'])"
   ]
  },
  {
   "cell_type": "markdown",
   "id": "5046535f-2dfa-42a0-85d1-6c6f46548212",
   "metadata": {},
   "source": [
    "Let's write a more interactive program that count occurences.\n",
    "This program accepts a bunch of **comma seperated numbers from users and then output the count of each**.\n",
    "For example if the user input 1,1,2,3,4,1,4,3,3,3, then the program should print a dictionary with each counts\n",
    "\n",
    "![dictcountoccurence](sampleImages/dict_count_occurence.gif)"
   ]
  },
  {
   "cell_type": "code",
   "execution_count": 1,
   "id": "2a858d73-5c81-4a9d-9335-448bdf3217c3",
   "metadata": {},
   "outputs": [
    {
     "name": "stdin",
     "output_type": "stream",
     "text": [
      "Please enter the number in comma seperated form eg. 1,2,3,1,2,3,4 and press Enter 2,4,5,2,3,1,3,4,2,7,7,7\n"
     ]
    },
    {
     "name": "stdout",
     "output_type": "stream",
     "text": [
      "{'2': 3, '4': 2, '5': 1, '3': 2, '1': 1, '7': 3}\n"
     ]
    }
   ],
   "source": [
    "counts = {}#An empty dictionary to store the counts\n",
    "commaSeperatedString = input('Please enter the number in comma seperated form eg. 1,2,3,1,2,3,4 and press Enter')\n",
    "numbers = commaSeperatedString.split(',') #this will convert the comma seperated strings to list of tokens\n",
    "for number in numbers: #now we loop through each numbers\n",
    "    if number in counts: #if we already have seen this number (it exists in dictionary)\n",
    "        counts[number]=counts[number]+1 #we will just add 1 more to the existing value\n",
    "    else: #if the number is missing we need to add it to dictionary and assign its count as 1 (first time)\n",
    "        counts[number] =1\n",
    "print (counts)"
   ]
  },
  {
   "cell_type": "markdown",
   "id": "3d429f7e-ab1c-43e4-ba29-8a97fb03aaee",
   "metadata": {},
   "source": [
    "### Dict methods"
   ]
  },
  {
   "cell_type": "markdown",
   "id": "441f8a19-1203-4695-9712-51062b4c319a",
   "metadata": {},
   "source": [
    "1. **len(dict) gives the number of keys in a dict**"
   ]
  },
  {
   "cell_type": "code",
   "execution_count": null,
   "id": "fcf8c940-06ea-4e64-b34a-1f9325a31637",
   "metadata": {},
   "outputs": [],
   "source": [
    "fruitCounts = {'apple':3,'orange':5,'banana':10,'grapes':100,'peach':1,'mango':5}\n",
    "print (len(fruitCounts)) #this should give 6"
   ]
  },
  {
   "cell_type": "markdown",
   "id": "25fa5ecc-e437-435f-818a-2a52f5d5cd2f",
   "metadata": {},
   "source": [
    "2. **Remove a particular item from dict (pop())**"
   ]
  },
  {
   "cell_type": "code",
   "execution_count": null,
   "id": "f38f5b38-2ee8-403b-a7a3-77999f2e41e8",
   "metadata": {},
   "outputs": [],
   "source": [
    "fruitCounts = {'apple':3,'orange':5,'banana':10,'grapes':100,'peach':1,'mango':5}\n",
    "fruitCounts.pop('apple') #if the key apple is missing this will thrown an error\n",
    "if 'lemon' in fruitCounts: #if you are not sure whether a key exists, first check and then remove\n",
    "    fruitCounts.pop('lemon')\n",
    "print (fruitCounts)"
   ]
  },
  {
   "cell_type": "markdown",
   "id": "df1ff7ab-3646-4b38-9de9-7f9a01d81500",
   "metadata": {},
   "source": [
    "3. **Get all the keys in a dict as a list (keys())**\n",
    "\n",
    "This method is particularly useful when you have **large dictionaries and you want to explore them based on keys**."
   ]
  },
  {
   "cell_type": "code",
   "execution_count": null,
   "id": "ac01df9b-3c1c-494b-9ec2-2d8615a216da",
   "metadata": {},
   "outputs": [],
   "source": [
    "fruitCounts = {'apple':3,'orange':5,'banana':10,'grapes':100,'peach':1,'mango':5}\n",
    "fruitKeysList = list(fruitCounts.keys()) #this will create a list ['apple','orange','banana','grapes','peach','mango']\n",
    "print (fruitKeysList)"
   ]
  },
  {
   "cell_type": "markdown",
   "id": "8fefbf6f-ce61-4704-8fe0-da9f87c9aadb",
   "metadata": {},
   "source": [
    "4. **Get all the values in a dict as a list (values())**\n",
    "\n",
    "This might not be much useful as without keys and dictionary being unordered it will be tough to match between key and value."
   ]
  },
  {
   "cell_type": "code",
   "execution_count": null,
   "id": "f23f5cb6-b1ec-4aff-a5b9-a5cb09e7918b",
   "metadata": {},
   "outputs": [],
   "source": [
    "fruitCounts = {'apple':3,'orange':5,'banana':10,'grapes':100,'peach':1,'mango':5}\n",
    "fruitCountList = list(fruitCounts.values()) #this will create a list [3,5,10,100,1,5]\n",
    "print (fruitCountList)"
   ]
  },
  {
   "cell_type": "markdown",
   "id": "9315d698-b8b5-4a65-a080-1b8f811ad4cd",
   "metadata": {},
   "source": [
    "### Dict compared to lists/tuples/strings"
   ]
  },
  {
   "cell_type": "markdown",
   "id": "3289cb81-8884-408f-af2e-8c89eadcbe18",
   "metadata": {},
   "source": [
    "The main difference of dict is that **it doesn't preserve order** and hence the **keys can't be accessed using indices**.\n",
    "\n",
    "For examples, queries such as what is the 1000th element doesnot have a validity in dict (but is perfectly valid in list or tuple and we could just access it with list[999]).\n",
    "\n",
    "Dicts are developed for **blazingly fast lookups** using keys. For example, does an email id 'jxa421@case.edu' exists in the employeesDetails dict which has a key as the employees email id.\n",
    "\n",
    "So at the end of the day **Containers/Data Structures Matters!!!**. You need to know which one to use for different tasks."
   ]
  },
  {
   "cell_type": "markdown",
   "id": "14fccca7-f34e-45fd-b345-020b4336d40c",
   "metadata": {
    "tags": []
   },
   "source": [
    "## Sets"
   ]
  },
  {
   "cell_type": "markdown",
   "id": "62156e5f-6ad5-4972-8d97-4da754a512bb",
   "metadata": {},
   "source": [
    "![sets](sampleImages/sets.png)"
   ]
  },
  {
   "cell_type": "markdown",
   "id": "3a46bb13-57aa-4f76-a891-866a0fc2f0d9",
   "metadata": {},
   "source": [
    "Finally we will go through **sets** briefly. **Sets are more comparable to dictionaries** except for the fact that **they don't store values. Sets doesnot preserve ordering, cannot have duplicates, and are optimized for faster searches as well as to perform set operations including intersection,union,difference.**"
   ]
  },
  {
   "cell_type": "markdown",
   "id": "fb30d2d4-3165-4b93-817f-e49106447588",
   "metadata": {},
   "source": [
    "### Creating Sets"
   ]
  },
  {
   "cell_type": "markdown",
   "id": "827683d3-1e19-4f37-9782-c411809bcc3f",
   "metadata": {},
   "source": [
    "A non-empty set can be created as shown below"
   ]
  },
  {
   "cell_type": "code",
   "execution_count": null,
   "id": "6499990d-18e4-4add-87bf-9a5857f24446",
   "metadata": {},
   "outputs": [],
   "source": [
    "fruitSet = {'apple','peach','plum','cherry'}"
   ]
  },
  {
   "cell_type": "markdown",
   "id": "c405bfc3-1a63-4f94-822f-1e948e3d2f7a",
   "metadata": {},
   "source": [
    "Note that **sets** are very **similar to dictionaries in declaration as well (just the absence of values)**\n",
    "\n",
    "Creating an **empty set**"
   ]
  },
  {
   "cell_type": "code",
   "execution_count": null,
   "id": "6212dc2b-c817-412b-9ef5-8cd3f21725c0",
   "metadata": {},
   "outputs": [],
   "source": [
    "emptySet = set()  # and not {} because that declaration is for empty dictionary"
   ]
  },
  {
   "cell_type": "markdown",
   "id": "1cd9134c-7b31-4585-aad9-ec7fc56ccd9d",
   "metadata": {},
   "source": [
    "### Adding keys to Set"
   ]
  },
  {
   "cell_type": "markdown",
   "id": "5ab99323-29db-426b-bbac-8bfff52ec82b",
   "metadata": {},
   "source": [
    "New keys can be added to set using add(key) method"
   ]
  },
  {
   "cell_type": "code",
   "execution_count": null,
   "id": "af6b6e29-0e0e-41f7-a033-472243e13b8d",
   "metadata": {},
   "outputs": [],
   "source": [
    "fruitSet=set()\n",
    "fruitSet.add('apple')\n",
    "fruitSet.add('peach')\n",
    "fruitSet.add('plum')\n",
    "fruitSet.add('cherry')\n",
    "print (fruitSet)"
   ]
  },
  {
   "cell_type": "markdown",
   "id": "4e6d12d3-56ce-4cc6-b788-fcfec344c3db",
   "metadata": {},
   "source": [
    "### Searching for a key in Set"
   ]
  },
  {
   "cell_type": "markdown",
   "id": "2e42ff4e-a3ac-4ec9-a972-ec28e7a0b19c",
   "metadata": {},
   "source": [
    "Sets like **dictionaries are heavily optimized for lookups using keys**. You can use **in** operator for **searching keys**."
   ]
  },
  {
   "cell_type": "code",
   "execution_count": null,
   "id": "984d265b-6872-40ab-9be0-dac028f26fd9",
   "metadata": {},
   "outputs": [],
   "source": [
    "fruitSet = {'apple','peach','plum','cherry'}\n",
    "fruitToCheck = 'Apple'\n",
    "isFruitPresent = fruitToCheck in fruitSet\n",
    "print (isFruitPresent) #should return false as 'Apple' is not present"
   ]
  },
  {
   "cell_type": "markdown",
   "id": "a9f001c7-ca96-40c9-85f0-474dfc0bf4c1",
   "metadata": {},
   "source": [
    "### Looping through a Set"
   ]
  },
  {
   "cell_type": "markdown",
   "id": "edb18409-d37d-40f2-9001-b1ff13beee30",
   "metadata": {},
   "source": [
    "We can **loop through each of the elements in a set using a for loop**."
   ]
  },
  {
   "cell_type": "code",
   "execution_count": null,
   "id": "a14f9fdb-fc8e-4a8b-93ca-67bda972a628",
   "metadata": {},
   "outputs": [],
   "source": [
    "fruitSet = {'apple','peach','plum','cherry'}\n",
    "for fruit in fruitSet:\n",
    "    print (fruit)"
   ]
  },
  {
   "cell_type": "markdown",
   "id": "2d166966-f445-41f5-b95a-b1ee0bed94d5",
   "metadata": {},
   "source": [
    "### Set Operations"
   ]
  },
  {
   "cell_type": "markdown",
   "id": "3633558b-43ad-45c1-98a9-97655ee66641",
   "metadata": {},
   "source": [
    "Sets are **heavily optimized to perfrom set operations** (hence the name)."
   ]
  },
  {
   "cell_type": "markdown",
   "id": "29dc71da-06da-445d-b01c-01fef6b8f944",
   "metadata": {},
   "source": [
    "#### Intersection"
   ]
  },
  {
   "cell_type": "markdown",
   "id": "ccef3d68-7ec7-42dd-ae39-061c83821d63",
   "metadata": {},
   "source": [
    "![intersection](sampleImages/intersection.png)\n",
    "\n",
    "Intersection is the **common elements between two sets**."
   ]
  },
  {
   "cell_type": "code",
   "execution_count": null,
   "id": "c3375fc0-e80b-4ba0-9722-032f36602c96",
   "metadata": {},
   "outputs": [],
   "source": [
    "fruitBasket1 = {'apple','orange','peach','guava','plum'}\n",
    "fruitBasket2 = {'apple','orange','grapes','mango','cherry'}\n",
    "commonInBoth = fruitBasket1.intersection(fruitBasket2)\n",
    "print (commonInBoth) #should return {'apple','orange'}"
   ]
  },
  {
   "cell_type": "markdown",
   "id": "f0d7334e-d3f2-4161-a003-7acb91a6d220",
   "metadata": {},
   "source": [
    "#### Union"
   ]
  },
  {
   "cell_type": "markdown",
   "id": "a31bd6a1-88c8-4e33-ba2c-d7c71dd70520",
   "metadata": {},
   "source": [
    "![union](sampleImages/union.png)"
   ]
  },
  {
   "cell_type": "markdown",
   "id": "5e90fef9-b942-4b81-836e-2937291cca82",
   "metadata": {},
   "source": [
    "A **new set with all elements from both sets**."
   ]
  },
  {
   "cell_type": "code",
   "execution_count": null,
   "id": "4c104c16-6825-4f50-b685-ee0f983246a4",
   "metadata": {},
   "outputs": [],
   "source": [
    "fruitBasket1 = {'apple','orange','peach','guava','plum'}\n",
    "fruitBasket2 = {'apple','orange','grapes','mango','cherry'}\n",
    "allInBoth = fruitBasket1.union(fruitBasket2)\n",
    "print (allInBoth) #should return {'plum', 'grapes', 'mango', 'cherry', 'peach', 'apple', 'orange', 'guava'}"
   ]
  },
  {
   "cell_type": "markdown",
   "id": "d916e274-48cb-43dd-8cec-174794357ace",
   "metadata": {},
   "source": [
    "#### Difference"
   ]
  },
  {
   "cell_type": "markdown",
   "id": "91b2cb7b-520d-4fc3-a567-d06c508ed569",
   "metadata": {},
   "source": [
    "![difference](sampleImages/difference.png)"
   ]
  },
  {
   "cell_type": "markdown",
   "id": "99e35fea-72b3-4cd9-91d9-40b98b0066d0",
   "metadata": {},
   "source": [
    "A new set with **elements in the first set that are not in the second set.**"
   ]
  },
  {
   "cell_type": "code",
   "execution_count": 90,
   "id": "db1c9b46-74e7-4fab-8498-4fb2d9f97d0f",
   "metadata": {},
   "outputs": [
    {
     "name": "stdout",
     "output_type": "stream",
     "text": [
      "{'peach', 'guava', 'plum'}\n",
      "{'peach', 'plum', 'grapes', 'guava', 'mango', 'cherry'}\n"
     ]
    }
   ],
   "source": [
    "fruitBasket1 = {'apple','orange','peach','guava','plum'}\n",
    "fruitBasket2 = {'apple','orange','grapes','mango','cherry'}\n",
    "onlyInFirst = fruitBasket1.difference(fruitBasket2)\n",
    "print (onlyInFirst) #should return {'peach', 'guava', 'plum'}\n",
    "#if you want to have elements that are unique to both sets then you would use symmetric_difference\n",
    "noCommonElements = fruitBasket1.symmetric_difference(fruitBasket2)\n",
    "print (noCommonElements) #should return {'peach', 'plum', 'grapes', 'guava', 'mango', 'cherry'}"
   ]
  },
  {
   "cell_type": "markdown",
   "id": "1121d89d-0c44-4f61-8962-53374bbcd434",
   "metadata": {},
   "source": [
    "### Set Methods"
   ]
  },
  {
   "cell_type": "markdown",
   "id": "f786892e-1ec6-4c77-9890-5278decad84b",
   "metadata": {},
   "source": [
    "1. **Remove a particular element from set (remove())**"
   ]
  },
  {
   "cell_type": "code",
   "execution_count": null,
   "id": "1eb169ef-1290-4fc4-9de0-753c852a23ce",
   "metadata": {},
   "outputs": [],
   "source": [
    "fruitBasket1 = {'apple','orange','peach','guava','plum'}\n",
    "fruitBasket1.remove('apple')  #will remove the key 'apple'. If the key is missing will raise an error"
   ]
  },
  {
   "cell_type": "markdown",
   "id": "a8ea4419-8bb9-425e-af91-dfbd1c659e99",
   "metadata": {},
   "source": [
    "2. **Remove an arbitary element (pop())**"
   ]
  },
  {
   "cell_type": "code",
   "execution_count": null,
   "id": "7fd36042-7ec8-4d39-ba22-27ab26293017",
   "metadata": {},
   "outputs": [],
   "source": [
    "fruitBasket1 = {'apple','orange','peach','guava','plum'}\n",
    "fruitBasket1.pop() #will remove an arbitary element. If the set is already empty an error will be raised"
   ]
  },
  {
   "cell_type": "markdown",
   "id": "ad0c8f74-f368-4c72-bcc8-01c10663ec41",
   "metadata": {},
   "source": [
    "3. **Remove all elements (clear())**"
   ]
  },
  {
   "cell_type": "code",
   "execution_count": null,
   "id": "998538c1-6409-4a4b-bc79-4496031856b3",
   "metadata": {},
   "outputs": [],
   "source": [
    "fruitBasket1 = {'apple','orange','peach','guava','plum'}\n",
    "fruitBasket1.clear() #will remove all elements and fruitBasket1 will be an empty set. "
   ]
  }
 ],
 "metadata": {
  "kernelspec": {
   "display_name": "Python 3 (ipykernel)",
   "language": "python",
   "name": "python3"
  },
  "language_info": {
   "codemirror_mode": {
    "name": "ipython",
    "version": 3
   },
   "file_extension": ".py",
   "mimetype": "text/x-python",
   "name": "python",
   "nbconvert_exporter": "python",
   "pygments_lexer": "ipython3",
   "version": "3.9.7"
  }
 },
 "nbformat": 4,
 "nbformat_minor": 5
}
