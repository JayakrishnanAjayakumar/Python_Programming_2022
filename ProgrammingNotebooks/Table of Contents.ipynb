{
 "cells": [
  {
   "cell_type": "markdown",
   "id": "a802d1a5-6a81-4d5f-a7ff-e873f45fabde",
   "metadata": {
    "jp-MarkdownHeadingCollapsed": true,
    "tags": []
   },
   "source": [
    "# Table of Contents"
   ]
  },
  {
   "cell_type": "markdown",
   "id": "5efa75ce-6145-496d-b2d0-41021e328cdc",
   "metadata": {},
   "source": [
    "## [ChapterI Why Programming](ChapterI_WhyProgramming.ipynb)\n",
    "## [ChapterII Terminologies](ChapterII_Terminologies.ipynb)\n",
    "## [ChapterIII Say Hello To Python](ChapterIII_SayHelloToPython.ipynb)\n",
    "## [ChapterIV What is in a Name?](ChapterIV_WhatIsInAName.ipynb)\n",
    "#### [Exercises for ChapterIV](exercises/ChapterIV.ipynb)\n",
    "## [ChapterV Functions and Modules](ChapterV_FunctionsAndModules.ipynb)\n",
    "#### [Exercises for ChapterV](exercises/ChapterV.ipynb)\n",
    "## [ChapterVI Lets Take a Decision!!](ChapterVI_LetsTakeADecision.ipynb)\n",
    "#### [Exercises for ChapterVI](exercises/ChapterVI.ipynb)\n",
    "## [ChapterVII Eat, Sleep, Code, and Repeat!!](ChapterVII_EatSleepCodeRepeat.ipynb)\n",
    "#### [Exercises for ChapterVII](exercises/ChapterVII.ipynb)\n",
    "## [ChapterVIII Where do I Store my Data?](ChapterVIII_WheredoIstoremyData.ipynb)\n",
    "#### [Exercises for ChapterVIII](exercises/ChapterVIII.ipynb)\n",
    "## [ChapterIX Data from External Sources](ChapterIX_DataFromExternalSources.ipynb)\n",
    "#### [Exercises for ChapterIX](exercises/ChapterIX.ipynb)\n",
    "## [ChapterX Welcome to Scientific Computing With Python](ChapterX_WelcomeToScientificComputingWithPython.ipynb)\n",
    "#### [Exercises for ChapterX](exercises/ChapterX.ipynb)\n",
    "## [Assignment](Assignment/Assignment1.ipynb)"
   ]
  },
  {
   "cell_type": "code",
   "execution_count": null,
   "id": "9e4c5b19-3d49-4d0f-9094-2a90b6170f3d",
   "metadata": {},
   "outputs": [],
   "source": []
  }
 ],
 "metadata": {
  "kernelspec": {
   "display_name": "Python 3 (ipykernel)",
   "language": "python",
   "name": "python3"
  },
  "language_info": {
   "codemirror_mode": {
    "name": "ipython",
    "version": 3
   },
   "file_extension": ".py",
   "mimetype": "text/x-python",
   "name": "python",
   "nbconvert_exporter": "python",
   "pygments_lexer": "ipython3",
   "version": "3.9.7"
  }
 },
 "nbformat": 4,
 "nbformat_minor": 5
}
