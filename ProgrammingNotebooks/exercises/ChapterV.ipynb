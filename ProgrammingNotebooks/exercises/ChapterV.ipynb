{
 "cells": [
  {
   "cell_type": "code",
   "execution_count": 1,
   "id": "35345622-a0f9-4930-82b0-824c85dd6561",
   "metadata": {},
   "outputs": [],
   "source": [
    "from ipywidgets import widgets"
   ]
  },
  {
   "cell_type": "markdown",
   "id": "a087e29c-6818-408d-b2dc-9ba6cc83daf4",
   "metadata": {},
   "source": [
    "**1**. Write a function \n",
    "\n",
    "```python\n",
    "basketball(fieldGoals, threePointers)\n",
    "```\n",
    "\n",
    "that prints your team’s basketball score if the numbers of two pointers and three pointers are given in the parameters fieldgoal and threePointers."
   ]
  },
  {
   "cell_type": "code",
   "execution_count": 2,
   "id": "316d56f0-7c1c-40e1-aa04-07b1443d0836",
   "metadata": {},
   "outputs": [],
   "source": [
    "###Type your code below####"
   ]
  },
  {
   "cell_type": "markdown",
   "id": "56084ffe-4d83-41a1-9eb3-ecb731ddb940",
   "metadata": {},
   "source": [
    "**2**. Write a function\n",
    "\n",
    "```python\n",
    "age(birthYear)\n",
    "```\n",
    "\n",
    "that prints a person’s age when given his or her birth year as a parameter. You can assume that this function only works this year and that the person has not had his or her birthday yet this year."
   ]
  },
  {
   "cell_type": "markdown",
   "id": "1008f64b-b523-4c59-8d94-432e99df021d",
   "metadata": {},
   "source": [
    "**3**. Write a function\n",
    "\n",
    "```python\n",
    "cheer(teamName)\n",
    "```\n",
    "\n",
    "that takes as a parameter a team name and prints “Go” followed by the team name. For example, if the function is called as cheer('Buzzards'), it should print the string 'Go Buzzards' to the screen."
   ]
  },
  {
   "cell_type": "code",
   "execution_count": 3,
   "id": "623e18c7-0b51-4f31-84d8-a083cfbeaf7c",
   "metadata": {},
   "outputs": [],
   "source": [
    "###Type your code below####"
   ]
  },
  {
   "cell_type": "markdown",
   "id": "501b7474-82b1-4990-90ca-d8b67f9660d2",
   "metadata": {},
   "source": [
    "**4**. Write a function\n",
    "\n",
    "```python\n",
    "sumTo(n) \n",
    "```\n",
    "\n",
    "that returns the sum of all integer numbers up to and including n. So sum_to(10) would be 1+2+3...+10 which would return the value 55."
   ]
  },
  {
   "cell_type": "code",
   "execution_count": 4,
   "id": "aeca58a9-6d97-4fa0-bc89-8f5b3c57fd93",
   "metadata": {},
   "outputs": [],
   "source": [
    "###Type your code below####"
   ]
  },
  {
   "cell_type": "markdown",
   "id": "e35075df-664c-419f-90e4-9b06e617d893",
   "metadata": {},
   "source": [
    "**5**. Let's define a function\n",
    "\n",
    "```python\n",
    "def add(a,b=1):\n",
    "    return a+b\n",
    "```\n",
    "What will be the returned value of the function call \n",
    "```python\n",
    "add(-1)\n",
    "```"
   ]
  },
  {
   "cell_type": "code",
   "execution_count": 5,
   "id": "368ff7f5-a0cd-4ca4-b928-5cfc5c8378c2",
   "metadata": {},
   "outputs": [
    {
     "data": {
      "application/vnd.jupyter.widget-view+json": {
       "model_id": "89499bb94bf54908b90ce87138ee11c4",
       "version_major": 2,
       "version_minor": 0
      },
      "text/plain": [
       "RadioButtons(description='Your Answer:', options=('-1', '0', '1', 'Terminates with an error'), value='-1')"
      ]
     },
     "metadata": {},
     "output_type": "display_data"
    }
   ],
   "source": [
    "widgets.RadioButtons(\n",
    "    options=['-1', '0','1','Terminates with an error'],\n",
    "    description='Your Answer:',\n",
    "    disabled=False\n",
    ")"
   ]
  },
  {
   "cell_type": "markdown",
   "id": "d260ae30-0f68-48db-8372-4faed125d4c0",
   "metadata": {},
   "source": [
    "**6**. Let's define a function\n",
    "\n",
    "```python\n",
    "def add(b=1,a):\n",
    "    return a+b\n",
    "```\n",
    "What will be the returned value of the function call \n",
    "```python\n",
    "add(10)\n",
    "```"
   ]
  },
  {
   "cell_type": "code",
   "execution_count": 6,
   "id": "6c63f3b5-cf31-45ee-8f11-61cb4221856d",
   "metadata": {},
   "outputs": [
    {
     "data": {
      "application/vnd.jupyter.widget-view+json": {
       "model_id": "117f404ebe984dfab558786a8b48bc0d",
       "version_major": 2,
       "version_minor": 0
      },
      "text/plain": [
       "RadioButtons(description='Your Answer:', options=('11', '1', '10', 'Terminates with an error'), value='11')"
      ]
     },
     "metadata": {},
     "output_type": "display_data"
    }
   ],
   "source": [
    "widgets.RadioButtons(\n",
    "    options=['11', '1','10','Terminates with an error'],\n",
    "    description='Your Answer:',\n",
    "    disabled=False\n",
    ")"
   ]
  },
  {
   "cell_type": "markdown",
   "id": "d252dbcc-fd27-400e-a3f8-8262d95141de",
   "metadata": {},
   "source": [
    "**7**. Let's define a function\n",
    "\n",
    "```python\n",
    "def testFunction(name,greet1='Hello'):\n",
    "    print (greet1,name)\n",
    "```\n",
    "Which of the following function call will result in an error. "
   ]
  },
  {
   "cell_type": "code",
   "execution_count": 7,
   "id": "e9bbcc92-0967-4a5c-be96-158f4b084ecf",
   "metadata": {},
   "outputs": [
    {
     "data": {
      "application/vnd.jupyter.widget-view+json": {
       "model_id": "8be0d432b6694de6aa4efd87e097faf3",
       "version_major": 2,
       "version_minor": 0
      },
      "text/plain": [
       "RadioButtons(description='Your Answer:', options=(\"testFunction('Jay')\", \"testFunction('Jay','Hi')\", \"testFunc…"
      ]
     },
     "metadata": {},
     "output_type": "display_data"
    }
   ],
   "source": [
    "widgets.RadioButtons(\n",
    "    options=[\"testFunction('Jay')\",\"testFunction('Jay','Hi')\",\"testFunction('Jay',greet1='Bye')\",\"testFunction(greet1='Hi')\"],\n",
    "    description='Your Answer:',\n",
    "    disabled=False\n",
    ")"
   ]
  },
  {
   "cell_type": "markdown",
   "id": "68c744d0-bd35-4cae-a22c-bf85646cf355",
   "metadata": {},
   "source": [
    "**8**. Let's define a function\n",
    "\n",
    "```python\n",
    "def add3(number1=0,number2=-1,number3=-8):\n",
    "    return number1 + number2 + number3\n",
    "```\n",
    "What will be the returned value of the function call\n",
    "\n",
    "```python\n",
    "add3()\n",
    "```"
   ]
  },
  {
   "cell_type": "code",
   "execution_count": 8,
   "id": "563a9107-c384-44be-80b8-459560b276c1",
   "metadata": {},
   "outputs": [
    {
     "data": {
      "application/vnd.jupyter.widget-view+json": {
       "model_id": "e9f1b9a977484fea968fda19f25717d4",
       "version_major": 2,
       "version_minor": 0
      },
      "text/plain": [
       "RadioButtons(description='Your Answer:', options=('-9', '-8', '-1', '0'), value='-9')"
      ]
     },
     "metadata": {},
     "output_type": "display_data"
    }
   ],
   "source": [
    "widgets.RadioButtons(\n",
    "    options=[\"-9\",\"-8\",\"-1\",\"0\"],\n",
    "    description='Your Answer:',\n",
    "    disabled=False\n",
    ")"
   ]
  },
  {
   "cell_type": "markdown",
   "id": "9cb8ca29-dbb1-4dcc-9113-74f70ff933c9",
   "metadata": {},
   "source": [
    "**9**. In the function defined above what will be the returned value of the function call \n",
    "\n",
    "```python\n",
    "add3(5)\n",
    "```"
   ]
  },
  {
   "cell_type": "code",
   "execution_count": 29,
   "id": "3c7da4f9-38c1-42f1-aea6-f00e82ae4918",
   "metadata": {},
   "outputs": [
    {
     "data": {
      "application/vnd.jupyter.widget-view+json": {
       "model_id": "e3f557da2e3a4ab1a7c9841d4be3f9f1",
       "version_major": 2,
       "version_minor": 0
      },
      "text/plain": [
       "RadioButtons(description='Your Answer:', options=('-9', '-4', '5', '0'), value='-9')"
      ]
     },
     "metadata": {},
     "output_type": "display_data"
    }
   ],
   "source": [
    "widgets.RadioButtons(\n",
    "    options=[\"-9\",\"-4\",\"5\",\"0\"],\n",
    "    description='Your Answer:',\n",
    "    disabled=False\n",
    ")"
   ]
  },
  {
   "cell_type": "markdown",
   "id": "d90a2fb3-68f9-4150-b7c6-0cbc756210a9",
   "metadata": {},
   "source": [
    "**10**. For the function defined in question **8** what will be the returned value of the function call \n",
    "\n",
    "```python\n",
    "add3(number2=8)\n",
    "```"
   ]
  },
  {
   "cell_type": "code",
   "execution_count": 30,
   "id": "f9ee03b0-072f-409f-a504-a7d556cef27d",
   "metadata": {},
   "outputs": [
    {
     "data": {
      "application/vnd.jupyter.widget-view+json": {
       "model_id": "9385f5334ea44ddd82bac3ca6e4f8e7c",
       "version_major": 2,
       "version_minor": 0
      },
      "text/plain": [
       "RadioButtons(description='Your Answer:', options=('-9', '-1', '4', '0'), value='-9')"
      ]
     },
     "metadata": {},
     "output_type": "display_data"
    }
   ],
   "source": [
    "widgets.RadioButtons(\n",
    "    options=[\"-9\",\"-1\",\"4\",\"0\"],\n",
    "    description='Your Answer:',\n",
    "    disabled=False\n",
    ")"
   ]
  },
  {
   "cell_type": "markdown",
   "id": "4e428801-88e9-4ece-afa5-ad73529141aa",
   "metadata": {},
   "source": [
    "**11**. Write a function areaOfCircle(radius) which returns the area of a circle of 'radius' radius."
   ]
  },
  {
   "cell_type": "code",
   "execution_count": 31,
   "id": "ec3853b7-9e10-424f-a788-647fd0a897c7",
   "metadata": {},
   "outputs": [],
   "source": [
    "###Type your code below####"
   ]
  },
  {
   "cell_type": "markdown",
   "id": "8e2d4c7b-84df-4013-af3f-a2041c0fbfed",
   "metadata": {},
   "source": [
    "**12**. Write a function\n",
    "\n",
    "```python\n",
    "printTwice(word)\n",
    "```\n",
    "that prints its parameter twice on two separate lines."
   ]
  },
  {
   "cell_type": "code",
   "execution_count": 32,
   "id": "81c59bcf-0996-4a87-8835-1360d95a5f5c",
   "metadata": {},
   "outputs": [],
   "source": [
    "###Type your code below####"
   ]
  },
  {
   "cell_type": "markdown",
   "id": "a586d603-cd28-4909-8551-b1ce2224ceda",
   "metadata": {},
   "source": [
    "**13**. What will be the value of **spam** in the code snippet shown below\n",
    "\n",
    "```python\n",
    "spam = 13\n",
    "def changeSpam():\n",
    "    spam=15\n",
    "\n",
    "changeSpam()\n",
    "spam = spam + 3\n",
    "spam = spam * 10\n",
    "```"
   ]
  },
  {
   "cell_type": "code",
   "execution_count": 33,
   "id": "4b4a7c3a-95c1-4689-9f2f-99a490e5b5b4",
   "metadata": {},
   "outputs": [
    {
     "data": {
      "application/vnd.jupyter.widget-view+json": {
       "model_id": "3ecca5000db34a80b96315d1dd5541f7",
       "version_major": 2,
       "version_minor": 0
      },
      "text/plain": [
       "RadioButtons(description='Your Answer:', options=('15', '160', '180', '13'), value='15')"
      ]
     },
     "metadata": {},
     "output_type": "display_data"
    }
   ],
   "source": [
    "widgets.RadioButtons(\n",
    "    options=[\"15\",\"160\",\"180\",\"13\"],\n",
    "    description='Your Answer:',\n",
    "    disabled=False\n",
    ")"
   ]
  },
  {
   "cell_type": "markdown",
   "id": "c02d68d9-8bb1-418f-8131-e117633a1c3b",
   "metadata": {},
   "source": [
    "**14**. What will be the value of **spam** in the code snippet shown below\n",
    "\n",
    "```python\n",
    "spam = 13\n",
    "def changeSpam():\n",
    "    global spam\n",
    "    spam=15\n",
    "\n",
    "changeSpam()\n",
    "spam = spam + 3\n",
    "spam = spam * 10\n",
    "```"
   ]
  },
  {
   "cell_type": "markdown",
   "id": "8a5d0631-b9c7-417c-92ed-d05d89742378",
   "metadata": {},
   "source": [
    "**15**. The geometric mean of two numbers is the square root of their product. Write a function\n",
    "\n",
    "```python\n",
    "geometricMean(value1, value2)\n",
    "```\n",
    "that returns the geometric mean of the two values. Use your function to compute the geometric mean of 18 and 31. (Note: You can use math.sqrt or ** (1/2) for calculating the square root. 25 ** (1/2) is 5)."
   ]
  },
  {
   "cell_type": "code",
   "execution_count": 34,
   "id": "72ece9e8-0fc6-433e-9d31-9bb0b61f92dc",
   "metadata": {},
   "outputs": [],
   "source": [
    "###Type your code below####"
   ]
  },
  {
   "cell_type": "markdown",
   "id": "78c4cc91-3657-4192-b1b7-4f603c977efd",
   "metadata": {},
   "source": [
    "**16**. Suppose we have two points (x1, y1) and (x2, y2). The distance between them\n",
    "is equal to $\\sqrt{(x1-x2)^2 + (y1-y2)^2}$\n",
    "\n",
    "Write a function \n",
    "\n",
    "```python\n",
    "distance(x1, y1, x2, y2) \n",
    "```\n",
    "\n",
    "that returns the distance between points (x1, y1) and (x2, y2). Call the function with values distance(2,3,2,4) and print the returned value. "
   ]
  },
  {
   "cell_type": "code",
   "execution_count": 35,
   "id": "d93636bd-1ff2-4336-9d1a-80e1908b6020",
   "metadata": {},
   "outputs": [],
   "source": [
    "###Type your code below####"
   ]
  },
  {
   "cell_type": "markdown",
   "id": "4e2d640e-0605-461b-b32f-051c1140e8f4",
   "metadata": {},
   "source": [
    "**17**. The ideal gas law states that \n",
    "\n",
    "$PV = nRT$\n",
    "\n",
    "where\n",
    "\n",
    "P = pressure in atmosphere (atm)\n",
    "\n",
    "V = volume in Litres (L)\n",
    "\n",
    "n = Number of moles (mol) of gas\n",
    "\n",
    "R = gas constant = 0.8 L atm/mol K\n",
    "\n",
    "T = absolute temperature of the gas in Kelvin (K)\n",
    "\n",
    "Write a function \n",
    "\n",
    "moles(P,V,T)\n",
    "\n",
    "and return the number of moles ($n$) in an ideal gas in V litres contained at Pressure P and T degree Farenheit (To convert Farenheit to Kelvin use $T_k = \\frac{5}{9}T_f + 459.67$"
   ]
  },
  {
   "cell_type": "code",
   "execution_count": 36,
   "id": "ad8da191-b6c3-4527-9f55-4e93eee58173",
   "metadata": {},
   "outputs": [],
   "source": [
    "###Type your code below####"
   ]
  },
  {
   "cell_type": "markdown",
   "id": "478f5540-e176-453c-9a2e-ef37134b844c",
   "metadata": {},
   "source": [
    "**18**. A person’s Body Mass Index (BMI) is calculated by the following formula:\n",
    "\n",
    "$$BMI = \\frac{w}{h^2} . 703$$\n",
    "\n",
    "where $w$ is the person’s weight in pounds and $h$ is the person’s height in inches.\n",
    "\n",
    "Write a function\n",
    "<code>bmi(weight, height)</code>\n",
    "\n",
    "that uses this formula to return the corresponding BMI."
   ]
  },
  {
   "cell_type": "code",
   "execution_count": 37,
   "id": "fd3e5d90-3447-46f8-bdaa-516dd24cefe7",
   "metadata": {},
   "outputs": [],
   "source": [
    "###Type your code below####"
   ]
  },
  {
   "cell_type": "markdown",
   "id": "94c0f9d7-1d2b-4996-8dad-df1a624292cc",
   "metadata": {},
   "source": [
    "**19**. Write a function\n",
    "\n",
    "```python\n",
    "timeToRun(speed,instructions)\n",
    "```\n",
    "\n",
    "that takes in speed of computer in GigaHertz (GHz) and number of instructions to execute as a number and return the time in seconds to execute the instruction. A speed of 1Ghz indicates that the computer clock ticks 1 billion times in 1 second. Assume that every instruction takes 3 ticks to execute. So if there are 1 billion instricution and the speed of computer is 3 GHz (3 billion ticks per second) then the time taken will be 1 second."
   ]
  },
  {
   "cell_type": "code",
   "execution_count": 38,
   "id": "6cffe196-150b-4f4d-9a4d-90b637e6ff4f",
   "metadata": {},
   "outputs": [],
   "source": [
    "###Type your code below####"
   ]
  },
  {
   "cell_type": "markdown",
   "id": "892dc99d-8574-4e6f-9698-a189b37d2b5c",
   "metadata": {},
   "source": [
    "**20**. Write a function that swap values of two variables x and y\n",
    "\n",
    "```python\n",
    "x=1\n",
    "y=2\n",
    "swap(x,y)\n",
    "```\n",
    "After the call to *swap* the value of x should be 2 and y should be 1"
   ]
  },
  {
   "cell_type": "code",
   "execution_count": 39,
   "id": "98e730b3-dbbb-4367-9dc5-8651f0c5f09e",
   "metadata": {},
   "outputs": [],
   "source": [
    "###Type your code below####"
   ]
  },
  {
   "cell_type": "code",
   "execution_count": null,
   "id": "72a45a34-8f05-468a-aca9-cf692ced8962",
   "metadata": {},
   "outputs": [],
   "source": []
  }
 ],
 "metadata": {
  "kernelspec": {
   "display_name": "Python 3 (ipykernel)",
   "language": "python",
   "name": "python3"
  },
  "language_info": {
   "codemirror_mode": {
    "name": "ipython",
    "version": 3
   },
   "file_extension": ".py",
   "mimetype": "text/x-python",
   "name": "python",
   "nbconvert_exporter": "python",
   "pygments_lexer": "ipython3",
   "version": "3.9.7"
  }
 },
 "nbformat": 4,
 "nbformat_minor": 5
}
