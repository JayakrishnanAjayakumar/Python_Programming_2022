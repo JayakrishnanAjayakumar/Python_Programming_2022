{
 "cells": [
  {
   "cell_type": "code",
   "execution_count": 1,
   "id": "07df7715-9058-4403-a951-e689cf59e67e",
   "metadata": {},
   "outputs": [],
   "source": [
    "from ipywidgets import widgets"
   ]
  },
  {
   "cell_type": "markdown",
   "id": "e768c869-8120-4ed9-b7e2-3514db17970a",
   "metadata": {},
   "source": [
    "**1.** Write a program that reads a file and writes out a new file with the lines in reversed order (i.e. the first line in the old file becomes the last one in the new file.). Use the file 'sample_text_file.txt' in data folder"
   ]
  },
  {
   "cell_type": "code",
   "execution_count": 2,
   "id": "3574252e-52d3-4107-85b3-83954fa5712d",
   "metadata": {},
   "outputs": [],
   "source": [
    "###Type your code below####"
   ]
  },
  {
   "cell_type": "markdown",
   "id": "ae0361f2-8278-495e-aaf9-fa194c5d6d23",
   "metadata": {},
   "source": [
    "**2**. Write a program that reads a file and prints only those lines that contain the given substring. For testing, use the file 'sample_text_file.txt' in data folder\n",
    "\n",
    "```python\n",
    "findSubstring(fileName,substring)\n",
    "```"
   ]
  },
  {
   "cell_type": "code",
   "execution_count": 4,
   "id": "972bcade-e400-46c5-b764-3e6d441d2c79",
   "metadata": {},
   "outputs": [],
   "source": [
    "###Type your code below####"
   ]
  },
  {
   "cell_type": "markdown",
   "id": "2d88693f-b376-4e3a-8076-f4b52223643e",
   "metadata": {},
   "source": [
    "**3**. Write a program that reads a file and adds a line number and creates a new file and write it to the outputdirectory folder."
   ]
  },
  {
   "cell_type": "code",
   "execution_count": 5,
   "id": "a9947634-6b34-4322-b3ae-e8f6a1fd4423",
   "metadata": {},
   "outputs": [],
   "source": [
    "###Type your code below####"
   ]
  },
  {
   "cell_type": "markdown",
   "id": "cd30798b-ae4a-40fa-a88b-fe33d2339eec",
   "metadata": {},
   "source": [
    "**4**. Write a program that reads text data from a given url and count the number of words. An example of a web service url with text data is 'http://www.gutenberg.org/cache/epub/98/pg98.txt'. (Hint: use requests module)"
   ]
  },
  {
   "cell_type": "code",
   "execution_count": 6,
   "id": "7e7b457b-bda2-4366-99db-724fbd64dd1b",
   "metadata": {},
   "outputs": [],
   "source": [
    "###Type your code below####"
   ]
  },
  {
   "cell_type": "markdown",
   "id": "7b856f06-a5ed-4f26-b325-62c53a48c04d",
   "metadata": {},
   "source": [
    "**5**. Write a function\n",
    "\n",
    "```python\n",
    "wcLines(fileName)\n",
    "```\n",
    "that counts number of lines in a file. For testing, use the file 'sample_text_file.txt' in data folder"
   ]
  },
  {
   "cell_type": "code",
   "execution_count": 7,
   "id": "c28a3112-8c7f-44f8-a003-7c856493541a",
   "metadata": {},
   "outputs": [],
   "source": [
    "###Type your code below####"
   ]
  },
  {
   "cell_type": "markdown",
   "id": "c2f98964-a380-4fa0-bbc1-4f8f3eef39ab",
   "metadata": {},
   "source": [
    "**6.** Write a function\n",
    "```python\n",
    "strip(fileName, newFileName)\n",
    "```\n",
    "\n",
    "that creates a new version of the file with the given fileName in which all whitespace\n",
    "characters (' ', '\\n', and '\\t') have been removed. The second parameter is the\n",
    "name of the new file. (note you can use string replace())\n"
   ]
  },
  {
   "cell_type": "code",
   "execution_count": 9,
   "id": "6a5768fd-75e3-4597-9a0e-e8e3194e4daf",
   "metadata": {},
   "outputs": [],
   "source": [
    "###Type your code below####"
   ]
  },
  {
   "cell_type": "markdown",
   "id": "020f923d-0c7c-4145-bb36-9c787b3013ad",
   "metadata": {},
   "source": [
    "**7.** Read the file from the url https://earthquake.usgs.gov/earthquakes/feed/v1.0/summary/significant_month.csv (use requests module). Store the file data as rows and columns in a list of list. Create dictionary containing the frequencies of each locationSource in the file. "
   ]
  },
  {
   "cell_type": "code",
   "execution_count": 10,
   "id": "2fe9de6c-0606-49c1-8bb4-38a1041941ff",
   "metadata": {},
   "outputs": [],
   "source": [
    "###Type your code below####"
   ]
  },
  {
   "cell_type": "markdown",
   "id": "5248085e-08bb-4ea9-b923-eb85488a9ecc",
   "metadata": {},
   "source": [
    "**8.** Read the file from the url https://population.un.org/wpp/Download/Files/1_Indicators%20(Standard)/CSV_FILES/WPP2019_TotalPopulationBySex.csv (use requests module). Find the location with the highest population density."
   ]
  },
  {
   "cell_type": "code",
   "execution_count": 11,
   "id": "a1a87503-9264-4df4-a409-d9a79800fe14",
   "metadata": {},
   "outputs": [],
   "source": [
    "###Type your code below####"
   ]
  },
  {
   "cell_type": "markdown",
   "id": "8b154e76-647b-4801-8cfe-6b5700870310",
   "metadata": {},
   "source": [
    "**9**. From the file above, identify the location with the highest male population. "
   ]
  },
  {
   "cell_type": "code",
   "execution_count": 12,
   "id": "5edc28f9-8bb1-452d-9f3e-f518553b7582",
   "metadata": {},
   "outputs": [],
   "source": [
    "###Type your code below####"
   ]
  },
  {
   "cell_type": "markdown",
   "id": "f58396c1-ac06-45da-98fa-adf528770619",
   "metadata": {},
   "source": [
    "**10**. From the file on question 8, identify the location with the highest female population. "
   ]
  },
  {
   "cell_type": "code",
   "execution_count": 13,
   "id": "bd381890-f6ed-4108-97e9-f8b20a5be6b0",
   "metadata": {},
   "outputs": [],
   "source": [
    "###Type your code below####"
   ]
  },
  {
   "cell_type": "code",
   "execution_count": null,
   "id": "d60877f7-84cd-48a0-817a-4f1dc0c27fc0",
   "metadata": {},
   "outputs": [],
   "source": []
  }
 ],
 "metadata": {
  "kernelspec": {
   "display_name": "Python 3 (ipykernel)",
   "language": "python",
   "name": "python3"
  },
  "language_info": {
   "codemirror_mode": {
    "name": "ipython",
    "version": 3
   },
   "file_extension": ".py",
   "mimetype": "text/x-python",
   "name": "python",
   "nbconvert_exporter": "python",
   "pygments_lexer": "ipython3",
   "version": "3.9.7"
  }
 },
 "nbformat": 4,
 "nbformat_minor": 5
}
