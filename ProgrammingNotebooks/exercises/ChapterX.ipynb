{
 "cells": [
  {
   "cell_type": "code",
   "execution_count": 109,
   "id": "d4638720-ecb3-42c8-93b1-d18f8c881092",
   "metadata": {},
   "outputs": [],
   "source": [
    "from ipywidgets import widgets"
   ]
  },
  {
   "cell_type": "markdown",
   "id": "eff621b4-0549-4c16-9557-be426df11e87",
   "metadata": {},
   "source": [
    "**1**. Replace all odd numbers in a single dimensional array with -1\n",
    "\n",
    "example for an input \n",
    "```python\n",
    "[1,2,3,4,5,6,7] \n",
    "```\n",
    "the program should return \n",
    "```python\n",
    "[-1,2,-1,4,-1,6,-1]\n",
    "```"
   ]
  },
  {
   "cell_type": "code",
   "execution_count": 110,
   "id": "79791cf7-994c-4ca6-b991-554cac8f3aa6",
   "metadata": {},
   "outputs": [],
   "source": [
    "###Type your code below####"
   ]
  },
  {
   "cell_type": "markdown",
   "id": "58d15269-529f-48c1-89c4-e3e85d361d74",
   "metadata": {},
   "source": [
    "**2**. Write a function that accepts two one dimensional arrays and returns the common items as an array\n",
    "\n",
    "```python\n",
    "intersection(array1,array2)\n",
    "```"
   ]
  },
  {
   "cell_type": "code",
   "execution_count": 111,
   "id": "105c1ba3-89bf-4b99-b2eb-f59d90001b05",
   "metadata": {},
   "outputs": [],
   "source": [
    "###Type your code below####"
   ]
  },
  {
   "cell_type": "markdown",
   "id": "cde78a27-e4df-4e28-8ff7-7988e3c2658b",
   "metadata": {},
   "source": [
    "**3**. Write a function that accepts two arrays as argument and remove elements from first array that are present in second array. For example if first array is [1,2,3,4,5] and sencond array is [5,6,7,8,9], the result should be [1,2,3,4]."
   ]
  },
  {
   "cell_type": "code",
   "execution_count": 112,
   "id": "a04775b0-c1d0-4045-837f-4f59406c6543",
   "metadata": {},
   "outputs": [],
   "source": [
    "###Type your code below####"
   ]
  },
  {
   "cell_type": "markdown",
   "id": "e78b9a6d-f8ff-4212-a8eb-5980324ad905",
   "metadata": {},
   "source": [
    "**4.** Write a function that accepts two arrays and find element positions in first array that matches element in second array. For eg for two arrays\n",
    "```python\n",
    "a = np.array([1,2,3,2,3,4,3,4,5,6])\n",
    "b = np.array([7,2,10,2,7,4,9,4,9,8])\n",
    "```\n",
    "The output should be \n",
    "```python\n",
    "[1, 3, 5, 7]\n",
    "```"
   ]
  },
  {
   "cell_type": "code",
   "execution_count": 113,
   "id": "c0284d59-5069-4445-a96c-54a63276e10e",
   "metadata": {},
   "outputs": [],
   "source": [
    "###Type your code below####"
   ]
  },
  {
   "cell_type": "markdown",
   "id": "7343edc1-717c-4d1d-a05d-32cebd7f1d1b",
   "metadata": {},
   "source": [
    "**5**. Write a function that accepts an array and two numbers as parameters and return all the elements of the array that are between the two numbers\n",
    "\n",
    "For example for an array\n",
    "```python\n",
    "a = np.array([2, 6, 1, 9, 10, 3, 27])\n",
    "```\n",
    "and for the numbers 5 and 10 the output should be \n",
    "```python\n",
    "[6, 9, 10]\n",
    "```"
   ]
  },
  {
   "cell_type": "code",
   "execution_count": 114,
   "id": "437de939-1757-4447-a19a-852a6878b3f3",
   "metadata": {},
   "outputs": [],
   "source": [
    "###Type your code below####"
   ]
  },
  {
   "cell_type": "markdown",
   "id": "a644c0e4-41fd-4fc6-a9dd-a2eba9201298",
   "metadata": {},
   "source": [
    "**6**. Write a function that accepts two arrays of the same length as parameter and return an array with the maximum element from each array. For eg for an input \n",
    "\n",
    "```python\n",
    "a = np.array([5, 7, 9, 8, 6, 4, 5])\n",
    "b = np.array([6, 3, 4, 8, 9, 7, 1])\n",
    "```\n",
    "The ouput should be \n",
    "\n",
    "```python\n",
    "[6, 7, 9, 8, 9, 7, 5]\n",
    "```"
   ]
  },
  {
   "cell_type": "code",
   "execution_count": 115,
   "id": "d64a69fe-066d-491a-b682-4c471e8ce072",
   "metadata": {},
   "outputs": [],
   "source": [
    "###Type your code below####"
   ]
  },
  {
   "cell_type": "markdown",
   "id": "bda8a6fc-6395-4ef5-9af5-43f2425cfc9d",
   "metadata": {},
   "source": [
    "**7**. Write a function that accepts a matrix (2d array) and reverses the rows of the matrix.\n",
    "\n",
    "For eg for an input \n",
    "\n",
    "```python\n",
    "[[0,1],\n",
    " [2,3]]\n",
    "```\n",
    "The output should be\n",
    "```python\n",
    "[[2,3],\n",
    " [0,1]]\n",
    "```\n"
   ]
  },
  {
   "cell_type": "code",
   "execution_count": 116,
   "id": "1025b047-ea37-4ff1-b244-3d1ea8da32b7",
   "metadata": {},
   "outputs": [],
   "source": [
    "###Type your code below####"
   ]
  },
  {
   "cell_type": "markdown",
   "id": "af96d89c-83e2-49ea-8092-7c2692ef66cf",
   "metadata": {},
   "source": [
    "**8**. Write a function that accepts a matrix (2d array) and reverses the columns of the matrix.\n",
    "\n",
    "For eg for an input \n",
    "\n",
    "```python\n",
    "[[0,1],\n",
    " [2,3]]\n",
    "```\n",
    "The output should be\n",
    "```python\n",
    "[[1,0],\n",
    " [3,2]]\n",
    "```"
   ]
  },
  {
   "cell_type": "code",
   "execution_count": 117,
   "id": "051c756c-8e01-47b9-898e-16e4a435b4ff",
   "metadata": {},
   "outputs": [],
   "source": [
    "###Type your code below####"
   ]
  },
  {
   "cell_type": "markdown",
   "id": "720cfd69-80d0-4b31-8631-787bead31c20",
   "metadata": {},
   "source": [
    "**9**. Write a function that accepts a single dimensional array as argument and returns the top 5 values. For eg for an array \n",
    "```python\n",
    "[1,2,3,4,5,6,7,8,9,10]\n",
    "```\n",
    "the output should be\n",
    "```python\n",
    "[10,9,8,7,6]\n",
    "```"
   ]
  },
  {
   "cell_type": "code",
   "execution_count": 118,
   "id": "27ec8dd0-e161-4612-941f-5c926db09c27",
   "metadata": {},
   "outputs": [],
   "source": [
    "###Type your code below####"
   ]
  },
  {
   "cell_type": "markdown",
   "id": "561957a1-16f8-48b2-a917-3e3b02b820a7",
   "metadata": {},
   "source": [
    "**10**. Write a function to compute the one-hot encodings (dummy binary variables for each unique value in the array) for an array of numbers. For example for an array \n",
    "```python\n",
    "[2, 3, 2, 2, 2, 1]\n",
    "```\n",
    "The output should be\n",
    "```python\n",
    "[[0,1,0],\n",
    " [0,0,1],\n",
    " [0,1,0],\n",
    " [0,1,0],\n",
    " [0,1,0],\n",
    " [1,0,0]]\n",
    "```"
   ]
  },
  {
   "cell_type": "code",
   "execution_count": 119,
   "id": "cb47f8a1-c576-4f92-b779-1b6412f748fb",
   "metadata": {},
   "outputs": [],
   "source": [
    "###Type your code below####"
   ]
  },
  {
   "cell_type": "markdown",
   "id": "a34d2e30-4254-4638-861a-89f848459f1e",
   "metadata": {},
   "source": [
    "**11**. Write a function that compute the euclidean distance between two 1d arrays of same length. The Euclidean distance between to vectors $(x_{1},y_{1})$ and $(x_{2},y_{2})$ is \n",
    "$$\\sqrt{(x_{1}-x_{2})^2 + (y_{1}-y_{2})^2}$$"
   ]
  },
  {
   "cell_type": "code",
   "execution_count": 120,
   "id": "2f49c6e0-b9ee-4207-8df2-60d844bf7b7b",
   "metadata": {},
   "outputs": [],
   "source": [
    "###Type your code below####"
   ]
  },
  {
   "cell_type": "markdown",
   "id": "ccc752bb-f6c3-4cc2-b641-0c504bcb531a",
   "metadata": {},
   "source": [
    "**12**. Write a function to read the CSV file 'https://earthquake.usgs.gov/earthquakes/feed/v1.0/summary/all_month.csv' to a DataFrame. Find the maximum depth for all records. "
   ]
  },
  {
   "cell_type": "code",
   "execution_count": 121,
   "id": "657d3b88-7cf3-43cf-8862-d7f205723e61",
   "metadata": {},
   "outputs": [],
   "source": [
    "###Type your code below####"
   ]
  },
  {
   "cell_type": "markdown",
   "id": "ebe9c90a-d8be-4862-9aab-0510a6015f79",
   "metadata": {},
   "source": [
    "**13**. Write a function to read the CSV file 'https://earthquake.usgs.gov/earthquakes/feed/v1.0/summary/all_month.csv' to a DataFrame. Find the maximum magnitude (**mag**) for each **magType**."
   ]
  },
  {
   "cell_type": "code",
   "execution_count": 122,
   "id": "68cd5f6f-3006-4a18-8680-e3dab671b471",
   "metadata": {},
   "outputs": [],
   "source": [
    "###Type your code below####"
   ]
  },
  {
   "cell_type": "markdown",
   "id": "03a4deaa-4779-4ec8-9d5a-938c70c8d92e",
   "metadata": {},
   "source": [
    "**14**. Write a function to read the CSV file 'https://earthquake.usgs.gov/earthquakes/feed/v1.0/summary/all_month.csv' to a DataFrame. Find the count for each **locationSource**."
   ]
  },
  {
   "cell_type": "code",
   "execution_count": 123,
   "id": "3d402ad7-b17a-4ad1-9a50-c489297f4cb0",
   "metadata": {},
   "outputs": [],
   "source": [
    "###Type your code below####"
   ]
  },
  {
   "cell_type": "markdown",
   "id": "c61b140e-5b3b-4d6d-b643-76a8dce760c0",
   "metadata": {},
   "source": [
    "**15**. Write a function to read the CSV file 'listings_amsterdam.csv' from data folder to a DataFrame. Find the records with **description** containing the substring 'wifi'"
   ]
  },
  {
   "cell_type": "code",
   "execution_count": 124,
   "id": "228ec522-c3ab-4021-a5d0-17d2f763f837",
   "metadata": {},
   "outputs": [],
   "source": [
    "###Type your code below####"
   ]
  },
  {
   "cell_type": "markdown",
   "id": "51b28f78-839f-4d38-b051-aedb6f6358f2",
   "metadata": {},
   "source": [
    "**16**. Write a function to read the CSV file 'listings_amsterdam.csv' from data folder to a DataFrame. Sort the records by reviews_per_month in descending order. "
   ]
  },
  {
   "cell_type": "code",
   "execution_count": 125,
   "id": "06f3f35a-39b0-4451-a494-1d9b3eee80b9",
   "metadata": {},
   "outputs": [],
   "source": [
    "###Type your code below####"
   ]
  },
  {
   "cell_type": "markdown",
   "id": "3d1fd3d7-a5e2-4938-852d-2ec2cdb9806d",
   "metadata": {},
   "source": [
    "**17**. Write a function to read the CSV file 'listings_amsterdam.csv' from data folder to a DataFrame. Create a frequency table for the different **property_type**. "
   ]
  },
  {
   "cell_type": "code",
   "execution_count": 126,
   "id": "7c610789-bd98-41a1-be95-d55662948f29",
   "metadata": {},
   "outputs": [],
   "source": [
    "###Type your code below####"
   ]
  },
  {
   "cell_type": "markdown",
   "id": "118a950f-2749-43da-aae9-47e0639ef324",
   "metadata": {},
   "source": [
    "**18**. Write a function to read the CSV file 'listings_amsterdam.csv' from data folder to a DataFrame. Extract out the top 20 properties based on **price**"
   ]
  },
  {
   "cell_type": "code",
   "execution_count": 127,
   "id": "f807dc60-6d76-429c-8b88-4c32fdd5b7d8",
   "metadata": {},
   "outputs": [],
   "source": [
    "###Type your code below####"
   ]
  },
  {
   "cell_type": "markdown",
   "id": "daf8f8bb-2098-471a-8da0-55f33f20cd5a",
   "metadata": {},
   "source": [
    "**19**. Write a function to read the CSV file 'sales_records.csv' from data folder to a DataFrame. Find the total number of orders based on **Region** as well as **Country**."
   ]
  },
  {
   "cell_type": "code",
   "execution_count": 128,
   "id": "96853ea9-b0e2-4060-82fc-3d8fdba6ab20",
   "metadata": {},
   "outputs": [],
   "source": [
    "###Type your code below####"
   ]
  },
  {
   "cell_type": "markdown",
   "id": "fbe2fd40-1104-4fa0-9935-ddaac750c74b",
   "metadata": {},
   "source": [
    "**20**. Write a function to read the CSV file 'sales_records.csv' from data folder to a DataFrame. Find the total number of units sold for each 'Item Type' across all the countries."
   ]
  },
  {
   "cell_type": "code",
   "execution_count": 129,
   "id": "dc749d16-bd1d-46c7-9dce-368a08806e96",
   "metadata": {},
   "outputs": [],
   "source": [
    "###Type your code below####"
   ]
  }
 ],
 "metadata": {
  "kernelspec": {
   "display_name": "Python 3 (ipykernel)",
   "language": "python",
   "name": "python3"
  },
  "language_info": {
   "codemirror_mode": {
    "name": "ipython",
    "version": 3
   },
   "file_extension": ".py",
   "mimetype": "text/x-python",
   "name": "python",
   "nbconvert_exporter": "python",
   "pygments_lexer": "ipython3",
   "version": "3.9.7"
  }
 },
 "nbformat": 4,
 "nbformat_minor": 5
}
