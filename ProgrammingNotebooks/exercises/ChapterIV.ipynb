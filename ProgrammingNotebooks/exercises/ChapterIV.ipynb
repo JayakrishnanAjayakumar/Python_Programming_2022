{
 "cells": [
  {
   "cell_type": "markdown",
   "id": "1e94b6ec-8f3c-470a-8425-d5d5c2361c04",
   "metadata": {},
   "source": [
    "**1**. Which of this identifier is not valid (enter your response in the text box provided below)\n",
    "\n",
    "1. 49ers\n",
    "2. a\n",
    "3. test123\n",
    "4. test_123"
   ]
  },
  {
   "cell_type": "code",
   "execution_count": 1,
   "id": "70e3bad8-9bea-406a-91a0-92f094b3e9dd",
   "metadata": {},
   "outputs": [
    {
     "data": {
      "application/vnd.jupyter.widget-view+json": {
       "model_id": "55c3741854d14a30aa3b830d548a0ab8",
       "version_major": 2,
       "version_minor": 0
      },
      "text/plain": [
       "Text(value='', description='Your Answer:', placeholder='')"
      ]
     },
     "metadata": {},
     "output_type": "display_data"
    }
   ],
   "source": [
    "from ipywidgets import widgets\n",
    "widgets.Text(\n",
    "    value='',\n",
    "    placeholder='',\n",
    "    description='Your Answer:',\n",
    "    disabled=False\n",
    ")"
   ]
  },
  {
   "cell_type": "markdown",
   "id": "a3e461cd-4fff-4ba3-a8a1-15ced143f2a7",
   "metadata": {},
   "source": [
    "**2**. Is the variable declared in the code snippet below valid \n",
    "```python\n",
    "my-age = 21\n",
    "```"
   ]
  },
  {
   "cell_type": "code",
   "execution_count": 2,
   "id": "50efa9be-072a-489e-a43b-6b9d3eff7042",
   "metadata": {},
   "outputs": [
    {
     "data": {
      "application/vnd.jupyter.widget-view+json": {
       "model_id": "420c0f09846845daad64f8b5c1817f76",
       "version_major": 2,
       "version_minor": 0
      },
      "text/plain": [
       "RadioButtons(description='Your Answer:', options=('True', 'False'), value='True')"
      ]
     },
     "metadata": {},
     "output_type": "display_data"
    }
   ],
   "source": [
    "widgets.RadioButtons(\n",
    "    options=['True', 'False'],\n",
    "    description='Your Answer:',\n",
    "    disabled=False\n",
    ")"
   ]
  },
  {
   "cell_type": "markdown",
   "id": "51310d7a-59ef-4385-9884-1ac7412c34ee",
   "metadata": {},
   "source": [
    "**3**. Set a variable named radius to have the value 10. Using the formula for the area of a circle (A = $πr^2$), assign to a new variable named area the area of a circle with\n",
    "radius equal to your variable radius. (The number 10 should not appear in the\n",
    "formula.)\n"
   ]
  },
  {
   "cell_type": "code",
   "execution_count": 3,
   "id": "326688e1-113d-416c-b3f5-8cb78bbcebfe",
   "metadata": {},
   "outputs": [],
   "source": [
    "###Type your code below####"
   ]
  },
  {
   "cell_type": "markdown",
   "id": "12c52c02-0c04-4a1f-a836-025b2d523de6",
   "metadata": {},
   "source": [
    "**4**. Suppose you want to swap the values in two variables x and y\n",
    "\n",
    "Is the code snippet shown below correct\n",
    "```python\n",
    "x=y\n",
    "y=x\n",
    "```"
   ]
  },
  {
   "cell_type": "markdown",
   "id": "72b3b82b-e8c5-49d4-bc27-6f400a55e3b9",
   "metadata": {},
   "source": [
    "**5**. Write a program to swap the values in two variables x and y"
   ]
  },
  {
   "cell_type": "code",
   "execution_count": 4,
   "id": "f74df3c3-eb7b-4b7b-bc10-6eac9a1f0df6",
   "metadata": {},
   "outputs": [],
   "source": [
    "###Type your code below####"
   ]
  },
  {
   "cell_type": "markdown",
   "id": "4d6efc2c-4c5e-4787-a303-e39865277690",
   "metadata": {},
   "source": [
    "**6**. What are the values of x and y at the end of the following\n",
    "\n",
    "```python\n",
    "x = 12.0\n",
    "y = 6\n",
    "y = y * x\n",
    "```"
   ]
  },
  {
   "cell_type": "code",
   "execution_count": 5,
   "id": "d1e0e5ed-e8a6-4a44-8248-35473f466cb8",
   "metadata": {},
   "outputs": [
    {
     "data": {
      "application/vnd.jupyter.widget-view+json": {
       "model_id": "f30d34c302b84c7a93161cc25ff85afa",
       "version_major": 2,
       "version_minor": 0
      },
      "text/plain": [
       "RadioButtons(description='Your Answer:', options=('12,6', '12,72', '72,12', '6,12'), value='12,6')"
      ]
     },
     "metadata": {},
     "output_type": "display_data"
    }
   ],
   "source": [
    "widgets.RadioButtons(\n",
    "    options=['12,6', '12,72','72,12','6,12'],\n",
    "    description='Your Answer:',\n",
    "    disabled=False\n",
    ")"
   ]
  },
  {
   "cell_type": "markdown",
   "id": "807917fb-ab2c-4166-bf3f-c53841d68373",
   "metadata": {},
   "source": [
    "**7**. Will this porgram work?\n",
    "```python\n",
    "x + 4\n",
    "```"
   ]
  },
  {
   "cell_type": "code",
   "execution_count": 6,
   "id": "08f0d977-1166-4152-a7bf-1adcb58d6286",
   "metadata": {},
   "outputs": [
    {
     "data": {
      "application/vnd.jupyter.widget-view+json": {
       "model_id": "1a382c05eeac436bb4d495cad68bcd0c",
       "version_major": 2,
       "version_minor": 0
      },
      "text/plain": [
       "RadioButtons(description='Your Answer:', options=('Yes', 'No'), value='Yes')"
      ]
     },
     "metadata": {},
     "output_type": "display_data"
    }
   ],
   "source": [
    "widgets.RadioButtons(\n",
    "    options=['Yes', 'No'],\n",
    "    description='Your Answer:',\n",
    "    disabled=False\n",
    ")"
   ]
  },
  {
   "cell_type": "markdown",
   "id": "8bd56293-1235-4af5-ab13-822e571111dd",
   "metadata": {},
   "source": [
    "**8**. If the above program fails what should be done to x to get the value of 10. Write the code snippet"
   ]
  },
  {
   "cell_type": "code",
   "execution_count": 7,
   "id": "8df5433c-1858-4cf0-b5bd-2f7e73b90af4",
   "metadata": {},
   "outputs": [],
   "source": [
    "###Type your code below####"
   ]
  },
  {
   "cell_type": "markdown",
   "id": "4c92a814-bcff-4eae-beb3-0e09e35e9566",
   "metadata": {},
   "source": [
    "**9**. The formula for computing the final amount if one is earning compound interest is given as\n",
    "\n",
    "$ A = P(1+\\frac{r}{n})^{nt} $\n",
    "\n",
    "Where P = Principal Amount\n",
    "r = annual nominal interest rate\n",
    "n = number of times interest is compunded per year \n",
    "t = number of years"
   ]
  },
  {
   "cell_type": "markdown",
   "id": "0dea3f1f-3186-49f8-89e6-399e92d5efec",
   "metadata": {},
   "source": [
    "Write a Python program that assigns the **principal amount of $10000 to variable P**, assign to **n the value 12**, , assign to **r the interest rate of 8%** and **assign to t 4 years**. Calculate and print the final amount (Hint raised to can be expressed through)\n",
    "```python\n",
    "2**3 #should give 8\n",
    "2**4 #should give 16\n",
    "25**(1/2) #should give 5\n",
    "```"
   ]
  },
  {
   "cell_type": "code",
   "execution_count": 8,
   "id": "d117e663-26ac-4c10-af6f-b0d5b3b1ca50",
   "metadata": {},
   "outputs": [],
   "source": [
    "###Type your code below####"
   ]
  },
  {
   "cell_type": "markdown",
   "id": "cc37c834-eb60-4afa-8c69-1eefa8369c18",
   "metadata": {},
   "source": [
    "**10**. The formula for computing North American wind chill temperatures, in degrees Celsius, is\n",
    "\n",
    "$$W = 13.12 + 0.6215 t + (0.3965 t − 11.37) v^{0.16}$$\n",
    "\n",
    "where $t$ is the ambient temperature in $^oC$ and $v$ is the wind speed in $km/h$. Compute the wind chill for a temperature of $-3^oC$ and wind speed of 13 km/h by assigning this temperature and wind speed to two variables *temperature* and *windSpeed*, and then assigning the corresponding wind chill to another variable *windChill* using the formula above."
   ]
  },
  {
   "cell_type": "code",
   "execution_count": 19,
   "id": "da308eff-dfbd-422f-9c5a-32f7a24600cc",
   "metadata": {},
   "outputs": [],
   "source": [
    "###Type your code below####"
   ]
  }
 ],
 "metadata": {
  "kernelspec": {
   "display_name": "Python 3 (ipykernel)",
   "language": "python",
   "name": "python3"
  },
  "language_info": {
   "codemirror_mode": {
    "name": "ipython",
    "version": 3
   },
   "file_extension": ".py",
   "mimetype": "text/x-python",
   "name": "python",
   "nbconvert_exporter": "python",
   "pygments_lexer": "ipython3",
   "version": "3.9.7"
  }
 },
 "nbformat": 4,
 "nbformat_minor": 5
}
