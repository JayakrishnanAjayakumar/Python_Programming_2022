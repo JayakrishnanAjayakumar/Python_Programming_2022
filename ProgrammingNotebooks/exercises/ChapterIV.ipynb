{
 "cells": [
  {
   "cell_type": "code",
   "execution_count": 1,
   "id": "7912de34-ca38-477a-9a3e-751dc0e23a45",
   "metadata": {},
   "outputs": [],
   "source": [
    "import qwHelp"
   ]
  },
  {
   "cell_type": "markdown",
   "id": "1419d2b1-6d70-4828-a8da-cc17f2e307af",
   "metadata": {},
   "source": [
    "**1**. Which of this identifier is not valid"
   ]
  },
  {
   "cell_type": "code",
   "execution_count": 2,
   "id": "1a05ecd6-f9eb-400e-bf63-2fb864f99d6d",
   "metadata": {},
   "outputs": [
    {
     "data": {
      "application/vnd.jupyter.widget-view+json": {
       "model_id": "9c6dd742c5414dc7a3a03c91f737d764",
       "version_major": 2,
       "version_minor": 0
      },
      "text/plain": [
       "RadioButtons(description='Your Answer:', options=('a', '49ers', 'test123', 'test_123'), value='a')"
      ]
     },
     "metadata": {},
     "output_type": "display_data"
    }
   ],
   "source": [
    "qwHelp.QuestionWidgetHelper(1).display()"
   ]
  },
  {
   "cell_type": "markdown",
   "id": "a3e461cd-4fff-4ba3-a8a1-15ced143f2a7",
   "metadata": {},
   "source": [
    "**2**. Is the variable declared in the code snippet below valid \n",
    "```python\n",
    "my-age = 21\n",
    "```"
   ]
  },
  {
   "cell_type": "code",
   "execution_count": 3,
   "id": "50efa9be-072a-489e-a43b-6b9d3eff7042",
   "metadata": {},
   "outputs": [
    {
     "data": {
      "application/vnd.jupyter.widget-view+json": {
       "model_id": "f6e17102263c4b47a9c6000b5499ff05",
       "version_major": 2,
       "version_minor": 0
      },
      "text/plain": [
       "RadioButtons(description='Your Answer:', options=('True', 'False'), value='True')"
      ]
     },
     "metadata": {},
     "output_type": "display_data"
    }
   ],
   "source": [
    "qwHelp.QuestionWidgetHelper(2).display()"
   ]
  },
  {
   "cell_type": "markdown",
   "id": "51310d7a-59ef-4385-9884-1ac7412c34ee",
   "metadata": {},
   "source": [
    "**3**. Set a variable named radius to have the value 10. Using the formula for the area of a circle (A = $πr^2$), assign to a new variable named area the area of a circle with\n",
    "radius equal to your variable radius. (The number 10 should not appear in the\n",
    "formula.)\n"
   ]
  },
  {
   "cell_type": "code",
   "execution_count": 4,
   "id": "326688e1-113d-416c-b3f5-8cb78bbcebfe",
   "metadata": {},
   "outputs": [],
   "source": [
    "###Type your code below####"
   ]
  },
  {
   "cell_type": "markdown",
   "id": "12c52c02-0c04-4a1f-a836-025b2d523de6",
   "metadata": {},
   "source": [
    "**4**. Suppose you want to swap the values in two variables x and y\n",
    "\n",
    "Is the code snippet shown below correct\n",
    "```python\n",
    "x=y\n",
    "y=x\n",
    "```"
   ]
  },
  {
   "cell_type": "code",
   "execution_count": 5,
   "id": "9b0cea22-da80-41c3-b535-3ae9d08ff1fb",
   "metadata": {},
   "outputs": [
    {
     "data": {
      "application/vnd.jupyter.widget-view+json": {
       "model_id": "b11fa817e9744b689c0cd5c363323b37",
       "version_major": 2,
       "version_minor": 0
      },
      "text/plain": [
       "RadioButtons(description='Your Answer:', options=('Yes', 'No'), value='Yes')"
      ]
     },
     "metadata": {},
     "output_type": "display_data"
    }
   ],
   "source": [
    "qwHelp.QuestionWidgetHelper(18).display()"
   ]
  },
  {
   "cell_type": "markdown",
   "id": "72b3b82b-e8c5-49d4-bc27-6f400a55e3b9",
   "metadata": {},
   "source": [
    "**5**. Write a program to swap the values in two variables x and y"
   ]
  },
  {
   "cell_type": "code",
   "execution_count": 6,
   "id": "f74df3c3-eb7b-4b7b-bc10-6eac9a1f0df6",
   "metadata": {},
   "outputs": [],
   "source": [
    "###Type your code below####"
   ]
  },
  {
   "cell_type": "markdown",
   "id": "4d6efc2c-4c5e-4787-a303-e39865277690",
   "metadata": {},
   "source": [
    "**6**. What are the values of x and y at the end of the following\n",
    "\n",
    "```python\n",
    "x = 12.0\n",
    "y = 6\n",
    "y = y * x\n",
    "```"
   ]
  },
  {
   "cell_type": "code",
   "execution_count": 7,
   "id": "d1e0e5ed-e8a6-4a44-8248-35473f466cb8",
   "metadata": {},
   "outputs": [
    {
     "data": {
      "application/vnd.jupyter.widget-view+json": {
       "model_id": "74c3a687284945b7946c779bc5e61ab3",
       "version_major": 2,
       "version_minor": 0
      },
      "text/plain": [
       "RadioButtons(description='Your Answer:', options=('12 6', ' 12 72', '72 12', '6 12'), value='12 6')"
      ]
     },
     "metadata": {},
     "output_type": "display_data"
    }
   ],
   "source": [
    "qwHelp.QuestionWidgetHelper(3).display()"
   ]
  },
  {
   "cell_type": "markdown",
   "id": "807917fb-ab2c-4166-bf3f-c53841d68373",
   "metadata": {},
   "source": [
    "**7**. Will this porgram work?\n",
    "```python\n",
    "x + 4\n",
    "```"
   ]
  },
  {
   "cell_type": "code",
   "execution_count": 8,
   "id": "08f0d977-1166-4152-a7bf-1adcb58d6286",
   "metadata": {},
   "outputs": [
    {
     "data": {
      "application/vnd.jupyter.widget-view+json": {
       "model_id": "edae0c9596574c4bb5a7fa6ebdcecae9",
       "version_major": 2,
       "version_minor": 0
      },
      "text/plain": [
       "RadioButtons(description='Your Answer:', options=('Yes', 'No'), value='Yes')"
      ]
     },
     "metadata": {},
     "output_type": "display_data"
    }
   ],
   "source": [
    "qwHelp.QuestionWidgetHelper(4).display()"
   ]
  },
  {
   "cell_type": "markdown",
   "id": "8bd56293-1235-4af5-ab13-822e571111dd",
   "metadata": {},
   "source": [
    "**8**. If the above program fails what should be done to x to get the value of 10. Write the code snippet"
   ]
  },
  {
   "cell_type": "code",
   "execution_count": 9,
   "id": "8df5433c-1858-4cf0-b5bd-2f7e73b90af4",
   "metadata": {},
   "outputs": [],
   "source": [
    "###Type your code below####"
   ]
  },
  {
   "cell_type": "markdown",
   "id": "4c92a814-bcff-4eae-beb3-0e09e35e9566",
   "metadata": {},
   "source": [
    "**9**. The formula for computing the final amount if one is earning compound interest is given as\n",
    "\n",
    "$ A = P(1+\\frac{r}{n})^{nt} $\n",
    "\n",
    "Where P = Principal Amount\n",
    "r = annual nominal interest rate\n",
    "n = number of times interest is compunded per year \n",
    "t = number of years"
   ]
  },
  {
   "cell_type": "markdown",
   "id": "0dea3f1f-3186-49f8-89e6-399e92d5efec",
   "metadata": {},
   "source": [
    "Write a Python program that assigns the **principal amount of $10000 to variable P**, assign to **n the value 12**, , assign to **r the interest rate of 8%** and **assign to t 4 years**. Calculate and print the final amount (Hint raised to can be expressed through)\n",
    "```python\n",
    "2**3 #should give 8\n",
    "2**4 #should give 16\n",
    "25**(1/2) #should give 5\n",
    "```"
   ]
  },
  {
   "cell_type": "code",
   "execution_count": 10,
   "id": "d117e663-26ac-4c10-af6f-b0d5b3b1ca50",
   "metadata": {},
   "outputs": [],
   "source": [
    "###Type your code below####"
   ]
  },
  {
   "cell_type": "markdown",
   "id": "cc37c834-eb60-4afa-8c69-1eefa8369c18",
   "metadata": {},
   "source": [
    "**10**. The formula for computing North American wind chill temperatures, in degrees Celsius, is\n",
    "\n",
    "$$W = 13.12 + 0.6215 t + (0.3965 t − 11.37) v^{0.16}$$\n",
    "\n",
    "where $t$ is the ambient temperature in $^oC$ and $v$ is the wind speed in $km/h$. Compute the wind chill for a temperature of $-3^oC$ and wind speed of 13 km/h by assigning this temperature and wind speed to two variables *temperature* and *windSpeed*, and then assigning the corresponding wind chill to another variable *windChill* using the formula above."
   ]
  },
  {
   "cell_type": "code",
   "execution_count": 11,
   "id": "da308eff-dfbd-422f-9c5a-32f7a24600cc",
   "metadata": {},
   "outputs": [],
   "source": [
    "###Type your code below####"
   ]
  },
  {
   "cell_type": "code",
   "execution_count": null,
   "id": "b61fce60-02a4-4b9b-abb3-b09cb803bf43",
   "metadata": {},
   "outputs": [],
   "source": []
  }
 ],
 "metadata": {
  "kernelspec": {
   "display_name": "Python 3 (ipykernel)",
   "language": "python",
   "name": "python3"
  },
  "language_info": {
   "codemirror_mode": {
    "name": "ipython",
    "version": 3
   },
   "file_extension": ".py",
   "mimetype": "text/x-python",
   "name": "python",
   "nbconvert_exporter": "python",
   "pygments_lexer": "ipython3",
   "version": "3.9.7"
  }
 },
 "nbformat": 4,
 "nbformat_minor": 5
}
