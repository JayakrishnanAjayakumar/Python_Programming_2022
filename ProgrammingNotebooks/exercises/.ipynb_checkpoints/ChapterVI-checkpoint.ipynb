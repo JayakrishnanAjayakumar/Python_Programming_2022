{
 "cells": [
  {
   "cell_type": "code",
   "execution_count": 45,
   "id": "b510c4b0-1e5c-464c-ab50-90896326cfea",
   "metadata": {},
   "outputs": [],
   "source": [
    "import qwHelp"
   ]
  },
  {
   "cell_type": "markdown",
   "id": "39fcefdc-aaea-48bc-9cb3-255e9f923030",
   "metadata": {},
   "source": [
    "**1**. Write a function\n",
    "\n",
    "```python\n",
    "weather(rainProbability) \n",
    "```\n",
    "\n",
    "which accepts rainProbability as a floating point number between 0 and 1 and prints 'RAIN' if the rain probability is greater than .7 or 'SUN' otherwise\n"
   ]
  },
  {
   "cell_type": "code",
   "execution_count": 46,
   "id": "80e82076-fa6e-43e2-b254-95f1f9649fe4",
   "metadata": {},
   "outputs": [],
   "source": [
    "###Type your code below####"
   ]
  },
  {
   "cell_type": "markdown",
   "id": "f70147ea-ee19-4ca0-96f5-d2f9c607b541",
   "metadata": {},
   "source": [
    "**2**. Write a function \n",
    "\n",
    "```python\n",
    "roll()\n",
    "```\n",
    "\n",
    "that uses the random module in Python to generate an integer between 1 and 6. Then based on the result from random print a message such as, 'You got a 1' or 'You got a 2' etc."
   ]
  },
  {
   "cell_type": "code",
   "execution_count": 47,
   "id": "11f01340-8f9f-420a-a6c8-57bcf93c479a",
   "metadata": {},
   "outputs": [],
   "source": [
    "###Type your code below####"
   ]
  },
  {
   "cell_type": "markdown",
   "id": "49cb9a84-9a53-4b9d-9f8c-ff42ab0eda53",
   "metadata": {},
   "source": [
    "**3**. What will be the output of the code snippet shown below\n",
    "\n",
    "```python\n",
    "votes1 = 23\n",
    "votest2 = 23\n",
    "if votes1 >= votes2:\n",
    "    print('Candidate one wins!')\n",
    "elif votes1 <= votes2:\n",
    "    print('Candidate two wins!')\n",
    "else:\n",
    "    print('There was a tie.')\n",
    "```"
   ]
  },
  {
   "cell_type": "code",
   "execution_count": 48,
   "id": "e28254be-245a-4dfa-9e60-4388b6ef0c46",
   "metadata": {},
   "outputs": [
    {
     "data": {
      "application/vnd.jupyter.widget-view+json": {
       "model_id": "288496880ce14d3eb8559ca1fb44a0db",
       "version_major": 2,
       "version_minor": 0
      },
      "text/plain": [
       "RadioButtons(description='Your Answer:', options=('Candidate one wins!', 'Candidate two wins!', 'There was a t…"
      ]
     },
     "metadata": {},
     "output_type": "display_data"
    }
   ],
   "source": [
    "qwHelp.QuestionWidgetHelper(13).display()"
   ]
  },
  {
   "cell_type": "markdown",
   "id": "875daf0b-7d41-47f5-8933-02e5a8bc2c3f",
   "metadata": {},
   "source": [
    "**4**. The code snippet for question 3 is not logically correct. How will you fix it. Write the code snippet."
   ]
  },
  {
   "cell_type": "code",
   "execution_count": 49,
   "id": "3f4c3f96-04a8-47ac-9c5a-eb395bde3d03",
   "metadata": {},
   "outputs": [],
   "source": [
    "###Type your code below####"
   ]
  },
  {
   "cell_type": "markdown",
   "id": "86c6d180-a013-49d5-aaca-00d50bcc48ec",
   "metadata": {},
   "source": [
    "**5**. What will be the result of the following code snippet\n",
    "\n",
    "```python\n",
    "votes1 = 46\n",
    "votes2  = 10\n",
    "votes3 = 10\n",
    "majority = (votes1 + votes2 + votes3) / 2\n",
    "if votes1 > majority:\n",
    "    print('Candidate one wins!')\n",
    "if votes2 > majority:\n",
    "    print('Candidate two wins!')\n",
    "if votes3 > majority:\n",
    "    print('Candidate three wins!')\n",
    "else:\n",
    "    print('A runoff is required.')\n",
    "```"
   ]
  },
  {
   "cell_type": "code",
   "execution_count": 50,
   "id": "97faf1cc-e1f6-46d6-b93c-e8e4368480d6",
   "metadata": {},
   "outputs": [
    {
     "data": {
      "application/vnd.jupyter.widget-view+json": {
       "model_id": "9ca2d30b69034d178fea2e8bac2acd75",
       "version_major": 2,
       "version_minor": 0
      },
      "text/plain": [
       "RadioButtons(description='Your Answer:', options=('Candidate one wins!', 'Candidate two wins!', 'Candidate thr…"
      ]
     },
     "metadata": {},
     "output_type": "display_data"
    }
   ],
   "source": [
    "qwHelp.QuestionWidgetHelper(14).display()"
   ]
  },
  {
   "cell_type": "markdown",
   "id": "dc1f6786-7fe4-4220-879a-4c774465d90f",
   "metadata": {},
   "source": [
    "**6**. The code for the previous question doesnot produce the intended result. How to fix it?"
   ]
  },
  {
   "cell_type": "code",
   "execution_count": 51,
   "id": "f3073f5b-5891-4b5a-aa2f-2efebf4b9bf7",
   "metadata": {},
   "outputs": [],
   "source": [
    "###Type your code below####"
   ]
  },
  {
   "cell_type": "markdown",
   "id": "d0f86cd1-1c93-47a2-b613-70d058c74bdf",
   "metadata": {},
   "source": [
    "**7**. Is the code snippet shown below syntactically correct \n",
    "\n",
    "```python\n",
    "if x < 1:\n",
    "    print('Something.')\n",
    "else:\n",
    "    print('Something else.')\n",
    "elif x > 3:\n",
    "    print('Another something.')\n",
    "```"
   ]
  },
  {
   "cell_type": "markdown",
   "id": "011dcdf3-ae36-4c67-b1a6-1a15b80eb6f5",
   "metadata": {},
   "source": [
    "**8**. What is the final value assigned to result after the following code segments?\n",
    "\n",
    "```python\n",
    "n = 13\n",
    "result = n\n",
    "if n > 12:\n",
    "    result = result + 12\n",
    "if n < 5:\n",
    "    result = result + 5\n",
    "else:\n",
    "    result = result + 2\n",
    "```"
   ]
  },
  {
   "cell_type": "code",
   "execution_count": 52,
   "id": "672948ec-092e-45ea-8fae-12b29fb63ae6",
   "metadata": {},
   "outputs": [
    {
     "data": {
      "application/vnd.jupyter.widget-view+json": {
       "model_id": "f2e080289b364f4c935266e3f4e59c4f",
       "version_major": 2,
       "version_minor": 0
      },
      "text/plain": [
       "RadioButtons(description='Your Answer:', options=('13', '25', '27', '32'), value='13')"
      ]
     },
     "metadata": {},
     "output_type": "display_data"
    }
   ],
   "source": [
    "qwHelp.QuestionWidgetHelper(15).display()"
   ]
  },
  {
   "cell_type": "markdown",
   "id": "a45931c0-5c63-4ffd-99f2-2213c8622be5",
   "metadata": {},
   "source": [
    "**9**. What is the final value assigned to result after the following code segments?\n",
    "\n",
    "```python\n",
    "n = 13\n",
    "result = n\n",
    "if n > 12:\n",
    "    result = result + 12\n",
    "elif n < 5:\n",
    "    result = result + 5\n",
    "else:\n",
    "    result = result + 2\n",
    "```"
   ]
  },
  {
   "cell_type": "code",
   "execution_count": 53,
   "id": "447d91f2-91bc-4a06-8c0a-392bc7b464e0",
   "metadata": {},
   "outputs": [
    {
     "data": {
      "application/vnd.jupyter.widget-view+json": {
       "model_id": "a901ef91baec40da934a88eeb452c6ab",
       "version_major": 2,
       "version_minor": 0
      },
      "text/plain": [
       "RadioButtons(description='Your Answer:', options=('13', '25', '27', '32'), value='13')"
      ]
     },
     "metadata": {},
     "output_type": "display_data"
    }
   ],
   "source": [
    "qwHelp.QuestionWidgetHelper(16).display()"
   ]
  },
  {
   "cell_type": "markdown",
   "id": "10935f9b-d442-4cd6-a8f2-0d9cbc42521d",
   "metadata": {},
   "source": [
    "**10**. Assume the days of the week are numbered 0,1,2,3,4,5,6 from Sunday to Saturday. Write a function which is given the day number, and it returns the day name (a string)."
   ]
  },
  {
   "cell_type": "code",
   "execution_count": 54,
   "id": "921cee79-c4ec-40f9-a59e-9bc4425199d2",
   "metadata": {},
   "outputs": [],
   "source": [
    "###Type your code below####"
   ]
  },
  {
   "cell_type": "markdown",
   "id": "df6d2f67-8aa3-4be1-9f31-d430f8748020",
   "metadata": {},
   "source": [
    "**11**. Write a function that accepts two integers, dayOfWeek and numberOfDays and returns the day after numberOfDays from dayOfWeek as string ('Monday', 'Tuesday'). dayOfWeek value of 0 is Sunday and dayWeek value of Saturday is 6. "
   ]
  },
  {
   "cell_type": "code",
   "execution_count": 55,
   "id": "6f0fdfe9-355e-4bea-b837-37e5e7c367b8",
   "metadata": {},
   "outputs": [],
   "source": [
    "###Type your code below####"
   ]
  },
  {
   "cell_type": "markdown",
   "id": "0dabae56-fd73-4f2f-bc37-d4927e5983e4",
   "metadata": {},
   "source": [
    "**12**. Write a function \n",
    "\n",
    "```python\n",
    "isValidTriangle(side1,side2,side3)\n",
    "```\n",
    "\n",
    "that accepts three sides of a triangle and return True if the triangle is valid or False otherwise (for a triangle to be valid sum of two sides should be greater than or equal to third side)"
   ]
  },
  {
   "cell_type": "code",
   "execution_count": 56,
   "id": "86163fcf-2429-4d4f-a634-34522e930136",
   "metadata": {},
   "outputs": [],
   "source": [
    "###Type your code below####"
   ]
  },
  {
   "cell_type": "markdown",
   "id": "969213ca-bf54-4483-8433-a912c300533a",
   "metadata": {},
   "source": [
    "**13**. Write a function \n",
    "```python\n",
    "isRightTriangle(side1,side2,side3)\n",
    "```\n",
    "\n",
    "that accepts three sides of a triangle and return True if the triangle is valid and is a right angled triangle (check Pythagoras theorem) or False otherwise. Use the function developed in previous question to check for validity of triangle. "
   ]
  },
  {
   "cell_type": "code",
   "execution_count": 57,
   "id": "462a524e-54a7-4a85-9e25-b1d3f37ef2cd",
   "metadata": {},
   "outputs": [],
   "source": [
    "###Type your code below####"
   ]
  },
  {
   "cell_type": "markdown",
   "id": "bb1c9b6c-da0e-46b9-9733-0723565e0d72",
   "metadata": {},
   "source": [
    "**14**. Write a function \n",
    "\n",
    "```python\n",
    "password() \n",
    "```\n",
    "\n",
    "that asks for a username and a password (use input() function). It should return True if the username is entered as alan.turing and the password is entered as notTouring, and return False otherwise."
   ]
  },
  {
   "cell_type": "code",
   "execution_count": 58,
   "id": "594721fd-7b3d-4304-9249-200694667c58",
   "metadata": {},
   "outputs": [],
   "source": [
    "###Type your code below####"
   ]
  },
  {
   "cell_type": "markdown",
   "id": "5f319bd7-d11a-4bf1-8fa3-73e93de89637",
   "metadata": {},
   "source": [
    "**15**. Write a function \n",
    "\n",
    "```python\n",
    "hasWon(score) \n",
    "```\n",
    "that returns True if the score is equal to 100 or False otherwise"
   ]
  },
  {
   "cell_type": "code",
   "execution_count": 59,
   "id": "c10e72bd-f61c-42d4-ad63-0a20239c2dd7",
   "metadata": {},
   "outputs": [],
   "source": [
    "###Type your code below####"
   ]
  },
  {
   "cell_type": "markdown",
   "id": "75dd26dd-de98-4e2c-b103-fe8111c3bb34",
   "metadata": {},
   "source": [
    "**16**. Write a function\n",
    "```python\n",
    "gradeRemark()\n",
    "```\n",
    "that prompts for a grade (use input() function), and then returns the corresponding remark (as a string) from the table below:\n",
    "\n",
    "<table>\n",
    "    <tr>\n",
    "        <th>\n",
    "            Grade\n",
    "        </th>\n",
    "        <th>\n",
    "            Remark\n",
    "        </th>\n",
    "    </tr>\n",
    "    <tbody>\n",
    "        <tr>\n",
    "            <td>\n",
    "                96-100\n",
    "            </td>\n",
    "            <td>\n",
    "                Outstanding\n",
    "            </td>\n",
    "        </tr>\n",
    "        <tr>\n",
    "            <td>\n",
    "                90-95\n",
    "            </td>\n",
    "            <td>\n",
    "               Exceeds expectations\n",
    "            </td>\n",
    "        </tr>\n",
    "        <tr>\n",
    "            <td>\n",
    "                80-89\n",
    "            </td>\n",
    "            <td>\n",
    "                Acceptable\n",
    "            </td>\n",
    "        </tr>\n",
    "        <tr>\n",
    "            <td>\n",
    "                1-79\n",
    "            </td>\n",
    "            <td>\n",
    "                Trollish\n",
    "            </td>\n",
    "        </tr>\n",
    "    </tbody>\n",
    "</table>\n"
   ]
  },
  {
   "cell_type": "code",
   "execution_count": 60,
   "id": "e6503dbc-779c-459d-a0d6-c6cf88ab0701",
   "metadata": {},
   "outputs": [],
   "source": [
    "###Type your code below####"
   ]
  },
  {
   "cell_type": "markdown",
   "id": "d7251826-f71b-4e79-a29c-a3e94d4790b4",
   "metadata": {},
   "source": [
    "**17**. Write a function that takes two integer values as parameters and returns their sum\n",
    "if they are not equal and their product if they are."
   ]
  },
  {
   "cell_type": "code",
   "execution_count": 61,
   "id": "cde8aa1e-5789-4ed1-86d6-5f086464539e",
   "metadata": {},
   "outputs": [],
   "source": [
    "###Type your code below####"
   ]
  },
  {
   "cell_type": "markdown",
   "id": "0fa67250-a6a8-46c6-b087-9fcf0ce946c8",
   "metadata": {},
   "source": [
    "**18**. Write a function\n",
    "\n",
    "```python\n",
    "max3(a,b,c)\n",
    "```\n",
    "that returns the maximum value of the parameters a, b, and c."
   ]
  },
  {
   "cell_type": "code",
   "execution_count": 62,
   "id": "8a889862-f393-4750-8f54-b7cc20452b2c",
   "metadata": {},
   "outputs": [],
   "source": [
    "###Type your code below####"
   ]
  },
  {
   "cell_type": "markdown",
   "id": "b9cf1285-87f2-4cfc-abd6-5eb3f55d52b8",
   "metadata": {},
   "source": [
    "**19**. Write a function\n",
    "\n",
    "```python\n",
    "min3(a,b,c)\n",
    "```\n",
    "that returns the minimum value of the parameters a, b, and c."
   ]
  },
  {
   "cell_type": "code",
   "execution_count": 63,
   "id": "1fbd42d9-0c98-46cd-968f-7058e6985e93",
   "metadata": {},
   "outputs": [],
   "source": [
    "###Type your code below####"
   ]
  },
  {
   "cell_type": "markdown",
   "id": "d271d643-9695-4797-b076-0dbc3621dd11",
   "metadata": {},
   "source": [
    "**20**. Check a number is a perfect square (Hint. check whether suare root of the number is an integer). If the number entered is a negative number then the function should return False\n",
    "\n",
    "```python\n",
    "isPerfectSquare(number)\n",
    "```"
   ]
  },
  {
   "cell_type": "code",
   "execution_count": 64,
   "id": "752552fd-f1e1-44bb-a333-1fc0296b091c",
   "metadata": {},
   "outputs": [],
   "source": [
    "###Type your code below####"
   ]
  },
  {
   "cell_type": "code",
   "execution_count": null,
   "id": "bb4ea9fa-37d3-4e05-9aaf-9a2535b25ffb",
   "metadata": {},
   "outputs": [],
   "source": []
  }
 ],
 "metadata": {
  "kernelspec": {
   "display_name": "Python 3 (ipykernel)",
   "language": "python",
   "name": "python3"
  },
  "language_info": {
   "codemirror_mode": {
    "name": "ipython",
    "version": 3
   },
   "file_extension": ".py",
   "mimetype": "text/x-python",
   "name": "python",
   "nbconvert_exporter": "python",
   "pygments_lexer": "ipython3",
   "version": "3.9.7"
  }
 },
 "nbformat": 4,
 "nbformat_minor": 5
}
