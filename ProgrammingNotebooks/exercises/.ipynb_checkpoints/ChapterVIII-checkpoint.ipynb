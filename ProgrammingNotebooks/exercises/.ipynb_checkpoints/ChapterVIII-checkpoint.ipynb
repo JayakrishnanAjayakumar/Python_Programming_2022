{
 "cells": [
  {
   "cell_type": "markdown",
   "id": "aaebb2b3-99e5-425e-bfc2-184b111fff52",
   "metadata": {},
   "source": [
    "**1**. Write a function that calculates mean of all numbers in a list\n",
    "\n",
    "```python\n",
    "meanNumbers(numbersList)\n",
    "```"
   ]
  },
  {
   "cell_type": "code",
   "execution_count": 2,
   "id": "da4d82bd-d824-49ac-9137-91cb1d33225d",
   "metadata": {},
   "outputs": [],
   "source": [
    "###Type your code below####"
   ]
  },
  {
   "cell_type": "markdown",
   "id": "0e0a9599-85f2-4a82-b209-9d62d9942bdc",
   "metadata": {},
   "source": [
    "**2**. Write a function that returns sum of all numbers in a list\n",
    "\n",
    "```python\n",
    "sumList(numbersList)\n",
    "```"
   ]
  },
  {
   "cell_type": "code",
   "execution_count": 3,
   "id": "485f6ef6-efe6-45fa-a242-1622dba935cb",
   "metadata": {},
   "outputs": [],
   "source": [
    "###Type your code below####"
   ]
  },
  {
   "cell_type": "markdown",
   "id": "70d48be7-e26a-46a8-8468-e3933c79d603",
   "metadata": {},
   "source": [
    "**3**. Write a function\n",
    "\n",
    "```python\n",
    "multiples5(data)\n",
    "```\n",
    "\n",
    "that returns the number of multiples of 5 in a list of integers. For example,\n",
    "multiples5([5, 7, 2, 10]) should return 2."
   ]
  },
  {
   "cell_type": "code",
   "execution_count": 4,
   "id": "3e393063-97bc-4c9b-9f64-ab8454ec9975",
   "metadata": {},
   "outputs": [],
   "source": [
    "###Type your code below####"
   ]
  },
  {
   "cell_type": "markdown",
   "id": "d50b1b51-5979-4fad-af9f-709a529076ae",
   "metadata": {},
   "source": [
    "**4**. Write a function\n",
    "\n",
    "```python\n",
    "countNames(words)\n",
    "```\n",
    "that returns the number of capitalized names in the list of strings named words. For\n",
    "example, \n",
    "```python\n",
    "countNames(['Fili', 'Oin', 'Thorin', 'and', 'Bilbo', 'are',\n",
    "'characters', 'in', 'a', 'book', 'by', 'Tolkien']) \n",
    "```\n",
    "should return 5.\n"
   ]
  },
  {
   "cell_type": "code",
   "execution_count": 5,
   "id": "c0b5ecb5-80e2-4e86-b9c1-81103dd31917",
   "metadata": {},
   "outputs": [],
   "source": [
    "###Type your code below####"
   ]
  },
  {
   "cell_type": "markdown",
   "id": "bae1d01a-5518-4bb7-8d8d-b5759dbe36a6",
   "metadata": {},
   "source": [
    "**5.** Write a function\n",
    "\n",
    "```python\n",
    "meanSquares(data)\n",
    "```\n",
    "\n",
    "that returns the mean (average) of the squares of the numbers in a list named\n",
    "data."
   ]
  },
  {
   "cell_type": "code",
   "execution_count": 6,
   "id": "db95a0b6-e03f-4033-845e-55c32f299665",
   "metadata": {},
   "outputs": [],
   "source": [
    "###Type your code below####"
   ]
  },
  {
   "cell_type": "markdown",
   "id": "657a73cf-8cd8-4412-a5b7-ed5a1bb3bb37",
   "metadata": {},
   "source": [
    "**6.** Write a function\n",
    "\n",
    "```python\n",
    "variance(data)\n",
    "```\n",
    "\n",
    "that returns the variance of a list of numbers named data. The variance is defined\n",
    "to be the mean of the squares of the numbers in the list minus the square of the\n",
    "mean of the numbers in the list."
   ]
  },
  {
   "cell_type": "code",
   "execution_count": 7,
   "id": "4e8e5ee9-7eb3-49f7-ac6a-3ccbf61b7f25",
   "metadata": {},
   "outputs": [],
   "source": [
    "###Type your code below####"
   ]
  },
  {
   "cell_type": "markdown",
   "id": "7756b9f0-2e1f-45da-9d8b-3c541235cde3",
   "metadata": {},
   "source": [
    "**7.** Write a function\n",
    "\n",
    "```python\n",
    "shortest(words)\n",
    "```\n",
    "that returns the shortest string in a list of strings named words. In case of\n",
    "ties, return the first shortest string. For example, \n",
    "\n",
    "```python\n",
    "shortest (['spider', 'ant', 'beetle', 'bug'] \n",
    "```\n",
    "should return the string 'ant'."
   ]
  },
  {
   "cell_type": "code",
   "execution_count": 8,
   "id": "32c26847-cc10-45e9-b13f-5230fff67b6d",
   "metadata": {},
   "outputs": [],
   "source": [
    "###Type your code below####"
   ]
  },
  {
   "cell_type": "markdown",
   "id": "7329fe52-bca7-4626-ba61-4976cd3a6168",
   "metadata": {},
   "source": [
    "**8.** Write a function\n",
    "\n",
    "```python\n",
    "span(data)\n",
    "```\n",
    "that returns the difference between the largest and smallest numbers in the list\n",
    "named data. For example, \n",
    "```python\n",
    "span([9, 4, 2, 1, 7, 7, 3, 2]) \n",
    "```\n",
    "should return 8"
   ]
  },
  {
   "cell_type": "code",
   "execution_count": 9,
   "id": "429d4262-c5d3-4f6a-8b31-ae6a53032e49",
   "metadata": {},
   "outputs": [],
   "source": [
    "###Type your code below####"
   ]
  },
  {
   "cell_type": "markdown",
   "id": "b159834a-268b-46a4-b1c1-2180451d8844",
   "metadata": {},
   "source": [
    "**9.** Write a function\n",
    "```python\n",
    "secondLargest(data)\n",
    "```\n",
    "that returns the second largest number in the list named data."
   ]
  },
  {
   "cell_type": "code",
   "execution_count": 10,
   "id": "0dc779ba-7265-4ae8-b81c-8ce18f146c64",
   "metadata": {},
   "outputs": [],
   "source": [
    "###Type your code below####"
   ]
  },
  {
   "cell_type": "markdown",
   "id": "9950fa37-ab03-49c3-86fa-5bf664d19eff",
   "metadata": {},
   "source": [
    "**10.** Write a function\n",
    "\n",
    "```python\n",
    "search(data, target)\n",
    "```\n",
    "\n",
    "that returns True if the target is in the list named data, and False otherwise. Do not use the in operator to test whether an item is in the list. For example, \n",
    "```python\n",
    "search(['Tris', 'Tobias', 'Caleb'], 'Tris') \n",
    "```\n",
    "should return True, but\n",
    "\n",
    "```python\n",
    "search(['Tris', 'Tobias', 'Caleb'], 'Peter')\n",
    "```\n",
    "\n",
    "should return False.\n"
   ]
  },
  {
   "cell_type": "code",
   "execution_count": 11,
   "id": "5ba9de56-1028-424f-a917-451405b517a9",
   "metadata": {},
   "outputs": [],
   "source": [
    "###Type your code below####"
   ]
  },
  {
   "cell_type": "markdown",
   "id": "6dcfa574-9a3f-481d-883f-25eeb807cc93",
   "metadata": {},
   "source": [
    "**11.** Write a function\n",
    "\n",
    "```python\n",
    "intersect(data1, data2)\n",
    "```\n",
    "\n",
    "that returns True if the two lists named data1 and data2 have any\n",
    "common elements, and False otherwise. For example, \n",
    "\n",
    "```python\n",
    "intersect(['Katniss', 'Peeta','Gale'], ['Foxface', 'Marvel', 'Glimmer'])\n",
    "```\n",
    "\n",
    "should return False, but\n",
    "\n",
    "```python\n",
    "intersect(['Katniss', 'Peeta', 'Gale'], ['Gale', 'Haymitch', 'Katniss'])\n",
    "```\n",
    "\n",
    "should return True. "
   ]
  },
  {
   "cell_type": "code",
   "execution_count": 12,
   "id": "57f676c3-4a4c-462e-aa29-4c8ce19c207b",
   "metadata": {},
   "outputs": [],
   "source": [
    "###Type your code below####"
   ]
  },
  {
   "cell_type": "markdown",
   "id": "00ddccab-c51f-454c-a48e-bd3904edc662",
   "metadata": {},
   "source": [
    "**12.** Write a function\n",
    "\n",
    "```python\n",
    "wordFrequency(text)\n",
    "```\n",
    "that returns a dictionary containing the frequency of each word in the string\n",
    "text. For example,\n",
    "\n",
    "```python\n",
    "wordFrequency('I am I.') \n",
    "```\n",
    "should return the dictionary\n",
    "{'I': 2, 'am': 1}."
   ]
  },
  {
   "cell_type": "code",
   "execution_count": 13,
   "id": "62eeb536-ceee-4698-9059-12ddc5197eed",
   "metadata": {},
   "outputs": [],
   "source": [
    "###Type your code below####"
   ]
  },
  {
   "cell_type": "markdown",
   "id": "bfa1d4f2-62b4-4704-9010-c1a8973933c3",
   "metadata": {},
   "source": [
    "**13**. Write a function\n",
    "\n",
    "```python\n",
    "firstLetterCount(words)\n",
    "```\n",
    "that takes as a parameter a list of strings named words and returns a dictionary with lower case letters as keys and the number of words in words that begin with that letter (lower or upper case) as values. For example, if the list is \n",
    "```python\n",
    "['ant', 'bee', 'armadillo', 'dog', 'cat']\n",
    "```\n",
    ",then your function should return the dictionary \n",
    "\n",
    "```python\n",
    "{'a': 2, 'b': 1, 'c': 1, 'd': 1}\n",
    "```\n",
    "\n",
    "\n",
    "\n"
   ]
  },
  {
   "cell_type": "code",
   "execution_count": 14,
   "id": "3c9c8a24-4707-47fd-98eb-a78b356d4c76",
   "metadata": {},
   "outputs": [],
   "source": [
    "###Type your code below####"
   ]
  },
  {
   "cell_type": "markdown",
   "id": "cca69b83-dcd2-4c32-b3cb-eb96400afee4",
   "metadata": {},
   "source": [
    "**14**. Write a function \n",
    "\n",
    "```python\n",
    "firstLetterWords(words)\n",
    "```\n",
    "that takes as a parameter a list of strings named words and returns a\n",
    "dictionary with lower case letters as keys. But now associate with each\n",
    "key the list of the words in words that begin with that letter. For example, if the list is \n",
    "```python\n",
    "['ant', 'bee', 'armadillo', 'dog', 'cat']\n",
    "```\n",
    ", then your function should return the dictionary \n",
    "\n",
    "```python\n",
    "{'a': ['ant', 'armadillo'],'b': ['bee'], 'c': ['cat'], 'd': ['dog']}\n",
    "```"
   ]
  },
  {
   "cell_type": "code",
   "execution_count": 15,
   "id": "6211e5c0-6e12-41bb-89ef-a89704c26f7b",
   "metadata": {},
   "outputs": [],
   "source": [
    "###Type your code below####"
   ]
  },
  {
   "cell_type": "markdown",
   "id": "947db91a-7001-43da-974b-5e3ab515bec6",
   "metadata": {},
   "source": [
    "**15**. Write a function\n",
    "\n",
    "```python\n",
    "bonus(salaries)\n",
    "```\n",
    "that takes as a parameter a dictionary named salaries, with names as keys and\n",
    "salaries as values, and increases the salary of everyone in the dictionary by 5%."
   ]
  },
  {
   "cell_type": "code",
   "execution_count": 16,
   "id": "0b107ddc-a8c1-4bac-bdbc-9e788cd1a9fa",
   "metadata": {},
   "outputs": [],
   "source": [
    "###Type your code below####"
   ]
  },
  {
   "cell_type": "markdown",
   "id": "ba4b4909-650e-47aa-b656-cc2ab3162581",
   "metadata": {},
   "source": [
    "**16**. Write a function\n",
    "\n",
    "```python\n",
    "updateAges(names, ages)\n",
    "```\n",
    "that takes as parameters a list of names of people whose birthday is today and\n",
    "a dictionary named ages, with names as keys and ages as values, and increments\n",
    "the age of each person in the dictionary whose birthday is today."
   ]
  },
  {
   "cell_type": "code",
   "execution_count": 17,
   "id": "83dc8c00-8e92-48dd-814d-3a3ad8730043",
   "metadata": {},
   "outputs": [],
   "source": [
    "###Type your code below####"
   ]
  },
  {
   "cell_type": "markdown",
   "id": "13c5df73-4f3e-416d-9b5c-38304bcd9172",
   "metadata": {},
   "source": [
    "**17**. Write a function\n",
    "\n",
    "```python\n",
    "seniorList(students, year)\n",
    "```\n",
    "that takes as a parameter a dictionary named students, with names as keys and\n",
    "class years as values, and returns a list of names of students who are graduating in this\n",
    "year."
   ]
  },
  {
   "cell_type": "code",
   "execution_count": 18,
   "id": "4db3f559-55ac-49c4-803b-93ba396f0958",
   "metadata": {},
   "outputs": [],
   "source": [
    "###Type your code below####"
   ]
  },
  {
   "cell_type": "markdown",
   "id": "89b72bd4-6cf0-4418-8d72-c75a7a3fbfa8",
   "metadata": {},
   "source": [
    "**18**. Write a function\n",
    "\n",
    "```python\n",
    "maxBase(freqs)\n",
    "```\n",
    "that returns the base with the maximum frequency in a dictionary of base\n",
    "frequencies named freqs. For example,\n",
    "\n",
    "```python\n",
    "maxBase({'A': 0, 'C': 1, 'G': 4, 'T': 0})\n",
    "```"
   ]
  },
  {
   "cell_type": "code",
   "execution_count": 19,
   "id": "e18c2e0d-3acd-41cb-ba4a-9ce028460baa",
   "metadata": {},
   "outputs": [],
   "source": [
    "###Type your code below####"
   ]
  },
  {
   "cell_type": "markdown",
   "id": "f738019b-90ea-4506-8dd3-d3f3e9a61f44",
   "metadata": {},
   "source": [
    "**19**. Write a function\n",
    "\n",
    "```python\n",
    "union(dict1, dict2)\n",
    "```\n",
    "that returns a new dictionary that contains all of the entries of the two dictionaries\n",
    "dict1 and dict2. If the dictionaries share a key, use the value in the first dictionary.\n",
    "For example, \n",
    "```python\n",
    "union({'pies': 3, 'cakes': 5}, {'cakes': 4, 'tarts': 2}\n",
    "```\n",
    "should return the dictionary\n",
    "\n",
    "```python\n",
    "{'pies': 3, 'cakes': 5, 'tarts': 2}\n",
    "```"
   ]
  },
  {
   "cell_type": "code",
   "execution_count": 20,
   "id": "fe5cf8f4-9b85-4da3-a24a-0e707a9e8095",
   "metadata": {},
   "outputs": [],
   "source": [
    "###Type your code below####"
   ]
  },
  {
   "cell_type": "markdown",
   "id": "0373074e-114e-4782-bd18-d0e0051f994b",
   "metadata": {},
   "source": [
    "**20**. Write a function\n",
    "\n",
    "```python\n",
    "login(passwords)\n",
    "```\n",
    "that takes as a parameter a dictionary named passwords, with usernames as\n",
    "keys and passwords as values, and repeatedly prompts for a username and\n",
    "password until a valid pair is entered. Your function should continue to prompt\n",
    "even if an invalid username is entered (Note: use loops)."
   ]
  },
  {
   "cell_type": "code",
   "execution_count": 79,
   "id": "945b1a35-2946-41db-8045-45379f6e4933",
   "metadata": {},
   "outputs": [],
   "source": [
    "###Type your code below####"
   ]
  },
  {
   "cell_type": "code",
   "execution_count": null,
   "id": "b564f377-1b82-4eca-b76d-3a7835baff5e",
   "metadata": {},
   "outputs": [],
   "source": []
  }
 ],
 "metadata": {
  "kernelspec": {
   "display_name": "Python 3 (ipykernel)",
   "language": "python",
   "name": "python3"
  },
  "language_info": {
   "codemirror_mode": {
    "name": "ipython",
    "version": 3
   },
   "file_extension": ".py",
   "mimetype": "text/x-python",
   "name": "python",
   "nbconvert_exporter": "python",
   "pygments_lexer": "ipython3",
   "version": "3.9.7"
  }
 },
 "nbformat": 4,
 "nbformat_minor": 5
}
