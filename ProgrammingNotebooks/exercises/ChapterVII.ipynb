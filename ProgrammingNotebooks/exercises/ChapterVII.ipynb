{
 "cells": [
  {
   "cell_type": "code",
   "execution_count": 29,
   "id": "633c126c-3192-49a2-a291-502bbeeca710",
   "metadata": {},
   "outputs": [],
   "source": [
    "from ipywidgets import widgets"
   ]
  },
  {
   "cell_type": "markdown",
   "id": "9e4bee0f-1844-4d46-ac60-96e4287f14cb",
   "metadata": {},
   "source": [
    "**1**. Write a function to count how many odd numbers are in a list\n",
    "\n",
    "```python\n",
    "countOdd(numberList)\n",
    "```"
   ]
  },
  {
   "cell_type": "code",
   "execution_count": 30,
   "id": "f372c3a2-daec-4c49-8860-5fd032967db1",
   "metadata": {},
   "outputs": [],
   "source": [
    "###Type your code below####"
   ]
  },
  {
   "cell_type": "markdown",
   "id": "f6066df2-2b04-42e1-8d2f-7cf69293dae1",
   "metadata": {},
   "source": [
    "**2**. Sum up all even numbers in a list.\n",
    "\n",
    "```python\n",
    "sumEven(numberList)\n",
    "```"
   ]
  },
  {
   "cell_type": "code",
   "execution_count": 31,
   "id": "37a27cb6-3580-4b40-93c6-71debfb3407d",
   "metadata": {},
   "outputs": [],
   "source": [
    "###Type your code below####"
   ]
  },
  {
   "cell_type": "markdown",
   "id": "03f1069a-3713-43a0-bbd2-0f1923c0a4e7",
   "metadata": {},
   "source": [
    "**3**. Sum up all the negative numbers in a list.\n",
    "\n",
    "```python\n",
    "sumNegative(numberList)\n",
    "```"
   ]
  },
  {
   "cell_type": "code",
   "execution_count": 32,
   "id": "3f7d3a8d-18ef-49a9-b49e-c2f8f0fc2e7c",
   "metadata": {},
   "outputs": [],
   "source": [
    "###Type your code below####"
   ]
  },
  {
   "cell_type": "markdown",
   "id": "cd312768-2772-4f3d-a04d-262f89474343",
   "metadata": {},
   "source": [
    "**4**. Write a function \n",
    "```python\n",
    "print_triangular_numbers(n)\n",
    "```\n",
    "\n",
    "that prints out the first n triangular numbers. A call to print_triangular_numbers(5) would produce the following output:\n",
    "\n",
    "1      1\n",
    "\n",
    "2      3\n",
    "\n",
    "3      6\n",
    "\n",
    "4      10\n",
    "\n",
    "5      15"
   ]
  },
  {
   "cell_type": "code",
   "execution_count": 33,
   "id": "8ed1c267-0d87-4524-b02f-ac741ba42c99",
   "metadata": {},
   "outputs": [],
   "source": [
    "###Type your code below####"
   ]
  },
  {
   "cell_type": "markdown",
   "id": "5d7400ba-4db5-41c7-b184-2ff0d8ff80de",
   "metadata": {},
   "source": [
    "**5**. Write a function \n",
    "```python\n",
    "print_triangular_numbers(n)\n",
    "```"
   ]
  },
  {
   "cell_type": "code",
   "execution_count": 34,
   "id": "acd16694-2f79-4349-b21c-8ca22f0300d9",
   "metadata": {},
   "outputs": [],
   "source": [
    "###Type your code below####"
   ]
  },
  {
   "cell_type": "markdown",
   "id": "cc11a242-e466-427a-8556-c99d0d528bef",
   "metadata": {},
   "source": [
    "**6**. Write a function\n",
    "\n",
    "```python\n",
    "print100()\n",
    "```\n",
    "that uses a for loop to print the integers from 0 to 100."
   ]
  },
  {
   "cell_type": "code",
   "execution_count": 35,
   "id": "052d6e19-7356-4552-b0bb-09a7e2de656f",
   "metadata": {},
   "outputs": [],
   "source": [
    "###Type your code below####"
   ]
  },
  {
   "cell_type": "markdown",
   "id": "d545d35e-4c2f-4136-9187-921fef0142d2",
   "metadata": {},
   "source": [
    "**7**. Write a function\n",
    "\n",
    "```python\n",
    "triangle1()\n",
    "```\n",
    "\n",
    "that uses a for loop to print the following:\n",
    "\n",
    "```python\n",
    "*\n",
    "**\n",
    "***\n",
    "****\n",
    "*****\n",
    "******\n",
    "*******\n",
    "********\n",
    "*********\n",
    "**********\n",
    "```"
   ]
  },
  {
   "cell_type": "code",
   "execution_count": 36,
   "id": "0f800f65-1387-4640-9b59-e1375942d6dc",
   "metadata": {},
   "outputs": [],
   "source": [
    "###Type your code below####"
   ]
  },
  {
   "cell_type": "markdown",
   "id": "ef2c58cf-da19-495c-a642-472178626188",
   "metadata": {},
   "source": [
    "**8**. Write a function\n",
    "\n",
    "```python\n",
    "square(letter, width)\n",
    "```\n",
    "that prints a square with the given width using the string letter. For example,\n",
    "square('Q', 5) should print:\n",
    "\n",
    "```python\n",
    "QQQQQ\n",
    "QQQQQ\n",
    "QQQQQ\n",
    "QQQQQ\n",
    "QQQQQ\n",
    "```"
   ]
  },
  {
   "cell_type": "code",
   "execution_count": 37,
   "id": "8d3a7868-ae53-475e-a3c3-1250b440dbe1",
   "metadata": {},
   "outputs": [],
   "source": [
    "###Type your code below####"
   ]
  },
  {
   "cell_type": "markdown",
   "id": "77bfddec-4b44-4d2f-9b4d-14f02521e3cb",
   "metadata": {},
   "source": [
    "**9**. Write a for loop that prints the integers from −50 to 50."
   ]
  },
  {
   "cell_type": "code",
   "execution_count": 38,
   "id": "91fcbe54-f92f-4953-99d9-afb53753b87b",
   "metadata": {},
   "outputs": [],
   "source": [
    "###Type your code below####"
   ]
  },
  {
   "cell_type": "markdown",
   "id": "081d8a63-7629-43fc-b6a9-690f49129066",
   "metadata": {},
   "source": [
    "**10**. Write a for loop that prints the odd integers from 1 to 100."
   ]
  },
  {
   "cell_type": "code",
   "execution_count": 39,
   "id": "b1b5987f-3ad3-4568-9b09-60e2834c597f",
   "metadata": {},
   "outputs": [],
   "source": [
    "###Type your code below####"
   ]
  },
  {
   "cell_type": "markdown",
   "id": "0ef6ef1e-49ad-453d-b156-848764311c74",
   "metadata": {},
   "source": [
    "**11**. Write a for loop that prints the values 7, 11, 15, 19."
   ]
  },
  {
   "cell_type": "code",
   "execution_count": 40,
   "id": "489dfe1f-804c-4c76-84d4-13c266a369e1",
   "metadata": {},
   "outputs": [],
   "source": [
    "###Type your code below####"
   ]
  },
  {
   "cell_type": "markdown",
   "id": "f0f100a4-0026-48d8-a009-c36569eb69fd",
   "metadata": {},
   "source": [
    "**12**. Write a for loop that prints the values 2, 1, 0, −1, −2."
   ]
  },
  {
   "cell_type": "code",
   "execution_count": 41,
   "id": "2867e833-caa9-4f81-b34d-3b229c287337",
   "metadata": {},
   "outputs": [],
   "source": [
    "###Type your code below####"
   ]
  },
  {
   "cell_type": "markdown",
   "id": "0a1cbad7-b760-4dda-9fc4-e7e399ad9cdc",
   "metadata": {},
   "source": [
    "**13**. Write a for loop that prints the values 2, 1, 0, −1, −2."
   ]
  },
  {
   "cell_type": "code",
   "execution_count": 42,
   "id": "d82480a1-0896-40ef-b225-e8b7152dc8ef",
   "metadata": {},
   "outputs": [],
   "source": [
    "###Type your code below####"
   ]
  },
  {
   "cell_type": "markdown",
   "id": "8f001186-2fc3-4cdc-8036-b9d4b0a7c58d",
   "metadata": {},
   "source": [
    "**14**. Write a function\n",
    "\n",
    "```python\n",
    "multiples(n)\n",
    "```\n",
    "\n",
    "that prints all of the multiples of the parameter n between 0 and 100, inclusive.\n",
    "For example, if n were 4, the function should print the values 0, 4, 8, 12,"
   ]
  },
  {
   "cell_type": "code",
   "execution_count": 43,
   "id": "e96f65f1-4713-40d7-b438-eed9bca236dc",
   "metadata": {},
   "outputs": [],
   "source": [
    "###Type your code below####"
   ]
  },
  {
   "cell_type": "markdown",
   "id": "e46660fe-9936-41d9-8db3-8b71a2d2edd8",
   "metadata": {},
   "source": [
    "**15.** Write a function\n",
    "\n",
    "```python\n",
    "countdown(n)\n",
    "```\n",
    "that prints the integers between 0 and n in descending order. For example, if n\n",
    "were 5, the function should print the values 5, 4, 3, 2, 1, 0."
   ]
  },
  {
   "cell_type": "code",
   "execution_count": 44,
   "id": "20afa865-8d21-4e5e-9795-744cd97487cf",
   "metadata": {},
   "outputs": [],
   "source": [
    "###Type your code below####"
   ]
  },
  {
   "cell_type": "markdown",
   "id": "5166eac8-779b-475e-b2b1-959fb24b6ea0",
   "metadata": {},
   "source": [
    "**16**. Write a function\n",
    "\n",
    "factorial(n)\n",
    "\n",
    "that returns the value of n! = 1 × 2 × 3 × ⋯ × (n − 1) × n.\n",
    "\n",
    "5! is 1x2x3x4x5 = 120. 0! = 1"
   ]
  },
  {
   "cell_type": "code",
   "execution_count": 45,
   "id": "53501ee5-a503-44c0-a536-cd234157b47b",
   "metadata": {},
   "outputs": [],
   "source": [
    "###Type your code below####"
   ]
  },
  {
   "cell_type": "markdown",
   "id": "e19adefa-69c5-40fc-864d-b67e5410b33e",
   "metadata": {},
   "source": [
    "**17**. Suppose a bacteria colony grows at a rate of 10% per hour and that there are initially 100 bacteria in the colony. Write a function\n",
    "\n",
    "```python\n",
    "bacteria(days)\n",
    "```\n",
    "that returns the number of bacteria in the colony after the given number of days.\n",
    "\n"
   ]
  },
  {
   "cell_type": "code",
   "execution_count": 46,
   "id": "178121c1-4010-4b76-98e5-f87a00231a90",
   "metadata": {},
   "outputs": [],
   "source": [
    "###Type your code below####"
   ]
  },
  {
   "cell_type": "markdown",
   "id": "52623383-4042-4458-ab74-b59e0532e6b8",
   "metadata": {},
   "source": [
    "**18**. What will be the output of the following code snippet\n",
    "\n",
    "```python\n",
    "counter = 0\n",
    "idx = 0\n",
    "while counter < 10:\n",
    "    idx = idx + 1\n",
    "print (idx)\n",
    "```"
   ]
  },
  {
   "cell_type": "code",
   "execution_count": 47,
   "id": "a28f51f2-82ca-41ad-9e53-216c38eda643",
   "metadata": {},
   "outputs": [
    {
     "data": {
      "application/vnd.jupyter.widget-view+json": {
       "model_id": "3b5f16e101f942e296f3319743b03169",
       "version_major": 2,
       "version_minor": 0
      },
      "text/plain": [
       "RadioButtons(description='Your Answer:', layout=Layout(width='max-content'), options=('10', '11', 'Never print…"
      ]
     },
     "metadata": {},
     "output_type": "display_data"
    }
   ],
   "source": [
    "widgets.RadioButtons(\n",
    "    options=[\"10\",\"11\",\"Never prints anything\",\"12\"],\n",
    "    description='Your Answer:',\n",
    "    layout={'width': 'max-content'},\n",
    "    disabled=False\n",
    ")"
   ]
  },
  {
   "cell_type": "markdown",
   "id": "cac16d14-88fc-46ff-8972-f01db6c715ea",
   "metadata": {},
   "source": [
    "**19**. A zombie can convert two people into zombies everyday. Starting with just one\n",
    "zombie, how long would it take for the entire world population (7 billion people)\n",
    "to become zombies? Write a function\n",
    "\n",
    "```python\n",
    "zombieApocalypse()\n",
    "```\n",
    "that returns the answer to this question."
   ]
  },
  {
   "cell_type": "code",
   "execution_count": 48,
   "id": "f856c6a2-af1a-4c34-8c4e-819f91149315",
   "metadata": {},
   "outputs": [],
   "source": [
    "###Type your code below####"
   ]
  },
  {
   "cell_type": "markdown",
   "id": "c3f21237-2314-4897-9ca5-9e82e532d256",
   "metadata": {},
   "source": [
    "**20**. An amoeba can split itself into two once every h hours. How many hours does it\n",
    "take for a single amoeba to become target amoebae? Write a function\n",
    "\n",
    "```python\n",
    "amoebaGrowth(h, target)\n",
    "```\n",
    "\n",
    "that returns the answer to this question."
   ]
  },
  {
   "cell_type": "code",
   "execution_count": 49,
   "id": "d15f5599-5c9d-4bfc-ab17-3f6f44617860",
   "metadata": {},
   "outputs": [],
   "source": [
    "###Type your code below####"
   ]
  }
 ],
 "metadata": {
  "kernelspec": {
   "display_name": "Python 3 (ipykernel)",
   "language": "python",
   "name": "python3"
  },
  "language_info": {
   "codemirror_mode": {
    "name": "ipython",
    "version": 3
   },
   "file_extension": ".py",
   "mimetype": "text/x-python",
   "name": "python",
   "nbconvert_exporter": "python",
   "pygments_lexer": "ipython3",
   "version": "3.9.7"
  }
 },
 "nbformat": 4,
 "nbformat_minor": 5
}
