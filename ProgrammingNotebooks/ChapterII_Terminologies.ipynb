{
 "cells": [
  {
   "cell_type": "markdown",
   "id": "de74a26a-a88a-4688-acb1-86c7d88e371a",
   "metadata": {},
   "source": [
    "# Important Terminologies"
   ]
  },
  {
   "cell_type": "markdown",
   "id": "2981cb2b-f830-4acc-924f-37f8b467d0fb",
   "metadata": {},
   "source": [
    "## Computer and Computation"
   ]
  },
  {
   "cell_type": "markdown",
   "id": "46023c6b-8909-4a2a-a11e-d4f9ad0a7590",
   "metadata": {},
   "source": [
    "### Computation"
   ]
  },
  {
   "cell_type": "markdown",
   "id": "a45709cd-dfda-4748-9c56-836527dab304",
   "metadata": {},
   "source": [
    "> A **sequence of simple steps** that **transform/process** some initial information (**input**) to into some desired result (**output**)\n",
    "\n",
    "![inputprocessoutput](sampleImages/input_process_output.png)\n",
    "\n",
    "If you observe **real-world applications**, then we can see this particular model in action\n",
    "\n",
    "![inputprocessoutputrealworld](sampleImages/inputprocessoutputrealworld.png)\n",
    "\n",
    "Even we can represent computations using **equations**\n",
    "\n",
    "$f(x) = 18x+3$\n",
    "\n",
    "In this case $x$ is our **input** and multiplying $x$ by 18 and adding 3 is our **processing or transformation step**. For an input of 0 we get output as 3 and for an input of 1 we get an output of 21 and so on and so forth"
   ]
  },
  {
   "cell_type": "markdown",
   "id": "f87b52c4-263e-4539-ab97-d254d39339a1",
   "metadata": {},
   "source": [
    "### Computers"
   ]
  },
  {
   "cell_type": "markdown",
   "id": "0771573d-7740-40ef-8863-53d67f339b30",
   "metadata": {},
   "source": [
    ">**Machine** that carries out a **computation.** \n",
    "\n",
    "By this definition, even **calculators** are also computers (can perform computations)."
   ]
  },
  {
   "cell_type": "markdown",
   "id": "4bfe1576-3ade-4e28-8f14-fd7bfc29693d",
   "metadata": {},
   "source": [
    "#### Components of a Computer"
   ]
  },
  {
   "cell_type": "markdown",
   "id": "65fecdd8-8cb0-464a-bc93-91b8aa2a790e",
   "metadata": {},
   "source": [
    "1. **Central Processing Unit (CPU)**\n",
    "\n",
    "It's the **primary hub** (or 'brain'), and it **processes the instructions** that come from programs, the operating system, or other components in your PC.\n",
    "\n",
    "![CPU](sampleImages/CPU.png)\n",
    "\n",
    "2. **Memory (Internal and External Storage)**\n",
    "\n",
    "![Memory](sampleImages/memory-vs-storage.png)\n",
    "\n",
    "3. **Random Access Memory (RAM)**\n",
    "\n",
    "Defined as the **computers memory**. Its **volatile in nature** and gets erased when the **program exits**. During **program execution**, the **program (code) as well as the data** needs to be in RAM. \n",
    "\n",
    "![RandomAccessMemory](sampleImages/RAMmemory.png)\n",
    "\n",
    "4. **Arithmetic and Logic Unit (ALU)**\n",
    "\n",
    "**ALU is a digital circuit** used to perform **arithmetic and logic operations**.\n",
    "\n",
    "5. **Control Unit (CU)**\n",
    "\n",
    "Converts **programming instructions to timing and control signals** that are necessary for performing computations. Directs the flow of data between the CPU and the other devices."
   ]
  },
  {
   "cell_type": "markdown",
   "id": "a4cc1928-82a6-409c-b806-9ce01c80e49d",
   "metadata": {},
   "source": [
    "## Solving a problem\n",
    "\n",
    "![Steps](sampleImages/Steps.png)"
   ]
  },
  {
   "cell_type": "markdown",
   "id": "4c2075d5-da4b-42ae-be65-031ca6521f5f",
   "metadata": {},
   "source": [
    "### Identifying a Problem\n",
    "\n",
    "But first you **need a problem**.\n",
    "\n",
    "It could be as **complicated** as **converting your speech to text** or could be as **simple** as calculating the **sum of two numbers**\n"
   ]
  },
  {
   "cell_type": "markdown",
   "id": "6a9d80ea-432e-4cf7-93f1-e2b4811b4887",
   "metadata": {},
   "source": [
    "### Algorithm\n",
    "\n",
    "Prehaps the most **important part of problem solving** is to device an algorithm\n",
    "\n",
    ">**Sequence of steps to solve a problem**\n",
    "\n",
    "Algorithm for **making tea**\n",
    "\n",
    "1. Put the teabag in a cup.\n",
    "2. Fill the kettle with water.\n",
    "3. Boil the water in the kettle.\n",
    "4. Pour some of the boiled water into the cup.\n",
    "5. Add milk to the cup.\n",
    "6. Add sugar to the cup.\n",
    "7. Stir the tea.\n",
    "8. Drink the tea.\n",
    "\n",
    "![Steps](sampleImages/tea_algorithm.jpg)\n",
    "\n",
    "For **Algorithm** the **order matters**. \n",
    "\n",
    "During **algorithm design stage** you put your **thinking hat on**. You think through a problem and list out the steps that would be used to solve the problem. \n",
    "\n",
    "If **algorithm is wrong**, there is no point in continuing with implementation(coding).\n",
    "\n",
    "Let's look at another example of **calculating the volume of a sphere** (V) which is defined as \n",
    "\n",
    "\\begin{align}\n",
    "V = \\frac43 \\times \\pi \\times (radius)^3\n",
    "\\end{align}\n",
    "\n",
    "1. Divide 4 by 3.\n",
    "2. Multiply the previous result by π.\n",
    "3. Repeat the following three times:multiply the previous result by radius.\n",
    "\n",
    "Another way of writing the same Algorithm\n",
    "\n",
    "1. Compute radius × radius × radius.\n",
    "2. Multiply the previous result by π.\n",
    "3. Multiply the previous result by 4.\n",
    "4. Divide the previous result by 3.\n",
    "\n",
    "So we can see that there are **multiple ways of writing the same algorithm**. "
   ]
  },
  {
   "cell_type": "markdown",
   "id": "c3002790-cbdd-41b1-a5f6-a6f350a7e0f3",
   "metadata": {},
   "source": [
    "#### Psuedocode"
   ]
  },
  {
   "cell_type": "markdown",
   "id": "8538fcb1-8e2d-4feb-99c2-b73c2a456627",
   "metadata": {},
   "source": [
    ">**Psuedocode** is a **relaxed manner of writing algorithms** that is meant to be **read by a human rather than a computer**.\n",
    "\n",
    "The flexibility afforded by pseudocode allows us to more clearly focus on **how to solve the problem at hand** without becoming **distracted by the more demanding requirements of a programming language**. Once we have **refined the algorithm adequately and convinced ourselves that it is correct**, we can translate it into a formal program.\n",
    "\n",
    "Let's look at the **psuedocode** for calculating the mean temperature for a place for 365 days (1 year)\n",
    "\n",
    "Algorithm: **Mean Temperature**\n",
    "\n",
    "Input: **A list of 365 daily temperatures**\n",
    "\n",
    "1. Initialize the running sum to 0.\n",
    "2. Add the first temperature to the running sum, and assign the result to be the new running sum.\n",
    "3. Add the second temperature to the running sum, and assign the result to be the new running sum.\n",
    "4. Add the third temperature to the running sum, and assign the result to be the new running sum.\n",
    "⋮\n",
    "366. Add the 365th temperature to the running sum, and assign the result to be the new running sum.\n",
    "367. Divide the running sum by the number of days, 365, and assign the result to be the mean temperature.\n",
    "\n",
    "Output: **The mean temperature**\n",
    "\n",
    "This Algorithm, eventhough correct, is cumbersome. More efficient approach is to use an iterative statement (loop) and repeat the steps for 365 times. More on that in upcoming lectures. \n",
    "\n",
    "\n",
    "A reason for the **popularity of Python**.\n",
    "\n",
    "![psuedocodepython](sampleImages/psuedocodevspython.jpg)"
   ]
  },
  {
   "cell_type": "markdown",
   "id": "215602d5-9e6d-46ce-98b4-b47c1019e5b7",
   "metadata": {},
   "source": [
    "### Implementing the Algorithm"
   ]
  },
  {
   "cell_type": "markdown",
   "id": "a34b0985-505e-4c19-b814-912e35404a84",
   "metadata": {},
   "source": [
    "So we have completed the second step of solving a problem by writing an Algorithm.\n",
    "\n",
    "Now how do we **implement our algorithms (or how do we instruct a computer to do something).**\n",
    "\n",
    "We know that computers can only understand **machine language (0's and 1's)**. \n",
    "\n",
    "But luckily we can **implement our Algorithms in a Programming Language** like Python (very similar to English) and our friends **Compilers/Interpreters** helps to **convert instructions** written in **Programming Language to Machine Code**.\n",
    "\n",
    "So the programming language can look something like as shown below"
   ]
  },
  {
   "cell_type": "code",
   "execution_count": 1,
   "id": "4bdd05ab-00a1-44f4-9882-86d6634eb929",
   "metadata": {},
   "outputs": [
    {
     "name": "stdout",
     "output_type": "stream",
     "text": [
      "4186.666666666667\n"
     ]
    }
   ],
   "source": [
    "def volumeSphere(radius):\n",
    "    return (4/3) * 3.14 * radius * radius * radius\n",
    "\n",
    "print (volumeSphere(10))"
   ]
  },
  {
   "cell_type": "markdown",
   "id": "4fef121a-c21f-4b5f-8c48-df5a6bd91b4b",
   "metadata": {},
   "source": [
    "Or it can even look like this\n",
    "\n",
    "தமிழில் ஒரு எடுத்துக்காட்டு \n",
    "\n",
    "பதிப்பி \"வணக்கம் Vijay!\"\n",
    "\n",
    "பதிப்பி \"உலகே வணக்கம்\"\n",
    "\n",
    "பதிப்பி \"******* நன்றி!. *******\"\n",
    "\n",
    "exit()\n",
    "\n",
    "This is a programming language named **'Ezhil'** which has its statements written mostly in Tamil (an Indian language)\n",
    "\n",
    "The real hero here is a compiler/interpreter which can convert these statements to machine code. "
   ]
  },
  {
   "cell_type": "markdown",
   "id": "9b9e0a95-2963-47eb-9006-8714214d4657",
   "metadata": {},
   "source": [
    "#### Compilers and Interpreters (Translators)"
   ]
  },
  {
   "cell_type": "markdown",
   "id": "5a9f86b1-d114-43eb-8d38-25133c1219a4",
   "metadata": {},
   "source": [
    "![translator](sampleImages/highlevelvsmachinecode.png)\n",
    "\n",
    ">A **compiler** takes the **program as a whole** and **translates it into object code all in one go**. Once converted, the **object code can be run unassisted at any time**. This process is called **compilation**.\n",
    "\n",
    "![Compiler](sampleImages/compiler.jpg)\n",
    "\n",
    "**C/C++** are examples of **compiled languages**. Compiled languages tends to be **faster**.\n",
    "\n",
    ">An **interpreter** translates **one line of a high-level program into machine language, executes it, then translates the next line and executes it, etc**.\n",
    "\n",
    "**Python** is an example of an **interpreted language**. As interpreters has to run every time when the program is executed, interpreted languages tend to be **slow**.  \n",
    "\n",
    "A **simple example to show case why Python is an interpreted language**"
   ]
  },
  {
   "cell_type": "code",
   "execution_count": 2,
   "id": "910242c6-08e5-4833-a35e-c1bc2a3380b9",
   "metadata": {},
   "outputs": [
    {
     "name": "stdout",
     "output_type": "stream",
     "text": [
      "helloworld\n"
     ]
    },
    {
     "ename": "NameError",
     "evalue": "name 'helloworld' is not defined",
     "output_type": "error",
     "traceback": [
      "\u001b[1;31m---------------------------------------------------------------------------\u001b[0m",
      "\u001b[1;31mNameError\u001b[0m                                 Traceback (most recent call last)",
      "\u001b[1;32m~\\AppData\\Local\\Temp/ipykernel_29004/2351132534.py\u001b[0m in \u001b[0;36m<module>\u001b[1;34m\u001b[0m\n\u001b[0;32m      1\u001b[0m \u001b[0mprint\u001b[0m \u001b[1;33m(\u001b[0m\u001b[1;34m'helloworld'\u001b[0m\u001b[1;33m)\u001b[0m\u001b[1;33m\u001b[0m\u001b[1;33m\u001b[0m\u001b[0m\n\u001b[1;32m----> 2\u001b[1;33m \u001b[0mprint\u001b[0m \u001b[1;33m(\u001b[0m\u001b[0mhelloworld\u001b[0m\u001b[1;33m)\u001b[0m \u001b[1;31m#this will raise an error\u001b[0m\u001b[1;33m\u001b[0m\u001b[1;33m\u001b[0m\u001b[0m\n\u001b[0m",
      "\u001b[1;31mNameError\u001b[0m: name 'helloworld' is not defined"
     ]
    }
   ],
   "source": [
    "print ('helloworld')\n",
    "print (helloworld) #this will raise an error!!"
   ]
  },
  {
   "cell_type": "markdown",
   "id": "a5d9745f-5c54-4bb5-a25f-244d694c45ea",
   "metadata": {},
   "source": [
    "In the example shown above, the second line would result in an error as the helloworld variable (not 'helloworld' string) is not declared. You have to declare a variable before using it. If this was a compiled language such as C, the entire program won't even compile (first we have to fix the error, re-compile, and then only execute the program). In case of Python, which is an interpreted language, the first line will execute and prints the string 'helloworld' to screen and then only the error message will be displayed."
   ]
  }
 ],
 "metadata": {
  "kernelspec": {
   "display_name": "Python 3 (ipykernel)",
   "language": "python",
   "name": "python3"
  },
  "language_info": {
   "codemirror_mode": {
    "name": "ipython",
    "version": 3
   },
   "file_extension": ".py",
   "mimetype": "text/x-python",
   "name": "python",
   "nbconvert_exporter": "python",
   "pygments_lexer": "ipython3",
   "version": "3.9.7"
  }
 },
 "nbformat": 4,
 "nbformat_minor": 5
}
