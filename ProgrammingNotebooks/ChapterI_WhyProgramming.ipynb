{
 "cells": [
  {
   "cell_type": "markdown",
   "id": "9f543250",
   "metadata": {
    "tags": []
   },
   "source": [
    "# Why you should learn programming "
   ]
  },
  {
   "cell_type": "markdown",
   "id": "db72c366",
   "metadata": {},
   "source": [
    "## Computers and what they are good/bad at"
   ]
  },
  {
   "cell_type": "markdown",
   "id": "816762f9",
   "metadata": {},
   "source": [
    "Computers can be as **large as 30 tons and covering 1,800 square feet of floor space** (yet painfully slow at 500 FLOPS)\n",
    "\n",
    "![old_computers](sampleImages/old_computers.jpeg)"
   ]
  },
  {
   "cell_type": "markdown",
   "id": "7f8cde47-822c-437c-8665-1383220ddf07",
   "metadata": {},
   "source": [
    "Or it can be as **tiny as a grain of rice**\n",
    "\n",
    "![smallest_computers](sampleImages/smallest_computers.jpg)"
   ]
  },
  {
   "cell_type": "markdown",
   "id": "aea99241-ba05-432a-84d2-30ea258005a9",
   "metadata": {},
   "source": [
    "Or it could be **blazingly fast**, performing a quadrillion mathematical calculations per second.\n",
    "\n",
    "![fastest_computers](sampleImages/fastest_computer.jpg)\n"
   ]
  },
  {
   "cell_type": "markdown",
   "id": "960d20e6-f962-4289-83e4-78b5190b4409",
   "metadata": {},
   "source": [
    "But all of them have something in common!!!!\n",
    "\n",
    "They are **dumb!!!!**\n",
    "\n",
    "![dumb_computers](sampleImages/computers_are_dumb.jpg)\n",
    "\n",
    "\n",
    "![bruce_sterling](sampleImages/computers_being_stupid.jpg)"
   ]
  },
  {
   "cell_type": "markdown",
   "id": "e0c48797-489c-4e59-8981-8c6cea1db257",
   "metadata": {},
   "source": [
    "We could compare **computers to musical instruments**\n",
    "\n",
    "![musical_instrument](sampleImages/musical_instrument.jpg)\n",
    "\n",
    "Both of them are **cleverly crafted and are build to perform**\n",
    "\n",
    "![computers_and_musical](sampleImages/computers_and_musical_instruments.png)\n",
    "\n",
    "But they need to be given a **set of instructions** to perform something useful. In musical instruments these might be notes and in computers these are instructions."
   ]
  },
  {
   "cell_type": "markdown",
   "id": "d0082fe0-e406-444a-b31d-5da99247ed07",
   "metadata": {},
   "source": [
    "So what are **computers good at** if they are dumb\n",
    "\n",
    "1. **Number Crunching** (performing quadrillion of mathematical operations per second). \n",
    "\n",
    "![number_crunching](sampleImages/numbercrunching.gif)\n",
    "  \n",
    "Just to shown an example, **23rd root of a 201-digit number** was calcluated by the Indian mathematics genius Shakunthala Devi in **50 seconds** (which is by no means a trivial task!!). Let's see how much time it will take for your computer."
   ]
  },
  {
   "cell_type": "code",
   "execution_count": 6,
   "id": "632b3f4e-d338-412e-ae99-0f48ec98cdf7",
   "metadata": {},
   "outputs": [
    {
     "name": "stdout",
     "output_type": "stream",
     "text": [
      "171 ns ± 1.06 ns per loop (mean ± std. dev. of 7 runs, 10000000 loops each)\n"
     ]
    }
   ],
   "source": [
    "number = 10**200 # 10 to the power of 200 , 10 to the power of 1 is 10 and 10 to the power of 2 is 100\n",
    "%timeit root23rd = number**(1./23) #square roor is number**(1./2), cube root is number**(1./3)"
   ]
  },
  {
   "cell_type": "markdown",
   "id": "e1faeff5-bf2c-4766-b1d8-ba433043a1f0",
   "metadata": {},
   "source": [
    "As you can see it took **171 nano seconds**. Thats around **295 million times faster!!** than the fastest human. \n",
    "\n",
    "2. **Memory** (Can store **large volume of raw data** (versus information that brain stores) and retrieve them **instantaneuosly**)\n",
    "\n",
    "![RAM](sampleImages/cheapRAM.jpg)\n",
    "\n",
    "3. **Performing repetitive tasks**\n",
    "This is what computers have always been championed for.\n",
    "\n",
    "Computers never get **fatigued**\n",
    "\n",
    "![fatigue](sampleImages/fatigue_repetitive_tasks.jpg)\n",
    "\n",
    "Nor do they get **bored** like humans,\n",
    "\n",
    "![bored](sampleImages/boring_repetitive.jpg)\n",
    "\n",
    "They can perform **mathematical calculations** with **100% accuracy, day in and day out**.\n",
    "\n",
    "Eventhough computers can accurately perform calculations based on a set of instructions, **the instructions have to be correct**"
   ]
  },
  {
   "cell_type": "markdown",
   "id": "f870e846-db02-482d-bd37-5dd014b7ea23",
   "metadata": {},
   "source": [
    "## Humans and what they are good/bad at"
   ]
  },
  {
   "cell_type": "markdown",
   "id": "89310652-d729-46e1-a022-deed4a765e93",
   "metadata": {},
   "source": [
    "1. **Imagination, creativity and analytical reasoning capabilities**\n",
    "\n",
    "![creative](sampleImages/creative_and_analytical_thinking_brain.jpg)\n",
    "\n",
    "2. **Transforming Data to Wisdom** \n",
    "\n",
    "Humans are not only capable of transforming raw data to information, but also capable of **identifying patterns** in information to generate knowledge and wisdom.\n",
    "\n",
    "![DIKW](sampleImages/DIKW-Pyramid.png)\n",
    "\n",
    "3. **Re-program memory based on experience and knowledge**\n",
    "\n",
    "We could argue that using Machine Learning (ML) methodologies computers should be able to achieve this. But its still machines, not by any stretch of imagination, could do reasoning like human brain. \n",
    "\n",
    "\n",
    "So in short we could say that **computer's are faster at doing computations in an accurate fashion**. However, humans are better at **interpreting the outside world and coming up with new ideas**. Humans are capable of **imagination**.\n",
    "\n",
    "But **how** do we **implement the ideas** that we have conceptualized through imagination and creativity. If these ideas involves lot of repetitive tasks and computations, then its not one of our strengths. We need **computers** to **implement** such ideas. \n"
   ]
  },
  {
   "cell_type": "markdown",
   "id": "a7a13130-158b-487a-8e0e-01d628230b9a",
   "metadata": {},
   "source": [
    "## Human and Computer Collabration"
   ]
  },
  {
   "cell_type": "markdown",
   "id": "f6cab941-14b5-43d3-9508-8e17e4f3c2a4",
   "metadata": {},
   "source": [
    "Now that we know the strengths and weaknesses of both humans and computers its easy to understand that we should be focusing on the **synergy between human brain and computers** rather than **human brain vs computers**.\n",
    "\n",
    "![HumanvsComputer](sampleImages/humanvscomp.png)\n",
    "\n",
    "**Great minds** have already identified the **value of this collabration** much earlier.\n",
    "\n",
    "![EinsteinQuotes](sampleImages/einsteinquotes.jpg)\n",
    "\n",
    "So we know that we need this wonderful collabration, but we **still have problems!!!**.\n",
    "\n",
    "How do we **communicate with a computer when it understands only binary language (0's and 1's)?**\n",
    "\n",
    "How do we **instruct the computers** to implement our creative ideas when all it can do is **basic arithmetical operations along with boolean logic?** But these simple operations can be combined together to create complex tasks (for example repetitive addition can be used to implement multiplication).\n",
    "\n",
    "So we do have to **convert our ideas/imagination into a clear yet simple sequence of steps**, which can then somehow magically be **expressed into a machine language**, which the computer can understand and act up on.\n",
    "\n",
    "And no price for guessing what that magical tool will be!!!\n"
   ]
  },
  {
   "cell_type": "markdown",
   "id": "4fff2dec-423b-4684-8b1e-2edff2fb3d39",
   "metadata": {},
   "source": [
    "## Programming Languages and Programming\n",
    "\n",
    "By definition\n",
    "\n",
    ">A programming language is an **artificial language that a computer understands**. \n",
    "The language is made up of **series of statements** that **fit together to form instructions**. \n",
    "These **instructions** tell a computer **what to do**. \n",
    "\n",
    "More intutively, programming languages **acts as a bridge** between **human and computer**.\n",
    "\n",
    "![Programmingasbridge](sampleImages/ProgrammingLanguages.png)\n",
    "\n",
    "**And what is Programming?**\n",
    "\n",
    ">**Programming (verb)** tells a computer **what to do and how to do it** with the **help of programming langauges**"
   ]
  },
  {
   "cell_type": "markdown",
   "id": "4d556233-a3ea-46ff-93ea-a7844dcd8e18",
   "metadata": {},
   "source": [
    "### Why should you learn Programming?"
   ]
  },
  {
   "cell_type": "markdown",
   "id": "7e24aec5-46f5-438b-8413-544a2bed207b",
   "metadata": {},
   "source": [
    "1. It would help you to **think and imagine**\n",
    "\n",
    ">Writing a program requires us to **translate our ideas into a concise form** that a **computer can “understand”**, it also necessarily improves our **understanding of the problem itself**. -Donald Knuth\n",
    "\n",
    "You will start thinking about how to **solve a problem efficiently and quickly** (time is precious). Teaches you to **think about a problem deeply**. \n",
    "\n",
    "2. See your **thoughts and imagination in action**\n",
    "\n",
    "This is the real power of programming. You think about something, you implement it.\n",
    "\n",
    "3. **Solving real-world problems** through programming is a **matter of pride** too (seeing your code in action!!)\n",
    "\n",
    "4. Reduce **black box knowledge**\n",
    "\n",
    "No more believing in pompous claims by people. If you have the data, you can very well analyze the data and debunk the claims.\n",
    "\n",
    "5. You are the **boss** of your computer now\n",
    "\n",
    "Programming helps you to understand more about your computer (internal vs external memory, CPU, ALU, Cache). \n",
    "\n",
    "6. It **saves you a ton of time**.\n",
    "\n",
    "If you are manually doing repetitive tasks with small change in parameters, there is always a **scope for automation**. Why sweat, when you can use the extra time saved for doing other cool things in research!! \n",
    "\n",
    "7. Take **charge** of your own data.\n",
    "\n",
    "We are sorrounded by technology and are **no more just data consumers**. We are also actively producing data, be it through fitbit watches, or GPS devices. So, if you want to take control of your own data, you should learn programming.\n",
    "\n",
    "8. Its **Fun!!**\n",
    "\n",
    "![Programmingisfun](sampleImages/programmingisfun.jpg)\n",
    "\n",
    "But you have to be persistent and deal with **bugs** on a regular basis!!!\n",
    "\n",
    "![Bugs](sampleImages/bugsss.png)\n"
   ]
  },
  {
   "cell_type": "markdown",
   "id": "233e2eb2-db74-4572-b5d5-8292bd4c2908",
   "metadata": {},
   "source": [
    "### Who should do Programming?"
   ]
  },
  {
   "cell_type": "markdown",
   "id": "6aa499a0-9528-4219-9ccd-5440e9c3725d",
   "metadata": {},
   "source": [
    "An **image that comes to our mind** when we think about programmers is\n",
    "\n",
    "![cubicle](sampleImages/programmers_cubicle.jpg)\n",
    "\n",
    "They are indeed programmers and they might be doing programming for most part of their office time (for providing solutions to clients). \n",
    "\n",
    "But that doesn't mean they are the only ones who should be programming\n",
    "\n",
    "Let's hear it from one of the **pioneers of the personal computing era**"
   ]
  },
  {
   "cell_type": "code",
   "execution_count": 7,
   "id": "800fcb22-258a-4e21-a677-4195196015d7",
   "metadata": {},
   "outputs": [
    {
     "data": {
      "image/jpeg": "[encoded data removed]",
      "text/html": [
       "\n",
       "        <iframe\n",
       "            width=\"800\"\n",
       "            height=\"300\"\n",
       "            src=\"https://www.youtube.com/embed/BRTOlPdyPYU\"\n",
       "            frameborder=\"0\"\n",
       "            allowfullscreen\n",
       "            \n",
       "        ></iframe>\n",
       "        "
      ],
      "text/plain": [
       "<IPython.lib.display.YouTubeVideo at 0x1cc3051d100>"
      ]
     },
     "execution_count": 7,
     "metadata": {},
     "output_type": "execute_result"
    }
   ],
   "source": [
    "from IPython.display import YouTubeVideo\n",
    "\n",
    "YouTubeVideo('BRTOlPdyPYU', width=800, height=300)"
   ]
  },
  {
   "cell_type": "markdown",
   "id": "ef0b15c9-41c6-4d7a-9b05-f1396cea0abd",
   "metadata": {},
   "source": [
    "You should start thinking about **programming as a tool in your tool box**, similar to having mechanical tools for solving mechanical problems. \n",
    "\n",
    "If you have an **idea** and if the idea could be **represented as a computation or a computational problem**, you should learn programming. \n",
    "\n",
    "Programming is for you if you are a\n",
    "\n",
    "1. **Doctor**\n",
    "\n",
    "**Healthcare and IT** are no more a new buzz word. Almost all the hospitals now use a **EHR (Electronic health record) system**. Doctors paired with formally trained software engineers can create **speciality-specific solutions across medicine**.\n",
    "\n",
    "![doctors](sampleImages/doctorsontech.png)\n",
    "\n",
    "2. **Dentist**\n",
    "\n",
    "You might want to analyze the **outcome of your patients** based on their **socio-economic background.**\n",
    "\n",
    "3. **Social Scientist**\n",
    "\n",
    "Interested in learning about **virtual social networks (Facebook, Twitter)**. May be you want to study about **public repsonse through social networks during natural disasters**. \n",
    "\n",
    "![socialnetwork](sampleImages/social_network_analysis.png)\n",
    "\n",
    "4. **Epidemiologist**\n",
    "\n",
    "May be you are interested in **understanding the relationship between number of occupied bed in a hospital and risk of infection**. May be you are intersted in developing **simulation models for epedemic outbreaks**. \n",
    "\n",
    "5. **Humanities**\n",
    "\n",
    "**Digital Humanities** is the buzz word!!. May be you are a **historian** and you want to **store, manage and retrieve large amount of secondary data**. Well that's what databases are for and if you know programming you can **efficienty use database for storage and retreival**.\n",
    "\n",
    "6. **Artist**\n",
    "\n",
    "Artists create **new art forms**. Programming is an art and we can use programming to actually transform our new ideas to reality. The creative part is the similarity between art and programming and coincidentially both of them often **start with a sketch**.\n",
    "\n",
    "7. **Musician**\n",
    "\n",
    "Musicians are good at **visual thinking**, and a key aspect of programming is that you should be able to **visualize the consequence of your code** before even executing it. \n",
    "\n",
    "8. **Natural Sciences**\n",
    "\n",
    "**Physics**\n",
    "\n",
    "You might be studying about **black hole and you might want to visualize it**.\n",
    "\n",
    "![astrophysics](sampleImages/astrophysics.jpg)\n",
    "\n",
    "**Biology**\n",
    "\n",
    "You might be working on **interpreting sequenced genomes**. When you have billions of sequences to process, programming becomes imperative. \n",
    "\n",
    "![genome](sampleImages/Human-Genome-Sequence.jpg)\n",
    "\n",
    "**Chemistry**\n",
    "\n",
    "May be you might want to do **protein structure prediction** which relies heavily on computational power.\n",
    "\n",
    "![protein](sampleImages/protein_structure_prediction.jpg)\n",
    "\n",
    "9. **Kids from informal settlements**\n",
    "\n",
    "![dharavi](sampleImages/dharavi.PNG)\n",
    "\n",
    "\n",
    "This is not an exhaustive list by any means. So basically **programming is for everybody**. "
   ]
  },
  {
   "cell_type": "markdown",
   "id": "b3f61a1d-f140-4526-9bc8-5bc0963a9d24",
   "metadata": {},
   "source": [
    "### Is programming hard?"
   ]
  },
  {
   "cell_type": "markdown",
   "id": "b4ee31ac-3eee-455b-8030-7f190a88cab1",
   "metadata": {},
   "source": [
    "Programming **might have been hard may be a few decades ago.**\n",
    "\n",
    "When you were using **computers like**\n",
    "\n",
    "![old](sampleImages/huge-old_computers.jpg)\n",
    "\n",
    "Here is an example of a renowned astronomer **Joyce Wheeler** who used to work on EDSAC (one of the oldest computers)\n",
    "\n",
    "![joyce](sampleImages/joyce_wheeler.jpg)\n",
    "\n",
    "She was quoted saying that \n",
    "\n",
    ">\"Quite often it would break down during the night, but just occasionally you were lucky enough to keep it running all night,\" she said. \"If it did crash, there was little that operators were allowed to do to try to fix it.\"\"\n",
    "\n",
    "When you had to write **direct machine code** to do even trivial operations such as **addition**.\n",
    "\n",
    "For example, the code for something trivial as A = B + C could be\n",
    "\n",
    "```python\n",
    "0010 1011 0001\n",
    "\n",
    "0010 1100 0010\n",
    "\n",
    "1010 1101 1011 1100\n",
    "\n",
    "1100 0011 1101\n",
    "```\n",
    "Compare that with **Python** where you can write (and even execute it if you are using environments like Jupyter) as shown below"
   ]
  },
  {
   "cell_type": "code",
   "execution_count": 8,
   "id": "feebf854-ec3a-412a-9290-3ef55cc1a7e8",
   "metadata": {},
   "outputs": [
    {
     "name": "stdout",
     "output_type": "stream",
     "text": [
      "30\n"
     ]
    }
   ],
   "source": [
    "B = 10\n",
    "C = 20\n",
    "A = B + C\n",
    "#just printing for fun\n",
    "print (A)"
   ]
  },
  {
   "cell_type": "markdown",
   "id": "e8e88e16-43ca-43dd-98df-7b2f99f1c7c9",
   "metadata": {},
   "source": [
    "**Reinventing the wheel** was a common thing during early days of programming as best practices such as **code sharing** was **virtually non-existent or very in-efficent** due to lack of web-technologies. \n",
    "Imagine you have written a fancy algorithm for sorting a large set of numbers in a small amount of time. Without code sharing, other researchers have to write their own sorting algorithm which might not be efficient as yours. So rather than working on the real scientific problem they might be working on solving un-important problems (of course if you are not a computer scientist) such as sorting. \n",
    "But now we have code sharing platforms such as GitHub and Bitbucket. If you have code that you want to share or want to use, you can always depend on such platforms. \n",
    "\n",
    "Languages such as **Python** are specifically designed for **expressing your research problem** rather than learning a bunch of programming constructs.  \n",
    "\n",
    "We are now in a **world of abstractions** (functional abstraction). With few lines of code we can develop a nueral network model as shown below, without getting into the nitty gritty details of calculus and other mathematical concepts. \n",
    "\n",
    "![neuralnets](sampleImages/neuralnetworks.png)\n",
    "\n",
    "In-short programming is **no more an ardous task** as it used to be some decades back. Programming is just like any other **skill like reading or writing which you can get good at by practising.**"
   ]
  },
  {
   "cell_type": "markdown",
   "id": "1e3ed550-9be9-46dd-a396-a8f66e5690d9",
   "metadata": {},
   "source": [
    "## So Welcome to Programming!!!"
   ]
  }
 ],
 "metadata": {
  "kernelspec": {
   "display_name": "Python 3 (ipykernel)",
   "language": "python",
   "name": "python3"
  },
  "language_info": {
   "codemirror_mode": {
    "name": "ipython",
    "version": 3
   },
   "file_extension": ".py",
   "mimetype": "text/x-python",
   "name": "python",
   "nbconvert_exporter": "python",
   "pygments_lexer": "ipython3",
   "version": "3.9.7"
  }
 },
 "nbformat": 4,
 "nbformat_minor": 5
}
