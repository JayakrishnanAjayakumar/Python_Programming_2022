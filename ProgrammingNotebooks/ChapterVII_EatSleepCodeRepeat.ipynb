{
 "cells": [
  {
   "cell_type": "markdown",
   "id": "50810669-59f5-498f-846e-e2288e334abf",
   "metadata": {},
   "source": [
    "# Iterative Statements"
   ]
  },
  {
   "cell_type": "markdown",
   "id": "4ae51ffc-4d93-47a1-8cb4-9a2356bddc3a",
   "metadata": {},
   "source": [
    "![eatsleepcoderepeat](sampleImages/eatsleepcoderepeat.jpg)"
   ]
  },
  {
   "cell_type": "markdown",
   "id": "2d73370d-0074-418b-9362-93341902a0af",
   "metadata": {},
   "source": [
    "## Motivation for iterative statements"
   ]
  },
  {
   "cell_type": "markdown",
   "id": "6c1f3e20-f647-4ce9-af20-0504ee7c3326",
   "metadata": {},
   "source": [
    "Lets look at iteration through a simple example\n",
    "\n",
    "1. put cereal in bowl\n",
    "2. add milk to cereal\n",
    "3. *spoon cereal and milk into mouth*\n",
    "4. **repeat step 3 until all cereal and milk is eaten**\n",
    "5. rinse bowl and spoon\n",
    "\n",
    "Basically most of **real-world tasks involve a lot of repetition.**\n",
    "\n",
    "![eatsleepcoderepeat](sampleImages/repetitive_tasks.jpg)\n",
    "\n",
    "And these are **generally boring and time consuming**\n",
    "\n",
    "![boringrepetitive](sampleImages/boring_repetitive.jpg)"
   ]
  },
  {
   "cell_type": "markdown",
   "id": "6b52ee80-4bec-49a4-a8c1-92212f25e1ef",
   "metadata": {},
   "source": [
    "**And what are computers generally good at**\n",
    "\n",
    "![computersboringrepetitive](sampleImages/really_dull_repetitive_task.jpg)\n",
    "\n",
    "So we can **instruct computers to do repetitive tasks through programming languages**\n",
    "\n",
    "And Python supports **repetitive tasks through *loops***"
   ]
  },
  {
   "cell_type": "markdown",
   "id": "b48e3366-38a7-41b5-b15c-802a2f9fea2c",
   "metadata": {},
   "source": [
    "## Python Loops"
   ]
  },
  {
   "cell_type": "markdown",
   "id": "f5583df3-f62c-4de6-ad70-5c345094dc47",
   "metadata": {},
   "source": [
    "![pythonloops](sampleImages/loops.jpeg)"
   ]
  },
  {
   "cell_type": "markdown",
   "id": "3d1c6dee-a4a8-4cf6-be8a-1471cb3bfba5",
   "metadata": {},
   "source": [
    "There are basically two types of looping constructs in Python\n",
    "\n",
    "1. **for** loop (Also called as a **count controlled loop** as we already know **beforehand how many times to execute the iterative statement**)\n",
    "\n",
    "2. **while** loop (Also called as **condition controlled loop** as iteration continues while or until a condition is met)\n",
    "\n",
    "Lets look these loops in detail"
   ]
  },
  {
   "cell_type": "markdown",
   "id": "46325abf-c664-4ce6-962b-352afbaf0928",
   "metadata": {},
   "source": [
    "### for loop"
   ]
  },
  {
   "cell_type": "markdown",
   "id": "3607d3c4-5d7b-433d-8395-b8c416e0630f",
   "metadata": {},
   "source": [
    "Let's look at a simple example to show the necessity of a loop.\n",
    "\n",
    "Suppose you want to print numbers from 1 to 100.\n",
    "\n",
    "A horrible way to write this (unless you have a lot of time in your hand!!)\n",
    "\n",
    "```python\n",
    "print (1)\n",
    "print (2)\n",
    "print (3)\n",
    ".\n",
    ".\n",
    ".\n",
    "print (100)\n",
    "```\n",
    "Now since you know you have to execute this 100 times, you can use a **for** loop here (you can also use while loop as they are generally more flexible)\n",
    "\n",
    "Let's look at another real world example where you could use **for** loop\n",
    "\n",
    "A simple Algorithm to add **five** numbers\n",
    "\n",
    "1. set a variable total to 0\n",
    "2. repeat this section five times\n",
    "\n",
    "    2.1 input a number\n",
    "    \n",
    "    2.2 add the number to the total\n",
    "3. go back to step 2\n",
    "4. say what the total is\n",
    "\n",
    "Let's look at the **for** loop syntax.\n",
    "\n",
    "```python\n",
    "for [item] in [sequenceOFElements]:\n",
    "    <statement 1>\n",
    "    <statement 2>\n",
    "```\n",
    "And **sequenceOfElements** here literally means a \"sequence\" of elements\n",
    "\n",
    "sequence of numbers 1,2,3,4,5,6\n",
    "\n",
    "sequence of charachers 'a','l','e','x'\n",
    "\n",
    "sequence of musical notes\n",
    "\n",
    "And ***item* is an element in a sequence**.\n",
    "\n",
    "Similar to *if* and *def* (function definition), the **first line of *for* loop** ends with a **:** indicating a code block and **indendation** is used to explicitly indicate the loop block (body).\n",
    "\n",
    "So ***for*** loop goes through the **sequence of elements one at a time until the sequence finishes or the loop is some how forcefully terminated** (we will look into this soon).\n",
    "\n",
    "Before moving forward with ***for*** loop let's introduce a useful function \n",
    "\n",
    "```python\n",
    "range()\n",
    "```\n",
    "\n",
    "Range can be called in three ways\n",
    "\n",
    "```python\n",
    "range(stop) : Return sequence of numbers from 0 to stop-1. \n",
    "range(10) will return a sequence from 0 to 9.\n",
    "\n",
    "range(start,stop) : Return sequence of numbers from start to stop-1. \n",
    "range(1,10) will return a sequence from 1 to 9.\n",
    "\n",
    "range(start,stop,step) : Return sequence of numbers from start to stop-1 with steps of step. \n",
    "range(1,10,2) will return a sequence 1,3,5,7,9.\n",
    "```\n",
    "Now let's write our first **for loop to print values from 1 to 100**"
   ]
  },
  {
   "cell_type": "code",
   "execution_count": null,
   "id": "d0dd717c-43d8-45c0-a316-34eaa324c997",
   "metadata": {},
   "outputs": [],
   "source": [
    "for number in range(1,101):\n",
    "    print (number) #number is a variable with life time of loop completion"
   ]
  },
  {
   "cell_type": "markdown",
   "id": "9eec42d7-fe7c-4026-ba9d-12c9117f700a",
   "metadata": {},
   "source": [
    "Hurray!!!!!That's our first loop.\n",
    "\n",
    "Another simple *for* loop to print **all even numbers betwween 0 and 100**"
   ]
  },
  {
   "cell_type": "code",
   "execution_count": null,
   "id": "b4f72477-0a5c-4b67-8914-1ac2aef8c588",
   "metadata": {},
   "outputs": [],
   "source": [
    "for number in range(0,101,2):#step of 2 will leave every other number\n",
    "    print (number)"
   ]
  },
  {
   "cell_type": "markdown",
   "id": "74f44480-ac4a-492c-92c3-ade0dc75b47e",
   "metadata": {},
   "source": [
    "Let's calculate the **mean of numbers from 1 to 100 using a *for* loop**\n",
    "\n",
    "Mean of *n* numbers is the sum of all the numbers divided by *n*\n"
   ]
  },
  {
   "cell_type": "code",
   "execution_count": null,
   "id": "c3d7add8-80d8-45d4-b3f8-952194d5b8bc",
   "metadata": {},
   "outputs": [],
   "source": [
    "total = 0 #we need a variable to keep the total count (accumulator)\n",
    "for number in range(0,101,1):\n",
    "    total = total + number #this will add the current number to the current total\n",
    "    #print (total) if you want to see the total getting updated with each iteration\n",
    "mean = total / 100\n",
    "print ('The mean is',mean)"
   ]
  },
  {
   "cell_type": "markdown",
   "id": "9d1b0f03-8648-460f-ad14-0b5e94a9a92b",
   "metadata": {},
   "source": [
    "Let's look another example where the **user input 5 numbers and the sum is displayed** (the algorithm that was defined earlier)"
   ]
  },
  {
   "cell_type": "code",
   "execution_count": null,
   "id": "a6a7c5e9-307d-4864-981a-54f2c0613c5f",
   "metadata": {},
   "outputs": [],
   "source": [
    "total = 0\n",
    "for times in range (1,6):\n",
    "    postfix=\"th\" #by default we are setting prefix to th as 4th 5th\n",
    "    if times==1:\n",
    "        postfix = \"st\"  #when times is 1 we have 1st\n",
    "    elif times==2:\n",
    "        postfix = \"nd\"  #when times is 2 we have 2nd\n",
    "    elif times==3:\n",
    "        postfix = \"rd\"  #when times is 3 we have 3rd\n",
    "    number = int(input('Enter your '+str(times)+postfix+' number and press Enter'))\n",
    "    total = total+number\n",
    "print (total)"
   ]
  },
  {
   "cell_type": "markdown",
   "id": "8d22b5b2-afa8-48ec-9323-d7ffa87a9203",
   "metadata": {},
   "source": [
    "**for loops are really powerful when used in conjunction with containers** (datatypes that can hold more than one value at a time). We will learn about containers in detail in the next chapter.\n",
    "\n",
    "To just show an example of using **loops to iterate through the elements of a container**, we will use ***list***, which is one of the most commonly used container in Python."
   ]
  },
  {
   "cell_type": "code",
   "execution_count": null,
   "id": "73cec1fb-65e5-48a8-8a86-ab0eadf2d96d",
   "metadata": {},
   "outputs": [],
   "source": [
    "fruitBasket = ['apple','orange','grapes','banana','peach','papaya'] #this is a list\n",
    "for fruit in fruitBasket: #loops through each item and assign it to fruit\n",
    "    print (fruit)"
   ]
  },
  {
   "cell_type": "markdown",
   "id": "ffce60f3-f38b-42f1-a70d-4e3d60d95176",
   "metadata": {},
   "source": [
    "The example above showcase the **intuitiveness of Python *for* loops when used together with containers**. **for** loop go through each element *in*  the container one by one."
   ]
  },
  {
   "cell_type": "markdown",
   "id": "a698f571-cdf1-4ec4-b03f-c985b9f6b5a6",
   "metadata": {},
   "source": [
    "### while loop"
   ]
  },
  {
   "cell_type": "markdown",
   "id": "f9b51109-5220-45de-9761-a5b4fcc8fad3",
   "metadata": {},
   "source": [
    "**while** loops are more flexible than **for** loops. Let's look at the syntax of **while** loop\n",
    "\n",
    "```python\n",
    "while <conditional expression>:\n",
    "    <statement 1>\n",
    "    <statement 2>\n",
    "    <statement 3>\n",
    "```\n",
    "\n",
    "While the syntax of **while** loop looks similar to **if** statement that we have encountered in the last chapter, the difference is that, **if statement will execute only once based on the evaluation of the conditional expression**, while the **while loop executes (or doesnot execute) until the conditional expression evaluates to False**\n",
    "\n",
    "Let's look at a concrete example to understand how **while** loop works.\n",
    "\n",
    "Printing numbers from 1 to 100."
   ]
  },
  {
   "cell_type": "code",
   "execution_count": null,
   "id": "679d524b-d56d-4934-b0ae-4e5d40110087",
   "metadata": {},
   "outputs": [],
   "source": [
    "number = 1 #this is called the loop variable which changes inside the loop\n",
    "while number <= 100: #this is the condition that will be checked each time\n",
    "    print (number)\n",
    "    number = number + 1 #updating loop variable is key!!!"
   ]
  },
  {
   "cell_type": "markdown",
   "id": "c193fef9-fab6-4dad-af6e-f2c31eb4a2f8",
   "metadata": {},
   "source": [
    "As you can see the **body of while loop will get executed** based on the **result of the evaluation of the conditional expression.**\n",
    "\n",
    "Let's look at another example where the statements inside the loop **will never get executed**."
   ]
  },
  {
   "cell_type": "code",
   "execution_count": null,
   "id": "d634e398-2383-41fe-8aa8-09730376381c",
   "metadata": {},
   "outputs": [],
   "source": [
    "number = -1\n",
    "while number>=0:  #this won't ever evaluate to True\n",
    "    print (number)\n",
    "    number = number+1"
   ]
  },
  {
   "cell_type": "markdown",
   "id": "dcfbcd53-43f5-4880-8a2c-deadd6bfc74c",
   "metadata": {},
   "source": [
    "Another common mistake that all levels of programmers make is **forgetting to update the loop variable**\n",
    "\n",
    "Here is an example of forgetting to update the loop variable. **Caution, this program would run for ever**. If you want to **terminate the loop, please interrupt the kernel**."
   ]
  },
  {
   "cell_type": "code",
   "execution_count": null,
   "id": "b4aa8279-b515-4c35-bf26-0e35375a14d2",
   "metadata": {},
   "outputs": [],
   "source": [
    "number = 1\n",
    "while number <= 100:\n",
    "    print (number) #the next step is to update the loop variable"
   ]
  },
  {
   "cell_type": "markdown",
   "id": "394a329c-1c4a-40b8-87d3-55f2923fe995",
   "metadata": {},
   "source": [
    "There can be also cases where the loop can run havoc **due to incorrect programming logic**.\n",
    "\n",
    "Let's see an example of printing all even numbers between 0 and 99"
   ]
  },
  {
   "cell_type": "code",
   "execution_count": null,
   "id": "b3aac104-40f7-426e-a48d-6d6dac9c6a0e",
   "metadata": {},
   "outputs": [],
   "source": [
    "while number != 99: #the correct operator should be <= or <\n",
    "    print (number)\n",
    "    number = number + 2"
   ]
  },
  {
   "cell_type": "markdown",
   "id": "1f4d44cc-ae54-4c18-9251-02c13328ebe6",
   "metadata": {},
   "source": [
    "The problem with the code snippet shown above is that, **it will never evaluate to False and the loop will never terminate**. The number variable will never become 99 (from 98 it updates to 100) for the loop to exit. Again you might want to interrupt the kernel to exit the loop"
   ]
  },
  {
   "cell_type": "markdown",
   "id": "7ec970a4-fcc7-4677-8b7d-cbe80ce2dc6b",
   "metadata": {},
   "source": [
    "### Nested Loops"
   ]
  },
  {
   "cell_type": "markdown",
   "id": "92088c33-9d70-4e61-b76b-4a5cb0ea12af",
   "metadata": {},
   "source": [
    "Like *functions* and *if* statements, **loops can have other loops (nested loops), if statements, function calls, and even function definition (might not be that useful) inside them**.\n",
    "\n",
    "Let's look at some examples\n",
    "\n",
    "This example program prints multiplication table for numbers from 1 to 10.\n",
    "For each iteration of the outer loop, the inner loop is completely executed. For example, when outer loop value is 1, the inner loop is executed from 0 to 10, and when the outer loop value is 2, the inner loop is again executed from 0 to 10, and so on and so forth."
   ]
  },
  {
   "cell_type": "code",
   "execution_count": 2,
   "id": "dbef81fd-bea4-4232-8000-089afecf5f4c",
   "metadata": {},
   "outputs": [
    {
     "name": "stdout",
     "output_type": "stream",
     "text": [
      "Multiplication table for 1\n",
      "1 x 0 = 0\n",
      "1 x 1 = 1\n",
      "1 x 2 = 2\n",
      "1 x 3 = 3\n",
      "1 x 4 = 4\n",
      "1 x 5 = 5\n",
      "1 x 6 = 6\n",
      "1 x 7 = 7\n",
      "1 x 8 = 8\n",
      "1 x 9 = 9\n",
      "1 x 10 = 10\n",
      "\n",
      "Multiplication table for 2\n",
      "2 x 0 = 0\n",
      "2 x 1 = 2\n",
      "2 x 2 = 4\n",
      "2 x 3 = 6\n",
      "2 x 4 = 8\n",
      "2 x 5 = 10\n",
      "2 x 6 = 12\n",
      "2 x 7 = 14\n",
      "2 x 8 = 16\n",
      "2 x 9 = 18\n",
      "2 x 10 = 20\n",
      "\n",
      "Multiplication table for 3\n",
      "3 x 0 = 0\n",
      "3 x 1 = 3\n",
      "3 x 2 = 6\n",
      "3 x 3 = 9\n",
      "3 x 4 = 12\n",
      "3 x 5 = 15\n",
      "3 x 6 = 18\n",
      "3 x 7 = 21\n",
      "3 x 8 = 24\n",
      "3 x 9 = 27\n",
      "3 x 10 = 30\n",
      "\n",
      "Multiplication table for 4\n",
      "4 x 0 = 0\n",
      "4 x 1 = 4\n",
      "4 x 2 = 8\n",
      "4 x 3 = 12\n",
      "4 x 4 = 16\n",
      "4 x 5 = 20\n",
      "4 x 6 = 24\n",
      "4 x 7 = 28\n",
      "4 x 8 = 32\n",
      "4 x 9 = 36\n",
      "4 x 10 = 40\n",
      "\n",
      "Multiplication table for 5\n",
      "5 x 0 = 0\n",
      "5 x 1 = 5\n",
      "5 x 2 = 10\n",
      "5 x 3 = 15\n",
      "5 x 4 = 20\n",
      "5 x 5 = 25\n",
      "5 x 6 = 30\n",
      "5 x 7 = 35\n",
      "5 x 8 = 40\n",
      "5 x 9 = 45\n",
      "5 x 10 = 50\n",
      "\n",
      "Multiplication table for 6\n",
      "6 x 0 = 0\n",
      "6 x 1 = 6\n",
      "6 x 2 = 12\n",
      "6 x 3 = 18\n",
      "6 x 4 = 24\n",
      "6 x 5 = 30\n",
      "6 x 6 = 36\n",
      "6 x 7 = 42\n",
      "6 x 8 = 48\n",
      "6 x 9 = 54\n",
      "6 x 10 = 60\n",
      "\n",
      "Multiplication table for 7\n",
      "7 x 0 = 0\n",
      "7 x 1 = 7\n",
      "7 x 2 = 14\n",
      "7 x 3 = 21\n",
      "7 x 4 = 28\n",
      "7 x 5 = 35\n",
      "7 x 6 = 42\n",
      "7 x 7 = 49\n",
      "7 x 8 = 56\n",
      "7 x 9 = 63\n",
      "7 x 10 = 70\n",
      "\n",
      "Multiplication table for 8\n",
      "8 x 0 = 0\n",
      "8 x 1 = 8\n",
      "8 x 2 = 16\n",
      "8 x 3 = 24\n",
      "8 x 4 = 32\n",
      "8 x 5 = 40\n",
      "8 x 6 = 48\n",
      "8 x 7 = 56\n",
      "8 x 8 = 64\n",
      "8 x 9 = 72\n",
      "8 x 10 = 80\n",
      "\n",
      "Multiplication table for 9\n",
      "9 x 0 = 0\n",
      "9 x 1 = 9\n",
      "9 x 2 = 18\n",
      "9 x 3 = 27\n",
      "9 x 4 = 36\n",
      "9 x 5 = 45\n",
      "9 x 6 = 54\n",
      "9 x 7 = 63\n",
      "9 x 8 = 72\n",
      "9 x 9 = 81\n",
      "9 x 10 = 90\n",
      "\n",
      "Multiplication table for 10\n",
      "10 x 0 = 0\n",
      "10 x 1 = 10\n",
      "10 x 2 = 20\n",
      "10 x 3 = 30\n",
      "10 x 4 = 40\n",
      "10 x 5 = 50\n",
      "10 x 6 = 60\n",
      "10 x 7 = 70\n",
      "10 x 8 = 80\n",
      "10 x 9 = 90\n",
      "10 x 10 = 100\n",
      "\n"
     ]
    }
   ],
   "source": [
    "for table in range (1,11):#this is the outer loop\n",
    "    print ('Multiplication table for',table)\n",
    "    for number in range (0,11):#this is the inner loop\n",
    "        product = table * number\n",
    "        print (table,'x',number,'=',product)\n",
    "    print ()#this is for printing a blank line between tables "
   ]
  },
  {
   "cell_type": "markdown",
   "id": "9f326a10-77e7-4a84-89fe-71249941254e",
   "metadata": {},
   "source": [
    "Let's see an example of ***if* statements inside a loop**\n",
    "\n",
    "This example program prints **all the even and odd numbers between 0 and 100**. We consider a number to be even if the remainder after dividing the number by 2 is 0."
   ]
  },
  {
   "cell_type": "code",
   "execution_count": null,
   "id": "65c2f8c7-c4c9-46cc-8716-f14a7b5053cd",
   "metadata": {},
   "outputs": [],
   "source": [
    "number = 0\n",
    "while number<=100:\n",
    "    if number % 2 == 0: # % operator gets the remainder of division. 5%2=1, 6%2=0\n",
    "        print ('Number',number,'is even')\n",
    "    else:\n",
    "        print ('Number',number,'is odd')\n",
    "    number+=1"
   ]
  },
  {
   "cell_type": "markdown",
   "id": "960cbf23-a882-463a-b718-e2f442a89fe8",
   "metadata": {},
   "source": [
    "One final example of **calling a function from a loop**. "
   ]
  },
  {
   "cell_type": "code",
   "execution_count": 4,
   "id": "54066f96-c5c0-46f1-8e07-fdd0b1e6240a",
   "metadata": {},
   "outputs": [
    {
     "name": "stdout",
     "output_type": "stream",
     "text": [
      "10\n",
      "11\n",
      "12\n",
      "13\n",
      "14\n",
      "15\n",
      "16\n",
      "17\n",
      "18\n",
      "19\n",
      "20\n",
      "21\n",
      "22\n",
      "23\n",
      "24\n",
      "25\n",
      "26\n",
      "27\n",
      "28\n",
      "29\n",
      "30\n",
      "31\n",
      "32\n",
      "33\n",
      "34\n",
      "35\n",
      "36\n",
      "37\n",
      "38\n",
      "39\n",
      "40\n",
      "41\n",
      "42\n",
      "43\n",
      "44\n",
      "45\n",
      "46\n",
      "47\n",
      "48\n",
      "49\n",
      "50\n",
      "51\n",
      "52\n",
      "53\n",
      "54\n",
      "55\n",
      "56\n",
      "57\n",
      "58\n",
      "59\n",
      "60\n",
      "61\n",
      "62\n",
      "63\n",
      "64\n",
      "65\n",
      "66\n",
      "67\n",
      "68\n",
      "69\n",
      "70\n",
      "71\n",
      "72\n",
      "73\n",
      "74\n",
      "75\n",
      "76\n",
      "77\n",
      "78\n",
      "79\n",
      "80\n",
      "81\n",
      "82\n",
      "83\n",
      "84\n",
      "85\n",
      "86\n",
      "87\n",
      "88\n",
      "89\n",
      "90\n",
      "91\n",
      "92\n",
      "93\n",
      "94\n",
      "95\n",
      "96\n",
      "97\n",
      "98\n",
      "99\n",
      "100\n",
      "101\n",
      "102\n",
      "103\n",
      "104\n",
      "105\n",
      "106\n",
      "107\n",
      "108\n",
      "109\n"
     ]
    }
   ],
   "source": [
    "def addToNumber(number,toAdd=0):\n",
    "    return number+toAdd\n",
    "\n",
    "numberToAdd = 10\n",
    "for number in range(100):\n",
    "    newNumber = addToNumber(number,numberToAdd) #function call with in loop\n",
    "    print (newNumber)"
   ]
  },
  {
   "cell_type": "markdown",
   "id": "8f9f8b37-791c-49e6-98d9-e0d594d33a5b",
   "metadata": {},
   "source": [
    "### Terminating loops before completion using break statement"
   ]
  },
  {
   "cell_type": "markdown",
   "id": "67bbb10d-fa30-47b3-8971-64f880f65774",
   "metadata": {},
   "source": [
    "Loops can be terminated before completion using **break** statement. \n",
    "\n",
    "Let's look at an example where we terminate a for loop **after 50 iterations.** At the 50th iteration the conditional expression for the *if* statement will evaluate to True and the print statement will be executed first, and then the loop will terminate."
   ]
  },
  {
   "cell_type": "code",
   "execution_count": 5,
   "id": "13af918b-6c6c-4d17-965e-74d73a8af63e",
   "metadata": {},
   "outputs": [
    {
     "name": "stdout",
     "output_type": "stream",
     "text": [
      "1\n",
      "2\n",
      "3\n",
      "4\n",
      "5\n",
      "6\n",
      "7\n",
      "8\n",
      "9\n",
      "10\n",
      "11\n",
      "12\n",
      "13\n",
      "14\n",
      "15\n",
      "16\n",
      "17\n",
      "18\n",
      "19\n",
      "20\n",
      "21\n",
      "22\n",
      "23\n",
      "24\n",
      "25\n",
      "26\n",
      "27\n",
      "28\n",
      "29\n",
      "30\n",
      "31\n",
      "32\n",
      "33\n",
      "34\n",
      "35\n",
      "36\n",
      "37\n",
      "38\n",
      "39\n",
      "40\n",
      "41\n",
      "42\n",
      "43\n",
      "44\n",
      "45\n",
      "46\n",
      "47\n",
      "48\n",
      "49\n",
      "We are at the 50th iteration and hence breaking\n"
     ]
    }
   ],
   "source": [
    "for number in range(1,100):\n",
    "    if number==50: #if this condition evalautes to True the loop will terminate\n",
    "        print ('We are at the 50th iteration and hence breaking')\n",
    "        break\n",
    "    print (number)"
   ]
  },
  {
   "cell_type": "markdown",
   "id": "a3ad7cb8-56ee-4a29-84e3-8f35ceb5b9c2",
   "metadata": {},
   "source": [
    "Let's look at another example with a container."
   ]
  },
  {
   "cell_type": "code",
   "execution_count": null,
   "id": "e655cb6e-fdb9-4263-a115-22ebb0139653",
   "metadata": {},
   "outputs": [],
   "source": [
    "fruitBasket = ['grapes','peach','orange','apple','papaya','pear','guava']\n",
    "fruitToCheck = 'apple'\n",
    "isFruitInBasket = False\n",
    "for fruit in fruitBasket:\n",
    "    if fruit == fruitToCheck:#if fruit is in the basket\n",
    "        isFruitInBasket=True\n",
    "        break #loop will terminate\n",
    "if isFruitInBasket:\n",
    "    print ('The fruit',fruitToCheck,'is there in the fruit basket')\n",
    "else:\n",
    "    print ('The fruit',fruitToCheck,'is missing')"
   ]
  },
  {
   "cell_type": "markdown",
   "id": "8481a013-fbce-45ab-9943-a4c906922b43",
   "metadata": {},
   "source": [
    "We can make it more interactive by using our good old **input**"
   ]
  },
  {
   "cell_type": "code",
   "execution_count": null,
   "id": "60d72009-6dc7-45a9-9a78-1279d3896416",
   "metadata": {},
   "outputs": [],
   "source": [
    "fruitBasket = ['grapes','peach','orange','apple','papaya','pear','guava']\n",
    "fruitToCheck = input('Please type in the fruit you want to check and press Enter')\n",
    "isFruitInBasket = False\n",
    "for fruit in fruitBasket:\n",
    "    if fruit == fruitToCheck:#if fruit is in the basket\n",
    "        isFruitInBasket=True\n",
    "        break #loop will terminate\n",
    "if isFruitInBasket:\n",
    "    print ('The fruit',fruitToCheck,'is there in the fruit basket')\n",
    "else:\n",
    "    print ('The fruit',fruitToCheck,'is missing')"
   ]
  },
  {
   "cell_type": "markdown",
   "id": "38fe4289-6613-4fa9-bf75-e906c3cc7e23",
   "metadata": {},
   "source": [
    "Now lets look at a more complex and interesting example. In this example the **user will be asked enter the product of two random numbers**. The program will **continue or quit based on the user input**. Here we will use a **while** loop that runs for ever (infinite loop) and will only stop if there is a break statement.\n"
   ]
  },
  {
   "cell_type": "code",
   "execution_count": 6,
   "id": "d0e31a28-b5fc-4ee7-8728-804d878d5bd0",
   "metadata": {},
   "outputs": [
    {
     "name": "stdin",
     "output_type": "stream",
     "text": [
      "What is 9x3 25\n"
     ]
    },
    {
     "name": "stdout",
     "output_type": "stream",
     "text": [
      "9 x 3 = 27\n"
     ]
    },
    {
     "name": "stdin",
     "output_type": "stream",
     "text": [
      "Press y and press enter to continue or any other key to quit. y\n",
      "What is 4x2 8\n"
     ]
    },
    {
     "name": "stdout",
     "output_type": "stream",
     "text": [
      "Congragulations, thats the correct answer!!!!\n"
     ]
    },
    {
     "name": "stdin",
     "output_type": "stream",
     "text": [
      "Press y and press enter to continue or any other key to quit. n\n"
     ]
    },
    {
     "name": "stdout",
     "output_type": "stream",
     "text": [
      "Thank you for playing...\n"
     ]
    }
   ],
   "source": [
    "import random  # we want to generate two random numbers between 1 and 10\n",
    "while True: #here we are declaring that this loop is going to run indefinitely\n",
    "    firstNumber = random.randint(1,10) #random number between 1 and 10\n",
    "    secondNumber = random.randint(1,10) #random number between 1 and 10\n",
    "    product = firstNumber * secondNumber\n",
    "    #prompt the user for an answer and convert it to int using int()\n",
    "    answer = int(input('What is '+str(firstNumber)+'x'+str(secondNumber)))\n",
    "    #check whether the answer matches the real answer\n",
    "    if answer == product:\n",
    "        print ('Congragulations, thats the correct answer!!!!')\n",
    "    else:\n",
    "        print (firstNumber,'x',secondNumber,'=',product)\n",
    "    #ask user whether they want to continue\n",
    "    choice = input('Press y and press enter to continue or any other key to quit.')\n",
    "    #check the user choice. If its not y then we quit\n",
    "    if choice!='y':\n",
    "        print ('Thank you for playing...')\n",
    "        break"
   ]
  },
  {
   "cell_type": "markdown",
   "id": "2f69d820-3195-467a-943f-2fecb747189b",
   "metadata": {},
   "source": [
    "### Skipping sections of loop using continue statement"
   ]
  },
  {
   "cell_type": "markdown",
   "id": "ee7f96d7-e92d-4e4c-9f95-e8ace0d75d08",
   "metadata": {},
   "source": [
    "We can skip sections of loop and continue execution of loop using **continue** statement.\n",
    "\n",
    "Lets take an example to print all even numbers between 1 to 100 (using continue)"
   ]
  },
  {
   "cell_type": "code",
   "execution_count": null,
   "id": "f55a6502-91fe-4c52-ad46-2602fea374fe",
   "metadata": {},
   "outputs": [],
   "source": [
    "for number in range(1,101):\n",
    "    #if its an odd number we dont need to print the number\n",
    "    if number%2 != 0:\n",
    "        continue #any statement after continue is not executed and loop continues\n",
    "    print (number)"
   ]
  },
  {
   "cell_type": "markdown",
   "id": "2a9c1dd5-7036-4a0e-8efd-89794772de36",
   "metadata": {},
   "source": [
    "Another example to show **continue** statement."
   ]
  },
  {
   "cell_type": "code",
   "execution_count": null,
   "id": "2a064202-3deb-453c-bfcb-002d52e4fc49",
   "metadata": {},
   "outputs": [],
   "source": [
    "for number in range(1,101):\n",
    "    continue  #anything after continue will not be executed and loop continues\n",
    "    print (number)"
   ]
  },
  {
   "cell_type": "markdown",
   "id": "767b2273-ff34-45b1-8fbe-9b19940faee4",
   "metadata": {},
   "source": [
    "The sample program shown above **doesnot print anything as whenever the *continue* the loop will iterate to the next value with out executing the statements after continue**."
   ]
  }
 ],
 "metadata": {
  "kernelspec": {
   "display_name": "Python 3 (ipykernel)",
   "language": "python",
   "name": "python3"
  },
  "language_info": {
   "codemirror_mode": {
    "name": "ipython",
    "version": 3
   },
   "file_extension": ".py",
   "mimetype": "text/x-python",
   "name": "python",
   "nbconvert_exporter": "python",
   "pygments_lexer": "ipython3",
   "version": "3.9.7"
  }
 },
 "nbformat": 4,
 "nbformat_minor": 5
}
