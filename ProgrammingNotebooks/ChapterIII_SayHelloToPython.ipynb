{
 "cells": [
  {
   "cell_type": "markdown",
   "id": "e5e32578-5a79-4973-b2c5-431d44dc3139",
   "metadata": {},
   "source": [
    "# Say Hello To Python"
   ]
  },
  {
   "cell_type": "markdown",
   "id": "6a26fc4a-8b51-4ecd-b3b7-34e366642c18",
   "metadata": {},
   "source": [
    "## What is Python"
   ]
  },
  {
   "cell_type": "markdown",
   "id": "1e9b0fa2-4d2d-417f-8b1f-a240b8b49d52",
   "metadata": {},
   "source": [
    "Python is a **high level programming language** that helps you to communicate with the computer to perform a task.\n",
    "\n",
    ">**High-level languages** allow programmers to write instructions in a language (like English) that is **easier to understand**. \n",
    "\n",
    "An example of a code snippet in **Python** for displaying the message 'hello world'"
   ]
  },
  {
   "cell_type": "code",
   "execution_count": 39,
   "id": "e109d165-fc14-4adf-ad9b-198074e88c61",
   "metadata": {},
   "outputs": [
    {
     "name": "stdout",
     "output_type": "stream",
     "text": [
      "hello world\n"
     ]
    }
   ],
   "source": [
    "print ('hello world')"
   ]
  },
  {
   "cell_type": "markdown",
   "id": "dd73ca69-2366-4783-bc18-0f1c9b6044dc",
   "metadata": {},
   "source": [
    ">A **low-level language** is a programming language that provides little or no abstraction of programming concepts and is very close to **writing actual machine instructions**. \n",
    "\n",
    "An example of a code snippet in **Assembly** for displaying the message 'hello world'\n",
    "\n",
    "<code>\n",
    "    org  0x100        \n",
    "    mov  dx, msg      \n",
    "    mov  ah, 9        \n",
    "    int  0x21        \n",
    "    mov  ah, 0x4c     \n",
    "    int  0x21         \n",
    "    msg  db 'hello world', 0x0d, 0x0a, '$' \n",
    "</code>"
   ]
  },
  {
   "cell_type": "markdown",
   "id": "be5bca47-3914-4bca-862c-ae4f8ba19c58",
   "metadata": {},
   "source": [
    "## Why is Python so popular"
   ]
  },
  {
   "cell_type": "markdown",
   "id": "3ec68de1-c0c3-4f65-9ccc-02e6ac3708e7",
   "metadata": {},
   "source": [
    "![popularity](sampleImages/python_popularity.png)\n",
    "\n",
    "1. Very **easy to learn** and very **close to psuedocode**. Traded **speed for understandability**."
   ]
  },
  {
   "cell_type": "markdown",
   "id": "7c7bb295-4c08-4e13-95f1-d24d64ffd1bd",
   "metadata": {},
   "source": [
    "Just an example of hello world in C and Java\n",
    "\n",
    "**C**\n",
    "```C\n",
    "    #include <stdio.h>\n",
    "    int main() {\n",
    "       printf(\"hello world\");\n",
    "       return 0;\n",
    "    }\n",
    "```\n",
    "**Java**\n",
    "```java\n",
    "    class HelloWorld {\n",
    "        public static void main(String[] args) {\n",
    "            System.out.println(\"hello world\"); \n",
    "        }\n",
    "    }\n",
    "```\n",
    "**Python**\n",
    "```python\n",
    "print ('hello world')\n",
    "```"
   ]
  },
  {
   "cell_type": "markdown",
   "id": "5a63bd1c-6751-4005-9ed1-ad8c1780a50f",
   "metadata": {},
   "source": [
    "2. **Simplicity doesn't mean its a toy language**. Its currently backed by many industry giants such as Google, Facebook, and Amazon Web Services.\n",
    "\n",
    "3. **\"Free as in Speech\"**\n",
    "\n",
    "4. **Modules, modules and more modules**. Batteries included. \n",
    "\n",
    "![modules](sampleImages/modules.png)\n",
    "\n",
    "5. It's a **complete programming language**. You could do **big data analysis, machine leanrning, statistical programming (though R might have an edge here), Web programming, and Parallel Computing** (not an exhaustive list by any means).\n",
    "\n",
    "6. **Biggest player in academics**. Thanks to its **psuedocodishhh!!** appearence. And with the developement of technologies such as Jupyter Notebooks (like what we are working with), **Python is here to stay in academia**.\n",
    "\n",
    "![notebook](sampleImages/notebook.png)"
   ]
  },
  {
   "cell_type": "markdown",
   "id": "1138a0fd-e307-48a5-a73d-8e55c6d9d8bd",
   "metadata": {},
   "source": [
    "## How to get Python\n",
    "\n",
    "You can download the latest version of Python from the offical Python website (https://www.python.org/downloads/). But for this class we are going to use **Anaconda** which ships with Python as well as lot of other packages. If you want to have your own Python and Jupyter notebook set up, please follow along."
   ]
  },
  {
   "cell_type": "markdown",
   "id": "6af5acc3-0b72-4880-a510-e202bec685ea",
   "metadata": {},
   "source": [
    "### Anaconda"
   ]
  },
  {
   "cell_type": "markdown",
   "id": "9fd7f3c6-fa2f-46d6-88f2-d8bcfde7b627",
   "metadata": {},
   "source": [
    "#### Installing Anaconda"
   ]
  },
  {
   "cell_type": "code",
   "execution_count": 8,
   "id": "7c91dd97-1e00-4859-8734-432aa3de45df",
   "metadata": {},
   "outputs": [
    {
     "data": {
      "text/html": [
       "<iframe src=\"https://docs.anaconda.com/anaconda/install/index.html\" width=\"800\" height=\"500\"></iframe>\n"
      ],
      "text/plain": [
       "<IPython.core.display.HTML object>"
      ]
     },
     "metadata": {},
     "output_type": "display_data"
    }
   ],
   "source": [
    "%%html\n",
    "<iframe src=\"https://docs.anaconda.com/anaconda/install/index.html\" width=\"800\" height=\"500\"></iframe>"
   ]
  },
  {
   "cell_type": "markdown",
   "id": "b81f7875-b1d1-41eb-a46c-88e36515d358",
   "metadata": {},
   "source": [
    "#### Opening an installed anaconda"
   ]
  },
  {
   "cell_type": "code",
   "execution_count": 9,
   "id": "7227a375-9c55-4eb6-be84-fabf1d934a3c",
   "metadata": {},
   "outputs": [
    {
     "data": {
      "text/html": [
       "<iframe src=\"https://docs.anaconda.com/anaconda/user-guide/getting-started/#nav-hello\" width=\"800\" height=\"500\"></iframe>\n"
      ],
      "text/plain": [
       "<IPython.core.display.HTML object>"
      ]
     },
     "metadata": {},
     "output_type": "display_data"
    }
   ],
   "source": [
    "%%html\n",
    "<iframe src=\"https://docs.anaconda.com/anaconda/user-guide/getting-started/#nav-hello\" width=\"800\" height=\"500\"></iframe>"
   ]
  },
  {
   "cell_type": "markdown",
   "id": "9ece44a2-5b4f-49d6-bea1-a254aabc4eb5",
   "metadata": {},
   "source": [
    "### Jupyter Notebook"
   ]
  },
  {
   "cell_type": "markdown",
   "id": "9908efd5-a09e-4025-bbb6-9f46abf048db",
   "metadata": {},
   "source": [
    "Jupyter stands for **Julia, Pythoh, and R !!!**."
   ]
  },
  {
   "cell_type": "markdown",
   "id": "ea19c35c-fcbb-4700-b258-decf1b2f4f5d",
   "metadata": {},
   "source": [
    "#### Installing Jupyter Notebook"
   ]
  },
  {
   "cell_type": "code",
   "execution_count": 10,
   "id": "9a3b2934-57a6-421c-a1a5-9c51d51e84bf",
   "metadata": {},
   "outputs": [
    {
     "data": {
      "text/html": [
       "<iframe src=\"https://docs.anaconda.com/anaconda/user-guide/getting-started/#run-python-in-a-jupyter-notebook\" width=\"800\" height=\"500\"></iframe>\n"
      ],
      "text/plain": [
       "<IPython.core.display.HTML object>"
      ]
     },
     "metadata": {},
     "output_type": "display_data"
    }
   ],
   "source": [
    "%%html\n",
    "<iframe src=\"https://docs.anaconda.com/anaconda/user-guide/getting-started/#run-python-in-a-jupyter-notebook\" width=\"800\" height=\"500\"></iframe>"
   ]
  },
  {
   "cell_type": "markdown",
   "id": "37c1ae6d-e593-4e99-ac47-ce9c0084ca5b",
   "metadata": {},
   "source": [
    "#### Getting to know your Jupyter Notebook"
   ]
  },
  {
   "cell_type": "code",
   "execution_count": 11,
   "id": "4be066dc-8994-46e4-9942-2c41725d93e0",
   "metadata": {},
   "outputs": [
    {
     "data": {
      "text/html": [
       "<iframe src=\"https://jupyter-notebook.readthedocs.io/en/latest/notebook.html#notebook-user-interface\" width=\"800\" height=\"500\"></iframe>\n"
      ],
      "text/plain": [
       "<IPython.core.display.HTML object>"
      ]
     },
     "metadata": {},
     "output_type": "display_data"
    }
   ],
   "source": [
    "%%html\n",
    "<iframe src=\"https://jupyter-notebook.readthedocs.io/en/latest/notebook.html#notebook-user-interface\" width=\"800\" height=\"500\"></iframe>"
   ]
  },
  {
   "cell_type": "markdown",
   "id": "e68b5884-39c4-432f-92ba-25446a84c13e",
   "metadata": {},
   "source": [
    "#### Playing around with your Jupyter Notebook"
   ]
  },
  {
   "cell_type": "markdown",
   "id": "da2023b4-bf77-43e8-a908-d2a70beef0a3",
   "metadata": {},
   "source": [
    "The archaic 'hello world'"
   ]
  },
  {
   "cell_type": "code",
   "execution_count": 12,
   "id": "9d823fb7-1139-4721-8378-3d3138f0be60",
   "metadata": {},
   "outputs": [
    {
     "name": "stdout",
     "output_type": "stream",
     "text": [
      "hello world\n"
     ]
    }
   ],
   "source": [
    "print ('hello world')"
   ]
  },
  {
   "cell_type": "markdown",
   "id": "89461641-298a-4578-9605-d11d412596f0",
   "metadata": {},
   "source": [
    "Use your notebook like a calculator"
   ]
  },
  {
   "cell_type": "code",
   "execution_count": 13,
   "id": "b539bf10-201e-435f-a467-be10a8d5362f",
   "metadata": {},
   "outputs": [
    {
     "ename": "ZeroDivisionError",
     "evalue": "division by zero",
     "output_type": "error",
     "traceback": [
      "\u001b[1;31m---------------------------------------------------------------------------\u001b[0m",
      "\u001b[1;31mZeroDivisionError\u001b[0m                         Traceback (most recent call last)",
      "\u001b[1;32m~\\AppData\\Local\\Temp/ipykernel_20116/460652117.py\u001b[0m in \u001b[0;36m<module>\u001b[1;34m\u001b[0m\n\u001b[0;32m      7\u001b[0m \u001b[1;36m5\u001b[0m\u001b[1;33m%\u001b[0m\u001b[1;36m2\u001b[0m\u001b[1;33m\u001b[0m\u001b[1;33m\u001b[0m\u001b[0m\n\u001b[0;32m      8\u001b[0m \u001b[1;36m2\u001b[0m\u001b[1;33m**\u001b[0m\u001b[1;36m3\u001b[0m\u001b[1;33m\u001b[0m\u001b[1;33m\u001b[0m\u001b[0m\n\u001b[1;32m----> 9\u001b[1;33m \u001b[1;36m1\u001b[0m\u001b[1;33m/\u001b[0m\u001b[1;36m0\u001b[0m \u001b[1;31m#welcome to the world of errors!!!\u001b[0m\u001b[1;33m\u001b[0m\u001b[1;33m\u001b[0m\u001b[0m\n\u001b[0m\u001b[0;32m     10\u001b[0m \u001b[1;36m1\u001b[0m\u001b[1;33m-\u001b[0m\u001b[1;36m45\u001b[0m\u001b[1;33m\u001b[0m\u001b[1;33m\u001b[0m\u001b[0m\n\u001b[0;32m     11\u001b[0m \u001b[1;36m3\u001b[0m\u001b[1;33m+\u001b[0m\u001b[1;36m5j\u001b[0m \u001b[1;31m#hey thats complex!!!!!\u001b[0m\u001b[1;33m\u001b[0m\u001b[1;33m\u001b[0m\u001b[0m\n",
      "\u001b[1;31mZeroDivisionError\u001b[0m: division by zero"
     ]
    }
   ],
   "source": [
    "#I am a comment\n",
    "'''I am a comment and I can extent to multiple\n",
    "lines'''\n",
    "5*4\n",
    "11/2\n",
    "11//2\n",
    "5%2\n",
    "2**3\n",
    "1/0 #welcome to the world of errors!!!\n",
    "1-45\n",
    "3+5j #hey thats complex!!!!!\n",
    "4/3 * 3.14 * 5 * 5 * 5\n",
    "print ('Welcome')"
   ]
  },
  {
   "cell_type": "markdown",
   "id": "e33bcc47-2111-4129-a843-8157645f30c9",
   "metadata": {},
   "source": [
    "#### Why do we want to use Jupyter Notebook for this class"
   ]
  },
  {
   "cell_type": "markdown",
   "id": "4cf8cc23-4611-4709-9017-a1a32525391f",
   "metadata": {},
   "source": [
    "1. **Highly interactive.**\n",
    "\n",
    "Hey I can have my **code, data, and plots together**"
   ]
  },
  {
   "cell_type": "code",
   "execution_count": 14,
   "id": "32622b74-dd5c-453a-b9db-b545b3cf2cce",
   "metadata": {},
   "outputs": [
    {
     "data": {
      "image/png": "[encoded data removed]",
      "text/plain": [
       "<Figure size 432x288 with 1 Axes>"
      ]
     },
     "metadata": {
      "needs_background": "light"
     },
     "output_type": "display_data"
    }
   ],
   "source": [
    "%matplotlib inline\n",
    "import matplotlib.pyplot as plt\n",
    "x = [1,2,3,4,5,6,7,8,9,10]\n",
    "y = [i**2 for i in x]\n",
    "plt.plot(x,y);"
   ]
  },
  {
   "cell_type": "markdown",
   "id": "a16c5d72-9d1d-4deb-83b2-dfa875d6fb89",
   "metadata": {},
   "source": [
    "2. Takes **interactivity** to another level (interacting with code)."
   ]
  },
  {
   "cell_type": "code",
   "execution_count": 1,
   "id": "86c26cd6-0127-4a8c-8721-f75971132cbe",
   "metadata": {},
   "outputs": [
    {
     "data": {
      "application/vnd.jupyter.widget-view+json": {
       "model_id": "516bc75b66784dfc86cc9148674e1dcb",
       "version_major": 2,
       "version_minor": 0
      },
      "text/plain": [
       "interactive(children=(IntSlider(value=10, description='x', max=30, min=-10), Output()), _dom_classes=('widget-…"
      ]
     },
     "metadata": {},
     "output_type": "display_data"
    }
   ],
   "source": [
    "from ipywidgets import interact\n",
    "def f(x):\n",
    "    return x**2\n",
    "interact(f, x=10);"
   ]
  },
  {
   "cell_type": "markdown",
   "id": "26450870-ffec-42da-af24-dadcdbbf13e0",
   "metadata": {},
   "source": [
    "3. Perfect tool for **exploratory analysis**.\n",
    "4. A document that allows **researchers** to **supplement their code and data with analysis, hypotheses and conjecture**. We call this **\"developing a Computational Narrative\"**\n",
    "5. A form of interactive computing, an environment in which users execute code, see what happens, **modify and repeat in a kind of iterative conversation between researcher and data**\n",
    "6. Powerful **connections** between **topics, theories, data and results**.\n",
    "7. **Easy to share too**.\n",
    "8. Can be set up in **cloud, clustering environment, remote systems, as well as in local machines**."
   ]
  }
 ],
 "metadata": {
  "kernelspec": {
   "display_name": "Python 3 (ipykernel)",
   "language": "python",
   "name": "python3"
  },
  "language_info": {
   "codemirror_mode": {
    "name": "ipython",
    "version": 3
   },
   "file_extension": ".py",
   "mimetype": "text/x-python",
   "name": "python",
   "nbconvert_exporter": "python",
   "pygments_lexer": "ipython3",
   "version": "3.9.7"
  }
 },
 "nbformat": 4,
 "nbformat_minor": 5
}
